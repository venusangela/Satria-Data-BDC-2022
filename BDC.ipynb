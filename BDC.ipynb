{
  "nbformat": 4,
  "nbformat_minor": 0,
  "metadata": {
    "colab": {
      "provenance": [],
      "collapsed_sections": []
    },
    "kernelspec": {
      "name": "python3",
      "display_name": "Python 3"
    },
    "language_info": {
      "name": "python"
    }
  },
  "cells": [
    {
      "cell_type": "markdown",
      "source": [
        "# Import and Prep"
      ],
      "metadata": {
        "id": "3fK5JkTbNEyJ"
      }
    },
    {
      "cell_type": "code",
      "execution_count": null,
      "metadata": {
        "id": "CS7vBBKyzxRp",
        "colab": {
          "base_uri": "https://localhost:8080/",
          "height": 465
        },
        "outputId": "440572e2-53f8-4aa9-9d2e-13bb479970c6"
      },
      "outputs": [
        {
          "output_type": "error",
          "ename": "FileNotFoundError",
          "evalue": "ignored",
          "traceback": [
            "\u001b[0;31m---------------------------------------------------------------------------\u001b[0m",
            "\u001b[0;31mFileNotFoundError\u001b[0m                         Traceback (most recent call last)",
            "\u001b[0;32m<ipython-input-1-e4607e2750e1>\u001b[0m in \u001b[0;36m<module>\u001b[0;34m\u001b[0m\n\u001b[1;32m     10\u001b[0m                                                                                                                  \u001b[0;34m'ICD4_diagnosis'\u001b[0m\u001b[0;34m,\u001b[0m \u001b[0;34m'prov_rujukan'\u001b[0m\u001b[0;34m,\u001b[0m \u001b[0;34m'kab_rujukan'\u001b[0m\u001b[0;34m,\u001b[0m \u001b[0;34m'kepemilikan_rujukan'\u001b[0m\u001b[0;34m,\u001b[0m\u001b[0;34m\u001b[0m\u001b[0;34m\u001b[0m\u001b[0m\n\u001b[1;32m     11\u001b[0m                                                                                                                  \u001b[0;34m'jenis_rujukan'\u001b[0m\u001b[0;34m,\u001b[0m \u001b[0;34m'tipe_rujukan'\u001b[0m \u001b[0;34m,\u001b[0m \u001b[0;34m'poli_rujukan'\u001b[0m\u001b[0;34m,\u001b[0m \u001b[0;34m'jenis_kunjungan'\u001b[0m\u001b[0;34m,\u001b[0m\u001b[0;34m\u001b[0m\u001b[0;34m\u001b[0m\u001b[0m\n\u001b[0;32m---> 12\u001b[0;31m                                                                                                                  'status_pulang'])\n\u001b[0m\u001b[1;32m     13\u001b[0m \u001b[0;31m# df = pd.read_csv(\"/content/drive/MyDrive/BDC/BDC Satria Data 2022/test_fktp.txt\", sep=\",\", header=None,\u001b[0m\u001b[0;34m\u001b[0m\u001b[0;34m\u001b[0m\u001b[0;34m\u001b[0m\u001b[0m\n\u001b[1;32m     14\u001b[0m \u001b[0;31m#                  names = ['no_peserta', 'no_kel', 'bobot', 'id_kunj','tgl_datang', 'tgl_pulang',\u001b[0m\u001b[0;34m\u001b[0m\u001b[0;34m\u001b[0m\u001b[0;34m\u001b[0m\u001b[0m\n",
            "\u001b[0;32m/usr/local/lib/python3.7/dist-packages/pandas/util/_decorators.py\u001b[0m in \u001b[0;36mwrapper\u001b[0;34m(*args, **kwargs)\u001b[0m\n\u001b[1;32m    309\u001b[0m                     \u001b[0mstacklevel\u001b[0m\u001b[0;34m=\u001b[0m\u001b[0mstacklevel\u001b[0m\u001b[0;34m,\u001b[0m\u001b[0;34m\u001b[0m\u001b[0;34m\u001b[0m\u001b[0m\n\u001b[1;32m    310\u001b[0m                 )\n\u001b[0;32m--> 311\u001b[0;31m             \u001b[0;32mreturn\u001b[0m \u001b[0mfunc\u001b[0m\u001b[0;34m(\u001b[0m\u001b[0;34m*\u001b[0m\u001b[0margs\u001b[0m\u001b[0;34m,\u001b[0m \u001b[0;34m**\u001b[0m\u001b[0mkwargs\u001b[0m\u001b[0;34m)\u001b[0m\u001b[0;34m\u001b[0m\u001b[0;34m\u001b[0m\u001b[0m\n\u001b[0m\u001b[1;32m    312\u001b[0m \u001b[0;34m\u001b[0m\u001b[0m\n\u001b[1;32m    313\u001b[0m         \u001b[0;32mreturn\u001b[0m \u001b[0mwrapper\u001b[0m\u001b[0;34m\u001b[0m\u001b[0;34m\u001b[0m\u001b[0m\n",
            "\u001b[0;32m/usr/local/lib/python3.7/dist-packages/pandas/io/parsers/readers.py\u001b[0m in \u001b[0;36mread_csv\u001b[0;34m(filepath_or_buffer, sep, delimiter, header, names, index_col, usecols, squeeze, prefix, mangle_dupe_cols, dtype, engine, converters, true_values, false_values, skipinitialspace, skiprows, skipfooter, nrows, na_values, keep_default_na, na_filter, verbose, skip_blank_lines, parse_dates, infer_datetime_format, keep_date_col, date_parser, dayfirst, cache_dates, iterator, chunksize, compression, thousands, decimal, lineterminator, quotechar, quoting, doublequote, escapechar, comment, encoding, encoding_errors, dialect, error_bad_lines, warn_bad_lines, on_bad_lines, delim_whitespace, low_memory, memory_map, float_precision, storage_options)\u001b[0m\n\u001b[1;32m    584\u001b[0m     \u001b[0mkwds\u001b[0m\u001b[0;34m.\u001b[0m\u001b[0mupdate\u001b[0m\u001b[0;34m(\u001b[0m\u001b[0mkwds_defaults\u001b[0m\u001b[0;34m)\u001b[0m\u001b[0;34m\u001b[0m\u001b[0;34m\u001b[0m\u001b[0m\n\u001b[1;32m    585\u001b[0m \u001b[0;34m\u001b[0m\u001b[0m\n\u001b[0;32m--> 586\u001b[0;31m     \u001b[0;32mreturn\u001b[0m \u001b[0m_read\u001b[0m\u001b[0;34m(\u001b[0m\u001b[0mfilepath_or_buffer\u001b[0m\u001b[0;34m,\u001b[0m \u001b[0mkwds\u001b[0m\u001b[0;34m)\u001b[0m\u001b[0;34m\u001b[0m\u001b[0;34m\u001b[0m\u001b[0m\n\u001b[0m\u001b[1;32m    587\u001b[0m \u001b[0;34m\u001b[0m\u001b[0m\n\u001b[1;32m    588\u001b[0m \u001b[0;34m\u001b[0m\u001b[0m\n",
            "\u001b[0;32m/usr/local/lib/python3.7/dist-packages/pandas/io/parsers/readers.py\u001b[0m in \u001b[0;36m_read\u001b[0;34m(filepath_or_buffer, kwds)\u001b[0m\n\u001b[1;32m    480\u001b[0m \u001b[0;34m\u001b[0m\u001b[0m\n\u001b[1;32m    481\u001b[0m     \u001b[0;31m# Create the parser.\u001b[0m\u001b[0;34m\u001b[0m\u001b[0;34m\u001b[0m\u001b[0;34m\u001b[0m\u001b[0m\n\u001b[0;32m--> 482\u001b[0;31m     \u001b[0mparser\u001b[0m \u001b[0;34m=\u001b[0m \u001b[0mTextFileReader\u001b[0m\u001b[0;34m(\u001b[0m\u001b[0mfilepath_or_buffer\u001b[0m\u001b[0;34m,\u001b[0m \u001b[0;34m**\u001b[0m\u001b[0mkwds\u001b[0m\u001b[0;34m)\u001b[0m\u001b[0;34m\u001b[0m\u001b[0;34m\u001b[0m\u001b[0m\n\u001b[0m\u001b[1;32m    483\u001b[0m \u001b[0;34m\u001b[0m\u001b[0m\n\u001b[1;32m    484\u001b[0m     \u001b[0;32mif\u001b[0m \u001b[0mchunksize\u001b[0m \u001b[0;32mor\u001b[0m \u001b[0miterator\u001b[0m\u001b[0;34m:\u001b[0m\u001b[0;34m\u001b[0m\u001b[0;34m\u001b[0m\u001b[0m\n",
            "\u001b[0;32m/usr/local/lib/python3.7/dist-packages/pandas/io/parsers/readers.py\u001b[0m in \u001b[0;36m__init__\u001b[0;34m(self, f, engine, **kwds)\u001b[0m\n\u001b[1;32m    809\u001b[0m             \u001b[0mself\u001b[0m\u001b[0;34m.\u001b[0m\u001b[0moptions\u001b[0m\u001b[0;34m[\u001b[0m\u001b[0;34m\"has_index_names\"\u001b[0m\u001b[0;34m]\u001b[0m \u001b[0;34m=\u001b[0m \u001b[0mkwds\u001b[0m\u001b[0;34m[\u001b[0m\u001b[0;34m\"has_index_names\"\u001b[0m\u001b[0;34m]\u001b[0m\u001b[0;34m\u001b[0m\u001b[0;34m\u001b[0m\u001b[0m\n\u001b[1;32m    810\u001b[0m \u001b[0;34m\u001b[0m\u001b[0m\n\u001b[0;32m--> 811\u001b[0;31m         \u001b[0mself\u001b[0m\u001b[0;34m.\u001b[0m\u001b[0m_engine\u001b[0m \u001b[0;34m=\u001b[0m \u001b[0mself\u001b[0m\u001b[0;34m.\u001b[0m\u001b[0m_make_engine\u001b[0m\u001b[0;34m(\u001b[0m\u001b[0mself\u001b[0m\u001b[0;34m.\u001b[0m\u001b[0mengine\u001b[0m\u001b[0;34m)\u001b[0m\u001b[0;34m\u001b[0m\u001b[0;34m\u001b[0m\u001b[0m\n\u001b[0m\u001b[1;32m    812\u001b[0m \u001b[0;34m\u001b[0m\u001b[0m\n\u001b[1;32m    813\u001b[0m     \u001b[0;32mdef\u001b[0m \u001b[0mclose\u001b[0m\u001b[0;34m(\u001b[0m\u001b[0mself\u001b[0m\u001b[0;34m)\u001b[0m\u001b[0;34m:\u001b[0m\u001b[0;34m\u001b[0m\u001b[0;34m\u001b[0m\u001b[0m\n",
            "\u001b[0;32m/usr/local/lib/python3.7/dist-packages/pandas/io/parsers/readers.py\u001b[0m in \u001b[0;36m_make_engine\u001b[0;34m(self, engine)\u001b[0m\n\u001b[1;32m   1038\u001b[0m             )\n\u001b[1;32m   1039\u001b[0m         \u001b[0;31m# error: Too many arguments for \"ParserBase\"\u001b[0m\u001b[0;34m\u001b[0m\u001b[0;34m\u001b[0m\u001b[0;34m\u001b[0m\u001b[0m\n\u001b[0;32m-> 1040\u001b[0;31m         \u001b[0;32mreturn\u001b[0m \u001b[0mmapping\u001b[0m\u001b[0;34m[\u001b[0m\u001b[0mengine\u001b[0m\u001b[0;34m]\u001b[0m\u001b[0;34m(\u001b[0m\u001b[0mself\u001b[0m\u001b[0;34m.\u001b[0m\u001b[0mf\u001b[0m\u001b[0;34m,\u001b[0m \u001b[0;34m**\u001b[0m\u001b[0mself\u001b[0m\u001b[0;34m.\u001b[0m\u001b[0moptions\u001b[0m\u001b[0;34m)\u001b[0m  \u001b[0;31m# type: ignore[call-arg]\u001b[0m\u001b[0;34m\u001b[0m\u001b[0;34m\u001b[0m\u001b[0m\n\u001b[0m\u001b[1;32m   1041\u001b[0m \u001b[0;34m\u001b[0m\u001b[0m\n\u001b[1;32m   1042\u001b[0m     \u001b[0;32mdef\u001b[0m \u001b[0m_failover_to_python\u001b[0m\u001b[0;34m(\u001b[0m\u001b[0mself\u001b[0m\u001b[0;34m)\u001b[0m\u001b[0;34m:\u001b[0m\u001b[0;34m\u001b[0m\u001b[0;34m\u001b[0m\u001b[0m\n",
            "\u001b[0;32m/usr/local/lib/python3.7/dist-packages/pandas/io/parsers/c_parser_wrapper.py\u001b[0m in \u001b[0;36m__init__\u001b[0;34m(self, src, **kwds)\u001b[0m\n\u001b[1;32m     49\u001b[0m \u001b[0;34m\u001b[0m\u001b[0m\n\u001b[1;32m     50\u001b[0m         \u001b[0;31m# open handles\u001b[0m\u001b[0;34m\u001b[0m\u001b[0;34m\u001b[0m\u001b[0;34m\u001b[0m\u001b[0m\n\u001b[0;32m---> 51\u001b[0;31m         \u001b[0mself\u001b[0m\u001b[0;34m.\u001b[0m\u001b[0m_open_handles\u001b[0m\u001b[0;34m(\u001b[0m\u001b[0msrc\u001b[0m\u001b[0;34m,\u001b[0m \u001b[0mkwds\u001b[0m\u001b[0;34m)\u001b[0m\u001b[0;34m\u001b[0m\u001b[0;34m\u001b[0m\u001b[0m\n\u001b[0m\u001b[1;32m     52\u001b[0m         \u001b[0;32massert\u001b[0m \u001b[0mself\u001b[0m\u001b[0;34m.\u001b[0m\u001b[0mhandles\u001b[0m \u001b[0;32mis\u001b[0m \u001b[0;32mnot\u001b[0m \u001b[0;32mNone\u001b[0m\u001b[0;34m\u001b[0m\u001b[0;34m\u001b[0m\u001b[0m\n\u001b[1;32m     53\u001b[0m \u001b[0;34m\u001b[0m\u001b[0m\n",
            "\u001b[0;32m/usr/local/lib/python3.7/dist-packages/pandas/io/parsers/base_parser.py\u001b[0m in \u001b[0;36m_open_handles\u001b[0;34m(self, src, kwds)\u001b[0m\n\u001b[1;32m    227\u001b[0m             \u001b[0mmemory_map\u001b[0m\u001b[0;34m=\u001b[0m\u001b[0mkwds\u001b[0m\u001b[0;34m.\u001b[0m\u001b[0mget\u001b[0m\u001b[0;34m(\u001b[0m\u001b[0;34m\"memory_map\"\u001b[0m\u001b[0;34m,\u001b[0m \u001b[0;32mFalse\u001b[0m\u001b[0;34m)\u001b[0m\u001b[0;34m,\u001b[0m\u001b[0;34m\u001b[0m\u001b[0;34m\u001b[0m\u001b[0m\n\u001b[1;32m    228\u001b[0m             \u001b[0mstorage_options\u001b[0m\u001b[0;34m=\u001b[0m\u001b[0mkwds\u001b[0m\u001b[0;34m.\u001b[0m\u001b[0mget\u001b[0m\u001b[0;34m(\u001b[0m\u001b[0;34m\"storage_options\"\u001b[0m\u001b[0;34m,\u001b[0m \u001b[0;32mNone\u001b[0m\u001b[0;34m)\u001b[0m\u001b[0;34m,\u001b[0m\u001b[0;34m\u001b[0m\u001b[0;34m\u001b[0m\u001b[0m\n\u001b[0;32m--> 229\u001b[0;31m             \u001b[0merrors\u001b[0m\u001b[0;34m=\u001b[0m\u001b[0mkwds\u001b[0m\u001b[0;34m.\u001b[0m\u001b[0mget\u001b[0m\u001b[0;34m(\u001b[0m\u001b[0;34m\"encoding_errors\"\u001b[0m\u001b[0;34m,\u001b[0m \u001b[0;34m\"strict\"\u001b[0m\u001b[0;34m)\u001b[0m\u001b[0;34m,\u001b[0m\u001b[0;34m\u001b[0m\u001b[0;34m\u001b[0m\u001b[0m\n\u001b[0m\u001b[1;32m    230\u001b[0m         )\n\u001b[1;32m    231\u001b[0m \u001b[0;34m\u001b[0m\u001b[0m\n",
            "\u001b[0;32m/usr/local/lib/python3.7/dist-packages/pandas/io/common.py\u001b[0m in \u001b[0;36mget_handle\u001b[0;34m(path_or_buf, mode, encoding, compression, memory_map, is_text, errors, storage_options)\u001b[0m\n\u001b[1;32m    705\u001b[0m                 \u001b[0mencoding\u001b[0m\u001b[0;34m=\u001b[0m\u001b[0mioargs\u001b[0m\u001b[0;34m.\u001b[0m\u001b[0mencoding\u001b[0m\u001b[0;34m,\u001b[0m\u001b[0;34m\u001b[0m\u001b[0;34m\u001b[0m\u001b[0m\n\u001b[1;32m    706\u001b[0m                 \u001b[0merrors\u001b[0m\u001b[0;34m=\u001b[0m\u001b[0merrors\u001b[0m\u001b[0;34m,\u001b[0m\u001b[0;34m\u001b[0m\u001b[0;34m\u001b[0m\u001b[0m\n\u001b[0;32m--> 707\u001b[0;31m                 \u001b[0mnewline\u001b[0m\u001b[0;34m=\u001b[0m\u001b[0;34m\"\"\u001b[0m\u001b[0;34m,\u001b[0m\u001b[0;34m\u001b[0m\u001b[0;34m\u001b[0m\u001b[0m\n\u001b[0m\u001b[1;32m    708\u001b[0m             )\n\u001b[1;32m    709\u001b[0m         \u001b[0;32melse\u001b[0m\u001b[0;34m:\u001b[0m\u001b[0;34m\u001b[0m\u001b[0;34m\u001b[0m\u001b[0m\n",
            "\u001b[0;31mFileNotFoundError\u001b[0m: [Errno 2] No such file or directory: '/content/drive/MyDrive/BDC/BDC Satria Data 2022/train_fktp.txt'"
          ]
        }
      ],
      "source": [
        "# Read Text Files with Pandas using read_csv()\n",
        "  \n",
        "# importing pandas\n",
        "import pandas as pd\n",
        "  \n",
        "# read text file into pandas DataFrame\n",
        "df = pd.read_csv(\"/content/drive/MyDrive/BDC/BDC Satria Data 2022/train_fktp.txt\", sep=\",\", header=None, names = ['no_peserta', 'no_kel', 'bobot', 'id_kunj','tgl_datang', 'tgl_pulang', \n",
        "                                                                                                                 'prov', 'kab', 'kepemilikan', 'jenis', 'tipe', 'tingkat_pelayanan', \n",
        "                                                                                                                 'jenis_poli', 'segmen_peserta', 'kode_ICD', 'kode_ICD3', 'kode_ICD4', \n",
        "                                                                                                                 'ICD4_diagnosis', 'prov_rujukan', 'kab_rujukan', 'kepemilikan_rujukan',\n",
        "                                                                                                                 'jenis_rujukan', 'tipe_rujukan' , 'poli_rujukan', 'jenis_kunjungan', \n",
        "                                                                                                                 'status_pulang'])\n",
        "# df = pd.read_csv(\"/content/drive/MyDrive/BDC/BDC Satria Data 2022/test_fktp.txt\", sep=\",\", header=None,\n",
        "#                  names = ['no_peserta', 'no_kel', 'bobot', 'id_kunj','tgl_datang', 'tgl_pulang', \n",
        "#                           'prov', 'kab', 'kepemilikan', 'jenis', 'tipe', 'tingkat_pelayanan', \n",
        "#                           'jenis_poli', 'segmen_peserta', 'kode_ICD', 'kode_ICD3', 'kode_ICD4', \n",
        "#                           'ICD4_diagnosis', 'prov_rujukan', 'kab_rujukan', 'kepemilikan_rujukan',\n",
        "#                           'jenis_rujukan', 'tipe_rujukan' , 'poli_rujukan', 'jenis_kunjungan'])\n",
        "# display DataFrame\n",
        "df.info()"
      ]
    },
    {
      "cell_type": "code",
      "source": [
        "from google.colab import drive\n",
        "drive.mount('/content/drive')"
      ],
      "metadata": {
        "colab": {
          "base_uri": "https://localhost:8080/",
          "height": 338
        },
        "id": "u1qaPpZXSt39",
        "outputId": "dc1fbd3a-71fa-45e4-b1d0-f3da4bfc733b"
      },
      "execution_count": null,
      "outputs": [
        {
          "output_type": "error",
          "ename": "KeyboardInterrupt",
          "evalue": "ignored",
          "traceback": [
            "\u001b[0;31m---------------------------------------------------------------------------\u001b[0m",
            "\u001b[0;31mKeyboardInterrupt\u001b[0m                         Traceback (most recent call last)",
            "\u001b[0;32m<ipython-input-2-d5df0069828e>\u001b[0m in \u001b[0;36m<module>\u001b[0;34m\u001b[0m\n\u001b[1;32m      1\u001b[0m \u001b[0;32mfrom\u001b[0m \u001b[0mgoogle\u001b[0m\u001b[0;34m.\u001b[0m\u001b[0mcolab\u001b[0m \u001b[0;32mimport\u001b[0m \u001b[0mdrive\u001b[0m\u001b[0;34m\u001b[0m\u001b[0;34m\u001b[0m\u001b[0m\n\u001b[0;32m----> 2\u001b[0;31m \u001b[0mdrive\u001b[0m\u001b[0;34m.\u001b[0m\u001b[0mmount\u001b[0m\u001b[0;34m(\u001b[0m\u001b[0;34m'/content/drive'\u001b[0m\u001b[0;34m)\u001b[0m\u001b[0;34m\u001b[0m\u001b[0;34m\u001b[0m\u001b[0m\n\u001b[0m",
            "\u001b[0;32m/usr/local/lib/python3.7/dist-packages/google/colab/drive.py\u001b[0m in \u001b[0;36mmount\u001b[0;34m(mountpoint, force_remount, timeout_ms, readonly)\u001b[0m\n\u001b[1;32m    104\u001b[0m       \u001b[0mtimeout_ms\u001b[0m\u001b[0;34m=\u001b[0m\u001b[0mtimeout_ms\u001b[0m\u001b[0;34m,\u001b[0m\u001b[0;34m\u001b[0m\u001b[0;34m\u001b[0m\u001b[0m\n\u001b[1;32m    105\u001b[0m       \u001b[0mephemeral\u001b[0m\u001b[0;34m=\u001b[0m\u001b[0;32mTrue\u001b[0m\u001b[0;34m,\u001b[0m\u001b[0;34m\u001b[0m\u001b[0;34m\u001b[0m\u001b[0m\n\u001b[0;32m--> 106\u001b[0;31m       readonly=readonly)\n\u001b[0m\u001b[1;32m    107\u001b[0m \u001b[0;34m\u001b[0m\u001b[0m\n\u001b[1;32m    108\u001b[0m \u001b[0;34m\u001b[0m\u001b[0m\n",
            "\u001b[0;32m/usr/local/lib/python3.7/dist-packages/google/colab/drive.py\u001b[0m in \u001b[0;36m_mount\u001b[0;34m(mountpoint, force_remount, timeout_ms, ephemeral, readonly)\u001b[0m\n\u001b[1;32m    123\u001b[0m   \u001b[0;32mif\u001b[0m \u001b[0mephemeral\u001b[0m\u001b[0;34m:\u001b[0m\u001b[0;34m\u001b[0m\u001b[0;34m\u001b[0m\u001b[0m\n\u001b[1;32m    124\u001b[0m     _message.blocking_request(\n\u001b[0;32m--> 125\u001b[0;31m         'request_auth', request={'authType': 'dfs_ephemeral'}, timeout_sec=None)\n\u001b[0m\u001b[1;32m    126\u001b[0m \u001b[0;34m\u001b[0m\u001b[0m\n\u001b[1;32m    127\u001b[0m   \u001b[0mmountpoint\u001b[0m \u001b[0;34m=\u001b[0m \u001b[0m_os\u001b[0m\u001b[0;34m.\u001b[0m\u001b[0mpath\u001b[0m\u001b[0;34m.\u001b[0m\u001b[0mexpanduser\u001b[0m\u001b[0;34m(\u001b[0m\u001b[0mmountpoint\u001b[0m\u001b[0;34m)\u001b[0m\u001b[0;34m\u001b[0m\u001b[0;34m\u001b[0m\u001b[0m\n",
            "\u001b[0;32m/usr/local/lib/python3.7/dist-packages/google/colab/_message.py\u001b[0m in \u001b[0;36mblocking_request\u001b[0;34m(request_type, request, timeout_sec, parent)\u001b[0m\n\u001b[1;32m    169\u001b[0m   request_id = send_request(\n\u001b[1;32m    170\u001b[0m       request_type, request, parent=parent, expect_reply=True)\n\u001b[0;32m--> 171\u001b[0;31m   \u001b[0;32mreturn\u001b[0m \u001b[0mread_reply_from_input\u001b[0m\u001b[0;34m(\u001b[0m\u001b[0mrequest_id\u001b[0m\u001b[0;34m,\u001b[0m \u001b[0mtimeout_sec\u001b[0m\u001b[0;34m)\u001b[0m\u001b[0;34m\u001b[0m\u001b[0;34m\u001b[0m\u001b[0m\n\u001b[0m",
            "\u001b[0;32m/usr/local/lib/python3.7/dist-packages/google/colab/_message.py\u001b[0m in \u001b[0;36mread_reply_from_input\u001b[0;34m(message_id, timeout_sec)\u001b[0m\n\u001b[1;32m     95\u001b[0m     \u001b[0mreply\u001b[0m \u001b[0;34m=\u001b[0m \u001b[0m_read_next_input_message\u001b[0m\u001b[0;34m(\u001b[0m\u001b[0;34m)\u001b[0m\u001b[0;34m\u001b[0m\u001b[0;34m\u001b[0m\u001b[0m\n\u001b[1;32m     96\u001b[0m     \u001b[0;32mif\u001b[0m \u001b[0mreply\u001b[0m \u001b[0;34m==\u001b[0m \u001b[0m_NOT_READY\u001b[0m \u001b[0;32mor\u001b[0m \u001b[0;32mnot\u001b[0m \u001b[0misinstance\u001b[0m\u001b[0;34m(\u001b[0m\u001b[0mreply\u001b[0m\u001b[0;34m,\u001b[0m \u001b[0mdict\u001b[0m\u001b[0;34m)\u001b[0m\u001b[0;34m:\u001b[0m\u001b[0;34m\u001b[0m\u001b[0;34m\u001b[0m\u001b[0m\n\u001b[0;32m---> 97\u001b[0;31m       \u001b[0mtime\u001b[0m\u001b[0;34m.\u001b[0m\u001b[0msleep\u001b[0m\u001b[0;34m(\u001b[0m\u001b[0;36m0.025\u001b[0m\u001b[0;34m)\u001b[0m\u001b[0;34m\u001b[0m\u001b[0;34m\u001b[0m\u001b[0m\n\u001b[0m\u001b[1;32m     98\u001b[0m       \u001b[0;32mcontinue\u001b[0m\u001b[0;34m\u001b[0m\u001b[0;34m\u001b[0m\u001b[0m\n\u001b[1;32m     99\u001b[0m     if (reply.get('type') == 'colab_reply' and\n",
            "\u001b[0;31mKeyboardInterrupt\u001b[0m: "
          ]
        }
      ]
    },
    {
      "cell_type": "code",
      "source": [
        "df_train = pd.read_csv(\"/content/drive/MyDrive/BDC/train-siap-encode.csv\")"
      ],
      "metadata": {
        "id": "l3oqJ3TRM1jw"
      },
      "execution_count": null,
      "outputs": []
    },
    {
      "cell_type": "code",
      "source": [
        "df_train.info()"
      ],
      "metadata": {
        "colab": {
          "base_uri": "https://localhost:8080/"
        },
        "id": "pepVOmfsNNBt",
        "outputId": "89abb01e-24dc-47b0-8f57-fb8a56cd436d"
      },
      "execution_count": null,
      "outputs": [
        {
          "output_type": "stream",
          "name": "stdout",
          "text": [
            "<class 'pandas.core.frame.DataFrame'>\n",
            "RangeIndex: 4056897 entries, 0 to 4056896\n",
            "Data columns (total 30 columns):\n",
            " #   Column               Dtype  \n",
            "---  ------               -----  \n",
            " 0   Unnamed: 0           int64  \n",
            " 1   no_peserta           float64\n",
            " 2   no_kel               int64  \n",
            " 3   bobot                float64\n",
            " 4   id_kunj              object \n",
            " 5   tgl_datang           float64\n",
            " 6   tgl_pulang           float64\n",
            " 7   prov                 int64  \n",
            " 8   kab                  int64  \n",
            " 9   kepemilikan          int64  \n",
            " 10  jenis                int64  \n",
            " 11  tipe                 int64  \n",
            " 12  tingkat_pelayanan    int64  \n",
            " 13  jenis_poli           float64\n",
            " 14  segmen_peserta       int64  \n",
            " 15  kode_ICD             int64  \n",
            " 16  kode_ICD3            object \n",
            " 17  kode_ICD4            object \n",
            " 18  prov_rujukan         int64  \n",
            " 19  kab_rujukan          int64  \n",
            " 20  kepemilikan_rujukan  int64  \n",
            " 21  jenis_rujukan        int64  \n",
            " 22  tipe_rujukan         int64  \n",
            " 23  poli_rujukan         int64  \n",
            " 24  jenis_kunjungan      int64  \n",
            " 25  status_pulang        object \n",
            " 26  jum_kunj             int64  \n",
            " 27  kodeICD_huruf        object \n",
            " 28  kodeICD_angka        float64\n",
            " 29  jml_hari             int64  \n",
            "dtypes: float64(6), int64(19), object(5)\n",
            "memory usage: 928.6+ MB\n"
          ]
        }
      ]
    },
    {
      "cell_type": "code",
      "source": [
        "df = df_train.drop(['Unnamed: 0'], axis=1)\n",
        "df.info()"
      ],
      "metadata": {
        "colab": {
          "base_uri": "https://localhost:8080/"
        },
        "id": "ceFiZ-JsNWlD",
        "outputId": "7b3e5608-7007-44ef-9653-a76134e0418a"
      },
      "execution_count": null,
      "outputs": [
        {
          "output_type": "stream",
          "name": "stdout",
          "text": [
            "<class 'pandas.core.frame.DataFrame'>\n",
            "RangeIndex: 4056897 entries, 0 to 4056896\n",
            "Data columns (total 29 columns):\n",
            " #   Column               Dtype  \n",
            "---  ------               -----  \n",
            " 0   no_peserta           float64\n",
            " 1   no_kel               int64  \n",
            " 2   bobot                float64\n",
            " 3   id_kunj              object \n",
            " 4   tgl_datang           float64\n",
            " 5   tgl_pulang           float64\n",
            " 6   prov                 int64  \n",
            " 7   kab                  int64  \n",
            " 8   kepemilikan          int64  \n",
            " 9   jenis                int64  \n",
            " 10  tipe                 int64  \n",
            " 11  tingkat_pelayanan    int64  \n",
            " 12  jenis_poli           float64\n",
            " 13  segmen_peserta       int64  \n",
            " 14  kode_ICD             int64  \n",
            " 15  kode_ICD3            object \n",
            " 16  kode_ICD4            object \n",
            " 17  prov_rujukan         int64  \n",
            " 18  kab_rujukan          int64  \n",
            " 19  kepemilikan_rujukan  int64  \n",
            " 20  jenis_rujukan        int64  \n",
            " 21  tipe_rujukan         int64  \n",
            " 22  poli_rujukan         int64  \n",
            " 23  jenis_kunjungan      int64  \n",
            " 24  status_pulang        object \n",
            " 25  jum_kunj             int64  \n",
            " 26  kodeICD_huruf        object \n",
            " 27  kodeICD_angka        float64\n",
            " 28  jml_hari             int64  \n",
            "dtypes: float64(6), int64(18), object(5)\n",
            "memory usage: 897.6+ MB\n"
          ]
        }
      ]
    },
    {
      "cell_type": "code",
      "source": [],
      "metadata": {
        "id": "z2cmDmlMN9I9"
      },
      "execution_count": null,
      "outputs": []
    },
    {
      "cell_type": "code",
      "source": [
        "df = df_train"
      ],
      "metadata": {
        "id": "hAy1c5NDN0UY"
      },
      "execution_count": null,
      "outputs": []
    },
    {
      "cell_type": "code",
      "source": [
        "header = ['no_peserta', 'no_kel', 'bobot', 'id_kunj','tgl_datang', 'tgl_pulang', 'prov', 'kab', 'kepemilikan', 'jenis', 'tipe', 'tingkat_pelayanan', 'jenis_poli', 'segmen_peserta', 'kode_ICD', 'kode_ICD3', 'kode_ICD4', 'ICD4_diagnosis', 'prov_rujukan', 'kab_rujukan', 'kepemilikan_rujukan', 'jenis_rujukan', 'tipe_rujukan' , 'poli_rujukan', 'jenis_kunjungan', 'status_pulang']"
      ],
      "metadata": {
        "id": "jR67lfa90p_d"
      },
      "execution_count": null,
      "outputs": []
    },
    {
      "cell_type": "code",
      "source": [
        "df.describe()"
      ],
      "metadata": {
        "id": "GyOA8xSs2DKB",
        "colab": {
          "base_uri": "https://localhost:8080/",
          "height": 364
        },
        "outputId": "e331225a-a49a-4459-c221-2674bbdac14a"
      },
      "execution_count": null,
      "outputs": [
        {
          "output_type": "execute_result",
          "data": {
            "text/plain": [
              "         no_peserta        no_kel         bobot          prov           kab  \\\n",
              "count  1.014225e+06  1.014225e+06  1.014225e+06  1.014225e+06  1.014225e+06   \n",
              "mean   9.159896e+07  9.492149e+07  1.056841e+02  3.609869e+01  3.637708e+03   \n",
              "std    8.995272e+07  8.858823e+07  1.873387e+02  1.871773e+01  1.870930e+03   \n",
              "min    1.500000e+01  1.500000e+01  5.106980e-01  1.100000e+01  1.101000e+03   \n",
              "25%    3.382176e+07  3.580259e+07  1.680836e+01  3.100000e+01  3.171000e+03   \n",
              "50%    6.769082e+07  7.177364e+07  5.158066e+01  3.300000e+01  3.318000e+03   \n",
              "75%    1.016452e+08  1.112675e+08  1.281638e+02  3.600000e+01  3.603000e+03   \n",
              "max    4.553771e+08  4.553795e+08  3.710185e+04  9.400000e+01  9.471000e+03   \n",
              "\n",
              "        kepemilikan         jenis          tipe  tingkat_pelayanan  \\\n",
              "count  1.014225e+06  1.014225e+06  1.014225e+06       1.014225e+06   \n",
              "mean   5.651684e+00  1.677975e+00  2.710881e+00       1.065155e+00   \n",
              "std    2.935942e+00  8.368108e-01  1.313511e+00       3.418626e-01   \n",
              "min    1.000000e+00  1.000000e+00  1.000000e+00       1.000000e+00   \n",
              "25%    3.000000e+00  1.000000e+00  2.000000e+00       1.000000e+00   \n",
              "50%    3.000000e+00  1.000000e+00  3.000000e+00       1.000000e+00   \n",
              "75%    9.000000e+00  2.000000e+00  4.000000e+00       1.000000e+00   \n",
              "max    9.000000e+00  7.000000e+00  1.000000e+01       3.000000e+00   \n",
              "\n",
              "         jenis_poli  segmen_peserta      kode_ICD  prov_rujukan   kab_rujukan  \\\n",
              "count  1.014225e+06    1.014225e+06  1.014225e+06  1.014225e+06  1.014225e+06   \n",
              "mean   5.249099e+00    3.491121e+00  3.944485e+03  9.225917e+01  9.408837e+03   \n",
              "std    5.679685e+00    1.384277e+00  4.367784e+03  1.873706e+01  1.918504e+03   \n",
              "min    1.000000e+00    1.000000e+00  1.000000e+00  1.100000e+01  1.101000e+03   \n",
              "25%    1.000000e+00    2.000000e+00  6.940000e+02  9.800000e+01  9.998000e+03   \n",
              "50%    1.000000e+00    4.000000e+00  9.510000e+02  9.800000e+01  9.998000e+03   \n",
              "75%    1.200000e+01    5.000000e+00  9.999000e+03  9.800000e+01  9.998000e+03   \n",
              "max    2.800000e+01    5.000000e+00  9.999000e+03  9.800000e+01  9.998000e+03   \n",
              "\n",
              "       kepemilikan_rujukan  jenis_rujukan  tipe_rujukan  poli_rujukan  \\\n",
              "count         1.014225e+06   1.014225e+06  1.014225e+06  1.014225e+06   \n",
              "mean          8.946482e+01   8.895451e+01  9.170838e+01  9.809328e+01   \n",
              "std           2.662540e+01   2.820152e+01  1.970859e+01  2.908261e-01   \n",
              "min           1.000000e+00   1.000000e+00  5.000000e+00  9.800000e+01   \n",
              "25%           9.800000e+01   9.800000e+01  9.800000e+01  9.800000e+01   \n",
              "50%           9.800000e+01   9.800000e+01  9.800000e+01  9.800000e+01   \n",
              "75%           9.800000e+01   9.800000e+01  9.800000e+01  9.800000e+01   \n",
              "max           9.800000e+01   9.800000e+01  9.900000e+01  9.900000e+01   \n",
              "\n",
              "       jenis_kunjungan  \n",
              "count     1.014225e+06  \n",
              "mean      1.341060e+00  \n",
              "std       4.740658e-01  \n",
              "min       1.000000e+00  \n",
              "25%       1.000000e+00  \n",
              "50%       1.000000e+00  \n",
              "75%       2.000000e+00  \n",
              "max       2.000000e+00  "
            ],
            "text/html": [
              "\n",
              "  <div id=\"df-50459845-8c4a-46f2-9243-795bce04ccd9\">\n",
              "    <div class=\"colab-df-container\">\n",
              "      <div>\n",
              "<style scoped>\n",
              "    .dataframe tbody tr th:only-of-type {\n",
              "        vertical-align: middle;\n",
              "    }\n",
              "\n",
              "    .dataframe tbody tr th {\n",
              "        vertical-align: top;\n",
              "    }\n",
              "\n",
              "    .dataframe thead th {\n",
              "        text-align: right;\n",
              "    }\n",
              "</style>\n",
              "<table border=\"1\" class=\"dataframe\">\n",
              "  <thead>\n",
              "    <tr style=\"text-align: right;\">\n",
              "      <th></th>\n",
              "      <th>no_peserta</th>\n",
              "      <th>no_kel</th>\n",
              "      <th>bobot</th>\n",
              "      <th>prov</th>\n",
              "      <th>kab</th>\n",
              "      <th>kepemilikan</th>\n",
              "      <th>jenis</th>\n",
              "      <th>tipe</th>\n",
              "      <th>tingkat_pelayanan</th>\n",
              "      <th>jenis_poli</th>\n",
              "      <th>segmen_peserta</th>\n",
              "      <th>kode_ICD</th>\n",
              "      <th>prov_rujukan</th>\n",
              "      <th>kab_rujukan</th>\n",
              "      <th>kepemilikan_rujukan</th>\n",
              "      <th>jenis_rujukan</th>\n",
              "      <th>tipe_rujukan</th>\n",
              "      <th>poli_rujukan</th>\n",
              "      <th>jenis_kunjungan</th>\n",
              "    </tr>\n",
              "  </thead>\n",
              "  <tbody>\n",
              "    <tr>\n",
              "      <th>count</th>\n",
              "      <td>1.014225e+06</td>\n",
              "      <td>1.014225e+06</td>\n",
              "      <td>1.014225e+06</td>\n",
              "      <td>1.014225e+06</td>\n",
              "      <td>1.014225e+06</td>\n",
              "      <td>1.014225e+06</td>\n",
              "      <td>1.014225e+06</td>\n",
              "      <td>1.014225e+06</td>\n",
              "      <td>1.014225e+06</td>\n",
              "      <td>1.014225e+06</td>\n",
              "      <td>1.014225e+06</td>\n",
              "      <td>1.014225e+06</td>\n",
              "      <td>1.014225e+06</td>\n",
              "      <td>1.014225e+06</td>\n",
              "      <td>1.014225e+06</td>\n",
              "      <td>1.014225e+06</td>\n",
              "      <td>1.014225e+06</td>\n",
              "      <td>1.014225e+06</td>\n",
              "      <td>1.014225e+06</td>\n",
              "    </tr>\n",
              "    <tr>\n",
              "      <th>mean</th>\n",
              "      <td>9.159896e+07</td>\n",
              "      <td>9.492149e+07</td>\n",
              "      <td>1.056841e+02</td>\n",
              "      <td>3.609869e+01</td>\n",
              "      <td>3.637708e+03</td>\n",
              "      <td>5.651684e+00</td>\n",
              "      <td>1.677975e+00</td>\n",
              "      <td>2.710881e+00</td>\n",
              "      <td>1.065155e+00</td>\n",
              "      <td>5.249099e+00</td>\n",
              "      <td>3.491121e+00</td>\n",
              "      <td>3.944485e+03</td>\n",
              "      <td>9.225917e+01</td>\n",
              "      <td>9.408837e+03</td>\n",
              "      <td>8.946482e+01</td>\n",
              "      <td>8.895451e+01</td>\n",
              "      <td>9.170838e+01</td>\n",
              "      <td>9.809328e+01</td>\n",
              "      <td>1.341060e+00</td>\n",
              "    </tr>\n",
              "    <tr>\n",
              "      <th>std</th>\n",
              "      <td>8.995272e+07</td>\n",
              "      <td>8.858823e+07</td>\n",
              "      <td>1.873387e+02</td>\n",
              "      <td>1.871773e+01</td>\n",
              "      <td>1.870930e+03</td>\n",
              "      <td>2.935942e+00</td>\n",
              "      <td>8.368108e-01</td>\n",
              "      <td>1.313511e+00</td>\n",
              "      <td>3.418626e-01</td>\n",
              "      <td>5.679685e+00</td>\n",
              "      <td>1.384277e+00</td>\n",
              "      <td>4.367784e+03</td>\n",
              "      <td>1.873706e+01</td>\n",
              "      <td>1.918504e+03</td>\n",
              "      <td>2.662540e+01</td>\n",
              "      <td>2.820152e+01</td>\n",
              "      <td>1.970859e+01</td>\n",
              "      <td>2.908261e-01</td>\n",
              "      <td>4.740658e-01</td>\n",
              "    </tr>\n",
              "    <tr>\n",
              "      <th>min</th>\n",
              "      <td>1.500000e+01</td>\n",
              "      <td>1.500000e+01</td>\n",
              "      <td>5.106980e-01</td>\n",
              "      <td>1.100000e+01</td>\n",
              "      <td>1.101000e+03</td>\n",
              "      <td>1.000000e+00</td>\n",
              "      <td>1.000000e+00</td>\n",
              "      <td>1.000000e+00</td>\n",
              "      <td>1.000000e+00</td>\n",
              "      <td>1.000000e+00</td>\n",
              "      <td>1.000000e+00</td>\n",
              "      <td>1.000000e+00</td>\n",
              "      <td>1.100000e+01</td>\n",
              "      <td>1.101000e+03</td>\n",
              "      <td>1.000000e+00</td>\n",
              "      <td>1.000000e+00</td>\n",
              "      <td>5.000000e+00</td>\n",
              "      <td>9.800000e+01</td>\n",
              "      <td>1.000000e+00</td>\n",
              "    </tr>\n",
              "    <tr>\n",
              "      <th>25%</th>\n",
              "      <td>3.382176e+07</td>\n",
              "      <td>3.580259e+07</td>\n",
              "      <td>1.680836e+01</td>\n",
              "      <td>3.100000e+01</td>\n",
              "      <td>3.171000e+03</td>\n",
              "      <td>3.000000e+00</td>\n",
              "      <td>1.000000e+00</td>\n",
              "      <td>2.000000e+00</td>\n",
              "      <td>1.000000e+00</td>\n",
              "      <td>1.000000e+00</td>\n",
              "      <td>2.000000e+00</td>\n",
              "      <td>6.940000e+02</td>\n",
              "      <td>9.800000e+01</td>\n",
              "      <td>9.998000e+03</td>\n",
              "      <td>9.800000e+01</td>\n",
              "      <td>9.800000e+01</td>\n",
              "      <td>9.800000e+01</td>\n",
              "      <td>9.800000e+01</td>\n",
              "      <td>1.000000e+00</td>\n",
              "    </tr>\n",
              "    <tr>\n",
              "      <th>50%</th>\n",
              "      <td>6.769082e+07</td>\n",
              "      <td>7.177364e+07</td>\n",
              "      <td>5.158066e+01</td>\n",
              "      <td>3.300000e+01</td>\n",
              "      <td>3.318000e+03</td>\n",
              "      <td>3.000000e+00</td>\n",
              "      <td>1.000000e+00</td>\n",
              "      <td>3.000000e+00</td>\n",
              "      <td>1.000000e+00</td>\n",
              "      <td>1.000000e+00</td>\n",
              "      <td>4.000000e+00</td>\n",
              "      <td>9.510000e+02</td>\n",
              "      <td>9.800000e+01</td>\n",
              "      <td>9.998000e+03</td>\n",
              "      <td>9.800000e+01</td>\n",
              "      <td>9.800000e+01</td>\n",
              "      <td>9.800000e+01</td>\n",
              "      <td>9.800000e+01</td>\n",
              "      <td>1.000000e+00</td>\n",
              "    </tr>\n",
              "    <tr>\n",
              "      <th>75%</th>\n",
              "      <td>1.016452e+08</td>\n",
              "      <td>1.112675e+08</td>\n",
              "      <td>1.281638e+02</td>\n",
              "      <td>3.600000e+01</td>\n",
              "      <td>3.603000e+03</td>\n",
              "      <td>9.000000e+00</td>\n",
              "      <td>2.000000e+00</td>\n",
              "      <td>4.000000e+00</td>\n",
              "      <td>1.000000e+00</td>\n",
              "      <td>1.200000e+01</td>\n",
              "      <td>5.000000e+00</td>\n",
              "      <td>9.999000e+03</td>\n",
              "      <td>9.800000e+01</td>\n",
              "      <td>9.998000e+03</td>\n",
              "      <td>9.800000e+01</td>\n",
              "      <td>9.800000e+01</td>\n",
              "      <td>9.800000e+01</td>\n",
              "      <td>9.800000e+01</td>\n",
              "      <td>2.000000e+00</td>\n",
              "    </tr>\n",
              "    <tr>\n",
              "      <th>max</th>\n",
              "      <td>4.553771e+08</td>\n",
              "      <td>4.553795e+08</td>\n",
              "      <td>3.710185e+04</td>\n",
              "      <td>9.400000e+01</td>\n",
              "      <td>9.471000e+03</td>\n",
              "      <td>9.000000e+00</td>\n",
              "      <td>7.000000e+00</td>\n",
              "      <td>1.000000e+01</td>\n",
              "      <td>3.000000e+00</td>\n",
              "      <td>2.800000e+01</td>\n",
              "      <td>5.000000e+00</td>\n",
              "      <td>9.999000e+03</td>\n",
              "      <td>9.800000e+01</td>\n",
              "      <td>9.998000e+03</td>\n",
              "      <td>9.800000e+01</td>\n",
              "      <td>9.800000e+01</td>\n",
              "      <td>9.900000e+01</td>\n",
              "      <td>9.900000e+01</td>\n",
              "      <td>2.000000e+00</td>\n",
              "    </tr>\n",
              "  </tbody>\n",
              "</table>\n",
              "</div>\n",
              "      <button class=\"colab-df-convert\" onclick=\"convertToInteractive('df-50459845-8c4a-46f2-9243-795bce04ccd9')\"\n",
              "              title=\"Convert this dataframe to an interactive table.\"\n",
              "              style=\"display:none;\">\n",
              "        \n",
              "  <svg xmlns=\"http://www.w3.org/2000/svg\" height=\"24px\"viewBox=\"0 0 24 24\"\n",
              "       width=\"24px\">\n",
              "    <path d=\"M0 0h24v24H0V0z\" fill=\"none\"/>\n",
              "    <path d=\"M18.56 5.44l.94 2.06.94-2.06 2.06-.94-2.06-.94-.94-2.06-.94 2.06-2.06.94zm-11 1L8.5 8.5l.94-2.06 2.06-.94-2.06-.94L8.5 2.5l-.94 2.06-2.06.94zm10 10l.94 2.06.94-2.06 2.06-.94-2.06-.94-.94-2.06-.94 2.06-2.06.94z\"/><path d=\"M17.41 7.96l-1.37-1.37c-.4-.4-.92-.59-1.43-.59-.52 0-1.04.2-1.43.59L10.3 9.45l-7.72 7.72c-.78.78-.78 2.05 0 2.83L4 21.41c.39.39.9.59 1.41.59.51 0 1.02-.2 1.41-.59l7.78-7.78 2.81-2.81c.8-.78.8-2.07 0-2.86zM5.41 20L4 18.59l7.72-7.72 1.47 1.35L5.41 20z\"/>\n",
              "  </svg>\n",
              "      </button>\n",
              "      \n",
              "  <style>\n",
              "    .colab-df-container {\n",
              "      display:flex;\n",
              "      flex-wrap:wrap;\n",
              "      gap: 12px;\n",
              "    }\n",
              "\n",
              "    .colab-df-convert {\n",
              "      background-color: #E8F0FE;\n",
              "      border: none;\n",
              "      border-radius: 50%;\n",
              "      cursor: pointer;\n",
              "      display: none;\n",
              "      fill: #1967D2;\n",
              "      height: 32px;\n",
              "      padding: 0 0 0 0;\n",
              "      width: 32px;\n",
              "    }\n",
              "\n",
              "    .colab-df-convert:hover {\n",
              "      background-color: #E2EBFA;\n",
              "      box-shadow: 0px 1px 2px rgba(60, 64, 67, 0.3), 0px 1px 3px 1px rgba(60, 64, 67, 0.15);\n",
              "      fill: #174EA6;\n",
              "    }\n",
              "\n",
              "    [theme=dark] .colab-df-convert {\n",
              "      background-color: #3B4455;\n",
              "      fill: #D2E3FC;\n",
              "    }\n",
              "\n",
              "    [theme=dark] .colab-df-convert:hover {\n",
              "      background-color: #434B5C;\n",
              "      box-shadow: 0px 1px 3px 1px rgba(0, 0, 0, 0.15);\n",
              "      filter: drop-shadow(0px 1px 2px rgba(0, 0, 0, 0.3));\n",
              "      fill: #FFFFFF;\n",
              "    }\n",
              "  </style>\n",
              "\n",
              "      <script>\n",
              "        const buttonEl =\n",
              "          document.querySelector('#df-50459845-8c4a-46f2-9243-795bce04ccd9 button.colab-df-convert');\n",
              "        buttonEl.style.display =\n",
              "          google.colab.kernel.accessAllowed ? 'block' : 'none';\n",
              "\n",
              "        async function convertToInteractive(key) {\n",
              "          const element = document.querySelector('#df-50459845-8c4a-46f2-9243-795bce04ccd9');\n",
              "          const dataTable =\n",
              "            await google.colab.kernel.invokeFunction('convertToInteractive',\n",
              "                                                     [key], {});\n",
              "          if (!dataTable) return;\n",
              "\n",
              "          const docLinkHtml = 'Like what you see? Visit the ' +\n",
              "            '<a target=\"_blank\" href=https://colab.research.google.com/notebooks/data_table.ipynb>data table notebook</a>'\n",
              "            + ' to learn more about interactive tables.';\n",
              "          element.innerHTML = '';\n",
              "          dataTable['output_type'] = 'display_data';\n",
              "          await google.colab.output.renderOutput(dataTable, element);\n",
              "          const docLink = document.createElement('div');\n",
              "          docLink.innerHTML = docLinkHtml;\n",
              "          element.appendChild(docLink);\n",
              "        }\n",
              "      </script>\n",
              "    </div>\n",
              "  </div>\n",
              "  "
            ]
          },
          "metadata": {},
          "execution_count": 63
        }
      ]
    },
    {
      "cell_type": "code",
      "source": [
        "df.isnull().sum()"
      ],
      "metadata": {
        "id": "mw-F-UZD1lFY",
        "colab": {
          "base_uri": "https://localhost:8080/"
        },
        "outputId": "3a826feb-c665-4fd1-bc51-ce08f0cf9cd5"
      },
      "execution_count": null,
      "outputs": [
        {
          "output_type": "execute_result",
          "data": {
            "text/plain": [
              "no_peserta                   0\n",
              "no_kel                       0\n",
              "bobot                        0\n",
              "id_kunj                      0\n",
              "tgl_datang                   0\n",
              "tgl_pulang                   0\n",
              "prov                         0\n",
              "kab                          0\n",
              "kepemilikan                  0\n",
              "jenis                        0\n",
              "tipe                         0\n",
              "tingkat_pelayanan            0\n",
              "jenis_poli                   1\n",
              "segmen_peserta               0\n",
              "kode_ICD                     0\n",
              "kode_ICD3              1380240\n",
              "kode_ICD4                    0\n",
              "ICD4_diagnosis               0\n",
              "prov_rujukan                 0\n",
              "kab_rujukan                  0\n",
              "kepemilikan_rujukan          0\n",
              "jenis_rujukan                0\n",
              "tipe_rujukan                 0\n",
              "poli_rujukan                 0\n",
              "jenis_kunjungan              0\n",
              "status_pulang                0\n",
              "dtype: int64"
            ]
          },
          "metadata": {},
          "execution_count": 7
        }
      ]
    },
    {
      "cell_type": "code",
      "source": [
        "df.head()"
      ],
      "metadata": {
        "colab": {
          "base_uri": "https://localhost:8080/",
          "height": 315
        },
        "id": "muRPIVrK7DKA",
        "outputId": "07eb52bd-740a-4952-ab22-3172f94a7286"
      },
      "execution_count": null,
      "outputs": [
        {
          "output_type": "execute_result",
          "data": {
            "text/plain": [
              "    no_peserta     no_kel       bobot           id_kunj  tgl_datang  \\\n",
              "0   95085112.0   26931775    2.626307  449590620P000054  2020-06-17   \n",
              "1  224470578.0  227368233    1.051830  467490619P000001  2019-06-01   \n",
              "2   63871289.0   62313678  364.741455  254321219Y002368  2019-12-21   \n",
              "3   29915626.0  113446188    1.050523   88681119P000020  2019-11-04   \n",
              "4  189355720.0   69855169   30.044949   97010720P000238  2020-07-15   \n",
              "\n",
              "   tgl_pulang  prov   kab  kepemilikan  jenis  ...  kode_ICD4  \\\n",
              "0  2020-06-17    51  5171            9      3  ...       K297   \n",
              "1  2019-06-01    35  3516            9      2  ...       Z309   \n",
              "2  2019-12-21    34  3402            3      1  ...        I10   \n",
              "3  2019-11-04    35  3509            3      1  ...       I110   \n",
              "4  2020-07-15    62  6206            3      1  ...        I10   \n",
              "\n",
              "                                      ICD4_diagnosis  prov_rujukan  \\\n",
              "0                             Gastritis, unspecified            98   \n",
              "1              Contraceptive management, unspecified            98   \n",
              "2                   Essential (primary) hypertension            98   \n",
              "3  Hypertensive heart disease with (congestive) h...            98   \n",
              "4                   Essential (primary) hypertension            98   \n",
              "\n",
              "   kab_rujukan  kepemilikan_rujukan jenis_rujukan tipe_rujukan poli_rujukan  \\\n",
              "0         9998                   98            98           98           98   \n",
              "1         9998                   98            98           98           98   \n",
              "2         9998                   98            98           98           98   \n",
              "3         9998                   98            98           98           98   \n",
              "4         9998                   98            98           98           98   \n",
              "\n",
              "   jenis_kunjungan  status_pulang  \n",
              "0                1    Belum_Sehat  \n",
              "1                1    Belum_Sehat  \n",
              "2                1    Belum_Sehat  \n",
              "3                1    Belum_Sehat  \n",
              "4                1    Belum_Sehat  \n",
              "\n",
              "[5 rows x 26 columns]"
            ],
            "text/html": [
              "\n",
              "  <div id=\"df-81f05494-e6b2-4968-9db1-01be83935c67\">\n",
              "    <div class=\"colab-df-container\">\n",
              "      <div>\n",
              "<style scoped>\n",
              "    .dataframe tbody tr th:only-of-type {\n",
              "        vertical-align: middle;\n",
              "    }\n",
              "\n",
              "    .dataframe tbody tr th {\n",
              "        vertical-align: top;\n",
              "    }\n",
              "\n",
              "    .dataframe thead th {\n",
              "        text-align: right;\n",
              "    }\n",
              "</style>\n",
              "<table border=\"1\" class=\"dataframe\">\n",
              "  <thead>\n",
              "    <tr style=\"text-align: right;\">\n",
              "      <th></th>\n",
              "      <th>no_peserta</th>\n",
              "      <th>no_kel</th>\n",
              "      <th>bobot</th>\n",
              "      <th>id_kunj</th>\n",
              "      <th>tgl_datang</th>\n",
              "      <th>tgl_pulang</th>\n",
              "      <th>prov</th>\n",
              "      <th>kab</th>\n",
              "      <th>kepemilikan</th>\n",
              "      <th>jenis</th>\n",
              "      <th>...</th>\n",
              "      <th>kode_ICD4</th>\n",
              "      <th>ICD4_diagnosis</th>\n",
              "      <th>prov_rujukan</th>\n",
              "      <th>kab_rujukan</th>\n",
              "      <th>kepemilikan_rujukan</th>\n",
              "      <th>jenis_rujukan</th>\n",
              "      <th>tipe_rujukan</th>\n",
              "      <th>poli_rujukan</th>\n",
              "      <th>jenis_kunjungan</th>\n",
              "      <th>status_pulang</th>\n",
              "    </tr>\n",
              "  </thead>\n",
              "  <tbody>\n",
              "    <tr>\n",
              "      <th>0</th>\n",
              "      <td>95085112.0</td>\n",
              "      <td>26931775</td>\n",
              "      <td>2.626307</td>\n",
              "      <td>449590620P000054</td>\n",
              "      <td>2020-06-17</td>\n",
              "      <td>2020-06-17</td>\n",
              "      <td>51</td>\n",
              "      <td>5171</td>\n",
              "      <td>9</td>\n",
              "      <td>3</td>\n",
              "      <td>...</td>\n",
              "      <td>K297</td>\n",
              "      <td>Gastritis, unspecified</td>\n",
              "      <td>98</td>\n",
              "      <td>9998</td>\n",
              "      <td>98</td>\n",
              "      <td>98</td>\n",
              "      <td>98</td>\n",
              "      <td>98</td>\n",
              "      <td>1</td>\n",
              "      <td>Belum_Sehat</td>\n",
              "    </tr>\n",
              "    <tr>\n",
              "      <th>1</th>\n",
              "      <td>224470578.0</td>\n",
              "      <td>227368233</td>\n",
              "      <td>1.051830</td>\n",
              "      <td>467490619P000001</td>\n",
              "      <td>2019-06-01</td>\n",
              "      <td>2019-06-01</td>\n",
              "      <td>35</td>\n",
              "      <td>3516</td>\n",
              "      <td>9</td>\n",
              "      <td>2</td>\n",
              "      <td>...</td>\n",
              "      <td>Z309</td>\n",
              "      <td>Contraceptive management, unspecified</td>\n",
              "      <td>98</td>\n",
              "      <td>9998</td>\n",
              "      <td>98</td>\n",
              "      <td>98</td>\n",
              "      <td>98</td>\n",
              "      <td>98</td>\n",
              "      <td>1</td>\n",
              "      <td>Belum_Sehat</td>\n",
              "    </tr>\n",
              "    <tr>\n",
              "      <th>2</th>\n",
              "      <td>63871289.0</td>\n",
              "      <td>62313678</td>\n",
              "      <td>364.741455</td>\n",
              "      <td>254321219Y002368</td>\n",
              "      <td>2019-12-21</td>\n",
              "      <td>2019-12-21</td>\n",
              "      <td>34</td>\n",
              "      <td>3402</td>\n",
              "      <td>3</td>\n",
              "      <td>1</td>\n",
              "      <td>...</td>\n",
              "      <td>I10</td>\n",
              "      <td>Essential (primary) hypertension</td>\n",
              "      <td>98</td>\n",
              "      <td>9998</td>\n",
              "      <td>98</td>\n",
              "      <td>98</td>\n",
              "      <td>98</td>\n",
              "      <td>98</td>\n",
              "      <td>1</td>\n",
              "      <td>Belum_Sehat</td>\n",
              "    </tr>\n",
              "    <tr>\n",
              "      <th>3</th>\n",
              "      <td>29915626.0</td>\n",
              "      <td>113446188</td>\n",
              "      <td>1.050523</td>\n",
              "      <td>88681119P000020</td>\n",
              "      <td>2019-11-04</td>\n",
              "      <td>2019-11-04</td>\n",
              "      <td>35</td>\n",
              "      <td>3509</td>\n",
              "      <td>3</td>\n",
              "      <td>1</td>\n",
              "      <td>...</td>\n",
              "      <td>I110</td>\n",
              "      <td>Hypertensive heart disease with (congestive) h...</td>\n",
              "      <td>98</td>\n",
              "      <td>9998</td>\n",
              "      <td>98</td>\n",
              "      <td>98</td>\n",
              "      <td>98</td>\n",
              "      <td>98</td>\n",
              "      <td>1</td>\n",
              "      <td>Belum_Sehat</td>\n",
              "    </tr>\n",
              "    <tr>\n",
              "      <th>4</th>\n",
              "      <td>189355720.0</td>\n",
              "      <td>69855169</td>\n",
              "      <td>30.044949</td>\n",
              "      <td>97010720P000238</td>\n",
              "      <td>2020-07-15</td>\n",
              "      <td>2020-07-15</td>\n",
              "      <td>62</td>\n",
              "      <td>6206</td>\n",
              "      <td>3</td>\n",
              "      <td>1</td>\n",
              "      <td>...</td>\n",
              "      <td>I10</td>\n",
              "      <td>Essential (primary) hypertension</td>\n",
              "      <td>98</td>\n",
              "      <td>9998</td>\n",
              "      <td>98</td>\n",
              "      <td>98</td>\n",
              "      <td>98</td>\n",
              "      <td>98</td>\n",
              "      <td>1</td>\n",
              "      <td>Belum_Sehat</td>\n",
              "    </tr>\n",
              "  </tbody>\n",
              "</table>\n",
              "<p>5 rows × 26 columns</p>\n",
              "</div>\n",
              "      <button class=\"colab-df-convert\" onclick=\"convertToInteractive('df-81f05494-e6b2-4968-9db1-01be83935c67')\"\n",
              "              title=\"Convert this dataframe to an interactive table.\"\n",
              "              style=\"display:none;\">\n",
              "        \n",
              "  <svg xmlns=\"http://www.w3.org/2000/svg\" height=\"24px\"viewBox=\"0 0 24 24\"\n",
              "       width=\"24px\">\n",
              "    <path d=\"M0 0h24v24H0V0z\" fill=\"none\"/>\n",
              "    <path d=\"M18.56 5.44l.94 2.06.94-2.06 2.06-.94-2.06-.94-.94-2.06-.94 2.06-2.06.94zm-11 1L8.5 8.5l.94-2.06 2.06-.94-2.06-.94L8.5 2.5l-.94 2.06-2.06.94zm10 10l.94 2.06.94-2.06 2.06-.94-2.06-.94-.94-2.06-.94 2.06-2.06.94z\"/><path d=\"M17.41 7.96l-1.37-1.37c-.4-.4-.92-.59-1.43-.59-.52 0-1.04.2-1.43.59L10.3 9.45l-7.72 7.72c-.78.78-.78 2.05 0 2.83L4 21.41c.39.39.9.59 1.41.59.51 0 1.02-.2 1.41-.59l7.78-7.78 2.81-2.81c.8-.78.8-2.07 0-2.86zM5.41 20L4 18.59l7.72-7.72 1.47 1.35L5.41 20z\"/>\n",
              "  </svg>\n",
              "      </button>\n",
              "      \n",
              "  <style>\n",
              "    .colab-df-container {\n",
              "      display:flex;\n",
              "      flex-wrap:wrap;\n",
              "      gap: 12px;\n",
              "    }\n",
              "\n",
              "    .colab-df-convert {\n",
              "      background-color: #E8F0FE;\n",
              "      border: none;\n",
              "      border-radius: 50%;\n",
              "      cursor: pointer;\n",
              "      display: none;\n",
              "      fill: #1967D2;\n",
              "      height: 32px;\n",
              "      padding: 0 0 0 0;\n",
              "      width: 32px;\n",
              "    }\n",
              "\n",
              "    .colab-df-convert:hover {\n",
              "      background-color: #E2EBFA;\n",
              "      box-shadow: 0px 1px 2px rgba(60, 64, 67, 0.3), 0px 1px 3px 1px rgba(60, 64, 67, 0.15);\n",
              "      fill: #174EA6;\n",
              "    }\n",
              "\n",
              "    [theme=dark] .colab-df-convert {\n",
              "      background-color: #3B4455;\n",
              "      fill: #D2E3FC;\n",
              "    }\n",
              "\n",
              "    [theme=dark] .colab-df-convert:hover {\n",
              "      background-color: #434B5C;\n",
              "      box-shadow: 0px 1px 3px 1px rgba(0, 0, 0, 0.15);\n",
              "      filter: drop-shadow(0px 1px 2px rgba(0, 0, 0, 0.3));\n",
              "      fill: #FFFFFF;\n",
              "    }\n",
              "  </style>\n",
              "\n",
              "      <script>\n",
              "        const buttonEl =\n",
              "          document.querySelector('#df-81f05494-e6b2-4968-9db1-01be83935c67 button.colab-df-convert');\n",
              "        buttonEl.style.display =\n",
              "          google.colab.kernel.accessAllowed ? 'block' : 'none';\n",
              "\n",
              "        async function convertToInteractive(key) {\n",
              "          const element = document.querySelector('#df-81f05494-e6b2-4968-9db1-01be83935c67');\n",
              "          const dataTable =\n",
              "            await google.colab.kernel.invokeFunction('convertToInteractive',\n",
              "                                                     [key], {});\n",
              "          if (!dataTable) return;\n",
              "\n",
              "          const docLinkHtml = 'Like what you see? Visit the ' +\n",
              "            '<a target=\"_blank\" href=https://colab.research.google.com/notebooks/data_table.ipynb>data table notebook</a>'\n",
              "            + ' to learn more about interactive tables.';\n",
              "          element.innerHTML = '';\n",
              "          dataTable['output_type'] = 'display_data';\n",
              "          await google.colab.output.renderOutput(dataTable, element);\n",
              "          const docLink = document.createElement('div');\n",
              "          docLink.innerHTML = docLinkHtml;\n",
              "          element.appendChild(docLink);\n",
              "        }\n",
              "      </script>\n",
              "    </div>\n",
              "  </div>\n",
              "  "
            ]
          },
          "metadata": {},
          "execution_count": 5
        }
      ]
    },
    {
      "cell_type": "code",
      "source": [
        "df.info()"
      ],
      "metadata": {
        "colab": {
          "base_uri": "https://localhost:8080/"
        },
        "id": "YjfoPNSTv37p",
        "outputId": "49ad7573-4b79-4d29-925f-f6e7605ed624"
      },
      "execution_count": null,
      "outputs": [
        {
          "output_type": "stream",
          "name": "stdout",
          "text": [
            "<class 'pandas.core.frame.DataFrame'>\n",
            "RangeIndex: 4056897 entries, 0 to 4056896\n",
            "Data columns (total 26 columns):\n",
            " #   Column               Dtype  \n",
            "---  ------               -----  \n",
            " 0   no_peserta           float64\n",
            " 1   no_kel               int64  \n",
            " 2   bobot                float64\n",
            " 3   id_kunj              object \n",
            " 4   tgl_datang           object \n",
            " 5   tgl_pulang           object \n",
            " 6   prov                 int64  \n",
            " 7   kab                  int64  \n",
            " 8   kepemilikan          int64  \n",
            " 9   jenis                int64  \n",
            " 10  tipe                 int64  \n",
            " 11  tingkat_pelayanan    int64  \n",
            " 12  jenis_poli           float64\n",
            " 13  segmen_peserta       int64  \n",
            " 14  kode_ICD             int64  \n",
            " 15  kode_ICD3            object \n",
            " 16  kode_ICD4            object \n",
            " 17  ICD4_diagnosis       object \n",
            " 18  prov_rujukan         int64  \n",
            " 19  kab_rujukan          int64  \n",
            " 20  kepemilikan_rujukan  int64  \n",
            " 21  jenis_rujukan        int64  \n",
            " 22  tipe_rujukan         int64  \n",
            " 23  poli_rujukan         int64  \n",
            " 24  jenis_kunjungan      int64  \n",
            " 25  status_pulang        object \n",
            "dtypes: float64(3), int64(16), object(7)\n",
            "memory usage: 804.7+ MB\n"
          ]
        }
      ]
    },
    {
      "cell_type": "markdown",
      "source": [
        "#Cleaning\n",
        "\n",
        "\n",
        "\n"
      ],
      "metadata": {
        "id": "OSZGr00DqQk5"
      }
    },
    {
      "cell_type": "markdown",
      "source": [
        "Change datetime to pandas format"
      ],
      "metadata": {
        "id": "7lUyyLKZefr8"
      }
    },
    {
      "cell_type": "code",
      "source": [
        "df['tgl_datang'] = pd.to_datetime(df['tgl_datang'], format=\"%Y-%m-%d\")"
      ],
      "metadata": {
        "id": "nOsSS-BTzsd7"
      },
      "execution_count": null,
      "outputs": []
    },
    {
      "cell_type": "code",
      "source": [
        "df['tgl_pulang'] = pd.to_datetime(df['tgl_pulang'], format=\"%Y-%m-%d\")"
      ],
      "metadata": {
        "id": "P-OsACxs0A9a"
      },
      "execution_count": null,
      "outputs": []
    },
    {
      "cell_type": "markdown",
      "source": [
        "Check Imbalance"
      ],
      "metadata": {
        "id": "384IwXr_elIr"
      }
    },
    {
      "cell_type": "code",
      "source": [
        "df.groupby('status_pulang').count()"
      ],
      "metadata": {
        "id": "s2wSRY_K2dr8"
      },
      "execution_count": null,
      "outputs": []
    },
    {
      "cell_type": "markdown",
      "source": [
        "check pattern of some columns"
      ],
      "metadata": {
        "id": "5nWa91mLUV1Q"
      }
    },
    {
      "cell_type": "code",
      "source": [
        "#checking uniqueness and pattern of no keluarga\n",
        "ax = []\n",
        "for i in df['no_kel']:\n",
        "  # if len(str(i)) >= 2 and len(str(i)) <= 7:\n",
        "    # print(i)\n",
        "  ax.append(len(str(i)))\n",
        "print(min(ax), max(ax))"
      ],
      "metadata": {
        "id": "xuuTh2upf27C",
        "colab": {
          "base_uri": "https://localhost:8080/"
        },
        "outputId": "392a482b-f254-49a6-afb8-24801b466316"
      },
      "execution_count": null,
      "outputs": [
        {
          "output_type": "stream",
          "name": "stdout",
          "text": [
            "2 9\n"
          ]
        }
      ]
    },
    {
      "cell_type": "code",
      "source": [
        "# check uniqueness and pattern of id kunjungan\n",
        "ax = []\n",
        "for i in df['id_kunj']:\n",
        "  ax.append(len(str(i)))\n",
        "print(min(ax), max(ax))"
      ],
      "metadata": {
        "colab": {
          "base_uri": "https://localhost:8080/"
        },
        "id": "6ZrhwvxrbPv2",
        "outputId": "ff1a6763-0ef6-4c6a-fc1e-9cf8acf01238"
      },
      "execution_count": null,
      "outputs": [
        {
          "output_type": "stream",
          "name": "stdout",
          "text": [
            "9 16\n"
          ]
        }
      ]
    },
    {
      "cell_type": "code",
      "source": [
        "# print(df['kode_ICD4'].unique())\n",
        "ax = []\n",
        "for i in df['kode_ICD4']:\n",
        "  ax.append(len(str(i)))\n",
        "print(min(ax), max(ax))"
      ],
      "metadata": {
        "colab": {
          "base_uri": "https://localhost:8080/"
        },
        "id": "U3C2eI2exiky",
        "outputId": "0a062be0-b3ff-4871-d164-3acc16400c42"
      },
      "execution_count": null,
      "outputs": [
        {
          "output_type": "stream",
          "name": "stdout",
          "text": [
            "3 5\n"
          ]
        }
      ]
    },
    {
      "cell_type": "code",
      "source": [
        "len(df['no_kel']) - len(df['no_kel'].unique())"
      ],
      "metadata": {
        "colab": {
          "base_uri": "https://localhost:8080/"
        },
        "id": "rt7gtRlUxNda",
        "outputId": "13b25dda-8226-42ad-94d7-464e9cd53634"
      },
      "execution_count": null,
      "outputs": [
        {
          "output_type": "execute_result",
          "data": {
            "text/plain": [
              "3618617"
            ]
          },
          "metadata": {},
          "execution_count": 31
        }
      ]
    },
    {
      "cell_type": "code",
      "source": [
        "for a in header:\n",
        "  print(a)\n",
        "  print(df[a].unique())\n",
        "  print(len(df[a].unique()))\n",
        "  print(len(df[a]) - len(df[a].unique()))"
      ],
      "metadata": {
        "colab": {
          "base_uri": "https://localhost:8080/"
        },
        "id": "m82YMuBea1Fj",
        "outputId": "2b057eb2-48e2-4582-f316-1365fc0f70d8"
      },
      "execution_count": null,
      "outputs": [
        {
          "output_type": "stream",
          "name": "stdout",
          "text": [
            "no_peserta\n",
            "[9.50851120e+07 2.24470578e+08 6.38712890e+07 ... 8.96015200e+07\n",
            " 1.44029606e+08 2.47667570e+07]\n",
            "832023\n",
            "3224874\n",
            "no_kel\n",
            "[ 26931775 227368233  62313678 ... 336355362 144029606  44813505]\n",
            "438280\n",
            "3618617\n",
            "bobot\n",
            "[  2.62630701   1.05183005 364.74145508 ... 343.9397583  667.41711426\n",
            " 132.90498352]\n",
            "50390\n",
            "4006507\n",
            "id_kunj\n",
            "['449590620P000054' '467490619P000001' '254321219Y002368' ... '962412926'\n",
            " '273170420P000003' '1188955927']\n",
            "4056897\n",
            "0\n",
            "tgl_datang\n",
            "['2020-06-17T00:00:00.000000000' '2019-06-01T00:00:00.000000000'\n",
            " '2019-12-21T00:00:00.000000000' '2019-11-04T00:00:00.000000000'\n",
            " '2020-07-15T00:00:00.000000000' '2019-07-17T00:00:00.000000000'\n",
            " '2019-11-07T00:00:00.000000000' '2019-06-13T00:00:00.000000000'\n",
            " '2020-07-10T00:00:00.000000000' '2019-05-04T00:00:00.000000000'\n",
            " '2019-01-08T00:00:00.000000000' '2020-03-17T00:00:00.000000000'\n",
            " '2019-10-05T00:00:00.000000000' '2019-03-13T00:00:00.000000000'\n",
            " '2019-12-24T00:00:00.000000000' '2019-12-01T00:00:00.000000000'\n",
            " '2019-09-02T00:00:00.000000000' '2020-09-15T00:00:00.000000000'\n",
            " '2019-03-25T00:00:00.000000000' '2019-10-31T00:00:00.000000000'\n",
            " '2020-06-25T00:00:00.000000000' '2019-12-02T00:00:00.000000000'\n",
            " '2020-02-26T00:00:00.000000000' '2019-08-13T00:00:00.000000000'\n",
            " '2020-03-13T00:00:00.000000000' '2019-11-21T00:00:00.000000000'\n",
            " '2020-03-11T00:00:00.000000000' '2019-10-15T00:00:00.000000000'\n",
            " '2020-03-14T00:00:00.000000000' '2020-11-05T00:00:00.000000000'\n",
            " '2019-07-06T00:00:00.000000000' '2019-07-01T00:00:00.000000000'\n",
            " '2019-09-17T00:00:00.000000000' '2019-11-15T00:00:00.000000000'\n",
            " '2019-08-05T00:00:00.000000000' '2019-01-31T00:00:00.000000000'\n",
            " '2019-12-30T00:00:00.000000000' '2019-03-28T00:00:00.000000000'\n",
            " '2020-01-22T00:00:00.000000000' '2020-11-12T00:00:00.000000000'\n",
            " '2019-05-23T00:00:00.000000000' '2019-07-11T00:00:00.000000000'\n",
            " '2019-03-21T00:00:00.000000000' '2020-04-17T00:00:00.000000000'\n",
            " '2020-12-08T00:00:00.000000000' '2019-10-18T00:00:00.000000000'\n",
            " '2020-09-21T00:00:00.000000000' '2020-01-20T00:00:00.000000000'\n",
            " '2019-12-20T00:00:00.000000000' '2019-03-31T00:00:00.000000000'\n",
            " '2020-10-22T00:00:00.000000000' '2019-08-19T00:00:00.000000000'\n",
            " '2020-09-28T00:00:00.000000000' '2019-08-03T00:00:00.000000000'\n",
            " '2020-04-06T00:00:00.000000000' '2020-10-21T00:00:00.000000000'\n",
            " '2020-12-17T00:00:00.000000000' '2019-05-02T00:00:00.000000000'\n",
            " '2019-07-08T00:00:00.000000000' '2019-10-17T00:00:00.000000000'\n",
            " '2019-11-19T00:00:00.000000000' '2019-07-23T00:00:00.000000000'\n",
            " '2020-12-09T00:00:00.000000000' '2019-01-15T00:00:00.000000000'\n",
            " '2019-12-16T00:00:00.000000000' '2019-10-07T00:00:00.000000000'\n",
            " '2020-04-03T00:00:00.000000000' '2020-07-06T00:00:00.000000000'\n",
            " '2020-08-10T00:00:00.000000000' '2020-12-14T00:00:00.000000000'\n",
            " '2020-07-20T00:00:00.000000000' '2019-10-10T00:00:00.000000000'\n",
            " '2019-05-03T00:00:00.000000000' '2019-02-26T00:00:00.000000000'\n",
            " '2019-09-16T00:00:00.000000000' '2019-01-23T00:00:00.000000000'\n",
            " '2019-08-02T00:00:00.000000000' '2019-07-03T00:00:00.000000000'\n",
            " '2020-10-15T00:00:00.000000000' '2020-01-06T00:00:00.000000000'\n",
            " '2019-01-09T00:00:00.000000000' '2019-09-23T00:00:00.000000000'\n",
            " '2020-02-22T00:00:00.000000000' '2020-02-05T00:00:00.000000000'\n",
            " '2019-10-14T00:00:00.000000000' '2019-11-18T00:00:00.000000000'\n",
            " '2019-02-28T00:00:00.000000000' '2020-11-02T00:00:00.000000000'\n",
            " '2019-09-20T00:00:00.000000000' '2019-10-01T00:00:00.000000000'\n",
            " '2019-02-12T00:00:00.000000000' '2019-07-09T00:00:00.000000000'\n",
            " '2019-06-22T00:00:00.000000000' '2019-10-28T00:00:00.000000000'\n",
            " '2020-06-24T00:00:00.000000000' '2019-03-02T00:00:00.000000000'\n",
            " '2020-03-31T00:00:00.000000000' '2019-08-24T00:00:00.000000000'\n",
            " '2020-11-26T00:00:00.000000000' '2020-12-30T00:00:00.000000000'\n",
            " '2019-09-26T00:00:00.000000000' '2020-03-28T00:00:00.000000000'\n",
            " '2020-08-15T00:00:00.000000000' '2019-11-30T00:00:00.000000000'\n",
            " '2020-01-31T00:00:00.000000000' '2019-09-12T00:00:00.000000000'\n",
            " '2020-10-14T00:00:00.000000000' '2019-07-20T00:00:00.000000000'\n",
            " '2020-02-11T00:00:00.000000000' '2020-03-12T00:00:00.000000000'\n",
            " '2020-08-05T00:00:00.000000000' '2019-02-06T00:00:00.000000000'\n",
            " '2019-01-24T00:00:00.000000000' '2020-06-13T00:00:00.000000000'\n",
            " '2020-10-09T00:00:00.000000000' '2019-01-05T00:00:00.000000000'\n",
            " '2020-05-31T00:00:00.000000000' '2019-04-30T00:00:00.000000000'\n",
            " '2020-07-29T00:00:00.000000000' '2019-06-26T00:00:00.000000000'\n",
            " '2020-10-03T00:00:00.000000000' '2020-11-27T00:00:00.000000000'\n",
            " '2020-09-18T00:00:00.000000000' '2019-08-15T00:00:00.000000000'\n",
            " '2020-03-19T00:00:00.000000000' '2020-01-12T00:00:00.000000000'\n",
            " '2020-09-30T00:00:00.000000000' '2019-01-10T00:00:00.000000000'\n",
            " '2020-02-25T00:00:00.000000000' '2020-03-23T00:00:00.000000000'\n",
            " '2020-02-24T00:00:00.000000000' '2020-08-07T00:00:00.000000000'\n",
            " '2019-09-05T00:00:00.000000000' '2020-07-22T00:00:00.000000000'\n",
            " '2020-05-04T00:00:00.000000000' '2020-02-04T00:00:00.000000000'\n",
            " '2019-01-20T00:00:00.000000000' '2020-02-08T00:00:00.000000000'\n",
            " '2020-05-27T00:00:00.000000000' '2020-12-28T00:00:00.000000000'\n",
            " '2019-03-14T00:00:00.000000000' '2020-03-10T00:00:00.000000000'\n",
            " '2020-06-30T00:00:00.000000000' '2019-08-07T00:00:00.000000000'\n",
            " '2019-01-14T00:00:00.000000000' '2019-02-16T00:00:00.000000000'\n",
            " '2020-06-22T00:00:00.000000000' '2019-02-23T00:00:00.000000000'\n",
            " '2019-03-08T00:00:00.000000000' '2019-03-15T00:00:00.000000000'\n",
            " '2020-08-18T00:00:00.000000000' '2020-01-07T00:00:00.000000000'\n",
            " '2019-05-01T00:00:00.000000000' '2019-08-26T00:00:00.000000000'\n",
            " '2020-04-07T00:00:00.000000000' '2019-07-10T00:00:00.000000000'\n",
            " '2019-10-25T00:00:00.000000000' '2019-12-03T00:00:00.000000000'\n",
            " '2020-05-02T00:00:00.000000000' '2020-09-23T00:00:00.000000000'\n",
            " '2019-06-25T00:00:00.000000000' '2020-08-04T00:00:00.000000000'\n",
            " '2019-05-16T00:00:00.000000000' '2020-11-14T00:00:00.000000000'\n",
            " '2019-10-23T00:00:00.000000000' '2019-11-28T00:00:00.000000000'\n",
            " '2019-11-05T00:00:00.000000000' '2019-02-02T00:00:00.000000000'\n",
            " '2019-05-08T00:00:00.000000000' '2019-01-11T00:00:00.000000000'\n",
            " '2020-11-17T00:00:00.000000000' '2019-02-18T00:00:00.000000000'\n",
            " '2019-01-25T00:00:00.000000000' '2020-05-06T00:00:00.000000000'\n",
            " '2020-09-25T00:00:00.000000000' '2020-02-10T00:00:00.000000000'\n",
            " '2019-07-15T00:00:00.000000000' '2020-04-29T00:00:00.000000000'\n",
            " '2019-02-15T00:00:00.000000000' '2020-07-08T00:00:00.000000000'\n",
            " '2020-04-28T00:00:00.000000000' '2020-11-20T00:00:00.000000000'\n",
            " '2019-11-16T00:00:00.000000000' '2019-06-21T00:00:00.000000000'\n",
            " '2019-12-10T00:00:00.000000000' '2019-09-13T00:00:00.000000000'\n",
            " '2019-08-20T00:00:00.000000000' '2020-01-24T00:00:00.000000000'\n",
            " '2019-03-30T00:00:00.000000000' '2019-10-04T00:00:00.000000000'\n",
            " '2020-01-30T00:00:00.000000000' '2019-02-19T00:00:00.000000000'\n",
            " '2019-03-23T00:00:00.000000000' '2019-03-18T00:00:00.000000000'\n",
            " '2020-01-09T00:00:00.000000000' '2020-01-17T00:00:00.000000000'\n",
            " '2020-08-11T00:00:00.000000000' '2019-08-04T00:00:00.000000000'\n",
            " '2020-03-04T00:00:00.000000000' '2019-05-09T00:00:00.000000000'\n",
            " '2019-01-19T00:00:00.000000000' '2020-06-05T00:00:00.000000000'\n",
            " '2020-11-23T00:00:00.000000000' '2020-10-24T00:00:00.000000000'\n",
            " '2020-11-16T00:00:00.000000000' '2019-08-30T00:00:00.000000000'\n",
            " '2020-12-01T00:00:00.000000000' '2019-08-27T00:00:00.000000000'\n",
            " '2020-09-19T00:00:00.000000000' '2019-09-10T00:00:00.000000000'\n",
            " '2020-06-23T00:00:00.000000000' '2019-11-23T00:00:00.000000000'\n",
            " '2019-07-16T00:00:00.000000000' '2020-10-16T00:00:00.000000000'\n",
            " '2020-02-14T00:00:00.000000000' '2020-02-03T00:00:00.000000000'\n",
            " '2019-04-25T00:00:00.000000000' '2019-07-13T00:00:00.000000000'\n",
            " '2020-08-24T00:00:00.000000000' '2020-08-31T00:00:00.000000000'\n",
            " '2020-11-30T00:00:00.000000000' '2019-09-14T00:00:00.000000000'\n",
            " '2020-12-21T00:00:00.000000000' '2020-01-28T00:00:00.000000000'\n",
            " '2019-04-13T00:00:00.000000000' '2019-05-06T00:00:00.000000000'\n",
            " '2020-05-23T00:00:00.000000000' '2020-11-28T00:00:00.000000000'\n",
            " '2020-09-12T00:00:00.000000000' '2019-06-08T00:00:00.000000000'\n",
            " '2020-01-27T00:00:00.000000000' '2020-03-09T00:00:00.000000000'\n",
            " '2020-05-20T00:00:00.000000000' '2019-06-12T00:00:00.000000000'\n",
            " '2020-03-27T00:00:00.000000000' '2019-10-08T00:00:00.000000000'\n",
            " '2020-06-20T00:00:00.000000000' '2019-10-03T00:00:00.000000000'\n",
            " '2020-12-10T00:00:00.000000000' '2020-03-25T00:00:00.000000000'\n",
            " '2019-07-31T00:00:00.000000000' '2019-04-10T00:00:00.000000000'\n",
            " '2020-10-30T00:00:00.000000000' '2019-02-25T00:00:00.000000000'\n",
            " '2020-08-06T00:00:00.000000000' '2020-01-16T00:00:00.000000000'\n",
            " '2019-08-31T00:00:00.000000000' '2020-12-16T00:00:00.000000000'\n",
            " '2019-10-30T00:00:00.000000000' '2019-02-01T00:00:00.000000000'\n",
            " '2019-03-04T00:00:00.000000000' '2019-07-25T00:00:00.000000000'\n",
            " '2019-07-30T00:00:00.000000000' '2019-09-28T00:00:00.000000000'\n",
            " '2019-03-12T00:00:00.000000000' '2019-09-09T00:00:00.000000000'\n",
            " '2019-05-20T00:00:00.000000000' '2020-03-21T00:00:00.000000000'\n",
            " '2019-11-26T00:00:00.000000000' '2019-06-03T00:00:00.000000000'\n",
            " '2020-04-21T00:00:00.000000000' '2019-01-17T00:00:00.000000000'\n",
            " '2020-07-02T00:00:00.000000000' '2020-02-12T00:00:00.000000000'\n",
            " '2019-01-03T00:00:00.000000000' '2019-06-27T00:00:00.000000000'\n",
            " '2019-01-02T00:00:00.000000000' '2019-11-22T00:00:00.000000000'\n",
            " '2020-10-08T00:00:00.000000000' '2019-04-16T00:00:00.000000000'\n",
            " '2020-08-12T00:00:00.000000000' '2019-06-19T00:00:00.000000000'\n",
            " '2020-11-11T00:00:00.000000000' '2019-10-29T00:00:00.000000000'\n",
            " '2019-05-15T00:00:00.000000000' '2019-02-11T00:00:00.000000000'\n",
            " '2020-03-02T00:00:00.000000000' '2019-03-20T00:00:00.000000000'\n",
            " '2019-01-07T00:00:00.000000000' '2020-06-09T00:00:00.000000000'\n",
            " '2019-06-20T00:00:00.000000000' '2019-07-14T00:00:00.000000000'\n",
            " '2020-12-04T00:00:00.000000000' '2019-04-01T00:00:00.000000000'\n",
            " '2020-03-05T00:00:00.000000000' '2019-02-21T00:00:00.000000000'\n",
            " '2019-08-12T00:00:00.000000000' '2019-07-02T00:00:00.000000000'\n",
            " '2019-09-06T00:00:00.000000000' '2020-07-27T00:00:00.000000000'\n",
            " '2020-08-14T00:00:00.000000000' '2020-05-17T00:00:00.000000000'\n",
            " '2020-06-02T00:00:00.000000000' '2019-09-30T00:00:00.000000000'\n",
            " '2020-06-04T00:00:00.000000000' '2020-10-05T00:00:00.000000000'\n",
            " '2019-11-14T00:00:00.000000000' '2019-05-07T00:00:00.000000000'\n",
            " '2019-01-04T00:00:00.000000000' '2020-02-02T00:00:00.000000000'\n",
            " '2020-09-07T00:00:00.000000000' '2019-01-16T00:00:00.000000000'\n",
            " '2020-04-18T00:00:00.000000000' '2019-08-28T00:00:00.000000000'\n",
            " '2019-04-09T00:00:00.000000000' '2020-07-24T00:00:00.000000000'\n",
            " '2019-12-26T00:00:00.000000000' '2020-11-04T00:00:00.000000000'\n",
            " '2020-04-30T00:00:00.000000000' '2020-07-14T00:00:00.000000000'\n",
            " '2019-09-24T00:00:00.000000000' '2019-06-17T00:00:00.000000000'\n",
            " '2020-06-12T00:00:00.000000000' '2020-10-26T00:00:00.000000000'\n",
            " '2020-10-20T00:00:00.000000000' '2019-08-23T00:00:00.000000000'\n",
            " '2019-05-14T00:00:00.000000000' '2019-01-30T00:00:00.000000000'\n",
            " '2019-08-09T00:00:00.000000000' '2019-12-14T00:00:00.000000000'\n",
            " '2020-05-11T00:00:00.000000000' '2020-04-23T00:00:00.000000000'\n",
            " '2019-08-01T00:00:00.000000000' '2019-03-27T00:00:00.000000000'\n",
            " '2020-03-03T00:00:00.000000000' '2019-06-18T00:00:00.000000000'\n",
            " '2019-04-05T00:00:00.000000000' '2020-10-06T00:00:00.000000000'\n",
            " '2019-11-06T00:00:00.000000000' '2020-01-13T00:00:00.000000000'\n",
            " '2020-10-17T00:00:00.000000000' '2020-08-19T00:00:00.000000000'\n",
            " '2019-12-09T00:00:00.000000000' '2019-04-26T00:00:00.000000000'\n",
            " '2019-06-15T00:00:00.000000000' '2020-02-17T00:00:00.000000000'\n",
            " '2020-11-03T00:00:00.000000000' '2019-01-21T00:00:00.000000000'\n",
            " '2019-09-25T00:00:00.000000000' '2020-03-22T00:00:00.000000000'\n",
            " '2019-09-27T00:00:00.000000000' '2020-11-25T00:00:00.000000000'\n",
            " '2020-12-07T00:00:00.000000000' '2020-10-27T00:00:00.000000000'\n",
            " '2020-11-13T00:00:00.000000000' '2019-10-11T00:00:00.000000000'\n",
            " '2019-12-05T00:00:00.000000000' '2019-07-04T00:00:00.000000000'\n",
            " '2020-01-15T00:00:00.000000000' '2019-05-21T00:00:00.000000000'\n",
            " '2019-03-06T00:00:00.000000000' '2020-04-01T00:00:00.000000000'\n",
            " '2020-07-17T00:00:00.000000000' '2020-01-23T00:00:00.000000000'\n",
            " '2020-02-07T00:00:00.000000000' '2020-01-18T00:00:00.000000000'\n",
            " '2019-10-26T00:00:00.000000000' '2019-03-29T00:00:00.000000000'\n",
            " '2019-05-18T00:00:00.000000000' '2020-05-15T00:00:00.000000000'\n",
            " '2020-07-03T00:00:00.000000000' '2020-03-30T00:00:00.000000000'\n",
            " '2020-03-06T00:00:00.000000000' '2019-10-02T00:00:00.000000000'\n",
            " '2019-03-05T00:00:00.000000000' '2019-04-22T00:00:00.000000000'\n",
            " '2020-09-17T00:00:00.000000000' '2019-02-20T00:00:00.000000000'\n",
            " '2020-09-02T00:00:00.000000000' '2020-04-15T00:00:00.000000000'\n",
            " '2019-04-04T00:00:00.000000000' '2020-10-01T00:00:00.000000000'\n",
            " '2019-08-14T00:00:00.000000000' '2020-01-14T00:00:00.000000000'\n",
            " '2020-08-20T00:00:00.000000000' '2019-04-03T00:00:00.000000000'\n",
            " '2020-05-30T00:00:00.000000000' '2020-09-03T00:00:00.000000000'\n",
            " '2020-03-20T00:00:00.000000000' '2019-09-07T00:00:00.000000000'\n",
            " '2020-07-01T00:00:00.000000000' '2019-06-24T00:00:00.000000000'\n",
            " '2019-05-29T00:00:00.000000000' '2019-07-07T00:00:00.000000000'\n",
            " '2020-10-19T00:00:00.000000000' '2020-07-19T00:00:00.000000000'\n",
            " '2020-05-19T00:00:00.000000000' '2019-07-22T00:00:00.000000000'\n",
            " '2020-07-31T00:00:00.000000000' '2020-05-07T00:00:00.000000000'\n",
            " '2019-02-04T00:00:00.000000000' '2020-04-04T00:00:00.000000000'\n",
            " '2019-08-16T00:00:00.000000000' '2020-12-19T00:00:00.000000000'\n",
            " '2019-01-12T00:00:00.000000000' '2020-06-03T00:00:00.000000000'\n",
            " '2019-05-31T00:00:00.000000000' '2019-02-13T00:00:00.000000000'\n",
            " '2020-09-14T00:00:00.000000000' '2019-06-07T00:00:00.000000000'\n",
            " '2019-10-09T00:00:00.000000000' '2019-12-13T00:00:00.000000000'\n",
            " '2020-09-29T00:00:00.000000000' '2020-01-08T00:00:00.000000000'\n",
            " '2020-05-14T00:00:00.000000000' '2019-07-12T00:00:00.000000000'\n",
            " '2020-07-04T00:00:00.000000000' '2020-05-12T00:00:00.000000000'\n",
            " '2020-05-05T00:00:00.000000000' '2020-02-18T00:00:00.000000000'\n",
            " '2019-03-11T00:00:00.000000000' '2019-07-29T00:00:00.000000000'\n",
            " '2019-12-12T00:00:00.000000000' '2019-06-10T00:00:00.000000000'\n",
            " '2019-07-26T00:00:00.000000000' '2020-02-13T00:00:00.000000000'\n",
            " '2019-11-01T00:00:00.000000000' '2019-05-17T00:00:00.000000000'\n",
            " '2020-11-19T00:00:00.000000000' '2019-11-27T00:00:00.000000000'\n",
            " '2019-05-24T00:00:00.000000000' '2019-04-07T00:00:00.000000000'\n",
            " '2020-06-18T00:00:00.000000000' '2020-04-05T00:00:00.000000000'\n",
            " '2020-02-15T00:00:00.000000000' '2019-08-21T00:00:00.000000000'\n",
            " '2019-07-28T00:00:00.000000000' '2020-03-07T00:00:00.000000000'\n",
            " '2019-01-27T00:00:00.000000000' '2020-04-08T00:00:00.000000000'\n",
            " '2020-08-09T00:00:00.000000000' '2019-11-25T00:00:00.000000000'\n",
            " '2020-09-26T00:00:00.000000000' '2020-01-21T00:00:00.000000000'\n",
            " '2019-07-18T00:00:00.000000000' '2020-01-03T00:00:00.000000000'\n",
            " '2020-02-19T00:00:00.000000000' '2020-11-10T00:00:00.000000000'\n",
            " '2019-10-20T00:00:00.000000000' '2019-04-11T00:00:00.000000000'\n",
            " '2020-08-03T00:00:00.000000000' '2019-11-13T00:00:00.000000000'\n",
            " '2020-08-26T00:00:00.000000000' '2019-09-11T00:00:00.000000000'\n",
            " '2019-11-29T00:00:00.000000000' '2019-09-03T00:00:00.000000000'\n",
            " '2019-12-27T00:00:00.000000000' '2019-03-19T00:00:00.000000000'\n",
            " '2019-09-19T00:00:00.000000000' '2020-12-15T00:00:00.000000000'\n",
            " '2019-11-02T00:00:00.000000000' '2020-07-13T00:00:00.000000000'\n",
            " '2020-07-21T00:00:00.000000000' '2020-08-13T00:00:00.000000000'\n",
            " '2020-01-10T00:00:00.000000000' '2020-07-30T00:00:00.000000000'\n",
            " '2020-09-13T00:00:00.000000000' '2020-08-29T00:00:00.000000000'\n",
            " '2019-10-16T00:00:00.000000000' '2020-08-08T00:00:00.000000000'\n",
            " '2020-06-19T00:00:00.000000000' '2020-09-11T00:00:00.000000000'\n",
            " '2020-12-22T00:00:00.000000000' '2019-01-28T00:00:00.000000000'\n",
            " '2020-04-20T00:00:00.000000000' '2020-09-05T00:00:00.000000000'\n",
            " '2020-03-08T00:00:00.000000000' '2019-04-24T00:00:00.000000000'\n",
            " '2019-04-23T00:00:00.000000000' '2020-07-25T00:00:00.000000000'\n",
            " '2019-01-18T00:00:00.000000000' '2019-02-14T00:00:00.000000000'\n",
            " '2020-01-25T00:00:00.000000000' '2020-12-24T00:00:00.000000000'\n",
            " '2020-11-06T00:00:00.000000000' '2020-06-11T00:00:00.000000000'\n",
            " '2019-11-12T00:00:00.000000000' '2020-09-01T00:00:00.000000000'\n",
            " '2019-09-04T00:00:00.000000000' '2019-05-13T00:00:00.000000000'\n",
            " '2020-01-29T00:00:00.000000000' '2019-04-08T00:00:00.000000000'\n",
            " '2020-03-16T00:00:00.000000000' '2020-11-09T00:00:00.000000000'\n",
            " '2019-02-17T00:00:00.000000000' '2019-12-07T00:00:00.000000000'\n",
            " '2020-09-08T00:00:00.000000000' '2020-02-23T00:00:00.000000000'\n",
            " '2020-10-12T00:00:00.000000000' '2020-10-13T00:00:00.000000000'\n",
            " '2020-04-09T00:00:00.000000000' '2019-02-09T00:00:00.000000000'\n",
            " '2019-10-21T00:00:00.000000000' '2019-05-28T00:00:00.000000000'\n",
            " '2019-07-24T00:00:00.000000000' '2019-09-22T00:00:00.000000000'\n",
            " '2019-12-19T00:00:00.000000000' '2020-09-09T00:00:00.000000000'\n",
            " '2020-02-06T00:00:00.000000000' '2020-08-25T00:00:00.000000000'\n",
            " '2019-09-01T00:00:00.000000000' '2019-09-18T00:00:00.000000000'\n",
            " '2020-10-04T00:00:00.000000000' '2020-11-18T00:00:00.000000000'\n",
            " '2019-07-19T00:00:00.000000000' '2020-03-24T00:00:00.000000000'\n",
            " '2019-05-11T00:00:00.000000000' '2019-06-11T00:00:00.000000000'\n",
            " '2019-12-17T00:00:00.000000000' '2019-03-10T00:00:00.000000000'\n",
            " '2020-03-26T00:00:00.000000000' '2020-05-09T00:00:00.000000000'\n",
            " '2020-05-28T00:00:00.000000000' '2020-06-14T00:00:00.000000000'\n",
            " '2020-05-08T00:00:00.000000000' '2020-06-06T00:00:00.000000000'\n",
            " '2019-09-21T00:00:00.000000000' '2020-08-28T00:00:00.000000000'\n",
            " '2020-08-01T00:00:00.000000000' '2020-02-29T00:00:00.000000000'\n",
            " '2020-09-20T00:00:00.000000000' '2020-02-01T00:00:00.000000000'\n",
            " '2020-04-10T00:00:00.000000000' '2020-04-02T00:00:00.000000000'\n",
            " '2019-04-27T00:00:00.000000000' '2019-03-16T00:00:00.000000000'\n",
            " '2019-08-22T00:00:00.000000000' '2019-10-12T00:00:00.000000000'\n",
            " '2020-07-18T00:00:00.000000000' '2019-10-24T00:00:00.000000000'\n",
            " '2019-07-27T00:00:00.000000000' '2019-08-06T00:00:00.000000000'\n",
            " '2020-12-11T00:00:00.000000000' '2019-06-14T00:00:00.000000000'\n",
            " '2019-03-26T00:00:00.000000000' '2020-07-23T00:00:00.000000000'\n",
            " '2020-11-21T00:00:00.000000000' '2020-11-24T00:00:00.000000000'\n",
            " '2019-10-22T00:00:00.000000000' '2019-11-20T00:00:00.000000000'\n",
            " '2019-02-27T00:00:00.000000000' '2019-12-29T00:00:00.000000000'\n",
            " '2019-06-16T00:00:00.000000000' '2020-03-18T00:00:00.000000000'\n",
            " '2020-12-23T00:00:00.000000000' '2019-01-22T00:00:00.000000000'\n",
            " '2019-12-18T00:00:00.000000000' '2019-05-27T00:00:00.000000000'\n",
            " '2020-04-27T00:00:00.000000000' '2019-11-10T00:00:00.000000000'\n",
            " '2019-01-29T00:00:00.000000000' '2019-08-29T00:00:00.000000000'\n",
            " '2020-05-13T00:00:00.000000000' '2020-05-22T00:00:00.000000000'\n",
            " '2019-05-10T00:00:00.000000000' '2020-02-27T00:00:00.000000000'\n",
            " '2020-12-26T00:00:00.000000000' '2019-04-29T00:00:00.000000000'\n",
            " '2019-02-08T00:00:00.000000000' '2020-01-01T00:00:00.000000000'\n",
            " '2019-06-29T00:00:00.000000000' '2019-04-14T00:00:00.000000000'\n",
            " '2019-12-23T00:00:00.000000000' '2020-12-05T00:00:00.000000000'\n",
            " '2020-12-02T00:00:00.000000000' '2020-08-27T00:00:00.000000000'\n",
            " '2020-02-28T00:00:00.000000000' '2019-11-11T00:00:00.000000000'\n",
            " '2020-06-15T00:00:00.000000000' '2019-07-21T00:00:00.000000000'\n",
            " '2020-12-03T00:00:00.000000000' '2019-12-06T00:00:00.000000000'\n",
            " '2019-04-02T00:00:00.000000000' '2020-08-21T00:00:00.000000000'\n",
            " '2020-07-09T00:00:00.000000000' '2020-04-14T00:00:00.000000000'\n",
            " '2019-02-07T00:00:00.000000000' '2020-07-05T00:00:00.000000000'\n",
            " '2019-12-28T00:00:00.000000000' '2020-01-04T00:00:00.000000000'\n",
            " '2019-02-22T00:00:00.000000000' '2020-09-10T00:00:00.000000000'\n",
            " '2020-09-24T00:00:00.000000000' '2019-04-12T00:00:00.000000000'\n",
            " '2020-06-29T00:00:00.000000000' '2020-01-02T00:00:00.000000000'\n",
            " '2019-01-26T00:00:00.000000000' '2019-06-02T00:00:00.000000000'\n",
            " '2020-09-04T00:00:00.000000000' '2019-06-28T00:00:00.000000000'\n",
            " '2020-04-13T00:00:00.000000000' '2019-10-13T00:00:00.000000000'\n",
            " '2019-04-20T00:00:00.000000000' '2020-04-16T00:00:00.000000000'\n",
            " '2020-02-21T00:00:00.000000000' '2020-06-26T00:00:00.000000000'\n",
            " '2019-07-05T00:00:00.000000000' '2020-09-06T00:00:00.000000000'\n",
            " '2020-06-10T00:00:00.000000000' '2019-08-08T00:00:00.000000000'\n",
            " '2019-10-06T00:00:00.000000000' '2020-10-31T00:00:00.000000000'\n",
            " '2019-03-09T00:00:00.000000000' '2020-12-12T00:00:00.000000000'\n",
            " '2019-12-04T00:00:00.000000000' '2019-12-08T00:00:00.000000000'\n",
            " '2020-02-20T00:00:00.000000000' '2020-04-25T00:00:00.000000000'\n",
            " '2020-04-22T00:00:00.000000000' '2019-01-01T00:00:00.000000000'\n",
            " '2020-10-10T00:00:00.000000000' '2019-04-15T00:00:00.000000000'\n",
            " '2020-07-28T00:00:00.000000000' '2020-01-26T00:00:00.000000000'\n",
            " '2020-01-19T00:00:00.000000000' '2020-09-27T00:00:00.000000000'\n",
            " '2019-02-03T00:00:00.000000000' '2019-05-22T00:00:00.000000000'\n",
            " '2020-10-28T00:00:00.000000000' '2020-06-08T00:00:00.000000000'\n",
            " '2020-06-01T00:00:00.000000000' '2020-07-11T00:00:00.000000000'\n",
            " '2019-04-18T00:00:00.000000000' '2019-11-08T00:00:00.000000000'\n",
            " '2019-12-11T00:00:00.000000000' '2019-01-13T00:00:00.000000000'\n",
            " '2020-05-18T00:00:00.000000000' '2019-06-04T00:00:00.000000000'\n",
            " '2019-08-25T00:00:00.000000000' '2020-11-15T00:00:00.000000000'\n",
            " '2019-04-06T00:00:00.000000000' '2020-06-27T00:00:00.000000000'\n",
            " '2019-03-22T00:00:00.000000000' '2020-08-30T00:00:00.000000000'\n",
            " '2019-05-05T00:00:00.000000000' '2020-02-16T00:00:00.000000000'\n",
            " '2019-08-10T00:00:00.000000000' '2019-02-05T00:00:00.000000000'\n",
            " '2020-12-31T00:00:00.000000000' '2020-07-07T00:00:00.000000000'\n",
            " '2019-11-17T00:00:00.000000000' '2019-11-09T00:00:00.000000000'\n",
            " '2020-09-16T00:00:00.000000000' '2020-09-22T00:00:00.000000000'\n",
            " '2020-10-07T00:00:00.000000000' '2019-01-06T00:00:00.000000000'\n",
            " '2020-10-02T00:00:00.000000000' '2019-03-07T00:00:00.000000000'\n",
            " '2019-10-27T00:00:00.000000000' '2020-11-07T00:00:00.000000000'\n",
            " '2020-05-29T00:00:00.000000000' '2020-01-11T00:00:00.000000000'\n",
            " '2020-10-23T00:00:00.000000000' '2020-05-21T00:00:00.000000000'\n",
            " '2020-01-05T00:00:00.000000000' '2019-05-12T00:00:00.000000000'\n",
            " '2020-08-22T00:00:00.000000000' '2019-08-17T00:00:00.000000000'\n",
            " '2020-04-19T00:00:00.000000000' '2019-06-30T00:00:00.000000000'\n",
            " '2020-05-16T00:00:00.000000000' '2020-12-29T00:00:00.000000000'\n",
            " '2020-04-24T00:00:00.000000000' '2020-12-18T00:00:00.000000000'\n",
            " '2020-10-25T00:00:00.000000000' '2019-03-03T00:00:00.000000000'\n",
            " '2019-03-01T00:00:00.000000000' '2020-05-26T00:00:00.000000000'\n",
            " '2020-07-16T00:00:00.000000000' '2020-10-18T00:00:00.000000000'\n",
            " '2019-11-24T00:00:00.000000000' '2019-12-31T00:00:00.000000000'\n",
            " '2020-11-08T00:00:00.000000000' '2020-03-01T00:00:00.000000000'\n",
            " '2020-12-06T00:00:00.000000000' '2020-06-21T00:00:00.000000000'\n",
            " '2020-05-25T00:00:00.000000000' '2020-08-16T00:00:00.000000000'\n",
            " '2020-08-17T00:00:00.000000000' '2019-02-24T00:00:00.000000000'\n",
            " '2019-06-05T00:00:00.000000000' '2019-04-19T00:00:00.000000000'\n",
            " '2019-03-17T00:00:00.000000000' '2019-09-15T00:00:00.000000000'\n",
            " '2020-02-09T00:00:00.000000000' '2019-09-08T00:00:00.000000000'\n",
            " '2020-11-22T00:00:00.000000000' '2019-10-19T00:00:00.000000000'\n",
            " '2020-10-29T00:00:00.000000000' '2020-05-10T00:00:00.000000000'\n",
            " '2020-12-25T00:00:00.000000000' '2020-11-01T00:00:00.000000000'\n",
            " '2020-12-13T00:00:00.000000000' '2020-04-11T00:00:00.000000000'\n",
            " '2019-12-15T00:00:00.000000000' '2019-05-25T00:00:00.000000000'\n",
            " '2019-05-26T00:00:00.000000000' '2020-03-29T00:00:00.000000000'\n",
            " '2019-08-11T00:00:00.000000000' '2020-04-26T00:00:00.000000000'\n",
            " '2020-11-29T00:00:00.000000000' '2019-05-19T00:00:00.000000000'\n",
            " '2020-03-15T00:00:00.000000000' '2019-05-30T00:00:00.000000000'\n",
            " '2020-12-20T00:00:00.000000000' '2019-06-06T00:00:00.000000000'\n",
            " '2020-04-12T00:00:00.000000000' '2020-06-16T00:00:00.000000000'\n",
            " '2020-08-02T00:00:00.000000000' '2019-04-28T00:00:00.000000000'\n",
            " '2019-03-24T00:00:00.000000000' '2019-11-03T00:00:00.000000000'\n",
            " '2019-04-21T00:00:00.000000000' '2019-06-23T00:00:00.000000000'\n",
            " '2020-06-28T00:00:00.000000000' '2019-08-18T00:00:00.000000000'\n",
            " '2019-02-10T00:00:00.000000000' '2020-06-07T00:00:00.000000000'\n",
            " '2020-05-01T00:00:00.000000000' '2019-12-25T00:00:00.000000000'\n",
            " '2019-04-17T00:00:00.000000000' '2020-07-12T00:00:00.000000000'\n",
            " '2020-12-27T00:00:00.000000000' '2019-06-09T00:00:00.000000000'\n",
            " '2020-07-26T00:00:00.000000000' '2020-05-03T00:00:00.000000000'\n",
            " '2019-09-29T00:00:00.000000000' '2019-12-22T00:00:00.000000000'\n",
            " '2020-08-23T00:00:00.000000000' '2020-05-24T00:00:00.000000000'\n",
            " '2020-10-11T00:00:00.000000000']\n",
            "731\n",
            "4056166\n",
            "tgl_pulang\n",
            "['2020-06-17T00:00:00.000000000' '2019-06-01T00:00:00.000000000'\n",
            " '2019-12-21T00:00:00.000000000' '2019-11-04T00:00:00.000000000'\n",
            " '2020-07-15T00:00:00.000000000' '2019-07-17T00:00:00.000000000'\n",
            " '2019-11-07T00:00:00.000000000' '2019-06-13T00:00:00.000000000'\n",
            " '2020-07-10T00:00:00.000000000' '2019-05-04T00:00:00.000000000'\n",
            " '2019-01-08T00:00:00.000000000' '2020-03-17T00:00:00.000000000'\n",
            " '2019-10-05T00:00:00.000000000' '2019-03-13T00:00:00.000000000'\n",
            " '2019-12-24T00:00:00.000000000' '2019-12-01T00:00:00.000000000'\n",
            " '2019-09-02T00:00:00.000000000' '2020-09-15T00:00:00.000000000'\n",
            " '2019-03-25T00:00:00.000000000' '2019-10-31T00:00:00.000000000'\n",
            " '2020-06-25T00:00:00.000000000' '2019-12-02T00:00:00.000000000'\n",
            " '2020-02-26T00:00:00.000000000' '2019-08-13T00:00:00.000000000'\n",
            " '2020-03-13T00:00:00.000000000' '2019-11-21T00:00:00.000000000'\n",
            " '2020-03-11T00:00:00.000000000' '2019-10-15T00:00:00.000000000'\n",
            " '2020-03-14T00:00:00.000000000' '2020-11-05T00:00:00.000000000'\n",
            " '2019-07-06T00:00:00.000000000' '2019-07-01T00:00:00.000000000'\n",
            " '2019-09-17T00:00:00.000000000' '2019-11-15T00:00:00.000000000'\n",
            " '2019-08-05T00:00:00.000000000' '2019-01-31T00:00:00.000000000'\n",
            " '2019-12-30T00:00:00.000000000' '2019-03-28T00:00:00.000000000'\n",
            " '2020-01-22T00:00:00.000000000' '2020-11-12T00:00:00.000000000'\n",
            " '2019-05-23T00:00:00.000000000' '2019-07-11T00:00:00.000000000'\n",
            " '2019-03-21T00:00:00.000000000' '2020-04-17T00:00:00.000000000'\n",
            " '2020-12-08T00:00:00.000000000' '2019-10-18T00:00:00.000000000'\n",
            " '2020-09-21T00:00:00.000000000' '2020-01-20T00:00:00.000000000'\n",
            " '2019-12-20T00:00:00.000000000' '2019-03-31T00:00:00.000000000'\n",
            " '2020-10-22T00:00:00.000000000' '2019-08-19T00:00:00.000000000'\n",
            " '2020-09-28T00:00:00.000000000' '2019-08-03T00:00:00.000000000'\n",
            " '2020-04-06T00:00:00.000000000' '2020-10-21T00:00:00.000000000'\n",
            " '2020-12-17T00:00:00.000000000' '2019-05-02T00:00:00.000000000'\n",
            " '2019-07-08T00:00:00.000000000' '2019-10-17T00:00:00.000000000'\n",
            " '2019-11-19T00:00:00.000000000' '2019-07-23T00:00:00.000000000'\n",
            " '2020-12-09T00:00:00.000000000' '2019-01-15T00:00:00.000000000'\n",
            " '2019-12-16T00:00:00.000000000' '2019-10-07T00:00:00.000000000'\n",
            " '2020-04-03T00:00:00.000000000' '2020-07-06T00:00:00.000000000'\n",
            " '2020-08-10T00:00:00.000000000' '2020-12-14T00:00:00.000000000'\n",
            " '2020-07-20T00:00:00.000000000' '2019-10-10T00:00:00.000000000'\n",
            " '2019-05-03T00:00:00.000000000' '2019-02-26T00:00:00.000000000'\n",
            " '2019-09-16T00:00:00.000000000' '2019-01-23T00:00:00.000000000'\n",
            " '2019-08-02T00:00:00.000000000' '2019-07-03T00:00:00.000000000'\n",
            " '2020-10-15T00:00:00.000000000' '2020-01-06T00:00:00.000000000'\n",
            " '2019-01-09T00:00:00.000000000' '2019-09-23T00:00:00.000000000'\n",
            " '2020-02-22T00:00:00.000000000' '2020-02-05T00:00:00.000000000'\n",
            " '2019-10-14T00:00:00.000000000' '2019-11-18T00:00:00.000000000'\n",
            " '2019-02-28T00:00:00.000000000' '2020-11-02T00:00:00.000000000'\n",
            " '2019-09-20T00:00:00.000000000' '2019-10-01T00:00:00.000000000'\n",
            " '2019-02-12T00:00:00.000000000' '2019-07-09T00:00:00.000000000'\n",
            " '2019-06-22T00:00:00.000000000' '2019-10-28T00:00:00.000000000'\n",
            " '2020-06-24T00:00:00.000000000' '2019-03-02T00:00:00.000000000'\n",
            " '2020-03-31T00:00:00.000000000' '2019-08-24T00:00:00.000000000'\n",
            " '2020-11-26T00:00:00.000000000' '2020-12-30T00:00:00.000000000'\n",
            " '2019-09-26T00:00:00.000000000' '2020-03-28T00:00:00.000000000'\n",
            " '2020-08-15T00:00:00.000000000' '2019-11-30T00:00:00.000000000'\n",
            " '2020-01-31T00:00:00.000000000' '2019-09-12T00:00:00.000000000'\n",
            " '2020-10-14T00:00:00.000000000' '2019-07-20T00:00:00.000000000'\n",
            " '2020-02-11T00:00:00.000000000' '2020-03-12T00:00:00.000000000'\n",
            " '2020-08-05T00:00:00.000000000' '2019-02-06T00:00:00.000000000'\n",
            " '2019-01-24T00:00:00.000000000' '2020-06-13T00:00:00.000000000'\n",
            " '2020-10-09T00:00:00.000000000' '2019-01-05T00:00:00.000000000'\n",
            " '2020-05-31T00:00:00.000000000' '2019-04-30T00:00:00.000000000'\n",
            " '2020-07-29T00:00:00.000000000' '2019-06-26T00:00:00.000000000'\n",
            " '2020-10-03T00:00:00.000000000' '2020-11-27T00:00:00.000000000'\n",
            " '2020-09-18T00:00:00.000000000' '2019-08-15T00:00:00.000000000'\n",
            " '2020-03-19T00:00:00.000000000' '2020-01-12T00:00:00.000000000'\n",
            " '2020-09-30T00:00:00.000000000' '2019-01-10T00:00:00.000000000'\n",
            " '2020-02-25T00:00:00.000000000' '2020-03-23T00:00:00.000000000'\n",
            " '2020-02-24T00:00:00.000000000' '2020-08-07T00:00:00.000000000'\n",
            " '2019-09-05T00:00:00.000000000' '2020-07-22T00:00:00.000000000'\n",
            " '2020-05-04T00:00:00.000000000' '2020-02-04T00:00:00.000000000'\n",
            " '2019-01-20T00:00:00.000000000' '2020-02-08T00:00:00.000000000'\n",
            " '2020-05-27T00:00:00.000000000' '2020-12-28T00:00:00.000000000'\n",
            " '2019-03-14T00:00:00.000000000' '2020-03-10T00:00:00.000000000'\n",
            " '2020-06-30T00:00:00.000000000' '2019-08-07T00:00:00.000000000'\n",
            " '2019-01-14T00:00:00.000000000' '2019-02-16T00:00:00.000000000'\n",
            " '2020-06-22T00:00:00.000000000' '2019-02-23T00:00:00.000000000'\n",
            " '2019-03-08T00:00:00.000000000' '2019-03-15T00:00:00.000000000'\n",
            " '2020-08-18T00:00:00.000000000' '2020-01-07T00:00:00.000000000'\n",
            " '2019-08-26T00:00:00.000000000' '2020-04-07T00:00:00.000000000'\n",
            " '2019-07-10T00:00:00.000000000' '2019-10-25T00:00:00.000000000'\n",
            " '2019-12-03T00:00:00.000000000' '2020-05-02T00:00:00.000000000'\n",
            " '2020-09-23T00:00:00.000000000' '2019-06-25T00:00:00.000000000'\n",
            " '2020-08-04T00:00:00.000000000' '2019-05-16T00:00:00.000000000'\n",
            " '2020-11-14T00:00:00.000000000' '2019-10-23T00:00:00.000000000'\n",
            " '2019-11-28T00:00:00.000000000' '2019-11-05T00:00:00.000000000'\n",
            " '2019-02-02T00:00:00.000000000' '2019-05-08T00:00:00.000000000'\n",
            " '2019-01-11T00:00:00.000000000' '2020-11-17T00:00:00.000000000'\n",
            " '2019-02-18T00:00:00.000000000' '2019-01-25T00:00:00.000000000'\n",
            " '2020-05-06T00:00:00.000000000' '2020-09-25T00:00:00.000000000'\n",
            " '2020-02-10T00:00:00.000000000' '2019-07-15T00:00:00.000000000'\n",
            " '2020-04-29T00:00:00.000000000' '2019-02-15T00:00:00.000000000'\n",
            " '2020-07-08T00:00:00.000000000' '2020-04-28T00:00:00.000000000'\n",
            " '2020-11-20T00:00:00.000000000' '2019-11-16T00:00:00.000000000'\n",
            " '2019-06-21T00:00:00.000000000' '2019-12-10T00:00:00.000000000'\n",
            " '2019-09-13T00:00:00.000000000' '2019-08-20T00:00:00.000000000'\n",
            " '2020-01-24T00:00:00.000000000' '2019-03-30T00:00:00.000000000'\n",
            " '2019-10-04T00:00:00.000000000' '2020-01-30T00:00:00.000000000'\n",
            " '2019-02-19T00:00:00.000000000' '2019-03-23T00:00:00.000000000'\n",
            " '2019-03-18T00:00:00.000000000' '2020-01-09T00:00:00.000000000'\n",
            " '2020-01-17T00:00:00.000000000' '2020-08-11T00:00:00.000000000'\n",
            " '2019-08-04T00:00:00.000000000' '2020-03-04T00:00:00.000000000'\n",
            " '2019-05-09T00:00:00.000000000' '2019-01-19T00:00:00.000000000'\n",
            " '2020-06-05T00:00:00.000000000' '2020-11-23T00:00:00.000000000'\n",
            " '2020-10-24T00:00:00.000000000' '2020-11-16T00:00:00.000000000'\n",
            " '2019-08-30T00:00:00.000000000' '2020-12-01T00:00:00.000000000'\n",
            " '2019-08-27T00:00:00.000000000' '2020-09-19T00:00:00.000000000'\n",
            " '2019-09-10T00:00:00.000000000' '2020-06-23T00:00:00.000000000'\n",
            " '2019-11-23T00:00:00.000000000' '2019-07-16T00:00:00.000000000'\n",
            " '2020-10-16T00:00:00.000000000' '2020-02-14T00:00:00.000000000'\n",
            " '2020-02-03T00:00:00.000000000' '2019-04-25T00:00:00.000000000'\n",
            " '2019-07-13T00:00:00.000000000' '2020-08-24T00:00:00.000000000'\n",
            " '2020-08-31T00:00:00.000000000' '2020-11-30T00:00:00.000000000'\n",
            " '2019-09-14T00:00:00.000000000' '2020-12-21T00:00:00.000000000'\n",
            " '2020-01-28T00:00:00.000000000' '2019-04-13T00:00:00.000000000'\n",
            " '2019-05-06T00:00:00.000000000' '2020-05-23T00:00:00.000000000'\n",
            " '2020-11-28T00:00:00.000000000' '2020-09-12T00:00:00.000000000'\n",
            " '2019-06-08T00:00:00.000000000' '2020-01-27T00:00:00.000000000'\n",
            " '2020-03-09T00:00:00.000000000' '2020-05-20T00:00:00.000000000'\n",
            " '2019-06-12T00:00:00.000000000' '2020-03-27T00:00:00.000000000'\n",
            " '2019-10-08T00:00:00.000000000' '2020-06-20T00:00:00.000000000'\n",
            " '2019-10-03T00:00:00.000000000' '2020-12-10T00:00:00.000000000'\n",
            " '2020-03-25T00:00:00.000000000' '2019-07-31T00:00:00.000000000'\n",
            " '2019-04-10T00:00:00.000000000' '2020-10-30T00:00:00.000000000'\n",
            " '2019-02-25T00:00:00.000000000' '2020-08-06T00:00:00.000000000'\n",
            " '2020-01-16T00:00:00.000000000' '2019-08-31T00:00:00.000000000'\n",
            " '2020-12-16T00:00:00.000000000' '2019-10-30T00:00:00.000000000'\n",
            " '2019-02-01T00:00:00.000000000' '2019-03-04T00:00:00.000000000'\n",
            " '2019-07-25T00:00:00.000000000' '2019-07-30T00:00:00.000000000'\n",
            " '2019-09-28T00:00:00.000000000' '2019-03-12T00:00:00.000000000'\n",
            " '2019-09-09T00:00:00.000000000' '2019-05-20T00:00:00.000000000'\n",
            " '2020-03-21T00:00:00.000000000' '2019-11-26T00:00:00.000000000'\n",
            " '2019-06-03T00:00:00.000000000' '2020-04-21T00:00:00.000000000'\n",
            " '2019-01-17T00:00:00.000000000' '2020-07-02T00:00:00.000000000'\n",
            " '2020-02-12T00:00:00.000000000' '2019-01-03T00:00:00.000000000'\n",
            " '2019-06-27T00:00:00.000000000' '2019-01-02T00:00:00.000000000'\n",
            " '2019-11-22T00:00:00.000000000' '2020-10-08T00:00:00.000000000'\n",
            " '2019-04-16T00:00:00.000000000' '2020-08-12T00:00:00.000000000'\n",
            " '2019-06-19T00:00:00.000000000' '2020-11-11T00:00:00.000000000'\n",
            " '2019-10-29T00:00:00.000000000' '2019-05-15T00:00:00.000000000'\n",
            " '2019-02-11T00:00:00.000000000' '2020-03-02T00:00:00.000000000'\n",
            " '2019-03-20T00:00:00.000000000' '2019-01-07T00:00:00.000000000'\n",
            " '2020-06-09T00:00:00.000000000' '2019-06-20T00:00:00.000000000'\n",
            " '2019-07-14T00:00:00.000000000' '2020-12-04T00:00:00.000000000'\n",
            " '2019-04-01T00:00:00.000000000' '2020-03-05T00:00:00.000000000'\n",
            " '2019-02-21T00:00:00.000000000' '2019-08-12T00:00:00.000000000'\n",
            " '2019-07-02T00:00:00.000000000' '2019-09-06T00:00:00.000000000'\n",
            " '2020-07-27T00:00:00.000000000' '2020-08-14T00:00:00.000000000'\n",
            " '2020-05-17T00:00:00.000000000' '2020-06-02T00:00:00.000000000'\n",
            " '2019-09-30T00:00:00.000000000' '2020-06-04T00:00:00.000000000'\n",
            " '2020-10-05T00:00:00.000000000' '2019-11-14T00:00:00.000000000'\n",
            " '2019-05-07T00:00:00.000000000' '2019-01-04T00:00:00.000000000'\n",
            " '2020-02-02T00:00:00.000000000' '2020-09-07T00:00:00.000000000'\n",
            " '2019-01-16T00:00:00.000000000' '2020-04-18T00:00:00.000000000'\n",
            " '2019-08-28T00:00:00.000000000' '2019-04-09T00:00:00.000000000'\n",
            " '2020-07-24T00:00:00.000000000' '2019-12-26T00:00:00.000000000'\n",
            " '2020-11-04T00:00:00.000000000' '2020-04-30T00:00:00.000000000'\n",
            " '2020-07-14T00:00:00.000000000' '2019-09-24T00:00:00.000000000'\n",
            " '2019-06-17T00:00:00.000000000' '2020-06-12T00:00:00.000000000'\n",
            " '2020-10-26T00:00:00.000000000' '2020-10-20T00:00:00.000000000'\n",
            " '2019-08-23T00:00:00.000000000' '2019-05-14T00:00:00.000000000'\n",
            " '2019-01-30T00:00:00.000000000' '2019-08-09T00:00:00.000000000'\n",
            " '2019-12-14T00:00:00.000000000' '2020-05-11T00:00:00.000000000'\n",
            " '2020-04-23T00:00:00.000000000' '2019-08-01T00:00:00.000000000'\n",
            " '2019-03-27T00:00:00.000000000' '2020-03-03T00:00:00.000000000'\n",
            " '2019-06-18T00:00:00.000000000' '2019-04-05T00:00:00.000000000'\n",
            " '2020-10-06T00:00:00.000000000' '2019-11-06T00:00:00.000000000'\n",
            " '2020-01-13T00:00:00.000000000' '2020-04-02T00:00:00.000000000'\n",
            " '2020-10-17T00:00:00.000000000' '2020-08-19T00:00:00.000000000'\n",
            " '2019-12-09T00:00:00.000000000' '2019-04-26T00:00:00.000000000'\n",
            " '2019-06-15T00:00:00.000000000' '2020-02-17T00:00:00.000000000'\n",
            " '2020-11-03T00:00:00.000000000' '2019-01-21T00:00:00.000000000'\n",
            " '2019-09-25T00:00:00.000000000' '2020-03-22T00:00:00.000000000'\n",
            " '2019-09-27T00:00:00.000000000' '2020-11-25T00:00:00.000000000'\n",
            " '2020-12-07T00:00:00.000000000' '2020-10-27T00:00:00.000000000'\n",
            " '2020-11-13T00:00:00.000000000' '2019-10-11T00:00:00.000000000'\n",
            " '2019-12-05T00:00:00.000000000' '2019-07-04T00:00:00.000000000'\n",
            " '2020-01-15T00:00:00.000000000' '2019-05-21T00:00:00.000000000'\n",
            " '2019-03-06T00:00:00.000000000' '2020-04-01T00:00:00.000000000'\n",
            " '2020-07-17T00:00:00.000000000' '2020-01-23T00:00:00.000000000'\n",
            " '2020-02-07T00:00:00.000000000' '2020-01-18T00:00:00.000000000'\n",
            " '2019-10-26T00:00:00.000000000' '2019-03-29T00:00:00.000000000'\n",
            " '2019-05-18T00:00:00.000000000' '2020-05-15T00:00:00.000000000'\n",
            " '2020-07-03T00:00:00.000000000' '2020-03-30T00:00:00.000000000'\n",
            " '2020-03-06T00:00:00.000000000' '2019-10-02T00:00:00.000000000'\n",
            " '2019-03-05T00:00:00.000000000' '2019-04-22T00:00:00.000000000'\n",
            " '2020-09-17T00:00:00.000000000' '2019-02-20T00:00:00.000000000'\n",
            " '2020-09-02T00:00:00.000000000' '2020-04-15T00:00:00.000000000'\n",
            " '2019-04-04T00:00:00.000000000' '2020-10-01T00:00:00.000000000'\n",
            " '2019-08-14T00:00:00.000000000' '2020-01-14T00:00:00.000000000'\n",
            " '2020-08-20T00:00:00.000000000' '2019-04-03T00:00:00.000000000'\n",
            " '2020-05-30T00:00:00.000000000' '2020-09-03T00:00:00.000000000'\n",
            " '2020-03-20T00:00:00.000000000' '2019-09-07T00:00:00.000000000'\n",
            " '2020-07-01T00:00:00.000000000' '2019-06-24T00:00:00.000000000'\n",
            " '2019-05-29T00:00:00.000000000' '2019-07-07T00:00:00.000000000'\n",
            " '2020-10-19T00:00:00.000000000' '2020-07-19T00:00:00.000000000'\n",
            " '2020-05-19T00:00:00.000000000' '2019-07-22T00:00:00.000000000'\n",
            " '2020-07-31T00:00:00.000000000' '2020-05-07T00:00:00.000000000'\n",
            " '2019-02-04T00:00:00.000000000' '2020-04-04T00:00:00.000000000'\n",
            " '2019-08-16T00:00:00.000000000' '2020-12-19T00:00:00.000000000'\n",
            " '2019-01-12T00:00:00.000000000' '2020-06-03T00:00:00.000000000'\n",
            " '2019-05-31T00:00:00.000000000' '2019-02-13T00:00:00.000000000'\n",
            " '2020-09-14T00:00:00.000000000' '2019-06-07T00:00:00.000000000'\n",
            " '2019-10-09T00:00:00.000000000' '2019-12-13T00:00:00.000000000'\n",
            " '2020-09-29T00:00:00.000000000' '2020-01-08T00:00:00.000000000'\n",
            " '2020-05-14T00:00:00.000000000' '2019-07-12T00:00:00.000000000'\n",
            " '2020-07-04T00:00:00.000000000' '2020-05-12T00:00:00.000000000'\n",
            " '2020-05-05T00:00:00.000000000' '2020-02-18T00:00:00.000000000'\n",
            " '2019-03-11T00:00:00.000000000' '2019-07-29T00:00:00.000000000'\n",
            " '2019-12-12T00:00:00.000000000' '2019-06-10T00:00:00.000000000'\n",
            " '2019-07-26T00:00:00.000000000' '2020-02-13T00:00:00.000000000'\n",
            " '2019-11-01T00:00:00.000000000' '2019-05-17T00:00:00.000000000'\n",
            " '2020-11-19T00:00:00.000000000' '2019-11-27T00:00:00.000000000'\n",
            " '2019-05-24T00:00:00.000000000' '2019-04-07T00:00:00.000000000'\n",
            " '2020-06-18T00:00:00.000000000' '2020-04-05T00:00:00.000000000'\n",
            " '2020-02-15T00:00:00.000000000' '2019-08-21T00:00:00.000000000'\n",
            " '2019-07-28T00:00:00.000000000' '2020-03-07T00:00:00.000000000'\n",
            " '2019-01-27T00:00:00.000000000' '2020-04-08T00:00:00.000000000'\n",
            " '2020-08-09T00:00:00.000000000' '2019-11-25T00:00:00.000000000'\n",
            " '2020-09-26T00:00:00.000000000' '2020-01-21T00:00:00.000000000'\n",
            " '2019-07-18T00:00:00.000000000' '2020-01-03T00:00:00.000000000'\n",
            " '2020-02-19T00:00:00.000000000' '2020-11-10T00:00:00.000000000'\n",
            " '2019-10-20T00:00:00.000000000' '2019-04-11T00:00:00.000000000'\n",
            " '2020-08-03T00:00:00.000000000' '2019-11-13T00:00:00.000000000'\n",
            " '2020-08-26T00:00:00.000000000' '2019-09-11T00:00:00.000000000'\n",
            " '2019-11-29T00:00:00.000000000' '2019-09-03T00:00:00.000000000'\n",
            " '2019-12-27T00:00:00.000000000' '2019-03-19T00:00:00.000000000'\n",
            " '2019-09-19T00:00:00.000000000' '2020-12-15T00:00:00.000000000'\n",
            " '2019-11-02T00:00:00.000000000' '2020-07-13T00:00:00.000000000'\n",
            " '2020-07-21T00:00:00.000000000' '2020-08-13T00:00:00.000000000'\n",
            " '2020-01-10T00:00:00.000000000' '2020-07-30T00:00:00.000000000'\n",
            " '2020-09-13T00:00:00.000000000' '2020-08-29T00:00:00.000000000'\n",
            " '2019-10-16T00:00:00.000000000' '2020-08-08T00:00:00.000000000'\n",
            " '2020-06-19T00:00:00.000000000' '2020-09-11T00:00:00.000000000'\n",
            " '2020-12-22T00:00:00.000000000' '2019-01-28T00:00:00.000000000'\n",
            " '2020-04-20T00:00:00.000000000' '2020-09-05T00:00:00.000000000'\n",
            " '2020-03-08T00:00:00.000000000' '2019-04-24T00:00:00.000000000'\n",
            " '2019-04-23T00:00:00.000000000' '2020-07-25T00:00:00.000000000'\n",
            " '2019-01-18T00:00:00.000000000' '2019-02-14T00:00:00.000000000'\n",
            " '2020-01-25T00:00:00.000000000' '2020-12-24T00:00:00.000000000'\n",
            " '2020-11-06T00:00:00.000000000' '2020-06-11T00:00:00.000000000'\n",
            " '2019-11-12T00:00:00.000000000' '2020-09-01T00:00:00.000000000'\n",
            " '2019-09-04T00:00:00.000000000' '2019-05-13T00:00:00.000000000'\n",
            " '2020-01-29T00:00:00.000000000' '2019-04-08T00:00:00.000000000'\n",
            " '2020-03-16T00:00:00.000000000' '2020-11-09T00:00:00.000000000'\n",
            " '2019-02-17T00:00:00.000000000' '2019-12-07T00:00:00.000000000'\n",
            " '2020-09-08T00:00:00.000000000' '2020-02-23T00:00:00.000000000'\n",
            " '2020-10-12T00:00:00.000000000' '2020-10-13T00:00:00.000000000'\n",
            " '2020-04-09T00:00:00.000000000' '2019-02-09T00:00:00.000000000'\n",
            " '2019-10-21T00:00:00.000000000' '2019-05-28T00:00:00.000000000'\n",
            " '2019-07-24T00:00:00.000000000' '2019-09-22T00:00:00.000000000'\n",
            " '2019-12-19T00:00:00.000000000' '2020-09-09T00:00:00.000000000'\n",
            " '2020-02-06T00:00:00.000000000' '2020-08-25T00:00:00.000000000'\n",
            " '2019-09-01T00:00:00.000000000' '2019-09-18T00:00:00.000000000'\n",
            " '2020-10-04T00:00:00.000000000' '2020-11-18T00:00:00.000000000'\n",
            " '2019-07-19T00:00:00.000000000' '2020-03-24T00:00:00.000000000'\n",
            " '2019-05-11T00:00:00.000000000' '2019-06-11T00:00:00.000000000'\n",
            " '2019-12-17T00:00:00.000000000' '2019-03-10T00:00:00.000000000'\n",
            " '2020-03-26T00:00:00.000000000' '2020-05-09T00:00:00.000000000'\n",
            " '2020-05-28T00:00:00.000000000' '2020-06-14T00:00:00.000000000'\n",
            " '2020-05-08T00:00:00.000000000' '2020-06-06T00:00:00.000000000'\n",
            " '2019-09-21T00:00:00.000000000' '2020-08-28T00:00:00.000000000'\n",
            " '2020-08-01T00:00:00.000000000' '2020-02-29T00:00:00.000000000'\n",
            " '2020-09-20T00:00:00.000000000' '2020-02-01T00:00:00.000000000'\n",
            " '2020-04-10T00:00:00.000000000' '2019-04-27T00:00:00.000000000'\n",
            " '2019-03-16T00:00:00.000000000' '2019-08-22T00:00:00.000000000'\n",
            " '2019-10-12T00:00:00.000000000' '2020-07-18T00:00:00.000000000'\n",
            " '2019-10-24T00:00:00.000000000' '2019-07-27T00:00:00.000000000'\n",
            " '2019-08-06T00:00:00.000000000' '2020-12-11T00:00:00.000000000'\n",
            " '2019-06-14T00:00:00.000000000' '2019-03-26T00:00:00.000000000'\n",
            " '2020-07-23T00:00:00.000000000' '2020-11-21T00:00:00.000000000'\n",
            " '2020-11-24T00:00:00.000000000' '2019-10-22T00:00:00.000000000'\n",
            " '2019-11-20T00:00:00.000000000' '2019-02-27T00:00:00.000000000'\n",
            " '2019-12-29T00:00:00.000000000' '2019-06-16T00:00:00.000000000'\n",
            " '2020-03-18T00:00:00.000000000' '2020-12-23T00:00:00.000000000'\n",
            " '2019-01-22T00:00:00.000000000' '2019-12-18T00:00:00.000000000'\n",
            " '2019-05-27T00:00:00.000000000' '2020-04-27T00:00:00.000000000'\n",
            " '2019-11-10T00:00:00.000000000' '2019-01-29T00:00:00.000000000'\n",
            " '2019-08-29T00:00:00.000000000' '2020-05-13T00:00:00.000000000'\n",
            " '2020-05-22T00:00:00.000000000' '2019-05-10T00:00:00.000000000'\n",
            " '2020-02-27T00:00:00.000000000' '2020-12-26T00:00:00.000000000'\n",
            " '2019-04-29T00:00:00.000000000' '2019-02-08T00:00:00.000000000'\n",
            " '2020-01-01T00:00:00.000000000' '2019-11-11T00:00:00.000000000'\n",
            " '2019-06-29T00:00:00.000000000' '2019-04-14T00:00:00.000000000'\n",
            " '2019-12-23T00:00:00.000000000' '2020-12-05T00:00:00.000000000'\n",
            " '2020-12-02T00:00:00.000000000' '2020-08-27T00:00:00.000000000'\n",
            " '2020-02-28T00:00:00.000000000' '2020-06-15T00:00:00.000000000'\n",
            " '2019-07-21T00:00:00.000000000' '2020-12-03T00:00:00.000000000'\n",
            " '2019-12-06T00:00:00.000000000' '2019-04-02T00:00:00.000000000'\n",
            " '2020-08-21T00:00:00.000000000' '2020-07-09T00:00:00.000000000'\n",
            " '2020-04-14T00:00:00.000000000' '2019-02-07T00:00:00.000000000'\n",
            " '2020-07-05T00:00:00.000000000' '2019-12-28T00:00:00.000000000'\n",
            " '2020-01-04T00:00:00.000000000' '2019-02-22T00:00:00.000000000'\n",
            " '2020-09-10T00:00:00.000000000' '2020-09-24T00:00:00.000000000'\n",
            " '2019-04-12T00:00:00.000000000' '2020-06-29T00:00:00.000000000'\n",
            " '2020-01-02T00:00:00.000000000' '2019-01-26T00:00:00.000000000'\n",
            " '2019-06-02T00:00:00.000000000' '2020-09-04T00:00:00.000000000'\n",
            " '2019-06-28T00:00:00.000000000' '2020-04-13T00:00:00.000000000'\n",
            " '2019-10-13T00:00:00.000000000' '2019-04-20T00:00:00.000000000'\n",
            " '2020-04-16T00:00:00.000000000' '2020-02-21T00:00:00.000000000'\n",
            " '2020-06-26T00:00:00.000000000' '2019-07-05T00:00:00.000000000'\n",
            " '2020-09-06T00:00:00.000000000' '2020-06-10T00:00:00.000000000'\n",
            " '2019-08-08T00:00:00.000000000' '2019-10-06T00:00:00.000000000'\n",
            " '2020-10-31T00:00:00.000000000' '2019-03-09T00:00:00.000000000'\n",
            " '2020-12-12T00:00:00.000000000' '2019-12-04T00:00:00.000000000'\n",
            " '2019-12-08T00:00:00.000000000' '2020-02-20T00:00:00.000000000'\n",
            " '2020-04-25T00:00:00.000000000' '2020-04-22T00:00:00.000000000'\n",
            " '2019-01-01T00:00:00.000000000' '2020-10-10T00:00:00.000000000'\n",
            " '2019-04-15T00:00:00.000000000' '2020-07-28T00:00:00.000000000'\n",
            " '2020-01-26T00:00:00.000000000' '2020-01-19T00:00:00.000000000'\n",
            " '2020-09-27T00:00:00.000000000' '2019-02-03T00:00:00.000000000'\n",
            " '2019-05-22T00:00:00.000000000' '2020-10-28T00:00:00.000000000'\n",
            " '2020-06-08T00:00:00.000000000' '2020-06-01T00:00:00.000000000'\n",
            " '2020-07-11T00:00:00.000000000' '2019-04-18T00:00:00.000000000'\n",
            " '2019-11-08T00:00:00.000000000' '2019-12-11T00:00:00.000000000'\n",
            " '2019-01-13T00:00:00.000000000' '2020-05-18T00:00:00.000000000'\n",
            " '2019-06-04T00:00:00.000000000' '2019-08-25T00:00:00.000000000'\n",
            " '2020-11-15T00:00:00.000000000' '2019-04-06T00:00:00.000000000'\n",
            " '2020-06-27T00:00:00.000000000' '2019-03-22T00:00:00.000000000'\n",
            " '2020-08-30T00:00:00.000000000' '2019-05-05T00:00:00.000000000'\n",
            " '2020-02-16T00:00:00.000000000' '2019-08-10T00:00:00.000000000'\n",
            " '2019-06-06T00:00:00.000000000' '2019-02-05T00:00:00.000000000'\n",
            " '2020-12-31T00:00:00.000000000' '2020-07-07T00:00:00.000000000'\n",
            " '2019-11-17T00:00:00.000000000' '2019-11-09T00:00:00.000000000'\n",
            " '2020-11-08T00:00:00.000000000' '2020-09-16T00:00:00.000000000'\n",
            " '2020-09-22T00:00:00.000000000' '2020-10-07T00:00:00.000000000'\n",
            " '2019-01-06T00:00:00.000000000' '2020-10-02T00:00:00.000000000'\n",
            " '2019-03-07T00:00:00.000000000' '2019-10-27T00:00:00.000000000'\n",
            " '2020-11-07T00:00:00.000000000' '2020-05-29T00:00:00.000000000'\n",
            " '2020-01-11T00:00:00.000000000' '2020-10-23T00:00:00.000000000'\n",
            " '2020-05-21T00:00:00.000000000' '2020-01-05T00:00:00.000000000'\n",
            " '2019-05-12T00:00:00.000000000' '2020-08-22T00:00:00.000000000'\n",
            " '2019-08-17T00:00:00.000000000' '2020-04-19T00:00:00.000000000'\n",
            " '2019-06-30T00:00:00.000000000' '2020-05-16T00:00:00.000000000'\n",
            " '2020-12-29T00:00:00.000000000' '2020-04-24T00:00:00.000000000'\n",
            " '2020-12-18T00:00:00.000000000' '2020-10-25T00:00:00.000000000'\n",
            " '2019-03-03T00:00:00.000000000' '2019-03-01T00:00:00.000000000'\n",
            " '2019-05-01T00:00:00.000000000' '2020-05-26T00:00:00.000000000'\n",
            " '2020-07-16T00:00:00.000000000' '2020-10-18T00:00:00.000000000'\n",
            " '2019-11-24T00:00:00.000000000' '2019-12-31T00:00:00.000000000'\n",
            " '2020-03-01T00:00:00.000000000' '2020-12-06T00:00:00.000000000'\n",
            " '2020-06-21T00:00:00.000000000' '2020-05-25T00:00:00.000000000'\n",
            " '2020-08-16T00:00:00.000000000' '2020-08-17T00:00:00.000000000'\n",
            " '2019-06-05T00:00:00.000000000' '2019-03-17T00:00:00.000000000'\n",
            " '2019-09-15T00:00:00.000000000' '2020-02-09T00:00:00.000000000'\n",
            " '2019-09-08T00:00:00.000000000' '2020-11-22T00:00:00.000000000'\n",
            " '2019-10-19T00:00:00.000000000' '2020-10-29T00:00:00.000000000'\n",
            " '2020-05-10T00:00:00.000000000' '2020-12-25T00:00:00.000000000'\n",
            " '2020-11-01T00:00:00.000000000' '2020-12-13T00:00:00.000000000'\n",
            " '2020-04-11T00:00:00.000000000' '2019-12-15T00:00:00.000000000'\n",
            " '2019-05-25T00:00:00.000000000' '2019-04-19T00:00:00.000000000'\n",
            " '2019-05-26T00:00:00.000000000' '2019-02-24T00:00:00.000000000'\n",
            " '2020-03-29T00:00:00.000000000' '2019-08-11T00:00:00.000000000'\n",
            " '2020-04-26T00:00:00.000000000' '2020-11-29T00:00:00.000000000'\n",
            " '2019-05-19T00:00:00.000000000' '2020-03-15T00:00:00.000000000'\n",
            " '2019-05-30T00:00:00.000000000' '2020-12-20T00:00:00.000000000'\n",
            " '2020-06-16T00:00:00.000000000' '2020-08-02T00:00:00.000000000'\n",
            " '2019-04-28T00:00:00.000000000' '2019-03-24T00:00:00.000000000'\n",
            " '2019-11-03T00:00:00.000000000' '2019-04-21T00:00:00.000000000'\n",
            " '2019-06-23T00:00:00.000000000' '2020-06-28T00:00:00.000000000'\n",
            " '2019-08-18T00:00:00.000000000' '2019-02-10T00:00:00.000000000'\n",
            " '2020-06-07T00:00:00.000000000' '2020-05-01T00:00:00.000000000'\n",
            " '2019-12-25T00:00:00.000000000' '2019-04-17T00:00:00.000000000'\n",
            " '2020-07-12T00:00:00.000000000' '2020-12-27T00:00:00.000000000'\n",
            " '2019-06-09T00:00:00.000000000' '2020-07-26T00:00:00.000000000'\n",
            " '2020-05-03T00:00:00.000000000' '2019-09-29T00:00:00.000000000'\n",
            " '2019-12-22T00:00:00.000000000' '2020-08-23T00:00:00.000000000'\n",
            " '2020-05-24T00:00:00.000000000' '2020-10-11T00:00:00.000000000'\n",
            " '2020-04-12T00:00:00.000000000' '2021-01-01T00:00:00.000000000'\n",
            " '2021-01-04T00:00:00.000000000' '2021-01-02T00:00:00.000000000'\n",
            " '2021-01-03T00:00:00.000000000' '2021-01-09T00:00:00.000000000']\n",
            "736\n",
            "4056161\n",
            "prov\n",
            "[51 35 34 62 18 33 14 63 13 73 21 31 16 64 53 12 15 72 17 91 36 32 52 74\n",
            " 11 19 94 71 61 81 82 75 76 65]\n",
            "34\n",
            "4056863\n",
            "kab\n",
            "[5171 3516 3402 3509 6206 1801 3374 5103 1471 6309 1302 7317 3373 3310\n",
            " 2171 3578 3522 3319 1371 7309 1407 3174 1612 6471 3171 5104 3471 5305\n",
            " 1205 3508 6302 1304 3305 7307 1223 3101 1503 3301 1807 3521 7209 3172\n",
            " 1704 3505 3329 1610 7306 1671 1409 3318 6472 7305 9108 3404 3308 3603\n",
            " 3515 1275 3275 3204 3312 3321 1810 3175 1408 5105 6409 1805 1405 1509\n",
            " 5272 1276 3510 3673 6371 1374 3671 1218 3206 1202 7405 7402 1607 1110\n",
            " 3574 1603 3328 7303 3573 7314 7322 1212 3322 3525 7371 3503 3303 3278\n",
            " 3372 5371 5318 3504 3327 3320 1802 3572 7313 1906 1215 1702 1611 7311\n",
            " 1404 6303 1312 1173 6308 3520 9401 3324 3276 5203 3524 1605 7373 7171\n",
            " 1804 5102 1111 1703 7325 3315 6108 3216 6101 1114 3215 8101 3302 5107\n",
            " 3523 9413 3513 6107 3604 3205 1272 6372 1502 3601 1204 1303 3214 3212\n",
            " 6402 3314 7326 3271 1220 3323 6301 1473 8204 3502 3325 3674 7101 3213\n",
            " 5202 6401 7571 6305 3506 3201 5101 1306 7202 3313 9171 6304 1305 3207\n",
            " 1171 5303 3209 6205 7210 2172 3577 3602 3277 3311 1904 3575 3202 1901\n",
            " 3317 1571 3511 7409 3173 3306 1706 8171 3375 7471 1206 7105 6403 3507\n",
            " 2103 1222 1809 1701 7208 5312 5307 1604 1271 1210 1277 3571 3210 7205\n",
            " 1221 3274 3307 1307 3512 6307 3517 3273 3376 1806 1903 6202 1115 7602\n",
            " 1213 1107 3401 3304 9471 1602 6112 1705 1309 8104 7502 7407 3514 1771\n",
            " 1872 3208 1608 1508 5206 6310 3326 1278 7172 3316 6271 6110 1274 5271\n",
            " 1402 6171 6204 7109 8103 1506 8271 6404 7271 5204 6501 7604 7404 7403\n",
            " 1803 1401 7401 9101 3518 3211 1211 8102 1203 3217 3218 5317 7408 7308\n",
            " 1108 1674 1813 5313 5108 3203 5316 3309 1208 1308 1707 7206 1606 1225\n",
            " 1273 1224 6213 7603 3272 6201 7504 1708 1118 7472 3529 1871 1808 7301\n",
            " 1377 3527 8172 1104 1672 7318 6109 1113 3526 3519 7601 1106 1109 3528\n",
            " 1501 1673 1209 1709 3579 5306 7304 7411 7102 7312 7414 1372 1406 5207\n",
            " 7316 6571 1902 6474 6203 5311 1410 1403 1505 7204 7415 7302 1105 2104\n",
            " 7413 9106 1207 5302 5208 1102 5309 1504 7107 7106 6102 1103 7606 5315\n",
            " 7174 3403 3672 5308 6172 8205 1311 7103 1101 5106 1601 6104 3279 5201\n",
            " 7372 6103 7110 3576 6212 7605 1116 1219 6105 7173 5304 1112 6306 7501\n",
            " 3501 8201 1172 1812 2102 7310 7406 8272 5205 1216 6311 7212 1971 6504\n",
            " 6502 7207 1609 3371 6210 6208 1217 1376 1174 1905 1572 1117 5319 7108\n",
            " 8206 6405 1811 1310 7201 6106 8107 6111 8207 1175 6503 8106 8109 7104\n",
            " 1375 9412 7203 9408 9409 9403 9432 7315 7505 5310 6211 9104 8105 5301\n",
            " 1507 1613 2101 7111 9411 9420 1373 6207 9402 5314 5321 9404 1214 7410\n",
            " 9107 9105 9427 7503 6209 8202 7211 1201 9414 9102 9415 8203 1301 8108\n",
            " 2105 9419 9426 7412 8208 5320 9428 9435 6411 9110 9111 9109 9418 9103\n",
            " 9431 9430 9429 9436 9410]\n",
            "509\n",
            "4056388\n",
            "kepemilikan\n",
            "[9 3 4 8 2 5 7 6 1]\n",
            "9\n",
            "4056888\n",
            "jenis\n",
            "[3 2 1 4 5 7]\n",
            "6\n",
            "4056891\n",
            "tipe\n",
            "[ 2  1  4  3  6  5  8 10  7]\n",
            "9\n",
            "4056888\n",
            "tingkat_pelayanan\n",
            "[1 3 2]\n",
            "3\n",
            "4056894\n",
            "jenis_poli\n",
            "[ 1.  3. 12. 13.  2.  4.  7.  5. 28.  6.  9. 27. 14. 18. 15.  8. 20. 17.\n",
            " 10. 19. 21. 25. 24. 23. 22. nan 26.]\n",
            "27\n",
            "4056870\n",
            "segmen_peserta\n",
            "[4 5 1 2 3]\n",
            "5\n",
            "4056892\n",
            "kode_ICD\n",
            "[ 773 1757  621 ... 1928 1959 1696]\n",
            "1837\n",
            "4055060\n",
            "kode_ICD3\n",
            "['K29' 'Z30' 'I10' ... 'Y11' 'X60' 'Y31']\n",
            "1837\n",
            "4055060\n",
            "kode_ICD4\n",
            "['K297' 'Z309' 'I10' ... 'R432' 'M1993' 'R859']\n",
            "9665\n",
            "4047232\n",
            "ICD4_diagnosis\n",
            "['Gastritis, unspecified' 'Contraceptive management, unspecified'\n",
            " 'Essential (primary) hypertension' ... 'Parageusia'\n",
            " 'Arthrosis, unspecified, forearm'\n",
            " 'Abnormal findings in specimens from digestive organs and abdominal cavity, unspecified abnormal finding']\n",
            "9660\n",
            "4047237\n",
            "prov_rujukan\n",
            "[98 73 63 18 13 33 35 64 53 32 34 51 36 12 14 11 21 19 74 31 71 17 94 52\n",
            " 16 62 72 91 61 65 15 82 76 81 75]\n",
            "35\n",
            "4056862\n",
            "kab_rujukan\n",
            "[9998 7307 6309 1810 1374 1805 3328 3573 3522 6472 5311 7311 3578 3509\n",
            " 3215 3302 3471 5171 3601 7306 1271 1471 3214 3321 6402 6301 3213 1807\n",
            " 1806 1171 3305 1409 3329 1312 2172 7373 1971 3277 3322 7409 3173 3375\n",
            " 7171 1702 3209 3603 1371 9471 3402 2171 1302 3204 1220 5271 1671 6204\n",
            " 7271 9101 3201 6171 3318 5104 1108 6501 1275 1201 3523 1508 3319 5316\n",
            " 1276 3510 3602 3301 1572 1502 1771 3374 8271 1871 5107 3371 1277 3517\n",
            " 3671 3528 7316 3574 1278 1808 6571 3511 1902 6203 1208 6471 3326 3273\n",
            " 7325 1410 7313 3172 3216 1105 3207 3271 3674 3205 1401 3217 6102 3404\n",
            " 3372 7174 3518 3513 5105 3320 3323 5308 3312 1101 7105 7372 3579 3208\n",
            " 1305 3310 3202 7472 1112 3309 6306 8201 1174 3275 1606 9171 3373 3203\n",
            " 3512 7471 3576 1209 7604 3520 3506 7202 6371 3303 3504 8171 3524 7406\n",
            " 3274 1609 6305 1503 1408 7371 1701 3314 3175 3210 3376 3672 1605 3526\n",
            " 6308 1213 3306 3507 5208 5106 1811 7201 1872 1207 3516 3401 1674 1109\n",
            " 5371 3514 1173 1608 3212 3525 3171 1604 1110 3571 1273 7310 1672 2104\n",
            " 6111 1601 1571 6307 3519 7102 3572 1903 7173 8103 3315 7602 1612 3174\n",
            " 1801 6372 5205 3673 1113 6101 3276 3324 3521 1212 6271 3308 1308 3604\n",
            " 6201 6502 1473 7318 1172 5307 1372 7404 3508 6302 7305 1602 7309 3577\n",
            " 3311 6404 7405 3317 6401 6303 7208 1375 5318 7403 6202 3529 1804 6172\n",
            " 5202 8204 3307 3515 3211 9401 2101 5103 6304 1402 3313 1118 7101 3316\n",
            " 1803 5102 1106 9420 3325 3278 6106 1303 1607 5203 6112 6311 5304 1809\n",
            " 1221 7172 1407 1222 1509 3501 1506 1310 7413 6409 3575 1117 8272 1114\n",
            " 3272 1707 5201 8102 7505 6205 6403 7314 5310 1603 1905 1406 8205 1673\n",
            " 1377 7571 3304 5302 8105 1507 1202 7504 1218 5306 6105 1274 7308 6207\n",
            " 6208 1376 7312 1211 5108 1705 1206 1901 3503 1311 3527 7104 7302 7315\n",
            " 6107 1306 5207 7204 7401 3403 6474 5301 1115 5317 3327 7322 5206 9108\n",
            " 1215 1204 1613 1505 1309 6405 7103 3502 1272 9102 1403 3505 7203 7317\n",
            " 1703 7411 7402 5312 1304 5321 7407 1404 1373 6310 1405 3279 5313 1116\n",
            " 1610 3206 6109 1102 5101 5204 8107 1704 1802 9107 1904 6206 5272 1223\n",
            " 9412 1104 7303 9106 6211 6104 7326 7601 7108 1906 1210 8172 1103 6108\n",
            " 1217 3101 9408 1216 1708 5303 2102 9402 7109 8109 5305 1205 7209 8101\n",
            " 7106 8104 7502 7304 9409 7605 7501 6504 1107 9105 7206 1709 7301 6103\n",
            " 1175 1504 2105 5309 6212 5315 1706 1307 6213 6110 7207 1203 8106 2103\n",
            " 7408 7503 7110 8206 6210 9404 3218 6209 9104 1611 7210 7107 7211 7603\n",
            " 1812 7410 8207 7212 1219 9403 7606 7415 8203 5314 9427 8202 9415 7205\n",
            " 9413 1813 1111 1301 5320 8108]\n",
            "482\n",
            "4056415\n",
            "kepemilikan_rujukan\n",
            "[98  3  9  5  2  4  8  1  7  6]\n",
            "10\n",
            "4056887\n",
            "jenis_rujukan\n",
            "[98  1  2]\n",
            "3\n",
            "4056894\n",
            "tipe_rujukan\n",
            "[98 28 34 14 27 37 33 35 13 38 29 15 10 39 26  9  8 17 36  5 31 99  6 32\n",
            " 11 12]\n",
            "26\n",
            "4056871\n",
            "poli_rujukan\n",
            "[98 99]\n",
            "2\n",
            "4056895\n",
            "jenis_kunjungan\n",
            "[1 2]\n",
            "2\n",
            "4056895\n",
            "status_pulang\n",
            "['Belum_Sehat' 'Sehat']\n",
            "2\n",
            "4056895\n"
          ]
        }
      ]
    },
    {
      "cell_type": "markdown",
      "source": [
        "### NaN Handler"
      ],
      "metadata": {
        "id": "etxB7bqSSlCH"
      }
    },
    {
      "cell_type": "code",
      "source": [
        "df['jenis_poli'].mode()"
      ],
      "metadata": {
        "colab": {
          "base_uri": "https://localhost:8080/"
        },
        "id": "nv7WezMZijee",
        "outputId": "9499b354-220b-471d-f889-2c4dc24c592a"
      },
      "execution_count": null,
      "outputs": [
        {
          "output_type": "execute_result",
          "data": {
            "text/plain": [
              "0    1\n",
              "dtype: int64"
            ]
          },
          "metadata": {},
          "execution_count": 67
        }
      ]
    },
    {
      "cell_type": "code",
      "source": [
        "df['kode_ICD4'] = df['kode_ICD4'].astype('str')"
      ],
      "metadata": {
        "id": "bHh5YejNgXcd"
      },
      "execution_count": null,
      "outputs": []
    },
    {
      "cell_type": "code",
      "source": [
        "#kolom 12 diisi mode\n",
        "df['jenis_poli'] = df['jenis_poli'].fillna(1.0)\n",
        "#kolom 15 diisi kode_ICD4[:3]\n",
        "icd3 = []\n",
        "for i in df['kode_ICD4']:\n",
        "  icd3.append(i[:3])\n",
        "df['kode_ICD3'] = icd3"
      ],
      "metadata": {
        "id": "NwwzKRAISnXM"
      },
      "execution_count": null,
      "outputs": []
    },
    {
      "cell_type": "code",
      "source": [
        "icd3"
      ],
      "metadata": {
        "id": "fkyV5U3rcbrY"
      },
      "execution_count": null,
      "outputs": []
    },
    {
      "cell_type": "code",
      "source": [
        "len(df['kode_ICD4'][0])"
      ],
      "metadata": {
        "colab": {
          "base_uri": "https://localhost:8080/"
        },
        "id": "Olrzn_5IbRxN",
        "outputId": "74791ac7-9d2b-4d22-8103-336871e0b443"
      },
      "execution_count": null,
      "outputs": [
        {
          "output_type": "execute_result",
          "data": {
            "text/plain": [
              "4"
            ]
          },
          "metadata": {},
          "execution_count": 71
        }
      ]
    },
    {
      "cell_type": "code",
      "source": [
        "df.isna().sum()"
      ],
      "metadata": {
        "colab": {
          "base_uri": "https://localhost:8080/"
        },
        "id": "0YAweisikkgo",
        "outputId": "6e6b42a3-bc7e-4ddd-8f5a-f6df30cb186c"
      },
      "execution_count": null,
      "outputs": [
        {
          "output_type": "execute_result",
          "data": {
            "text/plain": [
              "no_peserta             0\n",
              "no_kel                 0\n",
              "bobot                  0\n",
              "id_kunj                0\n",
              "tgl_datang             0\n",
              "tgl_pulang             0\n",
              "prov                   0\n",
              "kab                    0\n",
              "kepemilikan            0\n",
              "jenis                  0\n",
              "tipe                   0\n",
              "tingkat_pelayanan      0\n",
              "jenis_poli             0\n",
              "segmen_peserta         0\n",
              "kode_ICD               0\n",
              "kode_ICD3              0\n",
              "kode_ICD4              0\n",
              "ICD4_diagnosis         0\n",
              "prov_rujukan           0\n",
              "kab_rujukan            0\n",
              "kepemilikan_rujukan    0\n",
              "jenis_rujukan          0\n",
              "tipe_rujukan           0\n",
              "poli_rujukan           0\n",
              "jenis_kunjungan        0\n",
              "dtype: int64"
            ]
          },
          "metadata": {},
          "execution_count": 72
        }
      ]
    },
    {
      "cell_type": "markdown",
      "source": [
        "## Drop"
      ],
      "metadata": {
        "id": "VgLjMynRyHMg"
      }
    },
    {
      "cell_type": "code",
      "source": [
        "df = df.drop(['ICD4_diagnosis'], axis=1)\n",
        "df.info()"
      ],
      "metadata": {
        "id": "YANaPEyEyI0r",
        "colab": {
          "base_uri": "https://localhost:8080/"
        },
        "outputId": "eb55bd08-1d9b-458d-e551-96024cc18922"
      },
      "execution_count": null,
      "outputs": [
        {
          "output_type": "stream",
          "name": "stdout",
          "text": [
            "<class 'pandas.core.frame.DataFrame'>\n",
            "RangeIndex: 1014225 entries, 0 to 1014224\n",
            "Data columns (total 24 columns):\n",
            " #   Column               Non-Null Count    Dtype         \n",
            "---  ------               --------------    -----         \n",
            " 0   no_peserta           1014225 non-null  float64       \n",
            " 1   no_kel               1014225 non-null  int64         \n",
            " 2   bobot                1014225 non-null  float64       \n",
            " 3   id_kunj              1014225 non-null  object        \n",
            " 4   tgl_datang           1014225 non-null  datetime64[ns]\n",
            " 5   tgl_pulang           1014225 non-null  datetime64[ns]\n",
            " 6   prov                 1014225 non-null  int64         \n",
            " 7   kab                  1014225 non-null  int64         \n",
            " 8   kepemilikan          1014225 non-null  int64         \n",
            " 9   jenis                1014225 non-null  int64         \n",
            " 10  tipe                 1014225 non-null  int64         \n",
            " 11  tingkat_pelayanan    1014225 non-null  int64         \n",
            " 12  jenis_poli           1014225 non-null  int64         \n",
            " 13  segmen_peserta       1014225 non-null  int64         \n",
            " 14  kode_ICD             1014225 non-null  int64         \n",
            " 15  kode_ICD3            1014225 non-null  object        \n",
            " 16  kode_ICD4            1014225 non-null  object        \n",
            " 17  prov_rujukan         1014225 non-null  int64         \n",
            " 18  kab_rujukan          1014225 non-null  int64         \n",
            " 19  kepemilikan_rujukan  1014225 non-null  int64         \n",
            " 20  jenis_rujukan        1014225 non-null  int64         \n",
            " 21  tipe_rujukan         1014225 non-null  int64         \n",
            " 22  poli_rujukan         1014225 non-null  int64         \n",
            " 23  jenis_kunjungan      1014225 non-null  int64         \n",
            "dtypes: datetime64[ns](2), float64(2), int64(17), object(3)\n",
            "memory usage: 185.7+ MB\n"
          ]
        }
      ]
    },
    {
      "cell_type": "markdown",
      "source": [
        "# Feature Engineering"
      ],
      "metadata": {
        "id": "yBEkyyuDTCGw"
      }
    },
    {
      "cell_type": "markdown",
      "source": [
        "##Jumlah per peserta"
      ],
      "metadata": {
        "id": "o8mVi6i8TEQk"
      }
    },
    {
      "cell_type": "code",
      "source": [
        "df.groupby(['no_peserta']).head()"
      ],
      "metadata": {
        "colab": {
          "base_uri": "https://localhost:8080/",
          "height": 487
        },
        "id": "_xRyHfOOVEqR",
        "outputId": "f7b6bbed-72ae-4f64-91c8-323cdbf60463"
      },
      "execution_count": null,
      "outputs": [
        {
          "output_type": "execute_result",
          "data": {
            "text/plain": [
              "          no_peserta     no_kel       bobot           id_kunj tgl_datang  \\\n",
              "0         95085112.0   26931775    2.626307  449590620P000054 2020-06-17   \n",
              "1        224470578.0  227368233    1.051830  467490619P000001 2019-06-01   \n",
              "2         63871289.0   62313678  364.741455  254321219Y002368 2019-12-21   \n",
              "3         29915626.0  113446188    1.050523   88681119P000020 2019-11-04   \n",
              "4        189355720.0   69855169   30.044949   97010720P000238 2020-07-15   \n",
              "...              ...        ...         ...               ...        ...   \n",
              "4056887   24766757.0   44813505   16.388153   25380419Y000191 2019-04-22   \n",
              "4056889   18267669.0   90970599  299.083801        1042794066 2019-11-08   \n",
              "4056892  212666736.0   91270403   14.246229        1285820875 2020-07-29   \n",
              "4056893   30859241.0   30859241    3.886934  315641120P000514 2020-11-14   \n",
              "4056894    8859416.0    8859416    6.146070         962412926 2019-08-16   \n",
              "\n",
              "        tgl_pulang  prov   kab  kepemilikan  jenis  ...  kode_ICD3  kode_ICD4  \\\n",
              "0       2020-06-17    51  5171            9      3  ...         K2       K297   \n",
              "1       2019-06-01    35  3516            9      2  ...         Z3       Z309   \n",
              "2       2019-12-21    34  3402            3      1  ...         I1        I10   \n",
              "3       2019-11-04    35  3509            3      1  ...         I1       I110   \n",
              "4       2020-07-15    62  6206            3      1  ...         I1        I10   \n",
              "...            ...   ...   ...          ...    ...  ...        ...        ...   \n",
              "4056887 2019-04-22    53  5302            3      1  ...         J0        J09   \n",
              "4056889 2019-11-08    73  7309            3      1  ...         99       9999   \n",
              "4056892 2020-07-29    35  3505            9      3  ...         99       9999   \n",
              "4056893 2020-11-14    35  3514            9      2  ...         H2       H269   \n",
              "4056894 2019-08-16    11  1171            4      2  ...         99       9999   \n",
              "\n",
              "         prov_rujukan  kab_rujukan  kepemilikan_rujukan jenis_rujukan  \\\n",
              "0                  98         9998                   98            98   \n",
              "1                  98         9998                   98            98   \n",
              "2                  98         9998                   98            98   \n",
              "3                  98         9998                   98            98   \n",
              "4                  98         9998                   98            98   \n",
              "...               ...          ...                  ...           ...   \n",
              "4056887            98         9998                   98            98   \n",
              "4056889            98         9998                   98            98   \n",
              "4056892            98         9998                   98            98   \n",
              "4056893            35         3514                    9             2   \n",
              "4056894            98         9998                   98            98   \n",
              "\n",
              "        tipe_rujukan  poli_rujukan  jenis_kunjungan  status_pulang  \n",
              "0                 98            98                1    Belum_Sehat  \n",
              "1                 98            98                1    Belum_Sehat  \n",
              "2                 98            98                1    Belum_Sehat  \n",
              "3                 98            98                1    Belum_Sehat  \n",
              "4                 98            98                1    Belum_Sehat  \n",
              "...              ...           ...              ...            ...  \n",
              "4056887           98            98                1    Belum_Sehat  \n",
              "4056889           98            98                2          Sehat  \n",
              "4056892           98            98                2          Sehat  \n",
              "4056893           14            99                1    Belum_Sehat  \n",
              "4056894           98            98                2          Sehat  \n",
              "\n",
              "[2507818 rows x 25 columns]"
            ],
            "text/html": [
              "\n",
              "  <div id=\"df-c8433633-a60d-44d7-b912-756ecebecb82\">\n",
              "    <div class=\"colab-df-container\">\n",
              "      <div>\n",
              "<style scoped>\n",
              "    .dataframe tbody tr th:only-of-type {\n",
              "        vertical-align: middle;\n",
              "    }\n",
              "\n",
              "    .dataframe tbody tr th {\n",
              "        vertical-align: top;\n",
              "    }\n",
              "\n",
              "    .dataframe thead th {\n",
              "        text-align: right;\n",
              "    }\n",
              "</style>\n",
              "<table border=\"1\" class=\"dataframe\">\n",
              "  <thead>\n",
              "    <tr style=\"text-align: right;\">\n",
              "      <th></th>\n",
              "      <th>no_peserta</th>\n",
              "      <th>no_kel</th>\n",
              "      <th>bobot</th>\n",
              "      <th>id_kunj</th>\n",
              "      <th>tgl_datang</th>\n",
              "      <th>tgl_pulang</th>\n",
              "      <th>prov</th>\n",
              "      <th>kab</th>\n",
              "      <th>kepemilikan</th>\n",
              "      <th>jenis</th>\n",
              "      <th>...</th>\n",
              "      <th>kode_ICD3</th>\n",
              "      <th>kode_ICD4</th>\n",
              "      <th>prov_rujukan</th>\n",
              "      <th>kab_rujukan</th>\n",
              "      <th>kepemilikan_rujukan</th>\n",
              "      <th>jenis_rujukan</th>\n",
              "      <th>tipe_rujukan</th>\n",
              "      <th>poli_rujukan</th>\n",
              "      <th>jenis_kunjungan</th>\n",
              "      <th>status_pulang</th>\n",
              "    </tr>\n",
              "  </thead>\n",
              "  <tbody>\n",
              "    <tr>\n",
              "      <th>0</th>\n",
              "      <td>95085112.0</td>\n",
              "      <td>26931775</td>\n",
              "      <td>2.626307</td>\n",
              "      <td>449590620P000054</td>\n",
              "      <td>2020-06-17</td>\n",
              "      <td>2020-06-17</td>\n",
              "      <td>51</td>\n",
              "      <td>5171</td>\n",
              "      <td>9</td>\n",
              "      <td>3</td>\n",
              "      <td>...</td>\n",
              "      <td>K2</td>\n",
              "      <td>K297</td>\n",
              "      <td>98</td>\n",
              "      <td>9998</td>\n",
              "      <td>98</td>\n",
              "      <td>98</td>\n",
              "      <td>98</td>\n",
              "      <td>98</td>\n",
              "      <td>1</td>\n",
              "      <td>Belum_Sehat</td>\n",
              "    </tr>\n",
              "    <tr>\n",
              "      <th>1</th>\n",
              "      <td>224470578.0</td>\n",
              "      <td>227368233</td>\n",
              "      <td>1.051830</td>\n",
              "      <td>467490619P000001</td>\n",
              "      <td>2019-06-01</td>\n",
              "      <td>2019-06-01</td>\n",
              "      <td>35</td>\n",
              "      <td>3516</td>\n",
              "      <td>9</td>\n",
              "      <td>2</td>\n",
              "      <td>...</td>\n",
              "      <td>Z3</td>\n",
              "      <td>Z309</td>\n",
              "      <td>98</td>\n",
              "      <td>9998</td>\n",
              "      <td>98</td>\n",
              "      <td>98</td>\n",
              "      <td>98</td>\n",
              "      <td>98</td>\n",
              "      <td>1</td>\n",
              "      <td>Belum_Sehat</td>\n",
              "    </tr>\n",
              "    <tr>\n",
              "      <th>2</th>\n",
              "      <td>63871289.0</td>\n",
              "      <td>62313678</td>\n",
              "      <td>364.741455</td>\n",
              "      <td>254321219Y002368</td>\n",
              "      <td>2019-12-21</td>\n",
              "      <td>2019-12-21</td>\n",
              "      <td>34</td>\n",
              "      <td>3402</td>\n",
              "      <td>3</td>\n",
              "      <td>1</td>\n",
              "      <td>...</td>\n",
              "      <td>I1</td>\n",
              "      <td>I10</td>\n",
              "      <td>98</td>\n",
              "      <td>9998</td>\n",
              "      <td>98</td>\n",
              "      <td>98</td>\n",
              "      <td>98</td>\n",
              "      <td>98</td>\n",
              "      <td>1</td>\n",
              "      <td>Belum_Sehat</td>\n",
              "    </tr>\n",
              "    <tr>\n",
              "      <th>3</th>\n",
              "      <td>29915626.0</td>\n",
              "      <td>113446188</td>\n",
              "      <td>1.050523</td>\n",
              "      <td>88681119P000020</td>\n",
              "      <td>2019-11-04</td>\n",
              "      <td>2019-11-04</td>\n",
              "      <td>35</td>\n",
              "      <td>3509</td>\n",
              "      <td>3</td>\n",
              "      <td>1</td>\n",
              "      <td>...</td>\n",
              "      <td>I1</td>\n",
              "      <td>I110</td>\n",
              "      <td>98</td>\n",
              "      <td>9998</td>\n",
              "      <td>98</td>\n",
              "      <td>98</td>\n",
              "      <td>98</td>\n",
              "      <td>98</td>\n",
              "      <td>1</td>\n",
              "      <td>Belum_Sehat</td>\n",
              "    </tr>\n",
              "    <tr>\n",
              "      <th>4</th>\n",
              "      <td>189355720.0</td>\n",
              "      <td>69855169</td>\n",
              "      <td>30.044949</td>\n",
              "      <td>97010720P000238</td>\n",
              "      <td>2020-07-15</td>\n",
              "      <td>2020-07-15</td>\n",
              "      <td>62</td>\n",
              "      <td>6206</td>\n",
              "      <td>3</td>\n",
              "      <td>1</td>\n",
              "      <td>...</td>\n",
              "      <td>I1</td>\n",
              "      <td>I10</td>\n",
              "      <td>98</td>\n",
              "      <td>9998</td>\n",
              "      <td>98</td>\n",
              "      <td>98</td>\n",
              "      <td>98</td>\n",
              "      <td>98</td>\n",
              "      <td>1</td>\n",
              "      <td>Belum_Sehat</td>\n",
              "    </tr>\n",
              "    <tr>\n",
              "      <th>...</th>\n",
              "      <td>...</td>\n",
              "      <td>...</td>\n",
              "      <td>...</td>\n",
              "      <td>...</td>\n",
              "      <td>...</td>\n",
              "      <td>...</td>\n",
              "      <td>...</td>\n",
              "      <td>...</td>\n",
              "      <td>...</td>\n",
              "      <td>...</td>\n",
              "      <td>...</td>\n",
              "      <td>...</td>\n",
              "      <td>...</td>\n",
              "      <td>...</td>\n",
              "      <td>...</td>\n",
              "      <td>...</td>\n",
              "      <td>...</td>\n",
              "      <td>...</td>\n",
              "      <td>...</td>\n",
              "      <td>...</td>\n",
              "      <td>...</td>\n",
              "    </tr>\n",
              "    <tr>\n",
              "      <th>4056887</th>\n",
              "      <td>24766757.0</td>\n",
              "      <td>44813505</td>\n",
              "      <td>16.388153</td>\n",
              "      <td>25380419Y000191</td>\n",
              "      <td>2019-04-22</td>\n",
              "      <td>2019-04-22</td>\n",
              "      <td>53</td>\n",
              "      <td>5302</td>\n",
              "      <td>3</td>\n",
              "      <td>1</td>\n",
              "      <td>...</td>\n",
              "      <td>J0</td>\n",
              "      <td>J09</td>\n",
              "      <td>98</td>\n",
              "      <td>9998</td>\n",
              "      <td>98</td>\n",
              "      <td>98</td>\n",
              "      <td>98</td>\n",
              "      <td>98</td>\n",
              "      <td>1</td>\n",
              "      <td>Belum_Sehat</td>\n",
              "    </tr>\n",
              "    <tr>\n",
              "      <th>4056889</th>\n",
              "      <td>18267669.0</td>\n",
              "      <td>90970599</td>\n",
              "      <td>299.083801</td>\n",
              "      <td>1042794066</td>\n",
              "      <td>2019-11-08</td>\n",
              "      <td>2019-11-08</td>\n",
              "      <td>73</td>\n",
              "      <td>7309</td>\n",
              "      <td>3</td>\n",
              "      <td>1</td>\n",
              "      <td>...</td>\n",
              "      <td>99</td>\n",
              "      <td>9999</td>\n",
              "      <td>98</td>\n",
              "      <td>9998</td>\n",
              "      <td>98</td>\n",
              "      <td>98</td>\n",
              "      <td>98</td>\n",
              "      <td>98</td>\n",
              "      <td>2</td>\n",
              "      <td>Sehat</td>\n",
              "    </tr>\n",
              "    <tr>\n",
              "      <th>4056892</th>\n",
              "      <td>212666736.0</td>\n",
              "      <td>91270403</td>\n",
              "      <td>14.246229</td>\n",
              "      <td>1285820875</td>\n",
              "      <td>2020-07-29</td>\n",
              "      <td>2020-07-29</td>\n",
              "      <td>35</td>\n",
              "      <td>3505</td>\n",
              "      <td>9</td>\n",
              "      <td>3</td>\n",
              "      <td>...</td>\n",
              "      <td>99</td>\n",
              "      <td>9999</td>\n",
              "      <td>98</td>\n",
              "      <td>9998</td>\n",
              "      <td>98</td>\n",
              "      <td>98</td>\n",
              "      <td>98</td>\n",
              "      <td>98</td>\n",
              "      <td>2</td>\n",
              "      <td>Sehat</td>\n",
              "    </tr>\n",
              "    <tr>\n",
              "      <th>4056893</th>\n",
              "      <td>30859241.0</td>\n",
              "      <td>30859241</td>\n",
              "      <td>3.886934</td>\n",
              "      <td>315641120P000514</td>\n",
              "      <td>2020-11-14</td>\n",
              "      <td>2020-11-14</td>\n",
              "      <td>35</td>\n",
              "      <td>3514</td>\n",
              "      <td>9</td>\n",
              "      <td>2</td>\n",
              "      <td>...</td>\n",
              "      <td>H2</td>\n",
              "      <td>H269</td>\n",
              "      <td>35</td>\n",
              "      <td>3514</td>\n",
              "      <td>9</td>\n",
              "      <td>2</td>\n",
              "      <td>14</td>\n",
              "      <td>99</td>\n",
              "      <td>1</td>\n",
              "      <td>Belum_Sehat</td>\n",
              "    </tr>\n",
              "    <tr>\n",
              "      <th>4056894</th>\n",
              "      <td>8859416.0</td>\n",
              "      <td>8859416</td>\n",
              "      <td>6.146070</td>\n",
              "      <td>962412926</td>\n",
              "      <td>2019-08-16</td>\n",
              "      <td>2019-08-16</td>\n",
              "      <td>11</td>\n",
              "      <td>1171</td>\n",
              "      <td>4</td>\n",
              "      <td>2</td>\n",
              "      <td>...</td>\n",
              "      <td>99</td>\n",
              "      <td>9999</td>\n",
              "      <td>98</td>\n",
              "      <td>9998</td>\n",
              "      <td>98</td>\n",
              "      <td>98</td>\n",
              "      <td>98</td>\n",
              "      <td>98</td>\n",
              "      <td>2</td>\n",
              "      <td>Sehat</td>\n",
              "    </tr>\n",
              "  </tbody>\n",
              "</table>\n",
              "<p>2507818 rows × 25 columns</p>\n",
              "</div>\n",
              "      <button class=\"colab-df-convert\" onclick=\"convertToInteractive('df-c8433633-a60d-44d7-b912-756ecebecb82')\"\n",
              "              title=\"Convert this dataframe to an interactive table.\"\n",
              "              style=\"display:none;\">\n",
              "        \n",
              "  <svg xmlns=\"http://www.w3.org/2000/svg\" height=\"24px\"viewBox=\"0 0 24 24\"\n",
              "       width=\"24px\">\n",
              "    <path d=\"M0 0h24v24H0V0z\" fill=\"none\"/>\n",
              "    <path d=\"M18.56 5.44l.94 2.06.94-2.06 2.06-.94-2.06-.94-.94-2.06-.94 2.06-2.06.94zm-11 1L8.5 8.5l.94-2.06 2.06-.94-2.06-.94L8.5 2.5l-.94 2.06-2.06.94zm10 10l.94 2.06.94-2.06 2.06-.94-2.06-.94-.94-2.06-.94 2.06-2.06.94z\"/><path d=\"M17.41 7.96l-1.37-1.37c-.4-.4-.92-.59-1.43-.59-.52 0-1.04.2-1.43.59L10.3 9.45l-7.72 7.72c-.78.78-.78 2.05 0 2.83L4 21.41c.39.39.9.59 1.41.59.51 0 1.02-.2 1.41-.59l7.78-7.78 2.81-2.81c.8-.78.8-2.07 0-2.86zM5.41 20L4 18.59l7.72-7.72 1.47 1.35L5.41 20z\"/>\n",
              "  </svg>\n",
              "      </button>\n",
              "      \n",
              "  <style>\n",
              "    .colab-df-container {\n",
              "      display:flex;\n",
              "      flex-wrap:wrap;\n",
              "      gap: 12px;\n",
              "    }\n",
              "\n",
              "    .colab-df-convert {\n",
              "      background-color: #E8F0FE;\n",
              "      border: none;\n",
              "      border-radius: 50%;\n",
              "      cursor: pointer;\n",
              "      display: none;\n",
              "      fill: #1967D2;\n",
              "      height: 32px;\n",
              "      padding: 0 0 0 0;\n",
              "      width: 32px;\n",
              "    }\n",
              "\n",
              "    .colab-df-convert:hover {\n",
              "      background-color: #E2EBFA;\n",
              "      box-shadow: 0px 1px 2px rgba(60, 64, 67, 0.3), 0px 1px 3px 1px rgba(60, 64, 67, 0.15);\n",
              "      fill: #174EA6;\n",
              "    }\n",
              "\n",
              "    [theme=dark] .colab-df-convert {\n",
              "      background-color: #3B4455;\n",
              "      fill: #D2E3FC;\n",
              "    }\n",
              "\n",
              "    [theme=dark] .colab-df-convert:hover {\n",
              "      background-color: #434B5C;\n",
              "      box-shadow: 0px 1px 3px 1px rgba(0, 0, 0, 0.15);\n",
              "      filter: drop-shadow(0px 1px 2px rgba(0, 0, 0, 0.3));\n",
              "      fill: #FFFFFF;\n",
              "    }\n",
              "  </style>\n",
              "\n",
              "      <script>\n",
              "        const buttonEl =\n",
              "          document.querySelector('#df-c8433633-a60d-44d7-b912-756ecebecb82 button.colab-df-convert');\n",
              "        buttonEl.style.display =\n",
              "          google.colab.kernel.accessAllowed ? 'block' : 'none';\n",
              "\n",
              "        async function convertToInteractive(key) {\n",
              "          const element = document.querySelector('#df-c8433633-a60d-44d7-b912-756ecebecb82');\n",
              "          const dataTable =\n",
              "            await google.colab.kernel.invokeFunction('convertToInteractive',\n",
              "                                                     [key], {});\n",
              "          if (!dataTable) return;\n",
              "\n",
              "          const docLinkHtml = 'Like what you see? Visit the ' +\n",
              "            '<a target=\"_blank\" href=https://colab.research.google.com/notebooks/data_table.ipynb>data table notebook</a>'\n",
              "            + ' to learn more about interactive tables.';\n",
              "          element.innerHTML = '';\n",
              "          dataTable['output_type'] = 'display_data';\n",
              "          await google.colab.output.renderOutput(dataTable, element);\n",
              "          const docLink = document.createElement('div');\n",
              "          docLink.innerHTML = docLinkHtml;\n",
              "          element.appendChild(docLink);\n",
              "        }\n",
              "      </script>\n",
              "    </div>\n",
              "  </div>\n",
              "  "
            ]
          },
          "metadata": {},
          "execution_count": 20
        }
      ]
    },
    {
      "cell_type": "markdown",
      "source": [
        "jumlah kunjungan"
      ],
      "metadata": {
        "id": "dTLYgBsNTLJK"
      }
    },
    {
      "cell_type": "code",
      "source": [
        "df.groupby(['no_peserta']).size()"
      ],
      "metadata": {
        "id": "395iCrofU2Yd",
        "colab": {
          "base_uri": "https://localhost:8080/"
        },
        "outputId": "af8110c4-46c9-4b16-c388-b7e170ddbbfa"
      },
      "execution_count": null,
      "outputs": [
        {
          "output_type": "execute_result",
          "data": {
            "text/plain": [
              "no_peserta\n",
              "15.0           1\n",
              "101.0          1\n",
              "218.0          3\n",
              "349.0          1\n",
              "814.0          1\n",
              "              ..\n",
              "455361705.0    2\n",
              "455362964.0    3\n",
              "455369713.0    1\n",
              "455372039.0    2\n",
              "455377139.0    1\n",
              "Length: 478035, dtype: int64"
            ]
          },
          "metadata": {},
          "execution_count": 74
        }
      ]
    },
    {
      "cell_type": "code",
      "source": [
        "dup_id = df.groupby(['no_peserta']).size()\n",
        "dup_id_pes = []\n",
        "for i in df['no_peserta']:\n",
        "  dup_id_pes.append(dup_id[i])\n",
        "len(dup_id_pes)"
      ],
      "metadata": {
        "id": "-LBZp9UMTRsu",
        "colab": {
          "base_uri": "https://localhost:8080/"
        },
        "outputId": "0d781383-47e9-42cf-c115-58f4ecfc6604"
      },
      "execution_count": null,
      "outputs": [
        {
          "output_type": "execute_result",
          "data": {
            "text/plain": [
              "1014225"
            ]
          },
          "metadata": {},
          "execution_count": 75
        }
      ]
    },
    {
      "cell_type": "markdown",
      "source": [
        "jumlah pulang tidak sehat dan sehat"
      ],
      "metadata": {
        "id": "QQQBwTOzTNMs"
      }
    },
    {
      "cell_type": "code",
      "source": [
        "pes_pul = pd.DataFrame(df.groupby(['no_peserta', 'status_pulang']).size().reset_index())\n",
        "pes_pul"
      ],
      "metadata": {
        "colab": {
          "base_uri": "https://localhost:8080/",
          "height": 423
        },
        "id": "BBIi_0cyXjoR",
        "outputId": "2a56d490-e902-4f33-d0bd-953c94919f83"
      },
      "execution_count": null,
      "outputs": [
        {
          "output_type": "execute_result",
          "data": {
            "text/plain": [
              "          no_peserta status_pulang  0\n",
              "0               15.0         Sehat  1\n",
              "1              218.0   Belum_Sehat  2\n",
              "2              218.0         Sehat  8\n",
              "3              349.0         Sehat  2\n",
              "4              370.0   Belum_Sehat  1\n",
              "...              ...           ... ..\n",
              "1034174  455379400.0   Belum_Sehat  1\n",
              "1034175  455380114.0   Belum_Sehat  2\n",
              "1034176  455382357.0   Belum_Sehat  1\n",
              "1034177  455387636.0   Belum_Sehat  1\n",
              "1034178  455388519.0   Belum_Sehat  1\n",
              "\n",
              "[1034179 rows x 3 columns]"
            ],
            "text/html": [
              "\n",
              "  <div id=\"df-275ef38a-cccd-4cb3-a06f-38c5ab95737f\">\n",
              "    <div class=\"colab-df-container\">\n",
              "      <div>\n",
              "<style scoped>\n",
              "    .dataframe tbody tr th:only-of-type {\n",
              "        vertical-align: middle;\n",
              "    }\n",
              "\n",
              "    .dataframe tbody tr th {\n",
              "        vertical-align: top;\n",
              "    }\n",
              "\n",
              "    .dataframe thead th {\n",
              "        text-align: right;\n",
              "    }\n",
              "</style>\n",
              "<table border=\"1\" class=\"dataframe\">\n",
              "  <thead>\n",
              "    <tr style=\"text-align: right;\">\n",
              "      <th></th>\n",
              "      <th>no_peserta</th>\n",
              "      <th>status_pulang</th>\n",
              "      <th>0</th>\n",
              "    </tr>\n",
              "  </thead>\n",
              "  <tbody>\n",
              "    <tr>\n",
              "      <th>0</th>\n",
              "      <td>15.0</td>\n",
              "      <td>Sehat</td>\n",
              "      <td>1</td>\n",
              "    </tr>\n",
              "    <tr>\n",
              "      <th>1</th>\n",
              "      <td>218.0</td>\n",
              "      <td>Belum_Sehat</td>\n",
              "      <td>2</td>\n",
              "    </tr>\n",
              "    <tr>\n",
              "      <th>2</th>\n",
              "      <td>218.0</td>\n",
              "      <td>Sehat</td>\n",
              "      <td>8</td>\n",
              "    </tr>\n",
              "    <tr>\n",
              "      <th>3</th>\n",
              "      <td>349.0</td>\n",
              "      <td>Sehat</td>\n",
              "      <td>2</td>\n",
              "    </tr>\n",
              "    <tr>\n",
              "      <th>4</th>\n",
              "      <td>370.0</td>\n",
              "      <td>Belum_Sehat</td>\n",
              "      <td>1</td>\n",
              "    </tr>\n",
              "    <tr>\n",
              "      <th>...</th>\n",
              "      <td>...</td>\n",
              "      <td>...</td>\n",
              "      <td>...</td>\n",
              "    </tr>\n",
              "    <tr>\n",
              "      <th>1034174</th>\n",
              "      <td>455379400.0</td>\n",
              "      <td>Belum_Sehat</td>\n",
              "      <td>1</td>\n",
              "    </tr>\n",
              "    <tr>\n",
              "      <th>1034175</th>\n",
              "      <td>455380114.0</td>\n",
              "      <td>Belum_Sehat</td>\n",
              "      <td>2</td>\n",
              "    </tr>\n",
              "    <tr>\n",
              "      <th>1034176</th>\n",
              "      <td>455382357.0</td>\n",
              "      <td>Belum_Sehat</td>\n",
              "      <td>1</td>\n",
              "    </tr>\n",
              "    <tr>\n",
              "      <th>1034177</th>\n",
              "      <td>455387636.0</td>\n",
              "      <td>Belum_Sehat</td>\n",
              "      <td>1</td>\n",
              "    </tr>\n",
              "    <tr>\n",
              "      <th>1034178</th>\n",
              "      <td>455388519.0</td>\n",
              "      <td>Belum_Sehat</td>\n",
              "      <td>1</td>\n",
              "    </tr>\n",
              "  </tbody>\n",
              "</table>\n",
              "<p>1034179 rows × 3 columns</p>\n",
              "</div>\n",
              "      <button class=\"colab-df-convert\" onclick=\"convertToInteractive('df-275ef38a-cccd-4cb3-a06f-38c5ab95737f')\"\n",
              "              title=\"Convert this dataframe to an interactive table.\"\n",
              "              style=\"display:none;\">\n",
              "        \n",
              "  <svg xmlns=\"http://www.w3.org/2000/svg\" height=\"24px\"viewBox=\"0 0 24 24\"\n",
              "       width=\"24px\">\n",
              "    <path d=\"M0 0h24v24H0V0z\" fill=\"none\"/>\n",
              "    <path d=\"M18.56 5.44l.94 2.06.94-2.06 2.06-.94-2.06-.94-.94-2.06-.94 2.06-2.06.94zm-11 1L8.5 8.5l.94-2.06 2.06-.94-2.06-.94L8.5 2.5l-.94 2.06-2.06.94zm10 10l.94 2.06.94-2.06 2.06-.94-2.06-.94-.94-2.06-.94 2.06-2.06.94z\"/><path d=\"M17.41 7.96l-1.37-1.37c-.4-.4-.92-.59-1.43-.59-.52 0-1.04.2-1.43.59L10.3 9.45l-7.72 7.72c-.78.78-.78 2.05 0 2.83L4 21.41c.39.39.9.59 1.41.59.51 0 1.02-.2 1.41-.59l7.78-7.78 2.81-2.81c.8-.78.8-2.07 0-2.86zM5.41 20L4 18.59l7.72-7.72 1.47 1.35L5.41 20z\"/>\n",
              "  </svg>\n",
              "      </button>\n",
              "      \n",
              "  <style>\n",
              "    .colab-df-container {\n",
              "      display:flex;\n",
              "      flex-wrap:wrap;\n",
              "      gap: 12px;\n",
              "    }\n",
              "\n",
              "    .colab-df-convert {\n",
              "      background-color: #E8F0FE;\n",
              "      border: none;\n",
              "      border-radius: 50%;\n",
              "      cursor: pointer;\n",
              "      display: none;\n",
              "      fill: #1967D2;\n",
              "      height: 32px;\n",
              "      padding: 0 0 0 0;\n",
              "      width: 32px;\n",
              "    }\n",
              "\n",
              "    .colab-df-convert:hover {\n",
              "      background-color: #E2EBFA;\n",
              "      box-shadow: 0px 1px 2px rgba(60, 64, 67, 0.3), 0px 1px 3px 1px rgba(60, 64, 67, 0.15);\n",
              "      fill: #174EA6;\n",
              "    }\n",
              "\n",
              "    [theme=dark] .colab-df-convert {\n",
              "      background-color: #3B4455;\n",
              "      fill: #D2E3FC;\n",
              "    }\n",
              "\n",
              "    [theme=dark] .colab-df-convert:hover {\n",
              "      background-color: #434B5C;\n",
              "      box-shadow: 0px 1px 3px 1px rgba(0, 0, 0, 0.15);\n",
              "      filter: drop-shadow(0px 1px 2px rgba(0, 0, 0, 0.3));\n",
              "      fill: #FFFFFF;\n",
              "    }\n",
              "  </style>\n",
              "\n",
              "      <script>\n",
              "        const buttonEl =\n",
              "          document.querySelector('#df-275ef38a-cccd-4cb3-a06f-38c5ab95737f button.colab-df-convert');\n",
              "        buttonEl.style.display =\n",
              "          google.colab.kernel.accessAllowed ? 'block' : 'none';\n",
              "\n",
              "        async function convertToInteractive(key) {\n",
              "          const element = document.querySelector('#df-275ef38a-cccd-4cb3-a06f-38c5ab95737f');\n",
              "          const dataTable =\n",
              "            await google.colab.kernel.invokeFunction('convertToInteractive',\n",
              "                                                     [key], {});\n",
              "          if (!dataTable) return;\n",
              "\n",
              "          const docLinkHtml = 'Like what you see? Visit the ' +\n",
              "            '<a target=\"_blank\" href=https://colab.research.google.com/notebooks/data_table.ipynb>data table notebook</a>'\n",
              "            + ' to learn more about interactive tables.';\n",
              "          element.innerHTML = '';\n",
              "          dataTable['output_type'] = 'display_data';\n",
              "          await google.colab.output.renderOutput(dataTable, element);\n",
              "          const docLink = document.createElement('div');\n",
              "          docLink.innerHTML = docLinkHtml;\n",
              "          element.appendChild(docLink);\n",
              "        }\n",
              "      </script>\n",
              "    </div>\n",
              "  </div>\n",
              "  "
            ]
          },
          "metadata": {},
          "execution_count": 37
        }
      ]
    },
    {
      "cell_type": "code",
      "source": [
        "pes_pul.info()"
      ],
      "metadata": {
        "colab": {
          "base_uri": "https://localhost:8080/"
        },
        "id": "jkOzVF8TYlUw",
        "outputId": "a0bf2f69-2b9c-467a-93fd-e16c953dea84"
      },
      "execution_count": null,
      "outputs": [
        {
          "output_type": "stream",
          "name": "stdout",
          "text": [
            "<class 'pandas.core.frame.DataFrame'>\n",
            "RangeIndex: 1034179 entries, 0 to 1034178\n",
            "Data columns (total 3 columns):\n",
            " #   Column         Non-Null Count    Dtype  \n",
            "---  ------         --------------    -----  \n",
            " 0   no_peserta     1034179 non-null  float64\n",
            " 1   status_pulang  1034179 non-null  object \n",
            " 2   0              1034179 non-null  int64  \n",
            "dtypes: float64(1), int64(1), object(1)\n",
            "memory usage: 23.7+ MB\n"
          ]
        }
      ]
    },
    {
      "cell_type": "code",
      "source": [
        "tdk_sehat = []\n",
        "sehat = []\n",
        "for i in range(len(df['no_peserta'])):\n",
        "  print(i)\n",
        "  if len(pes_pul.loc[(pes_pul['no_peserta'] == df['no_peserta'][i]) & (pes_pul['status_pulang'] == 'Belum_Sehat')]) != 0:\n",
        "    tdk_sehat.append(pes_pul.loc[(pes_pul['no_peserta'] == df['no_peserta'][i]) & (pes_pul['status_pulang'] == 'Belum_Sehat')][0])\n",
        "  else:\n",
        "    tdk_sehat.append(0)\n",
        "  if len(pes_pul.loc[(pes_pul['no_peserta'] == df['no_peserta'][i]) & (pes_pul['status_pulang'] == 'Sehat')]) != 0:\n",
        "    sehat.append(pes_pul.loc[(pes_pul['no_peserta'] == df['no_peserta'][i]) & (pes_pul['status_pulang'] == 'Sehat')][0])\n",
        "  else:\n",
        "    sehat.append(0)\n",
        "print(len(tdk_sehat), len(sehat))"
      ],
      "metadata": {
        "id": "lp8ss14uVfi_"
      },
      "execution_count": null,
      "outputs": []
    },
    {
      "cell_type": "code",
      "source": [
        "df['jum_kunj'] = dup_id_pes\n",
        "# df['pul_sehat'] = sehat\n",
        "# df['pul_tida'] = tdk_sehat"
      ],
      "metadata": {
        "id": "rrkNQLZOle7L"
      },
      "execution_count": null,
      "outputs": []
    },
    {
      "cell_type": "code",
      "source": [
        "'9999' in df['kode_ICD4']"
      ],
      "metadata": {
        "colab": {
          "base_uri": "https://localhost:8080/"
        },
        "id": "4sVxGMYIYkUS",
        "outputId": "308471ee-8666-441e-e819-39f7da314bed"
      },
      "execution_count": null,
      "outputs": [
        {
          "output_type": "execute_result",
          "data": {
            "text/plain": [
              "False"
            ]
          },
          "metadata": {},
          "execution_count": 77
        }
      ]
    },
    {
      "cell_type": "code",
      "source": [
        "huruf = []\n",
        "angka = []\n",
        "for i in df['kode_ICD4']:\n",
        "  angka.append(i[1:])\n",
        "  huruf.append(i[0])"
      ],
      "metadata": {
        "id": "_qoA5Z-l-Hvr"
      },
      "execution_count": null,
      "outputs": []
    },
    {
      "cell_type": "code",
      "source": [
        "df['kodeICD_huruf'] = huruf"
      ],
      "metadata": {
        "id": "1s5MPil_ec99"
      },
      "execution_count": null,
      "outputs": []
    },
    {
      "cell_type": "code",
      "source": [
        "df['kodeICD_angka'] = angka"
      ],
      "metadata": {
        "id": "KRiKZbmzez6U"
      },
      "execution_count": null,
      "outputs": []
    },
    {
      "cell_type": "code",
      "source": [
        "df.isna().sum()"
      ],
      "metadata": {
        "colab": {
          "base_uri": "https://localhost:8080/"
        },
        "id": "RUZu0HAEXuYK",
        "outputId": "d3daee9c-2015-414e-af12-70b0e445a807"
      },
      "execution_count": null,
      "outputs": [
        {
          "output_type": "execute_result",
          "data": {
            "text/plain": [
              "no_peserta             0\n",
              "no_kel                 0\n",
              "bobot                  0\n",
              "id_kunj                0\n",
              "tgl_datang             0\n",
              "tgl_pulang             0\n",
              "prov                   0\n",
              "kab                    0\n",
              "kepemilikan            0\n",
              "jenis                  0\n",
              "tipe                   0\n",
              "tingkat_pelayanan      0\n",
              "jenis_poli             0\n",
              "segmen_peserta         0\n",
              "kode_ICD               0\n",
              "kode_ICD3              0\n",
              "kode_ICD4              0\n",
              "prov_rujukan           0\n",
              "kab_rujukan            0\n",
              "kepemilikan_rujukan    0\n",
              "jenis_rujukan          0\n",
              "tipe_rujukan           0\n",
              "poli_rujukan           0\n",
              "jenis_kunjungan        0\n",
              "jum_kunj               0\n",
              "kodeICD_huruf          0\n",
              "kodeICD_angka          0\n",
              "dtype: int64"
            ]
          },
          "metadata": {},
          "execution_count": 81
        }
      ]
    },
    {
      "cell_type": "code",
      "source": [
        "df['kodeICD_angka'] = df['kodeICD_angka'].astype('float')"
      ],
      "metadata": {
        "id": "Rd62wEYbfG6B"
      },
      "execution_count": null,
      "outputs": []
    },
    {
      "cell_type": "code",
      "source": [
        "hari_inap = (df['tgl_pulang'] - df['tgl_datang']).dt.days\n",
        "df['jml_hari'] = hari_inap"
      ],
      "metadata": {
        "id": "XFuUiTOL-NIP"
      },
      "execution_count": null,
      "outputs": []
    },
    {
      "cell_type": "code",
      "source": [
        "df.info()"
      ],
      "metadata": {
        "colab": {
          "base_uri": "https://localhost:8080/"
        },
        "id": "dTH5TYNRe16w",
        "outputId": "9881864f-a037-4865-819c-514b421b4cff"
      },
      "execution_count": null,
      "outputs": [
        {
          "output_type": "stream",
          "name": "stdout",
          "text": [
            "<class 'pandas.core.frame.DataFrame'>\n",
            "RangeIndex: 1014225 entries, 0 to 1014224\n",
            "Data columns (total 28 columns):\n",
            " #   Column               Non-Null Count    Dtype         \n",
            "---  ------               --------------    -----         \n",
            " 0   no_peserta           1014225 non-null  float64       \n",
            " 1   no_kel               1014225 non-null  int64         \n",
            " 2   bobot                1014225 non-null  float64       \n",
            " 3   id_kunj              1014225 non-null  object        \n",
            " 4   tgl_datang           1014225 non-null  datetime64[ns]\n",
            " 5   tgl_pulang           1014225 non-null  datetime64[ns]\n",
            " 6   prov                 1014225 non-null  int64         \n",
            " 7   kab                  1014225 non-null  int64         \n",
            " 8   kepemilikan          1014225 non-null  int64         \n",
            " 9   jenis                1014225 non-null  int64         \n",
            " 10  tipe                 1014225 non-null  int64         \n",
            " 11  tingkat_pelayanan    1014225 non-null  int64         \n",
            " 12  jenis_poli           1014225 non-null  int64         \n",
            " 13  segmen_peserta       1014225 non-null  int64         \n",
            " 14  kode_ICD             1014225 non-null  int64         \n",
            " 15  kode_ICD3            1014225 non-null  object        \n",
            " 16  kode_ICD4            1014225 non-null  object        \n",
            " 17  prov_rujukan         1014225 non-null  int64         \n",
            " 18  kab_rujukan          1014225 non-null  int64         \n",
            " 19  kepemilikan_rujukan  1014225 non-null  int64         \n",
            " 20  jenis_rujukan        1014225 non-null  int64         \n",
            " 21  tipe_rujukan         1014225 non-null  int64         \n",
            " 22  poli_rujukan         1014225 non-null  int64         \n",
            " 23  jenis_kunjungan      1014225 non-null  int64         \n",
            " 24  jum_kunj             1014225 non-null  int64         \n",
            " 25  kodeICD_huruf        1014225 non-null  object        \n",
            " 26  kodeICD_angka        1014225 non-null  float64       \n",
            " 27  jml_hari             1014225 non-null  int64         \n",
            "dtypes: datetime64[ns](2), float64(3), int64(19), object(4)\n",
            "memory usage: 216.7+ MB\n"
          ]
        }
      ]
    },
    {
      "cell_type": "code",
      "source": [
        "df['tgl_datang'] = pd.to_datetime(df.tgl_datang, format='%Y-%m-%d').values.astype(\"float64\")\n",
        "df['tgl_pulang'] = pd.to_datetime(df.tgl_datang, format='%Y-%m-%d').values.astype(\"float64\")"
      ],
      "metadata": {
        "id": "0tFcTCY2fIJO"
      },
      "execution_count": null,
      "outputs": []
    },
    {
      "cell_type": "code",
      "source": [
        "df.to_csv('/content/drive/MyDrive/BDC/test-siap-encode.csv')"
      ],
      "metadata": {
        "id": "PiB51QnzfQyd"
      },
      "execution_count": null,
      "outputs": []
    },
    {
      "cell_type": "markdown",
      "source": [
        "# EDA"
      ],
      "metadata": {
        "id": "BU7ZA5Ipy6zD"
      }
    },
    {
      "cell_type": "markdown",
      "source": [
        "## Encoding"
      ],
      "metadata": {
        "id": "OLktuddYyEY-"
      }
    },
    {
      "cell_type": "code",
      "source": [
        "import pandas as pd\n",
        "\n",
        "test = pd.read_csv(\"/content/drive/MyDrive/BDC/test-siap-encode.csv\", sep=\",\")\n",
        "test.info()"
      ],
      "metadata": {
        "id": "_MKyniVgyDKK",
        "colab": {
          "base_uri": "https://localhost:8080/"
        },
        "outputId": "f44b24a8-6191-4737-e105-5a66db898e8c"
      },
      "execution_count": null,
      "outputs": [
        {
          "output_type": "stream",
          "name": "stderr",
          "text": [
            "/usr/local/lib/python3.7/dist-packages/IPython/core/interactiveshell.py:3326: DtypeWarning: Columns (4,16,17,26) have mixed types.Specify dtype option on import or set low_memory=False.\n",
            "  exec(code_obj, self.user_global_ns, self.user_ns)\n"
          ]
        },
        {
          "output_type": "stream",
          "name": "stdout",
          "text": [
            "<class 'pandas.core.frame.DataFrame'>\n",
            "RangeIndex: 1014225 entries, 0 to 1014224\n",
            "Data columns (total 29 columns):\n",
            " #   Column               Non-Null Count    Dtype  \n",
            "---  ------               --------------    -----  \n",
            " 0   Unnamed: 0           1014225 non-null  int64  \n",
            " 1   no_peserta           1014225 non-null  float64\n",
            " 2   no_kel               1014225 non-null  int64  \n",
            " 3   bobot                1014225 non-null  float64\n",
            " 4   id_kunj              1014225 non-null  object \n",
            " 5   tgl_datang           1014225 non-null  float64\n",
            " 6   tgl_pulang           1014225 non-null  float64\n",
            " 7   prov                 1014225 non-null  int64  \n",
            " 8   kab                  1014225 non-null  int64  \n",
            " 9   kepemilikan          1014225 non-null  int64  \n",
            " 10  jenis                1014225 non-null  int64  \n",
            " 11  tipe                 1014225 non-null  int64  \n",
            " 12  tingkat_pelayanan    1014225 non-null  int64  \n",
            " 13  jenis_poli           1014225 non-null  int64  \n",
            " 14  segmen_peserta       1014225 non-null  int64  \n",
            " 15  kode_ICD             1014225 non-null  int64  \n",
            " 16  kode_ICD3            1014225 non-null  object \n",
            " 17  kode_ICD4            1014225 non-null  object \n",
            " 18  prov_rujukan         1014225 non-null  int64  \n",
            " 19  kab_rujukan          1014225 non-null  int64  \n",
            " 20  kepemilikan_rujukan  1014225 non-null  int64  \n",
            " 21  jenis_rujukan        1014225 non-null  int64  \n",
            " 22  tipe_rujukan         1014225 non-null  int64  \n",
            " 23  poli_rujukan         1014225 non-null  int64  \n",
            " 24  jenis_kunjungan      1014225 non-null  int64  \n",
            " 25  jum_kunj             1014225 non-null  int64  \n",
            " 26  kodeICD_huruf        1014225 non-null  object \n",
            " 27  kodeICD_angka        1014225 non-null  float64\n",
            " 28  jml_hari             1014225 non-null  int64  \n",
            "dtypes: float64(5), int64(20), object(4)\n",
            "memory usage: 224.4+ MB\n"
          ]
        }
      ]
    },
    {
      "cell_type": "code",
      "source": [
        "train = pd.read_csv(\"/content/drive/MyDrive/BDC/train-siap-encode.csv\", sep=\",\")\n",
        "train.info()"
      ],
      "metadata": {
        "colab": {
          "base_uri": "https://localhost:8080/",
          "height": 188
        },
        "id": "VXSdkcRwllyj",
        "outputId": "6b23c1ca-4953-411e-9272-544eaf88a56e"
      },
      "execution_count": null,
      "outputs": [
        {
          "output_type": "error",
          "ename": "NameError",
          "evalue": "ignored",
          "traceback": [
            "\u001b[0;31m---------------------------------------------------------------------------\u001b[0m",
            "\u001b[0;31mNameError\u001b[0m                                 Traceback (most recent call last)",
            "\u001b[0;32m<ipython-input-1-7c8d1e32c029>\u001b[0m in \u001b[0;36m<module>\u001b[0;34m\u001b[0m\n\u001b[0;32m----> 1\u001b[0;31m \u001b[0mtrain\u001b[0m \u001b[0;34m=\u001b[0m \u001b[0mpd\u001b[0m\u001b[0;34m.\u001b[0m\u001b[0mread_csv\u001b[0m\u001b[0;34m(\u001b[0m\u001b[0;34m\"/content/drive/MyDrive/BDC/train-siap-encode.csv\"\u001b[0m\u001b[0;34m,\u001b[0m \u001b[0msep\u001b[0m\u001b[0;34m=\u001b[0m\u001b[0;34m\",\"\u001b[0m\u001b[0;34m)\u001b[0m\u001b[0;34m\u001b[0m\u001b[0;34m\u001b[0m\u001b[0m\n\u001b[0m\u001b[1;32m      2\u001b[0m \u001b[0mtrain\u001b[0m\u001b[0;34m.\u001b[0m\u001b[0minfo\u001b[0m\u001b[0;34m(\u001b[0m\u001b[0;34m)\u001b[0m\u001b[0;34m\u001b[0m\u001b[0;34m\u001b[0m\u001b[0m\n",
            "\u001b[0;31mNameError\u001b[0m: name 'pd' is not defined"
          ]
        }
      ]
    },
    {
      "cell_type": "code",
      "source": [
        "import pandas as pd\n",
        "test = pd.read_csv('/content/drive/MyDrive/BDC/test-icd3-icd4-jenis_kunj-encode.csv')"
      ],
      "metadata": {
        "colab": {
          "base_uri": "https://localhost:8080/"
        },
        "id": "v_wTq6ll-f0Y",
        "outputId": "6762478d-5a0e-4ef9-fe60-4412ef44cd11"
      },
      "execution_count": null,
      "outputs": [
        {
          "output_type": "stream",
          "name": "stderr",
          "text": [
            "/usr/local/lib/python3.7/dist-packages/IPython/core/interactiveshell.py:3326: DtypeWarning: Columns (22) have mixed types.Specify dtype option on import or set low_memory=False.\n",
            "  exec(code_obj, self.user_global_ns, self.user_ns)\n"
          ]
        }
      ]
    },
    {
      "cell_type": "code",
      "source": [
        "from sklearn.preprocessing import OneHotEncoder\n",
        "from sklearn.preprocessing import LabelEncoder"
      ],
      "metadata": {
        "id": "-obM3jtAyN-O"
      },
      "execution_count": null,
      "outputs": []
    },
    {
      "cell_type": "code",
      "source": [
        "list_df = ['kode_ICD_huruf', 'kode_ICD_angka']\n",
        "hasil_encode_train = pd.DataFrame()"
      ],
      "metadata": {
        "id": "YZts-FnTPc4N"
      },
      "execution_count": null,
      "outputs": []
    },
    {
      "cell_type": "code",
      "source": [
        "df['kodeICD_huruf'] = df['kodeICD_huruf'].astype('str')\n",
        "df['kodeICD_angka'] = df['kodeICD_angka'].astype('str')"
      ],
      "metadata": {
        "id": "RfTKzfS6PwrK"
      },
      "execution_count": null,
      "outputs": []
    },
    {
      "cell_type": "code",
      "source": [
        "df.info()"
      ],
      "metadata": {
        "colab": {
          "base_uri": "https://localhost:8080/"
        },
        "id": "uMOatdiCQqQp",
        "outputId": "769d245d-0e96-4a7d-c714-34a2cb92c3a8"
      },
      "execution_count": null,
      "outputs": [
        {
          "output_type": "stream",
          "name": "stdout",
          "text": [
            "<class 'pandas.core.frame.DataFrame'>\n",
            "RangeIndex: 4056897 entries, 0 to 4056896\n",
            "Data columns (total 29 columns):\n",
            " #   Column               Dtype  \n",
            "---  ------               -----  \n",
            " 0   no_peserta           float64\n",
            " 1   no_kel               int64  \n",
            " 2   bobot                float64\n",
            " 3   id_kunj              object \n",
            " 4   tgl_datang           float64\n",
            " 5   tgl_pulang           float64\n",
            " 6   prov                 int64  \n",
            " 7   kab                  int64  \n",
            " 8   kepemilikan          int64  \n",
            " 9   jenis                int64  \n",
            " 10  tipe                 int64  \n",
            " 11  tingkat_pelayanan    int64  \n",
            " 12  jenis_poli           float64\n",
            " 13  segmen_peserta       int64  \n",
            " 14  kode_ICD             int64  \n",
            " 15  kode_ICD3            object \n",
            " 16  kode_ICD4            object \n",
            " 17  prov_rujukan         int64  \n",
            " 18  kab_rujukan          int64  \n",
            " 19  kepemilikan_rujukan  int64  \n",
            " 20  jenis_rujukan        int64  \n",
            " 21  tipe_rujukan         int64  \n",
            " 22  poli_rujukan         int64  \n",
            " 23  jenis_kunjungan      int64  \n",
            " 24  status_pulang        object \n",
            " 25  jum_kunj             int64  \n",
            " 26  kodeICD_huruf        object \n",
            " 27  kodeICD_angka        float64\n",
            " 28  jml_hari             int64  \n",
            "dtypes: float64(6), int64(18), object(5)\n",
            "memory usage: 897.6+ MB\n"
          ]
        }
      ]
    },
    {
      "cell_type": "code",
      "source": [
        "list_df = ['kode_ICD4', 'kode_ICD3','jenis_kunjungan']\n",
        "hasil_encode_test = pd.DataFrame()\n",
        "hasil_encode_train = pd.DataFrame()"
      ],
      "metadata": {
        "id": "rpnAIwMzmNus"
      },
      "execution_count": null,
      "outputs": []
    },
    {
      "cell_type": "code",
      "source": [
        "train['kode_ICD4'] = train['kode_ICD4'].astype('str')\n",
        "test['kode_ICD4'] = train['kode_ICD4'].astype('str')\n",
        "train['kode_ICD3'] = train['kode_ICD3'].astype('str')\n",
        "test['kode_ICD3'] = train['kode_ICD3'].astype('str')\n",
        "train['kode_ICD3'] = train['kode_ICD3'].astype('str')\n",
        "test['kode_ICD3'] = train['kode_ICD3'].astype('str')"
      ],
      "metadata": {
        "id": "GL0aJQsQnH0n"
      },
      "execution_count": null,
      "outputs": []
    },
    {
      "cell_type": "code",
      "source": [
        "from sklearn import preprocessing\n",
        "le = preprocessing.LabelEncoder()\n",
        "for i in list_df:\n",
        "    print(i)\n",
        "    le.fit(list(set(list(train[i].unique()) + list(test[i].unique()))))\n",
        "    # list(le.classes_)\n",
        "    hasil_encode_test[i] = le.transform(test[i])\n",
        "    hasil_encode_train[i] = le.transform(train[i])"
      ],
      "metadata": {
        "colab": {
          "base_uri": "https://localhost:8080/"
        },
        "id": "-cPkek7Cmizd",
        "outputId": "73fafe27-4233-4fbd-fe70-82268fd412eb"
      },
      "execution_count": null,
      "outputs": [
        {
          "output_type": "stream",
          "name": "stdout",
          "text": [
            "kode_ICD4\n",
            "kode_ICD3\n",
            "jenis_kunjungan\n"
          ]
        }
      ]
    },
    {
      "cell_type": "code",
      "source": [
        "hasil_encode_test.info()"
      ],
      "metadata": {
        "colab": {
          "base_uri": "https://localhost:8080/"
        },
        "id": "b45boHKbnwm5",
        "outputId": "9fea8bb7-518e-4732-81eb-6dc0a64994ba"
      },
      "execution_count": null,
      "outputs": [
        {
          "output_type": "stream",
          "name": "stdout",
          "text": [
            "<class 'pandas.core.frame.DataFrame'>\n",
            "RangeIndex: 1014225 entries, 0 to 1014224\n",
            "Data columns (total 3 columns):\n",
            " #   Column           Non-Null Count    Dtype\n",
            "---  ------           --------------    -----\n",
            " 0   kode_ICD4        1014225 non-null  int64\n",
            " 1   kode_ICD3        1014225 non-null  int64\n",
            " 2   jenis_kunjungan  1014225 non-null  int64\n",
            "dtypes: int64(3)\n",
            "memory usage: 23.2 MB\n"
          ]
        }
      ]
    },
    {
      "cell_type": "code",
      "source": [
        "test['id_kunj'] = test['id_kunj'].astype('str')"
      ],
      "metadata": {
        "id": "0ATd4V6VpzEg"
      },
      "execution_count": null,
      "outputs": []
    },
    {
      "cell_type": "code",
      "source": [
        "#perform label encoding\n",
        "test[['no_kel_enc', 'id_kunj_enc']] = test[['no_kel', 'id_kunj']].apply(LabelEncoder().fit_transform)\n",
        "\n",
        "#view udpated DataFrame\n",
        "# print(df)"
      ],
      "metadata": {
        "id": "55sHuP9fyQq1",
        "colab": {
          "base_uri": "https://localhost:8080/",
          "height": 380
        },
        "outputId": "56cc27f8-085f-4e0b-85df-dd67d308762b"
      },
      "execution_count": null,
      "outputs": [
        {
          "output_type": "error",
          "ename": "KeyError",
          "evalue": "ignored",
          "traceback": [
            "\u001b[0;31m---------------------------------------------------------------------------\u001b[0m",
            "\u001b[0;31mKeyError\u001b[0m                                  Traceback (most recent call last)",
            "\u001b[0;32m<ipython-input-3-a85e0e307af8>\u001b[0m in \u001b[0;36m<module>\u001b[0;34m\u001b[0m\n\u001b[1;32m      1\u001b[0m \u001b[0;31m#perform label encoding\u001b[0m\u001b[0;34m\u001b[0m\u001b[0;34m\u001b[0m\u001b[0;34m\u001b[0m\u001b[0m\n\u001b[0;32m----> 2\u001b[0;31m \u001b[0mtest\u001b[0m\u001b[0;34m[\u001b[0m\u001b[0;34m[\u001b[0m\u001b[0;34m'no_kel_enc'\u001b[0m\u001b[0;34m,\u001b[0m \u001b[0;34m'id_kunj_enc'\u001b[0m\u001b[0;34m]\u001b[0m\u001b[0;34m]\u001b[0m \u001b[0;34m=\u001b[0m \u001b[0mtest\u001b[0m\u001b[0;34m[\u001b[0m\u001b[0;34m[\u001b[0m\u001b[0;34m'no_kel'\u001b[0m\u001b[0;34m,\u001b[0m \u001b[0;34m'id_kunj'\u001b[0m\u001b[0;34m]\u001b[0m\u001b[0;34m]\u001b[0m\u001b[0;34m.\u001b[0m\u001b[0mapply\u001b[0m\u001b[0;34m(\u001b[0m\u001b[0mLabelEncoder\u001b[0m\u001b[0;34m(\u001b[0m\u001b[0;34m)\u001b[0m\u001b[0;34m.\u001b[0m\u001b[0mfit_transform\u001b[0m\u001b[0;34m)\u001b[0m\u001b[0;34m\u001b[0m\u001b[0;34m\u001b[0m\u001b[0m\n\u001b[0m\u001b[1;32m      3\u001b[0m \u001b[0;34m\u001b[0m\u001b[0m\n\u001b[1;32m      4\u001b[0m \u001b[0;31m#view udpated DataFrame\u001b[0m\u001b[0;34m\u001b[0m\u001b[0;34m\u001b[0m\u001b[0;34m\u001b[0m\u001b[0m\n\u001b[1;32m      5\u001b[0m \u001b[0;31m# print(df)\u001b[0m\u001b[0;34m\u001b[0m\u001b[0;34m\u001b[0m\u001b[0;34m\u001b[0m\u001b[0m\n",
            "\u001b[0;32m/usr/local/lib/python3.7/dist-packages/pandas/core/frame.py\u001b[0m in \u001b[0;36m__getitem__\u001b[0;34m(self, key)\u001b[0m\n\u001b[1;32m   3462\u001b[0m             \u001b[0;32mif\u001b[0m \u001b[0mis_iterator\u001b[0m\u001b[0;34m(\u001b[0m\u001b[0mkey\u001b[0m\u001b[0;34m)\u001b[0m\u001b[0;34m:\u001b[0m\u001b[0;34m\u001b[0m\u001b[0;34m\u001b[0m\u001b[0m\n\u001b[1;32m   3463\u001b[0m                 \u001b[0mkey\u001b[0m \u001b[0;34m=\u001b[0m \u001b[0mlist\u001b[0m\u001b[0;34m(\u001b[0m\u001b[0mkey\u001b[0m\u001b[0;34m)\u001b[0m\u001b[0;34m\u001b[0m\u001b[0;34m\u001b[0m\u001b[0m\n\u001b[0;32m-> 3464\u001b[0;31m             \u001b[0mindexer\u001b[0m \u001b[0;34m=\u001b[0m \u001b[0mself\u001b[0m\u001b[0;34m.\u001b[0m\u001b[0mloc\u001b[0m\u001b[0;34m.\u001b[0m\u001b[0m_get_listlike_indexer\u001b[0m\u001b[0;34m(\u001b[0m\u001b[0mkey\u001b[0m\u001b[0;34m,\u001b[0m \u001b[0maxis\u001b[0m\u001b[0;34m=\u001b[0m\u001b[0;36m1\u001b[0m\u001b[0;34m)\u001b[0m\u001b[0;34m[\u001b[0m\u001b[0;36m1\u001b[0m\u001b[0;34m]\u001b[0m\u001b[0;34m\u001b[0m\u001b[0;34m\u001b[0m\u001b[0m\n\u001b[0m\u001b[1;32m   3465\u001b[0m \u001b[0;34m\u001b[0m\u001b[0m\n\u001b[1;32m   3466\u001b[0m         \u001b[0;31m# take() does not accept boolean indexers\u001b[0m\u001b[0;34m\u001b[0m\u001b[0;34m\u001b[0m\u001b[0;34m\u001b[0m\u001b[0m\n",
            "\u001b[0;32m/usr/local/lib/python3.7/dist-packages/pandas/core/indexing.py\u001b[0m in \u001b[0;36m_get_listlike_indexer\u001b[0;34m(self, key, axis)\u001b[0m\n\u001b[1;32m   1312\u001b[0m             \u001b[0mkeyarr\u001b[0m\u001b[0;34m,\u001b[0m \u001b[0mindexer\u001b[0m\u001b[0;34m,\u001b[0m \u001b[0mnew_indexer\u001b[0m \u001b[0;34m=\u001b[0m \u001b[0max\u001b[0m\u001b[0;34m.\u001b[0m\u001b[0m_reindex_non_unique\u001b[0m\u001b[0;34m(\u001b[0m\u001b[0mkeyarr\u001b[0m\u001b[0;34m)\u001b[0m\u001b[0;34m\u001b[0m\u001b[0;34m\u001b[0m\u001b[0m\n\u001b[1;32m   1313\u001b[0m \u001b[0;34m\u001b[0m\u001b[0m\n\u001b[0;32m-> 1314\u001b[0;31m         \u001b[0mself\u001b[0m\u001b[0;34m.\u001b[0m\u001b[0m_validate_read_indexer\u001b[0m\u001b[0;34m(\u001b[0m\u001b[0mkeyarr\u001b[0m\u001b[0;34m,\u001b[0m \u001b[0mindexer\u001b[0m\u001b[0;34m,\u001b[0m \u001b[0maxis\u001b[0m\u001b[0;34m)\u001b[0m\u001b[0;34m\u001b[0m\u001b[0;34m\u001b[0m\u001b[0m\n\u001b[0m\u001b[1;32m   1315\u001b[0m \u001b[0;34m\u001b[0m\u001b[0m\n\u001b[1;32m   1316\u001b[0m         if needs_i8_conversion(ax.dtype) or isinstance(\n",
            "\u001b[0;32m/usr/local/lib/python3.7/dist-packages/pandas/core/indexing.py\u001b[0m in \u001b[0;36m_validate_read_indexer\u001b[0;34m(self, key, indexer, axis)\u001b[0m\n\u001b[1;32m   1372\u001b[0m                 \u001b[0;32mif\u001b[0m \u001b[0muse_interval_msg\u001b[0m\u001b[0;34m:\u001b[0m\u001b[0;34m\u001b[0m\u001b[0;34m\u001b[0m\u001b[0m\n\u001b[1;32m   1373\u001b[0m                     \u001b[0mkey\u001b[0m \u001b[0;34m=\u001b[0m \u001b[0mlist\u001b[0m\u001b[0;34m(\u001b[0m\u001b[0mkey\u001b[0m\u001b[0;34m)\u001b[0m\u001b[0;34m\u001b[0m\u001b[0;34m\u001b[0m\u001b[0m\n\u001b[0;32m-> 1374\u001b[0;31m                 \u001b[0;32mraise\u001b[0m \u001b[0mKeyError\u001b[0m\u001b[0;34m(\u001b[0m\u001b[0;34mf\"None of [{key}] are in the [{axis_name}]\"\u001b[0m\u001b[0;34m)\u001b[0m\u001b[0;34m\u001b[0m\u001b[0;34m\u001b[0m\u001b[0m\n\u001b[0m\u001b[1;32m   1375\u001b[0m \u001b[0;34m\u001b[0m\u001b[0m\n\u001b[1;32m   1376\u001b[0m             \u001b[0mnot_found\u001b[0m \u001b[0;34m=\u001b[0m \u001b[0mlist\u001b[0m\u001b[0;34m(\u001b[0m\u001b[0mensure_index\u001b[0m\u001b[0;34m(\u001b[0m\u001b[0mkey\u001b[0m\u001b[0;34m)\u001b[0m\u001b[0;34m[\u001b[0m\u001b[0mmissing_mask\u001b[0m\u001b[0;34m.\u001b[0m\u001b[0mnonzero\u001b[0m\u001b[0;34m(\u001b[0m\u001b[0;34m)\u001b[0m\u001b[0;34m[\u001b[0m\u001b[0;36m0\u001b[0m\u001b[0;34m]\u001b[0m\u001b[0;34m]\u001b[0m\u001b[0;34m.\u001b[0m\u001b[0munique\u001b[0m\u001b[0;34m(\u001b[0m\u001b[0;34m)\u001b[0m\u001b[0;34m)\u001b[0m\u001b[0;34m\u001b[0m\u001b[0;34m\u001b[0m\u001b[0m\n",
            "\u001b[0;31mKeyError\u001b[0m: \"None of [Index(['no_kel', 'id_kunj'], dtype='object')] are in the [columns]\""
          ]
        }
      ]
    },
    {
      "cell_type": "code",
      "source": [
        "test[['kode_ICD3_enc', 'kode_ICD4_enc', 'jenis_kunjungan_enc']] = hasil_encode_test"
      ],
      "metadata": {
        "id": "bQ3AcAh_p8Se"
      },
      "execution_count": null,
      "outputs": []
    },
    {
      "cell_type": "code",
      "source": [
        "test = test.drop(['no_kel', 'id_kunj', 'kode_ICD3', 'kode_ICD4', 'jenis_kunjungan'], axis=1)\n",
        "test.info()"
      ],
      "metadata": {
        "id": "gNNJ7KrmyVIm",
        "colab": {
          "base_uri": "https://localhost:8080/"
        },
        "outputId": "1549e759-91f5-450e-e702-56497eb53037"
      },
      "execution_count": null,
      "outputs": [
        {
          "output_type": "stream",
          "name": "stdout",
          "text": [
            "<class 'pandas.core.frame.DataFrame'>\n",
            "RangeIndex: 1014225 entries, 0 to 1014224\n",
            "Data columns (total 29 columns):\n",
            " #   Column               Non-Null Count    Dtype  \n",
            "---  ------               --------------    -----  \n",
            " 0   Unnamed: 0           1014225 non-null  int64  \n",
            " 1   no_peserta           1014225 non-null  float64\n",
            " 2   bobot                1014225 non-null  float64\n",
            " 3   tgl_datang           1014225 non-null  float64\n",
            " 4   tgl_pulang           1014225 non-null  float64\n",
            " 5   prov                 1014225 non-null  int64  \n",
            " 6   kab                  1014225 non-null  int64  \n",
            " 7   kepemilikan          1014225 non-null  int64  \n",
            " 8   jenis                1014225 non-null  int64  \n",
            " 9   tipe                 1014225 non-null  int64  \n",
            " 10  tingkat_pelayanan    1014225 non-null  int64  \n",
            " 11  jenis_poli           1014225 non-null  int64  \n",
            " 12  segmen_peserta       1014225 non-null  int64  \n",
            " 13  kode_ICD             1014225 non-null  int64  \n",
            " 14  prov_rujukan         1014225 non-null  int64  \n",
            " 15  kab_rujukan          1014225 non-null  int64  \n",
            " 16  kepemilikan_rujukan  1014225 non-null  int64  \n",
            " 17  jenis_rujukan        1014225 non-null  int64  \n",
            " 18  tipe_rujukan         1014225 non-null  int64  \n",
            " 19  poli_rujukan         1014225 non-null  int64  \n",
            " 20  jum_kunj             1014225 non-null  int64  \n",
            " 21  kodeICD_huruf        1014225 non-null  object \n",
            " 22  kodeICD_angka        1014225 non-null  float64\n",
            " 23  jml_hari             1014225 non-null  int64  \n",
            " 24  no_kel_enc           1014225 non-null  int64  \n",
            " 25  id_kunj_enc          1014225 non-null  int64  \n",
            " 26  kode_ICD3_enc        1014225 non-null  int64  \n",
            " 27  kode_ICD4_enc        1014225 non-null  int64  \n",
            " 28  jenis_kunjungan_enc  1014225 non-null  int64  \n",
            "dtypes: float64(5), int64(23), object(1)\n",
            "memory usage: 224.4+ MB\n"
          ]
        }
      ]
    },
    {
      "cell_type": "code",
      "source": [
        "hasil_encode_train.to_csv('/content/drive/MyDrive/BDC/train-icd3-icd4-jenis_kunj-encode.csv')\n",
        "test.to_csv('/content/drive/MyDrive/BDC/test-icd3-icd4-jenis_kunj-encode.csv')"
      ],
      "metadata": {
        "id": "cqk-A0yq9NzE"
      },
      "execution_count": null,
      "outputs": []
    },
    {
      "cell_type": "code",
      "source": [
        "test['kodeICD_huruf'] = test['kodeICD_huruf'].astype('str')"
      ],
      "metadata": {
        "id": "MP8dFTJk8yAK"
      },
      "execution_count": null,
      "outputs": []
    },
    {
      "cell_type": "code",
      "source": [
        "test.info()"
      ],
      "metadata": {
        "colab": {
          "base_uri": "https://localhost:8080/"
        },
        "id": "pa1wtG-_XUuk",
        "outputId": "8e4e2d23-d648-4a72-a736-6f4744066aaf"
      },
      "execution_count": null,
      "outputs": [
        {
          "output_type": "stream",
          "name": "stdout",
          "text": [
            "<class 'pandas.core.frame.DataFrame'>\n",
            "RangeIndex: 1014225 entries, 0 to 1014224\n",
            "Data columns (total 30 columns):\n",
            " #   Column               Non-Null Count    Dtype  \n",
            "---  ------               --------------    -----  \n",
            " 0   Unnamed: 0           1014225 non-null  int64  \n",
            " 1   Unnamed: 0.1         1014225 non-null  int64  \n",
            " 2   no_peserta           1014225 non-null  float64\n",
            " 3   bobot                1014225 non-null  float64\n",
            " 4   tgl_datang           1014225 non-null  float64\n",
            " 5   tgl_pulang           1014225 non-null  float64\n",
            " 6   prov                 1014225 non-null  int64  \n",
            " 7   kab                  1014225 non-null  int64  \n",
            " 8   kepemilikan          1014225 non-null  int64  \n",
            " 9   jenis                1014225 non-null  int64  \n",
            " 10  tipe                 1014225 non-null  int64  \n",
            " 11  tingkat_pelayanan    1014225 non-null  int64  \n",
            " 12  jenis_poli           1014225 non-null  int64  \n",
            " 13  segmen_peserta       1014225 non-null  int64  \n",
            " 14  kode_ICD             1014225 non-null  int64  \n",
            " 15  prov_rujukan         1014225 non-null  int64  \n",
            " 16  kab_rujukan          1014225 non-null  int64  \n",
            " 17  kepemilikan_rujukan  1014225 non-null  int64  \n",
            " 18  jenis_rujukan        1014225 non-null  int64  \n",
            " 19  tipe_rujukan         1014225 non-null  int64  \n",
            " 20  poli_rujukan         1014225 non-null  int64  \n",
            " 21  jum_kunj             1014225 non-null  int64  \n",
            " 22  kodeICD_huruf        1014225 non-null  object \n",
            " 23  kodeICD_angka        1014225 non-null  float64\n",
            " 24  jml_hari             1014225 non-null  int64  \n",
            " 25  no_kel_enc           1014225 non-null  int64  \n",
            " 26  id_kunj_enc          1014225 non-null  int64  \n",
            " 27  kode_ICD3_enc        1014225 non-null  int64  \n",
            " 28  kode_ICD4_enc        1014225 non-null  int64  \n",
            " 29  jenis_kunjungan_enc  1014225 non-null  int64  \n",
            "dtypes: float64(5), int64(24), object(1)\n",
            "memory usage: 232.1+ MB\n"
          ]
        }
      ]
    },
    {
      "cell_type": "code",
      "source": [
        "encoder = OneHotEncoder(handle_unknown='ignore')\n",
        "encoder_df = pd.DataFrame(encoder.fit_transform(test[['prov']]).toarray())\n",
        "encoder_df.columns = encoder.get_feature_names(['Prov'])\n",
        "test = test.join(encoder_df)\n",
        "\n",
        "encoder_df = pd.DataFrame(encoder.fit_transform(test[['kepemilikan']]).toarray())\n",
        "encoder_df.columns = encoder.get_feature_names(['kepemilikan'])\n",
        "test = test.join(encoder_df)\n",
        "\n",
        "encoder_df = pd.DataFrame(encoder.fit_transform(test[['jenis']]).toarray())\n",
        "encoder_df.columns = encoder.get_feature_names(['jenis'])\n",
        "test = test.join(encoder_df)\n",
        "\n",
        "encoder_df = pd.DataFrame(encoder.fit_transform(test[['tipe']]).toarray())\n",
        "encoder_df.columns = encoder.get_feature_names(['tipe'])\n",
        "test = test.join(encoder_df)\n",
        "\n",
        "encoder_df = pd.DataFrame(encoder.fit_transform(test[['tingkat_pelayanan']]).toarray())\n",
        "encoder_df.columns = encoder.get_feature_names(['tingkat_pelayanan'])\n",
        "test = test.join(encoder_df)\n",
        "\n",
        "encoder_df = pd.DataFrame(encoder.fit_transform(test[['jenis_poli']]).toarray())\n",
        "encoder_df.columns = encoder.get_feature_names(['jenis_poli'])\n",
        "test = test.join(encoder_df)\n",
        "\n",
        "encoder_df = pd.DataFrame(encoder.fit_transform(test[['segmen_peserta']]).toarray())\n",
        "encoder_df.columns = encoder.get_feature_names(['segmen_peserta'])\n",
        "test = test.join(encoder_df)\n",
        "\n",
        "encoder = OneHotEncoder(handle_unknown='ignore')\n",
        "encoder_df = pd.DataFrame(encoder.fit_transform(test[['prov_rujukan']]).toarray())\n",
        "encoder_df.columns = encoder.get_feature_names(['prov_rujukan'])\n",
        "test = test.join(encoder_df)\n",
        "\n",
        "encoder_df = pd.DataFrame(encoder.fit_transform(test[['kepemilikan_rujukan']]).toarray())\n",
        "encoder_df.columns = encoder.get_feature_names(['kepemilikan_rujukan'])\n",
        "test = test.join(encoder_df)\n",
        "\n",
        "encoder_df = pd.DataFrame(encoder.fit_transform(test[['jenis_rujukan']]).toarray())\n",
        "encoder_df.columns = encoder.get_feature_names(['jenis_rujukan'])\n",
        "test = test.join(encoder_df)\n",
        "\n",
        "encoder_df = pd.DataFrame(encoder.fit_transform(test[['tipe_rujukan']]).toarray())\n",
        "encoder_df.columns = encoder.get_feature_names(['tipe_rujukan'])\n",
        "test = test.join(encoder_df)\n",
        "\n",
        "encoder_df = pd.DataFrame(encoder.fit_transform(test[['kodeICD_huruf']]).toarray())\n",
        "encoder_df.columns = encoder.get_feature_names(['kodeICD_huruf'])\n",
        "test = test.join(encoder_df)"
      ],
      "metadata": {
        "id": "ovzuULZzyYvs",
        "colab": {
          "base_uri": "https://localhost:8080/"
        },
        "outputId": "0c3e1a80-966d-4154-c257-b32a0e9dd8d9"
      },
      "execution_count": null,
      "outputs": [
        {
          "output_type": "stream",
          "name": "stderr",
          "text": [
            "/usr/local/lib/python3.7/dist-packages/sklearn/utils/deprecation.py:87: FutureWarning: Function get_feature_names is deprecated; get_feature_names is deprecated in 1.0 and will be removed in 1.2. Please use get_feature_names_out instead.\n",
            "  warnings.warn(msg, category=FutureWarning)\n",
            "/usr/local/lib/python3.7/dist-packages/sklearn/utils/deprecation.py:87: FutureWarning: Function get_feature_names is deprecated; get_feature_names is deprecated in 1.0 and will be removed in 1.2. Please use get_feature_names_out instead.\n",
            "  warnings.warn(msg, category=FutureWarning)\n",
            "/usr/local/lib/python3.7/dist-packages/sklearn/utils/deprecation.py:87: FutureWarning: Function get_feature_names is deprecated; get_feature_names is deprecated in 1.0 and will be removed in 1.2. Please use get_feature_names_out instead.\n",
            "  warnings.warn(msg, category=FutureWarning)\n",
            "/usr/local/lib/python3.7/dist-packages/sklearn/utils/deprecation.py:87: FutureWarning: Function get_feature_names is deprecated; get_feature_names is deprecated in 1.0 and will be removed in 1.2. Please use get_feature_names_out instead.\n",
            "  warnings.warn(msg, category=FutureWarning)\n",
            "/usr/local/lib/python3.7/dist-packages/sklearn/utils/deprecation.py:87: FutureWarning: Function get_feature_names is deprecated; get_feature_names is deprecated in 1.0 and will be removed in 1.2. Please use get_feature_names_out instead.\n",
            "  warnings.warn(msg, category=FutureWarning)\n",
            "/usr/local/lib/python3.7/dist-packages/sklearn/utils/deprecation.py:87: FutureWarning: Function get_feature_names is deprecated; get_feature_names is deprecated in 1.0 and will be removed in 1.2. Please use get_feature_names_out instead.\n",
            "  warnings.warn(msg, category=FutureWarning)\n",
            "/usr/local/lib/python3.7/dist-packages/sklearn/utils/deprecation.py:87: FutureWarning: Function get_feature_names is deprecated; get_feature_names is deprecated in 1.0 and will be removed in 1.2. Please use get_feature_names_out instead.\n",
            "  warnings.warn(msg, category=FutureWarning)\n",
            "/usr/local/lib/python3.7/dist-packages/sklearn/utils/deprecation.py:87: FutureWarning: Function get_feature_names is deprecated; get_feature_names is deprecated in 1.0 and will be removed in 1.2. Please use get_feature_names_out instead.\n",
            "  warnings.warn(msg, category=FutureWarning)\n",
            "/usr/local/lib/python3.7/dist-packages/sklearn/utils/deprecation.py:87: FutureWarning: Function get_feature_names is deprecated; get_feature_names is deprecated in 1.0 and will be removed in 1.2. Please use get_feature_names_out instead.\n",
            "  warnings.warn(msg, category=FutureWarning)\n",
            "/usr/local/lib/python3.7/dist-packages/sklearn/utils/deprecation.py:87: FutureWarning: Function get_feature_names is deprecated; get_feature_names is deprecated in 1.0 and will be removed in 1.2. Please use get_feature_names_out instead.\n",
            "  warnings.warn(msg, category=FutureWarning)\n",
            "/usr/local/lib/python3.7/dist-packages/sklearn/utils/deprecation.py:87: FutureWarning: Function get_feature_names is deprecated; get_feature_names is deprecated in 1.0 and will be removed in 1.2. Please use get_feature_names_out instead.\n",
            "  warnings.warn(msg, category=FutureWarning)\n"
          ]
        }
      ]
    },
    {
      "cell_type": "code",
      "source": [
        "test = test.drop(['Unnamed: 0', 'prov', 'kepemilikan', 'jenis', 'tipe', 'tingkat_pelayanan', 'jenis_poli', 'segmen_peserta', 'prov_rujukan', 'kepemilikan_rujukan', 'jenis_rujukan', 'tipe_rujukan', 'kodeICD_huruf'], axis=1)"
      ],
      "metadata": {
        "id": "Dg_Kltf5y5mJ",
        "colab": {
          "base_uri": "https://localhost:8080/",
          "height": 188
        },
        "outputId": "793b912c-0a58-4910-a875-f408ac0162bf"
      },
      "execution_count": null,
      "outputs": [
        {
          "output_type": "error",
          "ename": "NameError",
          "evalue": "ignored",
          "traceback": [
            "\u001b[0;31m---------------------------------------------------------------------------\u001b[0m",
            "\u001b[0;31mNameError\u001b[0m                                 Traceback (most recent call last)",
            "\u001b[0;32m<ipython-input-1-26b0f99d09c1>\u001b[0m in \u001b[0;36m<module>\u001b[0;34m\u001b[0m\n\u001b[0;32m----> 1\u001b[0;31m \u001b[0mtest\u001b[0m \u001b[0;34m=\u001b[0m \u001b[0mtest\u001b[0m\u001b[0;34m.\u001b[0m\u001b[0mdrop\u001b[0m\u001b[0;34m(\u001b[0m\u001b[0;34m[\u001b[0m\u001b[0;34m'Unnamed: 0'\u001b[0m\u001b[0;34m,\u001b[0m \u001b[0;34m'prov'\u001b[0m\u001b[0;34m,\u001b[0m \u001b[0;34m'kepemilikan'\u001b[0m\u001b[0;34m,\u001b[0m \u001b[0;34m'jenis'\u001b[0m\u001b[0;34m,\u001b[0m \u001b[0;34m'tipe'\u001b[0m\u001b[0;34m,\u001b[0m \u001b[0;34m'tingkat_pelayanan'\u001b[0m\u001b[0;34m,\u001b[0m \u001b[0;34m'jenis_poli'\u001b[0m\u001b[0;34m,\u001b[0m \u001b[0;34m'segmen_peserta'\u001b[0m\u001b[0;34m,\u001b[0m \u001b[0;34m'prov_rujukan'\u001b[0m\u001b[0;34m,\u001b[0m \u001b[0;34m'kepemilikan_rujukan'\u001b[0m\u001b[0;34m,\u001b[0m \u001b[0;34m'jenis_rujukan'\u001b[0m\u001b[0;34m,\u001b[0m \u001b[0;34m'tipe_rujukan'\u001b[0m\u001b[0;34m,\u001b[0m \u001b[0;34m'kodeICD_huruf'\u001b[0m\u001b[0;34m]\u001b[0m\u001b[0;34m,\u001b[0m \u001b[0maxis\u001b[0m\u001b[0;34m=\u001b[0m\u001b[0;36m1\u001b[0m\u001b[0;34m)\u001b[0m\u001b[0;34m\u001b[0m\u001b[0;34m\u001b[0m\u001b[0m\n\u001b[0m",
            "\u001b[0;31mNameError\u001b[0m: name 'test' is not defined"
          ]
        }
      ]
    },
    {
      "cell_type": "code",
      "source": [
        "test.to_csv('/content/drive/MyDrive/BDC/test-encoded.csv')"
      ],
      "metadata": {
        "id": "Ar989Opxy6PB",
        "colab": {
          "base_uri": "https://localhost:8080/",
          "height": 169
        },
        "outputId": "03eeaa3a-e9c9-4357-aaa3-01b3f4db5a8c"
      },
      "execution_count": null,
      "outputs": [
        {
          "output_type": "error",
          "ename": "NameError",
          "evalue": "ignored",
          "traceback": [
            "\u001b[0;31m---------------------------------------------------------------------------\u001b[0m",
            "\u001b[0;31mNameError\u001b[0m                                 Traceback (most recent call last)",
            "\u001b[0;32m<ipython-input-2-bd9865f93383>\u001b[0m in \u001b[0;36m<module>\u001b[0;34m\u001b[0m\n\u001b[0;32m----> 1\u001b[0;31m \u001b[0mtest\u001b[0m\u001b[0;34m.\u001b[0m\u001b[0mto_csv\u001b[0m\u001b[0;34m(\u001b[0m\u001b[0;34m'/content/drive/MyDrive/BDC/test-encoded.csv'\u001b[0m\u001b[0;34m)\u001b[0m\u001b[0;34m\u001b[0m\u001b[0;34m\u001b[0m\u001b[0m\n\u001b[0m",
            "\u001b[0;31mNameError\u001b[0m: name 'test' is not defined"
          ]
        }
      ]
    },
    {
      "cell_type": "code",
      "source": [
        "test.info()"
      ],
      "metadata": {
        "colab": {
          "base_uri": "https://localhost:8080/"
        },
        "id": "MnGgX6VtSyQL",
        "outputId": "54c08971-2665-4144-ab52-39e8b6fcb709"
      },
      "execution_count": null,
      "outputs": [
        {
          "output_type": "stream",
          "name": "stdout",
          "text": [
            "<class 'pandas.core.frame.DataFrame'>\n",
            "RangeIndex: 1014225 entries, 0 to 1014224\n",
            "Data columns (total 29 columns):\n",
            " #   Column               Non-Null Count    Dtype  \n",
            "---  ------               --------------    -----  \n",
            " 0   Unnamed: 0           1014225 non-null  int64  \n",
            " 1   no_peserta           1014225 non-null  float64\n",
            " 2   no_kel               1014225 non-null  int64  \n",
            " 3   bobot                1014225 non-null  float64\n",
            " 4   id_kunj              1014225 non-null  object \n",
            " 5   tgl_datang           1014225 non-null  float64\n",
            " 6   tgl_pulang           1014225 non-null  float64\n",
            " 7   prov                 1014225 non-null  int64  \n",
            " 8   kab                  1014225 non-null  int64  \n",
            " 9   kepemilikan          1014225 non-null  int64  \n",
            " 10  jenis                1014225 non-null  int64  \n",
            " 11  tipe                 1014225 non-null  int64  \n",
            " 12  tingkat_pelayanan    1014225 non-null  int64  \n",
            " 13  jenis_poli           1014225 non-null  int64  \n",
            " 14  segmen_peserta       1014225 non-null  int64  \n",
            " 15  kode_ICD             1014225 non-null  int64  \n",
            " 16  kode_ICD3            1014225 non-null  object \n",
            " 17  kode_ICD4            1014225 non-null  object \n",
            " 18  prov_rujukan         1014225 non-null  int64  \n",
            " 19  kab_rujukan          1014225 non-null  int64  \n",
            " 20  kepemilikan_rujukan  1014225 non-null  int64  \n",
            " 21  jenis_rujukan        1014225 non-null  int64  \n",
            " 22  tipe_rujukan         1014225 non-null  int64  \n",
            " 23  poli_rujukan         1014225 non-null  int64  \n",
            " 24  jenis_kunjungan      1014225 non-null  int64  \n",
            " 25  jum_kunj             1014225 non-null  int64  \n",
            " 26  kodeICD_huruf        1014225 non-null  object \n",
            " 27  kodeICD_angka        1014225 non-null  float64\n",
            " 28  jml_hari             1014225 non-null  int64  \n",
            "dtypes: float64(5), int64(20), object(4)\n",
            "memory usage: 224.4+ MB\n"
          ]
        }
      ]
    },
    {
      "cell_type": "code",
      "source": [
        "test['id_kunj'] = test['id_kunj'].astype('str')"
      ],
      "metadata": {
        "id": "o_Fii9r_WPnQ"
      },
      "execution_count": null,
      "outputs": []
    },
    {
      "cell_type": "markdown",
      "source": [
        "hilmi"
      ],
      "metadata": {
        "id": "InT1ccghW4QM"
      }
    },
    {
      "cell_type": "code",
      "source": [
        "# encoder = OneHotEncoder(handle_unknown='ignore')\n",
        "# encoder_df = pd.DataFrame(encoder.fit_transform(test[['id_kunj']]).toarray())\n",
        "# encoder_df.columns = encoder.get_feature_names(['id_kunj'])\n",
        "# df = test.join(encoder_df)\n",
        "\n",
        "# encoder_df = pd.DataFrame(encoder.fit_transform(test[['kode_ICD4']]).toarray())\n",
        "# encoder_df.columns = encoder.get_feature_names(['kode_ICD4'])\n",
        "# df = test.join(encoder_df)\n",
        "\n",
        "# encoder_df = pd.DataFrame(encoder.fit_transform(test[['kode_ICD3']]).toarray())\n",
        "# encoder_df.columns = encoder.get_feature_names(['kode_ICD3'])\n",
        "# df = test.join(encoder_df)\n",
        "\n",
        "# encoder_df = pd.DataFrame(encoder.fit_transform(test[['jenis_kunjungan']]).toarray())\n",
        "# encoder_df.columns = encoder.get_feature_names(['jenis_kunjungan'])\n",
        "# df = test.join(encoder_df)\n",
        "\n",
        "encoder = OneHotEncoder(handle_unknown='ignore')\n",
        "encoder_df = pd.DataFrame(encoder.fit_transform(test[['jenis_poli']]).toarray())\n",
        "encoder_df.columns = encoder.get_feature_names(['jenis_poli'])\n",
        "df = test.join(encoder_df)"
      ],
      "metadata": {
        "colab": {
          "base_uri": "https://localhost:8080/"
        },
        "id": "bW8LZmdmQ88q",
        "outputId": "0f973c36-1d73-43f8-a816-7596080feb96"
      },
      "execution_count": null,
      "outputs": [
        {
          "output_type": "stream",
          "name": "stderr",
          "text": [
            "/usr/local/lib/python3.7/dist-packages/sklearn/utils/deprecation.py:87: FutureWarning: Function get_feature_names is deprecated; get_feature_names is deprecated in 1.0 and will be removed in 1.2. Please use get_feature_names_out instead.\n",
            "  warnings.warn(msg, category=FutureWarning)\n"
          ]
        }
      ]
    },
    {
      "cell_type": "code",
      "source": [
        "encoder_df = pd.DataFrame(encoder.fit_transform(test[['kodeICD_huruf']]).toarray())\n",
        "encoder_df.columns = encoder.get_feature_names(['kodeICD_huruf'])\n",
        "df = test.join(encoder_df)"
      ],
      "metadata": {
        "id": "Lvg2giHOYNeA"
      },
      "execution_count": null,
      "outputs": []
    },
    {
      "cell_type": "code",
      "source": [
        "encoder_df = pd.DataFrame(encoder.fit_transform(test[['kodeICD_angka']]).toarray())\n",
        "encoder_df.columns = encoder.get_feature_names(['kodeICD_angka'])\n",
        "df = test.join(encoder_df)"
      ],
      "metadata": {
        "id": "E_MiOYj3YPJT"
      },
      "execution_count": null,
      "outputs": []
    },
    {
      "cell_type": "markdown",
      "source": [
        "## Correlation"
      ],
      "metadata": {
        "id": "9KyJDGsgwdG1"
      }
    },
    {
      "cell_type": "code",
      "source": [
        "import pandas as pd\n",
        "import numpy as np\n",
        "import seaborn as sns\n",
        "import matplotlib.pyplot as plt\n",
        "from dython import nominal\n",
        "import scipy.stats as stats"
      ],
      "metadata": {
        "id": "BA5oQGV_v_ya"
      },
      "execution_count": null,
      "outputs": []
    },
    {
      "cell_type": "code",
      "source": [
        "df = pd.read_csv(\"csv-encode.csv\", sep=\",\")"
      ],
      "metadata": {
        "id": "PeBjmY26vwMS"
      },
      "execution_count": null,
      "outputs": []
    },
    {
      "cell_type": "code",
      "source": [
        "df = df.drop(['Unnamed: 0', 'Unnamed: 0.1', 'Unnamed: 0.1.1'], axis=1)"
      ],
      "metadata": {
        "id": "OcrNvy0FwC1z"
      },
      "execution_count": null,
      "outputs": []
    },
    {
      "cell_type": "code",
      "source": [
        "df['tgl_datang'] = pd.to_datetime(df.tgl_datang, format='%Y-%m-%d')\n",
        "df['tgl_pulang'] = pd.to_datetime(df.tgl_datang, format='%Y-%m-%d')"
      ],
      "metadata": {
        "id": "3Z10rBIHwGQO"
      },
      "execution_count": null,
      "outputs": []
    },
    {
      "cell_type": "code",
      "source": [
        "x = df.drop(['status_pulang_enc', 'ICD4_diagnosis', 'kodeICD_huruf'], axis=1)"
      ],
      "metadata": {
        "id": "Fs22-1oowIN8"
      },
      "execution_count": null,
      "outputs": []
    },
    {
      "cell_type": "markdown",
      "source": [
        "### Pearson Correlation"
      ],
      "metadata": {
        "id": "Dm134MW_wfp1"
      }
    },
    {
      "cell_type": "code",
      "source": [
        "p_corr = df.drop(['ICD4_diagnosis', 'kodeICD_huruf'], axis=1).corr()"
      ],
      "metadata": {
        "id": "tx9ySGsowPja"
      },
      "execution_count": null,
      "outputs": []
    },
    {
      "cell_type": "code",
      "source": [
        "pearson = pd.DataFrame(p_corr['status_pulang_enc'])\n",
        "pearson"
      ],
      "metadata": {
        "id": "yULmu2YswSLF"
      },
      "execution_count": null,
      "outputs": []
    },
    {
      "cell_type": "code",
      "source": [
        "p_sort = pearson.sort_values(by=['status_pulang_enc'], ascending=False)\n",
        "p_sort"
      ],
      "metadata": {
        "id": "BY8Bwc-cwZMF"
      },
      "execution_count": null,
      "outputs": []
    },
    {
      "cell_type": "code",
      "source": [
        "p_sort.loc[p_sort['status_pulang_enc'] >= 0.5]"
      ],
      "metadata": {
        "id": "mnntKv66wcwg"
      },
      "execution_count": null,
      "outputs": []
    },
    {
      "cell_type": "markdown",
      "source": [
        "### Theil U Correlation"
      ],
      "metadata": {
        "id": "WBt_5SK2wi3d"
      }
    },
    {
      "cell_type": "code",
      "source": [
        "theilu = pd.DataFrame(index=['status_pulang_enc'],columns=x.columns)\n",
        "columns = x.columns\n",
        "for j in range(0,len(columns)):\n",
        "    u = nominal.theils_u(df['status_pulang_enc'].tolist(),x[columns[j]].tolist())\n",
        "    theilu.loc[:,columns[j]] = u\n",
        "theilu.fillna(value=np.nan,inplace=True)\n",
        "plt.figure(figsize=(20,1))\n",
        "sns.heatmap(theilu,annot=True,fmt='.2f')\n",
        "plt.show()"
      ],
      "metadata": {
        "id": "tDJOCVMzwfz5"
      },
      "execution_count": null,
      "outputs": []
    },
    {
      "cell_type": "code",
      "source": [
        "t_transpose = theilu.transpose().sort_values(by=['status_pulang_enc'], ascending=False)\n",
        "t_transpose"
      ],
      "metadata": {
        "id": "XP8WOg_ZwnY3"
      },
      "execution_count": null,
      "outputs": []
    },
    {
      "cell_type": "code",
      "source": [
        "t_transpose.loc[t_transpose['status_pulang_enc'] >= 0.5]"
      ],
      "metadata": {
        "id": "av0HJPA9wsK_"
      },
      "execution_count": null,
      "outputs": []
    },
    {
      "cell_type": "markdown",
      "source": [
        "### Cramers V Correlation"
      ],
      "metadata": {
        "id": "5mJsB1SqwlG8"
      }
    },
    {
      "cell_type": "code",
      "source": [
        "def cramers_corrected_stat(confusion_matrix):\n",
        "    \"\"\" calculate Cramers V statistic for categorical-categorical association.\n",
        "        uses correction from Bergsma and Wicher, \n",
        "        Journal of the Korean Statistical Society 42 (2013): 323-328\n",
        "    \"\"\"\n",
        "    chi2 = stats.chi2_contingency(confusion_matrix)[0]\n",
        "    n = confusion_matrix.sum().sum()\n",
        "    phi2 = chi2/n\n",
        "    r,k = confusion_matrix.shape\n",
        "    phi2corr = max(0, phi2 - ((k-1)*(r-1))/(n-1))    \n",
        "    rcorr = r - ((r-1)**2)/(n-1)\n",
        "    kcorr = k - ((k-1)**2)/(n-1)\n",
        "    return np.sqrt(phi2corr / min( (kcorr-1), (rcorr-1)))"
      ],
      "metadata": {
        "id": "_n_jL5cywtIH"
      },
      "execution_count": null,
      "outputs": []
    },
    {
      "cell_type": "code",
      "source": [
        "cramersv_1 = pd.DataFrame(index=['status_pulang_enc'],columns=x.columns)\n",
        "columns = x.columns\n",
        "for i in range(0,len(columns)):\n",
        "    # print(i)\n",
        "    u = cramers_corrected_stat(pd.crosstab(df['status_pulang_enc'], x[columns[i]]))\n",
        "    cramersv_1.loc[:,columns[i]] = u\n",
        "cramersv_1.fillna(value=np.nan,inplace=True)\n",
        "plt.figure(figsize=(20,1))\n",
        "sns.heatmap(cramersv_1,annot=True,fmt='.2f')\n",
        "plt.show()"
      ],
      "metadata": {
        "id": "K8iE1afZwwML"
      },
      "execution_count": null,
      "outputs": []
    },
    {
      "cell_type": "code",
      "source": [
        "c1_transpose = cramersv_1.transpose().sort_values(by=['status_pulang_enc'], ascending=False)\n",
        "c1_transpose"
      ],
      "metadata": {
        "id": "kPa_Xwcmw3PJ"
      },
      "execution_count": null,
      "outputs": []
    },
    {
      "cell_type": "code",
      "source": [
        "c1_transpose.loc[c1_transpose['status_pulang_enc'] >= 0.5]"
      ],
      "metadata": {
        "id": "jDLvUSAkw9wr"
      },
      "execution_count": null,
      "outputs": []
    },
    {
      "cell_type": "markdown",
      "source": [
        "### Chi-Square Correlation"
      ],
      "metadata": {
        "id": "ANY1ZNW9wm_P"
      }
    },
    {
      "cell_type": "code",
      "source": [
        "def chi_square(col1,col2):\n",
        "    contingency = np.array(pd.crosstab(col1, col2))\n",
        "    val = stats.chi2_contingency(contingency)\n",
        "    return val"
      ],
      "metadata": {
        "id": "aYUnoqtExCvo"
      },
      "execution_count": null,
      "outputs": []
    },
    {
      "cell_type": "markdown",
      "source": [
        "null hypothesis: col1 and col2 are independent. There are no correlation"
      ],
      "metadata": {
        "id": "-2E1QyQBxazv"
      }
    },
    {
      "cell_type": "code",
      "source": [
        "chisquare = pd.DataFrame(index=['status_pulang_enc', 'chi_square', 'p_value'],columns=x.columns)\n",
        "columns = x.columns\n",
        "sig_level = 0.05\n",
        "for j in range(0,len(columns)):\n",
        "    print(j)\n",
        "    u = chi_square(df['status_pulang_enc'],x[columns[j]])\n",
        "    if u[1] > sig_level:\n",
        "        chisquare.loc['status_pulang_enc'][columns[j]] = 0 #null hypothesis accepted\n",
        "    else:\n",
        "        chisquare.loc['status_pulang_enc'][columns[j]] = 1 #null hypothesis rejected\n",
        "    chisquare.loc['chi_square'][columns[j]] = u[0]\n",
        "    chisquare.loc['p_value'][columns[j]] = u[1]"
      ],
      "metadata": {
        "id": "HVHuxhjVxGpy"
      },
      "execution_count": null,
      "outputs": []
    },
    {
      "cell_type": "code",
      "source": [
        "chisquare.fillna(value=np.nan,inplace=True)\n",
        "plt.figure(figsize=(20,1))\n",
        "sns.heatmap(chisquare,annot=True,fmt='.2f')\n",
        "plt.show()"
      ],
      "metadata": {
        "id": "zN-PJZMaxJI9"
      },
      "execution_count": null,
      "outputs": []
    },
    {
      "cell_type": "code",
      "source": [
        "chisquare_transpose = chisquare.transpose().sort_values(by=['status_pulang_enc'], ascending=False)\n",
        "chisquare_transpose"
      ],
      "metadata": {
        "id": "o1XvYo7FxLiv"
      },
      "execution_count": null,
      "outputs": []
    },
    {
      "cell_type": "markdown",
      "source": [
        "# Modelling"
      ],
      "metadata": {
        "id": "6Pu7VmcEy8BD"
      }
    },
    {
      "cell_type": "code",
      "execution_count": null,
      "metadata": {
        "id": "_jy6htp7T4mI"
      },
      "outputs": [],
      "source": [
        "#Import Libraries\n",
        "from sklearn.preprocessing import StandardScaler\n",
        "from sklearn.tree import DecisionTreeClassifier\n",
        "from sklearn.svm import SVC\n",
        "import numpy as np\n",
        "from sklearn.model_selection import cross_val_score\n",
        "from sklearn.model_selection import train_test_split\n",
        "from sklearn.model_selection import KFold\n",
        "from sklearn.metrics import classification_report\n",
        "import statistics as stat\n",
        "from sklearn.metrics import accuracy_score\n",
        "#from sklearn.metrics import confusion_matrix\n",
        "from imblearn.over_sampling import SMOTE, ADASYN\n",
        "from collections import Counter\n",
        "# Modules used for assessing the performance of the model\n",
        "from sklearn.metrics import accuracy_score\n",
        "from sklearn.metrics import recall_score\n",
        "from sklearn.metrics import roc_auc_score\n",
        "from sklearn.metrics import f1_score\n",
        "from sklearn.metrics import confusion_matrix\n",
        "\n",
        "#Performance Report\n",
        "def generateClassificationReport(y_test,y_pred):\n",
        "    print(classification_report(y_test,y_pred))\n",
        "    print(confusion_matrix(y_test,y_pred))    \n",
        "    print('accuracy is ', accuracy_score(y_test,y_pred))"
      ]
    },
    {
      "cell_type": "code",
      "source": [
        "df = pd.read_csv(\"/content/drive/MyDrive/BDC/cramers-train.csv\", sep=\",\")\n",
        "# drop yang tidak dibutuhkan\n",
        "df = df.drop(['Unnamed: 0',\n",
        " 'kodeICD_huruf_A',\n",
        " 'kodeICD_huruf_B',\n",
        " 'kodeICD_huruf_C',\n",
        " 'kodeICD_huruf_D',\n",
        " 'kodeICD_huruf_E',\n",
        " 'kodeICD_huruf_F',\n",
        " 'kodeICD_huruf_G',\n",
        " 'kodeICD_huruf_H',\n",
        " 'kodeICD_huruf_I',\n",
        " 'kodeICD_huruf_J',\n",
        " 'kodeICD_huruf_K',\n",
        " 'kodeICD_huruf_L',\n",
        " 'kodeICD_huruf_M',\n",
        " 'kodeICD_huruf_N',\n",
        " 'kodeICD_huruf_O',\n",
        " 'kodeICD_huruf_P',\n",
        " 'kodeICD_huruf_Q',\n",
        " 'kodeICD_huruf_R',\n",
        " 'kodeICD_huruf_S',\n",
        " 'kodeICD_huruf_T',\n",
        " 'kodeICD_huruf_U',\n",
        " 'kodeICD_huruf_V',\n",
        " 'kodeICD_huruf_W',\n",
        " 'kodeICD_huruf_X',\n",
        " 'kodeICD_huruf_Y',\n",
        " 'kodeICD_huruf_Z'], axis=1)"
      ],
      "metadata": {
        "id": "92RjTLG6trYs"
      },
      "execution_count": null,
      "outputs": []
    },
    {
      "cell_type": "code",
      "source": [
        "y = df['status_pulang']\n",
        "df = df.drop(['status_pulang'], axis=1)"
      ],
      "metadata": {
        "id": "aCfQGGxAtxbU"
      },
      "execution_count": null,
      "outputs": []
    },
    {
      "cell_type": "code",
      "source": [
        "X_train, X_test, y_train, y_test = train_test_split(df, y, test_size=0.1)"
      ],
      "metadata": {
        "id": "7Ddj0-uFt2Jl"
      },
      "execution_count": null,
      "outputs": []
    },
    {
      "cell_type": "code",
      "source": [
        "test = pd.read_csv(\"/content/drive/MyDrive/BDC/cramers-test.csv\", sep=\",\")"
      ],
      "metadata": {
        "id": "Q-y1249Nt6fK"
      },
      "execution_count": null,
      "outputs": []
    },
    {
      "cell_type": "code",
      "source": [
        "test = test.rename(columns={'jenis_kunjungan_enc': 'jenis_kunjungan', \n",
        "                            'jenis_poli_1': 'jenis_poli_1.0',\n",
        "                            'jenis_poli_12': 'jenis_poli_12.0',\n",
        "                            'jenis_poli_13': 'jenis_poli_13.0',\n",
        "                            'kode_ICD3_enc': 'kode_ICD3',\n",
        "                            'kode_ICD4_enc': 'kode_ICD4'})"
      ],
      "metadata": {
        "id": "Wrum_t6at-0j"
      },
      "execution_count": null,
      "outputs": []
    },
    {
      "cell_type": "code",
      "source": [
        "test = test.drop(['Unnamed: 0',\n",
        " 'kodeICD_huruf_A',\n",
        " 'kodeICD_huruf_B',\n",
        " 'kodeICD_huruf_C',\n",
        " 'kodeICD_huruf_D',\n",
        " 'kodeICD_huruf_E',\n",
        " 'kodeICD_huruf_F',\n",
        " 'kodeICD_huruf_G',\n",
        " 'kodeICD_huruf_H',\n",
        " 'kodeICD_huruf_I',\n",
        " 'kodeICD_huruf_J',\n",
        " 'kodeICD_huruf_K',\n",
        " 'kodeICD_huruf_L',\n",
        " 'kodeICD_huruf_M',\n",
        " 'kodeICD_huruf_N',\n",
        " 'kodeICD_huruf_O',\n",
        " 'kodeICD_huruf_P',\n",
        " 'kodeICD_huruf_Q',\n",
        " 'kodeICD_huruf_R',\n",
        " 'kodeICD_huruf_S',\n",
        " 'kodeICD_huruf_T',\n",
        " 'kodeICD_huruf_U',\n",
        " 'kodeICD_huruf_V',\n",
        " 'kodeICD_huruf_W',\n",
        " 'kodeICD_huruf_X',\n",
        " 'kodeICD_huruf_Y',\n",
        " 'kodeICD_huruf_Z'], axis=1)"
      ],
      "metadata": {
        "id": "XASaoLaDt_am"
      },
      "execution_count": null,
      "outputs": []
    },
    {
      "cell_type": "code",
      "source": [
        "j = pd.read_csv('/content/drive/MyDrive/BDC/BDC Satria Data 2022/submission.csv')\n",
        "j.head()"
      ],
      "metadata": {
        "id": "EAPV_6LAuEQK"
      },
      "execution_count": null,
      "outputs": []
    },
    {
      "cell_type": "code",
      "source": [
        "j = j.rename(columns={'Unnamed: 0': 'no'})\n",
        "j.head()"
      ],
      "metadata": {
        "id": "xvv6cZgJuH0u"
      },
      "execution_count": null,
      "outputs": []
    },
    {
      "cell_type": "markdown",
      "source": [
        "## Voting Classifier"
      ],
      "metadata": {
        "id": "LyipOb5FvCmx"
      }
    },
    {
      "cell_type": "code",
      "source": [
        "from sklearn.ensemble import VotingClassifier\n",
        "from sklearn.ensemble import RandomForestClassifier\n",
        "import lightgbm as lgb\n",
        "from sklearn.linear_model import LogisticRegression\n",
        "from imblearn.ensemble import BalancedBaggingClassifier\n",
        "\n",
        "rf = RandomForestClassifier(n_estimators=50)\n",
        "lgbm = lgb.LGBMClassifier(max_depth=6, num_iterations=1000, num_leaves=50)\n",
        "bbc = BalancedBaggingClassifier(base_estimator=DecisionTreeClassifier(random_state=2), n_estimators=10,random_state=2,n_jobs=2)\n",
        "# lr=LogisticRegression(max_iter=1000)\n",
        "\n",
        "model=VotingClassifier(estimators=[('lgbm',lgbm),('rf',rf),('bbc',bbc)],voting='soft')\n",
        "model.fit(X_train, y_train)\n",
        "acc1 = []\n",
        "target_pred = model.predict(X_test)\n",
        "generateClassificationReport(y_test,target_pred)\n",
        "acc1.append(accuracy_score(y_test,target_pred))\n",
        "\n",
        "print(\"\\n F1 Score: \", f1_score(y_test, target_pred))\n",
        "print(\"\\n Recall: \", recall_score(y_test, target_pred))\n",
        "print(\"\\n Accuracy: \", stat.mean(acc1))"
      ],
      "metadata": {
        "id": "43OgB1NCt2wv"
      },
      "execution_count": null,
      "outputs": []
    },
    {
      "cell_type": "markdown",
      "source": [
        "![yy.png](data:image/png;base64,iVBORw0KGgoAAAANSUhEUgAABHQAAAIgCAYAAADkwz5tAAAAAXNSR0IArs4c6QAAAARnQU1BAACxjwv8YQUAAAAJcEhZcwAAFiUAABYlAUlSJPAAAP+lSURBVHhe7J0JnE3lG8dfaS9L2vdSWiQlQgulqCgtFKFFiqyhRdYoREiFQlpQlrJVsqW/SqVVWkRRaaOVEtrL/3wf953OXHdm7r0zd2bu+H0/n/OZuee899xz3v153ud53mKbA1wes/6Xje77H9a6FZ+sdIuXvOdS8BNCCCGEEEJsc+yz117u3Nq1XKmSJSJnhBBCFFqKFXPrfvrF7bP3nkG/vXvkZN6REoUO/PXX327tup/dz+vXuzXffuO+/nqN+2HtWrdp069S8AghhBBCCBEn2223ndurTBl35BGHu5NOOD5yVgghRGGjWLFi9vff4Ni48Ve38047uT3LlHY77LC9nc9rUqbQ8aDY2bBxk/v1t9/dn3/+5f7555/IFSGEEEIIIYQQQoiiQfHixd2OO+7gdt1lZ1di991SpsjxpFyhI4QQQgghhBBCCCHylu0if4UQQgghhBBCCCFEmiCFjhBCCCGEEEIIIUSaIYWOEEIIIYQQQgghRJohhY4QQgghhBBCCCFEmiGFjhBCCCGEEEIIIUSaIYWOEEIIIYQQQgghRJohhY4QQgghhBBCCCFEmlFsc0Dk/+T57LPIP0IIIYQQQgghhBAiW8qWjfyTPLLQEUIIIYQQQgghhEgzpNARQgghhBBCCCGESDOk0BFCCCGEEEIIIYRIM6TQEUIIIYQQQgghhEgzpNARQgghhBBCCCGESDOk0BFCCCGEEEIIIYRIM6TQEUIIIYQQQgghhEgzpNARQgghhBBCCCGESDOk0BFCCCGEEEIIIYRIM6TQEfnKP//+6x5+8klXvUEDN/vFFyNnhcgdqlciFaheFU1UrkKkhi9Wr3aXtW/vbrj9drfu558jZ0U6snnzZjdzwQJ3Uv367voePdyPP/0UuVI00Djg7L15f/KB/Chs/Pr7767v8OGu7JlnulETJ7p//vknciVvoI+ir6LPou9KZwpUobNo8WJXt0ULt/LzzyNnCi/p9KxPz5/vzr/2WvfZV19FzuSe79eudVfedJN7ctasyBnnfvrlF9f8llusoflj+Pjxkaux+WXjRvfyW2+579etszz9/Y8/Ile24O/Z8+67t7oWL4WxrCgT8mfxBx9EzgiIVa+SIad6JZzVvW2lDjIJ6DJwoLvnkUcyTVLon8L9FX0NfU5W5GW9oj+mX86pj0wVedG3JkJhHjPVXwiRGt5dtswtXrrUPfvCC25VHs5BRXLkRh4oVqyYu6BWLTcgGDeWffKJmzpnTp4L1AXJtj4O8L68N+9PPpAfhY1dd97Z3dSypWt7xRVuwtNPu7fzeP5KH0VfRZ9F35XOFJhC58+//nLPL1rkTqlUyR164IGRs6mFDq19nz5uSYKFVhDPWthY8uGHbtOvv7pTTjopciY5Su6+u6tx8snusIMOcjWrVXM777RT5ErekE71Kr9BEz1qwgRX+8orTZitH3SSfE52Fc0rCLI7clIe5He9+iEYuHoNHapV+SLOylWr3DtB3TrrlFNc8e2SH+ZS3V/lxKxgotHlrruyVToVRgr7mFnQ5ZpOoHQfMX68rdLHUkYmMg74hY2sjrxeiIomu4UV/x45jVn5gVf+8rxZQVnkl3I2EU4sX95VrlDBNTz3XFf20EMjZ9MTXw7hOuqPnBYDigoodc6pUcP1vfFG9+Ts2TYmYblTFCiK88ZE5BHe99TKld0+Zcq4OqefbvlRGEGp0z6QWy6tW9fdNXq0++SLLyJXcs/hBx9sSssaVaq4SscdFzmbnhSYQgfTpteWLHG1Tz3V7bjDDpGzqeWnQHClQf6boIa5IJ61MMFq9/+CyTkd3wH77hs569weJUu6sYMHu8+CPF38zDOuZnA9JxCurm3UyC14/HF3TtCB5DXpVK/ymwlBGQ0aMyZjwvzhypX2+bZ773XrN2ywc/lJVvUqGeKtVxs2bTJB/69A4BRFEyxyFrz2mjspGJzLHX545OwWOlx1lfVXHJ1btIiczZpU91c5QVv9/scfI5/Sh8I+ZhZ0uaYDa777zg0KJs/nNW/uhj7yiPu5AMYIERv6uMJqTYACd8qIEW5wt242RxTpD0qdM6tVs/7ywtq17XNRoCjOGxOVR+qdeaZ7ffp01+yiiyw/CisonzoGY9H0kSPdkXmoKC5TurQb1ru3GzdkiDvkgAMiZ9OTAik9tLsL33zTHRZ0/McddVTkbOEknZ41VeTVaneqUVllz3577eUm33ef+3j+/Awl3HXBYPbSG29kKHkSofLxx2cIx+Hjo+D+3BdhjpWPrEiXeiXSCwRRzIfPDuofKzsif1E/nP4guDwydaobNWmSq1G1qnt00CB37BFHRK5mJpFx4KI6dWKmXTJzpgkWlcqXdwfss4+l3ZYpXaKECRpffvNN5ExmKJ/1v/zi9i5Txu20446RsyJV3NOjx1Z1lsVMKayEEIWFApGiMF97MRAia1Wv7koFA1c0WbmG/Bwyb/TxADA7/eb77133IUPMJLhG48bu0WAi4lcvfDruc1mHDnaOv2HTyezMVnN61n///ddWIlv37OmOr1vXnoFn4ZnCxEqHWdwb776byXwRE9sLW7WyuAMz//c/16BNG3vGNr16mQ9rNFg54FfYpGNHS8d973/88cjV/8AE/qVgks1vkoZnuKZLFzdv4cJsfWKzW+1OhFimq9mZEzNRoR70u/9+K9Poco1FdmVFPaEefPvDD27stGlWt8gD3Bl8WVEOPkDa0hUr7FwYyuScq6+2ND+tX59wvcKscYcddjCrlMY33GBpsirXRNrAyOD8199+m2Ub8FxWr56resIJ9gzAZKT2aae53XbZxe2w/fZ2Li/4+LPP3JyXXrJ777nHHpGzmcmpXlFf5wb3uOLGG+39eae7H3poK/eweOoV+UBZcI38XP7pp65z//6ZvkM+hs2nqQvUAdoL9YTfpy6Sz8kSTx300K6fef55a6PZ9Ree6PpCv0Eww5z83fkdLLT4jaeCfKOfgkT6C77z6uLFGWUVfYTLg/uG+zX+0n/xHNH4vs2n5d2o17HShnntnXfcbrvumivz2UT6q+i6Ev4OR7SbCu3t86+/djcPGGDpiTMTLquwCwsxgBa+9ZarfOGFme4Z/SyUP+2DehpOxxFdt3PqW3174bnfev99ez7Klmee9/LLVg68a1YBMnMaM8N9FQf1nzYZrtc+/8mXcN5G55WHOsE7+PofPriPV1jHW66J9q0F1V/wu/GOWeH8pf/l3LnNm7s333svcvY/GCOwuL03mK8M7trVHbz//pEr8RPPOODhGejbUOpEuz3k9KyphDyjbpLnvh+kjMnrcH5CvH0b9c3aZDCHwC3ium7dLD1zgneWLrX7Fttuu7gWObYrXjzDWgJFNq5xzBW4H/Wl/wMPbDW2+DZAP0NbvTNI4+s2z8t7QKJtgPrq2xRHdL/j4f0TmeMm0rcB70VdeXDy5BzHv7wkVl2JNWb6/I8eF3x+h+eNieaVHzNzkgdSAe9zbdBXUN98XxzdX0Gs9wQ/7vgy9Z+THYeyI55xwP8+1/itvJw3+jzgNwk5MBrFeZCW8mLM55yHe+JiRFvmOfjdaHnA349r8cgj4fT+iK6PYaLnl3khj8RqL1n1ramAvA+/f3ieECbRNliQFIhCJ7u4GTTOboMHx3QNuTUo+OjGywDYrndvN/nZZ80keHUwqPUdMcKNnzHDJgK5JbtnpZN+KJhotOre3T33yitu02+/2TPwLFPnzo2k2lJxnw0modHpMItjMKeShCswJvYMsh379nXvLl9u5+jABowcaf7sno2bNrnbhw1zve65x70Rmehw31j+hR989JENLvwmaXgGBDaECgTrrCio1W4aCvXgkSlTrEzjKdfsygqYvPQcOtTdMXy41S3ygCBvfKbDYmJU7cQTLW0swZn7Q82qVbFBtf8TYddAyHzoiSdcp6BcGaAgVrkm2gYQntiBILoNoBDICoRwBkbcsM6pWdOVPeSQyJXc4Se1rMieGQh0WZFdvaJ8EWDaBu16USCcA+/ExITnzQ8QHOiwaS/UE36fukg0/Nz47+ZUBz3zg3rRqV8/a6Ph/oL2Gi24cZ/rA8ErXF/oNxhwv1izxj7HggF2TDDpnTFvnut/003uotq13XYRISKR/mJWkAZFtS+rrKC/JA/D/Rp/6b8GjhqVSfDh2XD34JpPy7tRr8mbrMB18IXXXzfzcBQX+QFjULiu5ASB9+j3pwf5TnoE3+5Be6fPSQbqTY9gskb7oJ7mRLx96zL6nAcftOejbLHYQLCiHHjXV99+O5IyM9n1w7Qd2pDvqzio/4yNsYT1acG1cN7GyitfV3gHX//zinj71oLqLxIZs8JuEj4YKJNUlC5eiA/Dd3CvSMZlLt5xAGizTwf5iQLwxBhK2HieNVXQtqmb5LnvBynjIUFfy2dPIn0b/BbU2UkzZ7qrgn7X96fMCbzwt33x4qaUxm2CMqU93XTnnW5iZPzj97gHymGgDTwQtH9c45grAPUFRRiCYCyX6sVB3aBuM4f1dZvnfSGqf09mfpET8c5xE+3bYNGSJVZXWBCK9zt5AX1AdF1hzGxz221uTDDvCyt1EiEV8kCq+Oqbb2yO4Pti31+hpIhuA/GS7DhUECQ6DqwMzt3Yv7/FhSEt5YVihbbm+3LO9Qvyk7bsxzcvD9DmU90fpkoeibdvLQzE2wYLmnxX6NCos4qbwWTysWBSSaPt1rq1e3/WLDNtfD0Q7lo2buzmv/qqWxB8NwwdZonddnNPEyhpwQL34sSJNjF4MZjU/xhMhsJxXqYEkyDgb9h0sl8wqMYKhpXdswJRsR8JGhlWBk8Fg/bKYALDMSfovDA399CQRzz2mKXzz0m6ccFz4bM3JajQTNw8RBwnkjd5sHTuXLcsmPh3uuYaWwVHCPdQ+We/8ILFgsBkmXfBnebOm2+OpPiPnYL3633DDe6N6dPdp8F3eIZpQQUtd9hh7uWgQ/zjzz8jKTOTF6vdUPbgg92shx+2Z3w+yIuszLc9lDVkVa7R5FRWgDaYQWFo0NmQp+Rtx6uvtobpNa0oNpjIkv/hiO9MqBgkT69SxXzEk6lXlB3CZqsmTaxuxyrXZNoAE8G99tjDPRMMeuQV+Uz+svr3W9Qg6rXSR551ljvriiusnna9/vo8U9aRv0y66wf332fPPSNntya7ekW+E3kfc33KiPenXuMuhttYmHjqFWVAWYTTRJtQh82n1wYDFIPnUYcfbunD7ZV2gqASFnwTIZ46COQNq+O+XfP7Y4IJPbwSmsAwkacP+ii4L/XFp+dvm2bNTDCIBZNLlGbjguPOW25x9c8+O5PAF29/gW85E+eKxxzj5j76qKWlzvJOBwbtkPaLmwXQX44NJmNc889JWp57TvD/uxHhE9Z8/73V69s6dMhwESSvHg4mi+RNVny4YoX7fPXqrQTYRIm3v8L1Yc7ChW6XoP1MuvdeyyfKlT54z9Kl3eh+/SxuTxh2VCAf8dtfGaSnXiGY8b5M4sIuLPTtWErgHunPcfg8BdwWqT8927Wz3/ZldeKxx1obejCoN2HXgHj7Vu557JFHuoWTJ7vTKld2jz/1lLswqCf/C/KDe8dyB8muH6auUv4wNRBcqdP8Ps9Bfk8Lyjd60o910kkVKtgzkDY6r4DxlTrIu1KvqIPkLe+ExcfEoFy4PyQ6DsXTtxZ0fxHvmBXGBwOlHpJPeR3nKN5xABCCUEZdHNTpWONQqp81O1AOUI+pT74fpL3wPNuF+pdE+jagXrGSfUOQnnTcF0sohIX3ggOLWdos80Lq0HeB0EAfz+9Qrn/+/bfVO/oYD/XgyWAO4vtL3w9n5VKNoungYP7J+/BuzFup268GY3N4PhhPG4BE4pPFO8dNtG+DUytVsrqCK/d+e+8dOZs7oi0zOMIWDQh1zPGpq7T7cN9GsFWU97HKIB5SIQ+kCvriL9essf4Kl0ueo/H557sPgnE52lIsXpIZh3KisMwbUcgwLvqxeNGUKdbHMf/3fTn9DEp72if343eRBy6/4AL3etBvkq88QyLySDh9dvFPUymPxNu3poqw+y/lmh3xtsGCJt8VOtnFzWAySWXANeTqhg3d7rvtZueZEBC4isb8/kcfWQPwUPmHdO/ujj/6aFtdRkFCY//g449NKMgN2T0rFR1lEqbEvQKhA4GmeCA8cRxdtqwJSB7e6ZcNG9yN116b8Zyko+Je3aCBVYqvolbS2115pWtx2WU2waERnhZZ7fSdIoIUv1/3jDMsb7xpO6bSu0QabZgKRx1lv8WqNYIOz0AjKx90lH4VKJqCWO32JFqu8cRjweVp0K232sSRPCVv69eubfnAfYFzWI0gNH/y+X/b7bLyQJrcBvmkXNsGgjZ1O1a5JtMGGNSog5QxeXX4QQdZLALu+XtoYhYLJiWsdkQLUsngV2UpK3YMyIqc6pVfnUQo+OzLL61uUq9xFyNfUg0dNIIUk20Gft9eEYwInIeFDKthnmjTTX9wPpp46iDgpsDquG/X/D6C7RHBpP3v0Eofz8rAeH2TJtZf+PT8vSAQpmIFeeP7DwcTBwSQ2zt3tgj/0cqPePsLVlBpG9WDSTQTGdJSZ3knJreUH5AewQ0FXvNLL814TtI2PO88d0xw7/eCeu0hLgR5wyQAYQb4XCto3+RNLKh/+b2zEu2GbS+rVqzoTgjaIflEuZ5bs6Y7rlw591FQh6OpEzw/O4ZgvUBfVSHo43h/L7wlCqvRlA2WEPw2z0D7J69WBP0iK19h4u1bCTzYtH59a4s8JzvXXHzOOa50qVJZ7oaRXT/MvSlP6iqLG9Rpfp/nYHJFXv0QtdpFXvVq394dtN9+ljZWXtEGmHCdW6OG1SvqIHnLO1E2a0OWb4kST9+aaH+RCKkasygbxpN5Y8eaMigviXccAG+dc0aQjjlULFL5rDmB8hBrUhQtf/39d0Z7Cc+5Eu3bgPtiFXldIBSRjvvyfco1liUH/ShCEvMD3x+GoW7Q/1c5/vgMl2ruSx2k/ccKkHrFxRfbdtS8D22GPpO6HT0fzM38IjtymuNCon0boBCnrrS/6qp8U/7xLMzj6QOY14f7Nvo73glLk2TJa3kgVVCvb2nZ0qx9yXueo/qJJ9pc7uf16yOpEiOZcaggSGYcYHy7u0ePjLEYBeSJQf2mD/g30gbJQxbnkCu5HyAPVAvmw6RLdrEgHlIpj8TTtxYm4umvCpp8VehQ8bKLm0HnzAB/wjHHbNURo1GkQmOOiqmpZ/+gAWChE4bJX1aDWLzk9Ky/BxN5fNupqPxedjChZFA/JIaQUT6Y9DNpi/axPDkYlHzjjcWvwfvhg80KCxUsJ5hksYrpY3IgcJY/91w3cebMSIqtyavV7mRIpFxzKisPyrd9o1Zs9ggGBYTWsJDMxIpOlZhHfmKDhhphOrdBPnMq12TaAEJ2TnXQ47XSaMQXBQI9WvZHp01zT4RMPJMlY1U2EKT2zWZVNqd6RbnTqWPKie/q5R07ml/4t/m02w/5i5noJRFfWX8cUauWu2/cOFPObvz1Px/nRIi3DqIoCPvCcxBHBYuFMOQREwmUGNnVqzDT5s1zw4P3uDnI21jKHIi3vygd1EmenbgFCM/UISYtMwMhjcmNj52B8E1/yWpbpWBy5t+Jo0ogWDAZpp/0u0gQGBVhB7Pcmpdfbi5KmOyG/dWjKYidlRjYDwzaHooKLCZwZWRyQ9wEVtPDK+gelBIIZ3kF8U3I69eDd+e3eQaeB9cJ8n/HqPhY8fatKKl8MFs4Ouhbs3vunPphdt/gOXFBCJc/B2b6mDUjmISJJ6/IfyaHL7zxhtU96iBt4pn//c8mhlxLlnj61sLQX6RyzEqUeMcB8NY5CIBeWChMoEhjIQG3iLOvuMKx+IFg5mONQaJ9GyC4ULfDfa+3GmCMRqFNGdOmEOywzkGI3Ss4h3Lnz+A36aP3D/pJD/UwHGeDw8fTiEXloM6E5470ZaziR1sWJzK/SISc5kKQaN+WKmIFRQ5bXmKdgeIpVr93aNCHHhPM25KxJPHktTyQKmLV69yS6DhUUCQzDsQa36hXYcsf+nPaQNdBgzLFkcJqLNWkUh6Jp28tTMTTXxU0+arQyYt4LGRofphj5fSsDLJhrWRuSbSi8NvxThLR4uLHSUwStPg00pxgspDfq93Jkhf1KgwTBYQSzNVZCaZDQ0vNynZh0BznRRtgwMV9iVUsJtOffvFFUtYBHuoLq7KsMLAikdWAHm+9Iv8xrcZclcGBzr5OMFHN70CH8RA23QwfnE8GlDmYw4d94bMimT4Iy6hTTzrJlHirAsE3mkT6C9rD+cGEBUXT2UH5MHmpeP75NoHB3YWVp2Sg/mDlgpnxfbfdZlZbxFI4u1kzC4obrXzkc0HsrITgxXticn9pu3bmyojii4CAKPHzw6IA6yjKlFgr/DbP0LBtW1vdPi/Iw+xc1PKSvO6H4wVhCWs0zNepe9RB3EmxAqxz+uk5uvwUBQrLmBXvOAA8I9Y5uBNkZZ1T0LDTFK5QuJNecs45pqhikeGGO+7YKnZEXkK+EfCY1V9WyVEGkEdY/aHQwB2D/PNWcLi6EKcjHGejKFBY+ra8ICv357wgEXlApBcovYk18+Ts2aYwKmwkK48UVN9alMlXhU5O8Vi8mT3mqUwMwqxdv94t/+QTd/jBB2c7WWRijwkXGt2sOvvsVnk9OT0r2komUQhEOQVwYoWQFZYvV6+OnNkCz4pGEsIa6HgoGUzSypQqZYN6eOUHYZBgd2GwbPjfq6/a5M77KyJw4geIKWMsCmK1OzuyK9fcxPmhTCib8Eo6kyRcBljlxYSdv0RzzyrYsieeepUTedEGEoFJRng1Lln8qizCLbFTsiKResVzYb58dzCYvTBxomsS1FUCrTGZyy3ZuWHQrqlnsyM+1tHHlPvvz/YdEyW6DrIC+9zChVt8pKdNy/jdWL7OPCv9y8pgQh+t5MgKVs1vbd3a/r9r1KitBs9E+gv6H6wyeC6URMBKc5eWLV2/G2/MECYx/S5VsqQN3B8EExP/TuGDOAneXcDDqj1xOEb16+fmjx9v9WFSkA/RgegQYrPbWSlV0EbxIUeRRJ9BWVA3MM0ddtttpozMLcTMYAU2Kwh8i8Ub1lb8Ns+AifdDAwZk6Z4WJp4xMx5y6oe5xm+MHzIkZvm/Pn26mWknCsIsigwsQqh7QF0cGUwMr7rkkmyVCnlBQfcXkOyYldfEOw5A2Donv9qst2iJJTB8vGqVtR0UKWFwBcCdFJd5XHlQML/9/vvuuZe3BGdPtm/LCZ4FVn/7ra1ao5hkpZyg6ih5GB+JdQYosxkXiZdCP+1/18fTSFdy27flF/RtWFHgchoN4znupMT1yY5VQbpkw0QkIg8UVlBexlpgKkzk97yRsvQx74ih6GPocOQU9yUd5JGc+laRGPmm0KGjySkeC+ePDwasKcGgSBAxOiNg8s7qG756+A2GB0aCw/nJLlpqVnwI9lmlQoWtXJz8hJLKkl1k6nielYpeoVw5E06JdM0EikGXA39aVqk8+HzCsHHjbPWENKyCE4SSXY+qVKyY8LaguwcD25HBAIFp/5tBA8A0l2BkRCMnaFgYLC/ISyYEmGsDAtATs2ZZUK1omOAXxGp3mHC50qkRaDNWucZTVh6sqrinLyfiCwwNOl8Gw5ODMgiD6SxWJOxKRoeKaWBWwZbjrVfxkEwbSAbKmA6fusIObKz+RSt2uO7NPGcFQn1WCgM6euo7z84kKysBKt56hdKHlUbqs7fGYcBgQkSMjbB5Z6IwIUR44Dm8i1A0WA6VDtKMnDjRBJS8tAiKpw7+EbwfMUFY5cZHnHTkBcHpKP8wTBBwtbj/sces7/P1BdcTypXvxQLBl/gJ9AN97rsvk4CTSH9Bf8akm3g7999+u004CAjYulkzc8fyIHBWPPpoayOPBXWO+2VVnwBF97hAwP/uxx/t/YE8OuLQQ20lMtoyiWdA8ZHfAiyTUPKkYd26bnC3bu6dZ55xLwd9OgJc2B0iWRDamZAT2DSWNRZlRZBqYmd0D36TSdEHc+aYAgzLh1htMd6+NRHi6YfJD8zl2VkNYT4seOQGYsccEoyfHZs3dzNGjTIF5ONDh5qFV36YSCfTX1CW7PzCduP0dVl9J1VjFvMFfjcvtwKPdxwA6gv9FfWW58yOvHxWXJZwjWG3KPKSPCXvUSzh4kpf6oUuyghLRYJh+rbHO9F3IrzxDpBo3xYvtP11gdDEjqmMmbsH84yDIvPEt5cutc+7RpQ+WFEytvHsLJTQtnju8VFzwXQimb4NCmLbclxPiB3C9tPEEON3qVsoypn3Y63JAd5lkudkrkM6+jAsclFOJ0Mi8kBBQ0wfFjqwNEPRxfsz3jMPQZ4qjBTUvJFyJLwH80D6chQgzM1YvJrx3HORVJlJB3kk3r5VJEa+KXTiicfCQNT0wgtNcMNkvcJ555mvYPWGDa1TalSvnjutSpVI6i2w5Rl+yqTDJBN/PCohOwlFaw2ZUOLfxwDJPb0vYnh/fog3dswFZ59tgeWYxGDijTkox3nXXGPf97DqSLA8Jrz4N5OmXPDdawMBAFhFpLNIBBpQ3WDCClfedJMrF9zzzKZNbXWuS6tWdt5DjB586RHI8PHGJL1aMJFke7hYDYcJSTyr3QxIPg99fA8mqf5cOChsOHAsecBqRnjnAO4VJlyuR9ep41r16BGzXBOJ80Mni0mfL6eLrr/eBt/2lEkgKIbhNwj4xc4rU4PODAsEb94cTbz1Kh6SaQPxgHKmeSDA+2ejDlBmAwIBiHtSl6P5LJhceDNPVt+zcsnyq7K43mRnkRBvvWIQY/CgPtNOeF7qwK2DBlnwTL8KD4nWKyZTtMewixDpyBu/osE7NA/yG8uLui1aZDyDP8K7WyRKPHWQ+sQgee+jj2aYmZMXCMLRAipKF74L9H2+vuB6wi4q4Tgb0fB7twa/z64qTDr9YJ1If4FQwQSCvoy0Pq+Iu0P8HeqNn/zUCNroJcH7sAUp9/N5749wWaHUYgvWU4J+k/fnOu9GnhBkMaws4blz2uEOotsAfRX1gHbA53B7jbdesbsVdZm2yn2opz4N8Y9wD8vNxA6XNYQ073Lg7+371u0ju+HQX54a5FWFSLwjDp6bd8RSI0y8fWsixNMPk0+0K5SAxMUK5xVHMv0lIPhSjrzvCRGXK+6HIho3vXDQwkT7i3hIpr9gJf75V181xS1uar9ExQ7ypGrMwmWH38Wqg747evUVYuVVeHyPfq94xwFAMYOSkjgKOc194nnWeDn0gAPMkgtFAXlJnlJeTTp1snqCFWjYRQ/rikYdOmS0PdLXb9nSngmXMk8ifVsiIOgiuKFool1hhcGOP5RDWAnP4iJKnauD/o1npG3x3OwW6S19UkkifWu8JNO3QUFsW+77AH4X11vqFOXQoE0bc2e/KqgTXlGIcE4AffKnVrNmlu6qm2+2BbVkXQ8TkQcKGv+e9CfkD+9PH0d9jlZSp4p0mTeSV0eVLWvPd/6119rvMg9qceutZqUZi3jkEd7Pn89OdkuVPALx9q2pgHwgP/z7UvbkMXWBz+FyTSfyRaHDABxvPBYmKcN69zaTdd8BYj79wO23m5tAdhNOBD2CqfL96MkOMHHo0bZtpntHk8iz8ixdg2fq27mzCWDAfbn/pUHF9yCEcY538G4JPh3Br3JaocoKdr25I5iI0AkyaDcIGgbbBRK8KQxuC92CjhMXDjTIHExqHg0E5CsuuiiS6j8KarUbeI9GwaQcNwsvuPtyxQIgXK6JlFU05AFm4Wx7SfyFWEII+UtHhgsBqx9ZEU+9SoTctIF44b4Ng/rCVss9gglIrHuWDZ6DDpu01AWs0qKhDPyq7Dk1amSrVIu3XrEa2bN9eysfygloX7SzQV275igAZAcDVNsrrjCXoLBiKAzvQJ2gboSfIa/Jqg6ilGCXAK75VVcEjUn33WcxQaKh/+AevqyA+sJuCwgw2cF32ZVixrx57u4xY0w5kkh/wVa5uEzwnPRDPk8RLoi/07lfP4vlAbH6y6xgVYj6fkYgKHFvDv7n3M3B81KOnnh2uEsV1Hvf1xMgnxgXHtyAOt5xh1lKJQuTyCHdupmbAXkQDe9L2fC75L0fCwDFCZNIFHFMYDgfb9+aCIn0w7Hqam4hZg9KYu6Hss+3V4S5STNnut5BH0fQ0lSRTH9B0G+sWFCeoogsGUdA4Kz6izDxjlkIlfwuacm7cHtKhkTGAW+dw6SdGCk5kZfPGmsuRr5eWreumxDUE3YJ8iBMYWlI+4huL/TF4fhgifRt8eKVYgQvxq0BENyp40BeewtKFKl3BkIIViJAf8CcZHTQ/xKoNh1JpG8Lk4pty3Mi3Af4vjpcr8KbD/Be11x6qc1DSEO/1S74f2TfvqaQTZZ45YHCADt4snsh704eMNcYHQjVzCUKIwU5b2SsvC2YD/rfpX8h9gwWwbFIB3kkkb5VxE+xzXlhG/rZ1luzhkFrTaCjXoHgeGouOqwwaM86Bx0ggx7CHxUkL0jFs6YTCHR9ggEILe8NzZvnu4CUCImUFYM/KzbD+/TJskOOBg04978u6GQQhETypFO9ShXJ1MHCzvxXXnF3DB/uBnbpYoO8n7RiRk1sHaw/UBix7WYqwJpr2NixtrreJ5jM5oWyMxFw22h7222u0zXXWAwNTKKBYRVzZFZ+EFyZYMVSiOYWhGOsUNi1CjcvrKU87HrSZ9gwMxEfHkzIElV6x0tBjpkoEhDqPv3yS9sGOizAIejhnoRSZ3yQRyjc0gmNWWJbpjD0bUIIkS+ULRv5J3lSLlUxsS3oeCzxkk7PmioKcrU7EVJZVt73GZ9mYhvVCvJC5I50qVciMfCBJ14DcW28Sx5tc/3GjeaGA6yWpoqC2lnJg9kwliC8e3g3MPIDE15iPtFHpUKZAwRpRKjBrQtTZfouoEw4/9WaNdaHsaNEKijoMZM8J2Yd70+ee/c2/lIuKHrYBSvsRlMU0ZglihoF3bcJIUQ6kS8WOqkgVRY6omgSz2onK7r9RoxwE2fOtM+YF+LuQAA+IXJLUbTQIUZM98GDMykzwlxWr55ZbuDGVRTBF71Tv35ZxmogSDCWI+GYP3nJukDoYRV73suxd4WgD+sX/D7uakUR+my2+B8/Y0bkTGZwPcC0n3qYnRtQYURjltiW2db7NhEfXhYkDkxOEFfsnl69LDaTEIWKdLDQESLdwPcV3218mpONbyTEtsD5kZge/PX+1QjRTLLv7dnT9b7hhiKrzAHiFvD+jc8/P5PQjZ97n44d3d09eqRMmQOsTqMwwrc/7FLEs+CPTtyj6K3uixIs5HS5/nqLXYLLn4+xQV0k9sC4IUMsjkW6KXMSRWOWKGps632bEEIkQtpa6AghhBBCCCGEEEKkJbLQEUIIIYQQQgghhNj2kEJHCCGEEEIIIYQQIs2QQkcIIYQQQgghhBAizZBCZxuDnQNuuP12d1n79u6L1asjZ0VuIS/JU/KWPM5vVK5CCCGEEEIIsW0hhc42xqqvvnLPvvCCW7x0qXt32bLI2cywXWrZM8/MOJrfcottDRgN57gWTst3t0XIS/KUvCWP85t4ynVb4un58935117rPsvHsvj333/dq4sXu2u6dHHH162b0SbY2loIIYQQQggh8hopdNIUFCdZKVoAQRaBNlqYPPzgg90FtWq5GlWquErHHRc5K3LLieXLu8oVKriG557ryh56aOTs1sx64QXX5a67siy3ZCnIcv1h3TrXa+hQN/vFFyNntk3+t2iRa92zp3vpzTfdpt9+i5wV+YHqoBBCCCGE2BaRQqeI8ueff7rf/vgj8uk/ypQu7Yb17u3GDRniDjnggMjZzHS46ir3WSAYcXRu0SJydmv2KFnSjR082NItfuYZV/PkkyNXtj0OPfBAN2XECDe4WzfLl6xA0fb9jz9GPuUd8ZRrqtiwaZN758MP3V9//RU5s+2x6ddf3dyFC125ww5z0x54wH2yYEFGG6p8/PGRVCJVqA4KIYQQQohtESl00pQD993XVqV/Wr8+ciYzCJg77bijK12qVOSMECJV/Pn3327tTz+5Wqec4iqVL++2205dqxBCCCGEECK15IvU4eNZrPz8czdzwQLXoE0biy3Rplcvt+yTTyKptrB582b3yRdfuP4PPOBqX3mlpavfsqUbNWGC+znKTYX7mtvR+vVuybJl7rpu3Sx94xtucO8sXWr38vz6++/umeefz4hvcVL9+q59nz7ujXffzUjn3ZQ49/CTT7rqDRq4ASNHWsDZoQ8/7E6++GL34OTJ7p9//rH08PW337p+99/vajRubL99xY03WhwN4mmkkuJxCIzbFSvmigUHkFc8nz/yO75IvPi4PD3vvtv9HrIw4n/ORbuZ/fnXX27uSy9ZvvNelMPdDz0UMzAxdeDRqVMz6hXf4bvcI1niiTeE25u/fs8jj7iFb73lKl94YabvUT7JEG+5+rpN+1u6YoXVfdpB3RYt7Fy4TgN5NeHppzPaKnlG3nEefHn4a8s//dR17t8/07NE5wXtLPzblBVthzYUzZrvvnMjgryl7fvfoE/45vvvIyn+wz9rk44dLS1t+/7HH49cTQ7a72tLlpgLVVb9RSqJp78C316oByhxR0+aZPlKeuoa58LQLmgfvr8KH768/D1zaoP+M23grffft7pEm/r866/dvJdftjLjmX/86afIHba015n/+19GveIvZefrlYd7Xtu1q5W3b7PkA+6Kvg4kUweFEEIIIYQoSuTbMjLuPyhFOt5xh3t3+XI7x6SfCTkCgOfnDRtcvxEjTKHiBdMPV650g8aMcQ8EQlq08M19J82c6a666Sa34LXX7BzCRbSgOD/4rU79+mXEt+B3iLdw84ABJmSGQeC499FH3ffr1pnwjWA04rHH3NpAGEJw+mLNGkvHc7Oz0CNTprjVgQAKi955x90ZCJ6fp3inod123dX9Gwh2Xrh75e23XdNOndx3EXce8mXXnXc2K52iyj+B0D122jTXtndvy3egHBDmJzzzjH32IDAOHDXK9Q3qlq9XfIfvUn7RCo2iyrQ5c0yRSt2nHXz82Weu++DBpijwICgPGj3a9brnnoy2Sp6Rd7SjZHnzvfcy/TZlRd7ThlDievh92vrQoN3R9oHfp09AqbM+aLuejZs2uduHDbNnfSO4P9C2w/dLFNrUswsWuFbdu7vnXnklU3+B0pj+gTReSYbiAAWd7yvCCoVopUi8JNJfwcrgfW/s39/dFZQb+Up6lCKTn302o49AmdMjeB7ah++v8oJl9M8PPmh1iTb1yNSppjQif3jmV4O+CWhjlHfHvn0z6hV/KTvaZrRS56tvvrH39W2WfJga1F/yODqtEEIIIYQQ2yL5ptBB+YHSoVvr1u79WbPcR/Pnu4G33GJWO14YB6xKqp14opsTTNpXBoITMSheD4T2yy+4wL0eCJ3RK/Qob0ZOmOBuuPpquy+xKwZ37WqCwnsRoQFQgNzbs6dbMnOm3ZN7j7nzTrvGc4V5+vnnXf+bbnKT7r3XhJT5gVA3YehQN/KOO2wV+KeI9Qf3R3DyMTM+feEF98b06a5pINzFY0GTG4jTwrP9vH69CWzsbET+kJ+A+wfvvOsuu9jni+rUyYjpcU+PHnYu3fll40a3aPFid12jRm7p3Ln2bh8H9Wryffe5/fbaK5JqCwjIM+bNc3fefHNGWupVy8aN3fTgPAJjMsQTb4gYKuE0xBoi5pA/x0H5JEOi5YrS4aQKFdzCyZOtzo4bPNjtFtQR2pEX/NcEbYzPt3XoYPnJvcmzhwPhmjoFO++0k+sXtBGuPf/YY+7YI46w3/fPwkF8JR9PiPqIQuaoww+39Pw2bZDf/+PPP01JgoLOU/aQQ9yTw4dn/D5tu2PQxl96441MZYXCYHbQ7shX37b5DuWcLCiDUOCedNxx7unRozM9K/GJpsyZY+6OqSSR/gpQgKE48s+7aMoUV6t6detbaSdAjBlTordr55YFdZ509F0nHnustaEHg/tnF/8pK7jnsUceaXXqtMqV3eNPPeUuPPts978gD7n3l998Y+nYgW3s1KlWjv69KFfGhDnB/+8GzxeGcvhyzRo3NKhXjBd8p/H557sPVqywcSDROiiEEEIIIURRI98UOtD3xhvddYEAvftuu7kdd9jB1Tn9dFclEHY/+uwzE+qgVIkSrk2zZu7osmVd8eLF7dw+e+7pqp1wgq3whoU+QBhF+eLvS+wKdvlhch+2uqh92mnuwtq17f7AvRFsjwgEx7+jrDPOrVnTnXXKKW77yO/zPYTyvfbYwz57ELp+WLvWvR0Iv78Hz497095lyrhmF11kQXLzi42//mpC0xlVq5pixwvmRR3KhzJAsfXZl1/ae+8Q1KuqQV25rF69SKotFh8oKDjX4NxzzXIJqFeNAgGRusA9tgXqBO2gV/v27qD99rO2UuHoo90xQVtBQeHbIFZd5BFujN8F9Rv4THwY2lEyoNBFGYritezBB9tvk++nV6nizgn6AaxOsLYBBPUWl11mfQPlCbRt0mKl8W+kvRIIFwuWumec4a5t1CijbfOdXYJ7JAt15ZcNG9yN117rjg/yxz9rjZNPdlc3aGAulV+tWWPvMevhh01x4IOCo1gKKxRQOPA+iZJIfwWU6909emQ873577207r9EHYskHKHvpF8+sXt2eyfrKIA3lumLVKsvbZDjy0ENd0/r1rS2iyGa3t4vPOcfid5XcfXdLQ9vEQou+ufmll2a8F+Xa8LzzrA6+99FHds5D335Ly5buoiAfGC/4TvUTT8xQZAshhBBCCLGtk68KnYMDIdLHdIFdAiGR4L4IaF4JwV8Ev66DBmWK80BshFiwYo5QGr6vF7TCVg+Y6IfjbHB4N4lo2PoZQcNzXLlyJlBEc2rlyu7qhg3dgFGj3OmBANr73nvNSiY3MVniBWEJpRcKLoRxLJsQjMg7FDwIZ/vvs4/buQi7XJUIyghBnhgdF7Zq5S4PypYy/jZqFyncz3C/wz3rmKBO+PLnqHPVVSYgfh9RXBR1aCvRisloDgjqDQpS4lDVvPxyczMinktuYpGQ/7j5XBKJneKPI2rVcveNG2cKFOqth/ThOFocl3XoELm6hV+DOk78rIODPsAr6fICXCtRMBwSQylbPugL9ilTJmbcn7wkkf4KYpUr1mNhC5WD99/f+ofXlywxJSdxglDavfDaa27P4Ls7br+9pUuUqhUrusMOOijyybmjDz98q2dBWfjtDz+YNU+l+vUz3omjysUXm5KMfA/vUhWrbxdCCCGEEEL8R74qdOKBVVxiVzw5e3aexXnw8VPCcTbyAoTIm6691lwNrm/a1H3w8ccWx6ZZ585Ju/DEC0IOShxcD7BO2T+yIk8Q1NWBsIlwxGp5UReGcIvBbQR3GKxOiN1R58ortwpeLeKHOoOVGm6P9912m1lCEXvl7GbNLIByqi3AcLUhrk44jlYsUEqElUD5CRYzqSJV/VX1SpXcmdWquZ5Dh7ry557rjjzrLNewbVuz3DkvKG/vTieEEEIIIYRIDwpUoYNlCbtclSpZ0twkWJ2d/+qrdo14ET6GDkdu4r6g8Hhu4cItcXimTcu4p3eTyA0IvygSrm/SxE29/36Lu0PQ1mlz527lHpaXeLcY3C9YZT/uqKNsVZxnIVYG7BxcT3Usn/wCxdWqUPDsMLiP4A5zd/fu7oWJE12T+vUtGKyPJ4TlARYIuPKtXLAgo/zDBy4++QVKN6xLCjtYqdUPhP5R/fq5+ePHWx5PCtpMVtZMKBGzgvzHimN2xEUp+pgStB2s9WDhm29a2REHh1gvGWmGD7frnpIlSrgypUpZewtbdqAQWRwVjyURcPX56NNP3ZdRgc1RZPmAxGGLlLwmVf3VkiBPCNZ+Qa1alte8J+5uDw0YEJcrXXZtMCfo3+nnLznnHPfB7NkZ7xQ+iO3jXeySJbs6KIQQQgghRFEjX6V93ICwmkAwItjlkIceMsHttJNOMsUDCpDfA2GMuAsHBAIHMR4Qzl584w0347nnIndJnD/++MN2rCKuBPfG1YDff2zGDPd+VNyGREBpwLMRywNQ7vDcuDZw7u+//7bzYZ5/9VVzI+kcCMnh7XwThWDHrKjjgrFy1SoLIotiA5cQAqGiLCPmRG4FpPyG2CcopVBSEVuJskKI7nPffbaNdJgvAuEUKw7K0lvjoOQqd9hhFtsIVys7F+RV+SOPNLeh6XPnZtolKb/Zs3RpUzYQ3DeZ3Y/yA/J73PTptmOa334f5ckRhx5qFjHRz41igLqGImbVV1/FtOAhplTpIM3IiRPNxS076yn6Ce6J0gFXR5Q1b3/wgRv/1FORFFvYPUhzZFDW8xYudG++/771H9SFboMHW2DeZCEGDAwbN84shMgDnvfF1193Dz3xhKtSsaK18VSRiv4Kl6eX337b4hJ1b9fOzRs71n0wZ44p6whCH7bkS6QNxgv9e8Wjj3bPvfyyeywoG/qnvLT0iqcOCiGEEEIIUdTIV4VO8y5dXLmzz7a4GWc2bWo727S78koTKACFxFFly1qcB7YDJl2F885zLW691VbMk4VYMgRVZity72rA74+ZPDlXrhMIJTzbCeefb7EgeN4zmjQxtzHi8ERvGY4gjFCIkMhOWl8kudodhjwsEQh9++65p32ueMwxFqQ5LNDyu2yf7GNWEI+IPPbxSZrfcktGfBT+8tmnZYtglEbE7+BzeBvmxYGQ7dPF2raZLd4ThTrAO/B8Ddq0sbIiPg7Kr5MDQToMAjw7VFGW1Ct+8+g6ddytgwa5M6pVs1hKgLBKPCWUOlyLjuFBXUvGRS6RvPIQtBZFhXd78d9NJq8SKddEQKHAVuCnXHqp5T/3oh3SfghKS3sKs0epUq7CUUfZu58d/DbtIPr3URA0b9jQLVi0yNVt0SKjvPzBFtueCuXKmVLn6uD7/D5l2qhDB9vRDMHdg7Kybs2a9v+VN93kykXa9Seff+66BHUmWXgXAve+ELRV8pJn4Hmv7dbNrl91ySUZQX1TQSr6q+23395i6bDt96nBu1WoWzcj73lH6u7PkbJKpA0mQo2qVd0lwfuwxXm1Bg0y6ok/6E+SJZ46KIQQQgghRFGjQPxxEMrYkemB2283V5ewkNKoXj3bLtkL4wg2bEM+OCJMJQNWM72Ce9YLJvh+5R+3nEn33Wc7bSVLs0Bw79KypQVNBu7L8z85YkRMFwYEJXaY4d3YueXQXLht+FV04Pd9/AssIdiRCw5JoRVBKmF3H3ZiIj+x6sD1ZHT//pZnYQ4L3rVnkI5yJR1QX/p27uwGBXUmLHTjjjYgEO7C5VUQIHQOCeoyri5h5URh4vhAmKdt0kZ5xnB7vTnIv+gA4Xxue8UVlre+3UaDUu2Cs86yrbHD5RWLmsFv3RmUFVteA+XVo21bN7pfPwuUG4adn+7o1MkUDTwnu5ixzfXJkTaQDPRH9Eu876knnWTnqIucI8gwu6ilklT0V1jI1D/7bMtLysjnF6DMRKE2ZMyYDAVkvG0wEbCe69q6tbVP2mleEk8dFEIIIYQQoqhRbHNe2KZ/lv2Wz1gfYD1ADAyvbBBCCJE/4GZIYGt2hiNWTTgAMjuF9Rk2zFyVhvfubUphIYQQQgghRIopWzbyT/IUjYi5QgghsoRgwShsiAX0y8aNGbGRiE/E+a/WrLG4QGVKl7bzQgghhBBCiMKPFDpCCFHEwW0Kd7Wpc+e60xo1yoiNRHyiS9u3t3hgjc4/3yx4hBBCCCGEEOmBFDpCCFHEwfKm/003WYyZSuXLR846izdzbaNG7tFBg3K1JboQQgghhBAi/8mXGDpCCCGEEEIIIYQQIoJi6AghhBBCCCGEEEJse0ihI4QQQgghhBBCCJFmSKEjhBBCCCGEEEIIkWZIoSPyhNkvvuiqN2jgHn7ySfdPZEvkguDHn35yA0aOtL8i9bz53nuu9pVXugZt2rhPvvgicrZws+7nn90Nt9/uLmvf3n2xenXkbOGBsGYzFyxwJ9Wv767v0SPP6zLtk3ZKe6Xdim2Pwt4G0hXykjwlb8nj/EblKkTe8tlXX7l7H33U/fr775EzQghR+NhmFDrDx4+3bXr90fyWW9xPv/wSuSpyw+9//OEWLV7svl+3zr381lvul40bI1fyFwbcYePGuc+//tr9/c8/kbNb8+dff7mZ//ufa9KxY0Z9OP/aa23gBv7y2Z+L/lyUoA3QFmgfyVD1hBPcoK5d3R9//unGz5gR96Tnm++/dz3uvtvVaNw4V/nqyybctp+ePz9yNTargu88+8ILbvHSpe7dZcsiZ1OPz2sUNR379nXLPvkkciUzxYoVcxfUquUGBGlJM3XOHPdPNvU5UWiftFPaK+2W9iu2LeJpA/GOmb5eh9Mm25+kO+QleUreksf5TUH1bYUVxoL8Hrf//fdf92rQr17TpYs7vm7djDax+IMPIilEQeP7Nt9PRX8O8+tvv7mFb77pBo4aJaWOEKLQIgsdkWt23mknd2rlym6fMmVcndNPdyV33z1yJf9A4B0/fbpb+vHH7pZWrdx+e+0VuZIZrB8mPP20CdRvvPde5GxmSpcoYds8Fy9e3BXfbju30447ul133tnOcS2MnwjEOnJSLBQVTjruOHfXrbda3lMGOSkf1v70k+t9771u0syZbvV330XO5h+HH3ywKUxqVKniKgXPnt/8vGGDKRR73n23KR9jgVLnnBo1XN8bb3RPzp7tZgVCWl5sSAi0zxonn+wOO+ggV7NaNWu/Ij2h/8luccIrPKOFyYJuA0WVE8uXd5UrVHANzz3XlT300MjZraE9d7nrrizLLVkKslx/WLfO9Ro6dJu3+vvfokWudc+e7qU333SbfvstclbkB/HWwQP33df+bh/M8WC3XXaxv/58mApHHeVuvf5698rbb7vnX3klz8ZhIYTIS7YZhU6Hq65ynwWdPEfnFi0iZ0VeUe/MM93rgTDf7KKLTAmS37AiiaLmmssuc0dmM5H+fu1aNz8YlGtVr+4WPP64+zSYWFMnZj38sCsbTIahWPD8vEOZUqVcyRIl3K7BYL/brrvaOa6JrWHSM33kSNe6aVNThGXHl998415bssS1veIK9/6sWZnyPlH4Ht+nDJ9/7DF37BFHRK5kDYq5Yb17u3FDhrhDDjggcjb17FGypBs7eLBbNm+e63fjje7d5cvd0hUrIle3BqXOmdWqWT29sHZt+5wXUI+vbdTI7nvO6adHzoqiyJ9//ul+i2GBFU8biHfM9PWadIufecbVPPnkyJVtj0MPPNBNGTHCDe7WzfIlK1C0ff/jj5FPeUdB9W2wYdMm986HH7q//vorcmbbY9Ovv7q5Cxe6cocd5qY98ID7ZMGCjDZU+fjjI6lEqoi3Dvo56gH77GN/9wzaDWQ1d60SlF2Dc85xoydNcp9++WXkrBBCFB4knYq0BzNY3FKqnXiiqxUIwNnBitn6DRvchWefbRYKsYTk7YJzOSklwiDAIMj4iZs/LqpTJ5JChPn3n3/c3nvuaSvJu++2W+TstgMWMWefeqqrHtTXvHSlEtserCizKv3T+vWRM5lBwMTCsHSpUpEzQohU8efff5sFaq1TTnGVypd322kBqFCSyPwOSH/xOefY4h7WtQUZJ1IIIWKh0SYGKAiw9iDQK64zBH3t/8ADFvcjDKaXrLC379Mnk6+0P2L542bHI1OmuKadOrnvsli54zzXSQf8PoFoeTaekd+s37KlGzVhgvs5ypQb9x8zzQ8m/kuWLXPXdetm6RvfcIN7Z+nSDDNSb6JPUNbwu9Vt0cLOhQXQRGIncP7arl0tDx+dOtWel/tidp7bfF25apX5ONc57bQ8URAgAO2/995mlYNJ7o7bb+/23GMPd9B++7ldcuGeEm+94v1i+f1ThnzPu0/4/B8ZlPfX337rug8ZYvFZiEtDHkfHRiFfl3/6qes6aJCl4V6NO3Rw73/0USRF/kE+7hjkc1as+e47NyLIB+pzdnmVCD7//JFdbAXK6pnnn8+Ig0C+Uh/fePfdjLbiISbT3JdeclfceKPdl7y9+6GHsg2KyrvvuMMOkU/5g2/b4TyI5RaYaL2KF36L31/5+efWl/h20KZXr63iCaWib4N4ypX2xXPSB/H7BI/mvVGc3Bq0Hb7D84fvSz71u//+jHZFXSCOBvE0UklWK8phUFB7xXUibaAg8XU1uq/3dRN3xXA9TKQNUgf8GOTLiu9yj2ThOcP5avUxqp5Sr/z1ex55xC186y1X+cILM30vVnuMh3jLlXQXtmq1pQ0Ggml2bRBijVnkHeeBMqAs/DXGl879+2c8B0d0XtBuwuM7ZUXboQ1Fk8g44J/Vx8ajnd7/+OORq8lB+8WaFBeqnMaBVBBPfwW+XVC+KHGxJCFfSU9d41wY2gXtw/dX4cOXV1ZtzZe5T+c/0wbeev99myvSpnAnnvfyy1ZmPHM4uD9tLVz/+EvZ+Xrl4Z45zRuTqYPM74A5HjC/A+Z4WYHy/LyaNS3+HPVSCCEKE1LoRMGAQvCzXvfcYy4RwMSIXWHa9e6daScfhAUmQvjr5oWvNCbSWI9kdS9vXbLPnnvaZ2Jx9Bsxwp7NT94+XLnSDRozxj0QTGSiJ6iY3hO35KqbbnILXnvNzjEAx5pMTZszJ9O7ffzZZ6774ME2kUiWr775xt08YIDrGzwzz8t9saxhwhEeyBPNV9ytDt5/f1fh6KMjZzITnkhnNeCHBQcsKPoFeXT/7be7ErvtZoP+3d2727lk440kUq8S5cU33rDdkCY/+6zVCeLSkMdMBMMgQLQK3oOYLD52Db/Ld/KTnFa3mKBRf4cG9YL6DD6vmMzTBlLN/GAi2qlfv4w4COQR9ZH6izDi4V3GTpvm2gZluOidd+wceYsgMeGZZ+xzdhTmlb5461Ui0AcNffhh1/GOOzLaAZN+JuTheEKp6tviLdd/A2EJxTm/T/Bo3CgGjR7tpgRth+9Mnzs3Q7HEc7OzEOl9u6Iu3BnU1c9TvNMQfRPP6oU74jyEFwXIF+J/oaQuqiTSBn0/7Mcg4Dt8l/LbFizmcPWibhJHLtwG2R0Sl2QP/TB1PnrMIu9oR8nCzojh8Z2yIu9pQ+FxMJFxYOOmTe72YcPsWX1sPNppbsZV2tSzCxbYmPncK69k6i9QGqOQIA3PhAKNeQQKOsZZ5jTh+UW0UiRe4u2vPCuD970xmNvcFZQb+Up65jb04b6PQJnDhgS0D99f5QXL6J8ffNDmirSpR6ZONaUR+cMzvxr0TUAbo7zD9Y+/lF2swMPxzhsTAfc3rKhrn3aafT69ShX7nJ1bHEpxrMBR5vCOQghRmJBCJ4png0H68aeeci0bN3avB5NEOnnifHRr3TpjVYsJJD66c4JJ/i7BZHnSvfearzSxMe68+Wbzxx0dDMLEIEgEVgm+XLPG/RRZVWTAZqLw0aef2mcmMEy4DoysIrDyygAzJxjYVgbPxbPyzJdfcIF7/d13t1rFQsBh1f2Gq6+2d+KZB3ftaoPpe5GB1cOk5KQKFdzCyZMt3bjBgy1wHPfwE4NEYycwueL9hgZC4kfz57slgQDW+Pzz3QfBe/pnTTRfmSR99uWX7sjDDrOYNwVBrJXW6BXSeOtVMlAmewV155lgMkV+EVOGWDJYK/wWmfBQbx564gm33957m28/9YX4QZTvqSedZGnyAybe5FdOQmbZQw5xTw4f7j4O6onPq45BvX3pjTcy5Wsi4ALHvTjuCepgdiAo39uzp9VR0pNfY+68064hNHvYMYqdoq5r1MgtDYR80vLMk++7L8vA3IDlF79BcFQUAr5NpZJE4w3FU68ShXcl/6j3lCn9wMBbbrE24IVxSFXfFm+5MmHnnvRBQwLhjf+xYJg3dqzr0battSe/4sv9EZx8zAza1RvTp7umQZ8QjwVNbqAP5ll/Xr/e6hA7G5E/5Cfg/sE74yoAibSBdCGRNoiAPCMynvi01Cv65enB+WT7lnjiDXkh0qeJ5aqbrJtuIuWKgvLtDz6wNkgeML52uuYasygLK1XXBG2Men9bhw4Z/TDpHw6Ea+oU+MUPrvk+hd/3z8LBHMHHE6I+opA56vDDLT3thTbI/IKdEqPHwXjHARQGs4N2R776ts13KOdkYb4yInhGgv4/PXp0pmdl8W3KnDlmtZdK4u2vPCjAmBP55100ZYrFC6Rv9buPEmPGlOjt2lnZk46+68Rjj7U29GBw/+ziP2UF9zz2yCNtTnFa5co238G1/X9BHnJvYucBC3Bjp061cvTv5edCc4L/3w2eL0xO88ZE62Bu2LtMGauTLAoKIURhQgqdEJilsrpzbo0aFrDVW8LgxtPs4otd3TPOsMk7AyMrA2wRWrViRXdCMFjhK83Acm7Nmu64cuXcR0lo8EuVKGETBS8orFi1ygYOBmBA2cEzkQ7426ZZM3d02bIZPsFcr3bCCbYKEq0gQCHTPxj4rgsmr7wTz8xOGAyA0SuTuC/1at/eTFBJh/XLMUE6JjBMvJKB37+lZUt3Ue3a5m7C8xNHxAskkGi+sgLNCjwT96ysZ8IT6awG/ESVb4mQSL1KBiZLvYJJN4GJya/DDzrI/PeZ7PweKSvcqhD2OgcTd65RX1hxYsLod3pIJUy+UXJVDCZi7ALSskmTjICE0VCOLS67zAIR7hBxSyKvWEVjdY4YPKmGlTsCEfu2Rn6h4DwimMyFt8T3ihnqMIpFhGqeme3cL6tXL5Jqa7D8oh1uDOrGWUGdOKJWLbMkK0zEU6+SgZ27fB9EP8DOeJQ1bdv3Lanq2+ItV0BI5rm8UubSunUt4DpKrjCU/w9r17q3A+GXfKFdMfEnQDxBcvML6hJC0xlVq1pbzw8lYWEg3jaIoIuCgnMNzj3XlMpAvWoU9EvUBe6xLdDuyiutjyUP6G9Piyj1w4pSv7sjCtzvIpY7fCY+jLdsSBQURsxpULyiYKadku/07QRoZxELpT/EOw4QCBcLFsZRgr37ts13cuMiTV35ZcMGd2Mwbh0fzH/8s7JD4NUNGpgC7Ks1azIpyv3CFoql8PwiWeveRPorYN52dzC38c/LAg47r9EHYskHKHvpF8+sXt2eyfrKIA3lypyTvE0G+sam9etbW6TPZLc34s4Qv8vvfErbxEKLvrn5pZdmvBfl2vC882yO+V6UC3g888b8Yvfg3fYP5i3f/fBDUhZXQgiRKqTQCeED2pUvVy5joPEwkfEKDWI1MBBiKcNkh5VbfK3p4OctXGgrED5qfiLsEQx8CAII9ihvsMxhxQRTVu7NZIvrpAMGRyZH4ZgoHLgTxQJlEYqZcCBgPxmJXhkkXbTgklti/X40yebrdsFEJ7v7ppJYK63kKXkLidSrZCh/5JHZ+n4DFgXk/35ZKFEKGyjpwvFTOC7r0CFyNfWgWAzHY+Dw5vRhUMwgRBAfgNgUlwfp+d63cexgs8P229tRWImnXiXDwcE9w20VazziEyCgeSVEqvq2eMsVCLCOAOWpmEXfdWrlyu7qhg3dgFGj3OmBAMqW/FjJRLuFpQKEJZReKLjoQ7BsQjAi71DwIJwhgOxchF2u4m2DXvmPe9YxQZ3w5c9R56qrTEAMuxwVZU5GURmq27FA4Y6CFBfompdfbm5GuFuGY5EkCvmPm88lkdgp/kChfd+4caZAod564hkHfg3qOGPnwUEfwHiaV6z9+Wcbmw+JoZRlLN8nmIvxfKkkkf4KYs3bWKwKW6jgnk7/8PqSJTa3Yo7FfOuF114zK3FiBiYDi3BsNOE5+vDDt3oWFPbf/vCDWfNUql8/4504qlx8sSnJyPfwLlXxzBvzC9pMbpSEQgiRKqTQSRA6dFYfWL1iq24mgJe2a+eOPOssV/7ccy2AKJOAmlWrRr4RPwwUCFBMeNYFExQGNsxlvwkGQCbrfA5PzlnpiI6Jku4km69MTJJ1WSoM+HqVKvIj7kx2eOEa9wZWAx+bMcPqdCwwsSaeQjh+Sn7CJNrHO/LxGLIDk3xM1jHFp/0SN6BOIIA8OHnyVpZvHn5j/PTptvr4yhNPmBJQ29r+Ryr6tkTLNV4QIm+69lpzNbi+aVP3wccfWxybZp07p7z+IuSgxEHZj3UKwT5ZkccqcHUgbDJm0K8UBmEolSTTBkX2UGewjMXt8b7bbjNLKGKvnN2s2VZBwVNBvOMAY39YCZSf5KQUyw2p6q+qV6rkzqxWzfUcOtTmVsyxGrZta5Y7BP3FwkbEhjqfzvNMIUTRRQqdEN50G4uYaAEYM2AsRljdKFO6tK2+Lli0yB124IHurFNOMcGMVWZMhIcFk59kVrZRZmCBg6DL4Io1CisTTNJZPWS1ld9mhxxWMOa/+qp9D59qH2eCI51jIySar14JxqrP78EEqDCSSL3KCiZ3rKolC6utWAmxmhlmRVCvPg0EwfwC9wYUdgRmzGoSzo5l1H/iH+Dj7+v1lOHDIylSC4LxcwsXbonXEol3xJFdnCgsyzDFJ3j2CxMnuib161sgSh/LJBpWKlFaIjAdENTvbRn6O9pAqZIlzU0iVX1bMuUaLwi/9EPXN2nipt5/v8Xeoa1Pmzs3pQKAd4vB/YJV9uOOOspWxXkW76q7c3A9lcri/GRVUIbEdolFTm3Q71aIK9/KBQsyyj98MM7kFyjdovvjwgjuMPUDoX9Uv35u/vjxlseTgjaTlTUTSsSsIP+x4pgdcVGKPqYEbYfxHuIdB0qWKGHx82hvYcsOxszFUfFYEoG5B1bSX0YFNkeo9wGJwxYpeU2q+qslQZ4QrP2CWrUsr3lP3N0eGjAgLlc6lMerQrGWEoH+nX7+knPOcR/Mnp3xTuGD2D7exS5ZsquDuYHYcVhl7RvMyelvhBCisCCFTgj8Y1npwxyUoG1e+EbofjQYUHH7wZ+bdAxqmNU3rFvXDe7Wzb0TDLIvP/GEDUZY0SQDQsHegcBLPAaC2BEzBnNyzHufC56J2DIoeZicIySgwMA3GYEQP2gmMOxMM+O55yJ3TD8SzVcGVYLUkTdYNRVGEqlXcEjEJJodxVBwofy479FHbbU5WY449FD7+8SsWfb7rGo+NX++7R6R39ZdOZkso7j0ijx85pmkE8Rz/FNPRVKklj+CvCFwKPEHaF+YpBOUEaui6C3evwgmxqwgc91bAiBglzvsMGvHuHlkR1ERtBOB8iWvEIzItyEPPWSCG3E8Utm3JVKuiYDSgGcjlgfQj/PcKGk59/fff9v5MM+/+qq5kXQOhOTwdr6JQrBjlMW4YKxctcr6QvpExgzGEJRluHnmVkDKb7z7MXGlaGOUFUFgsVbAciNMvG2QvMKNELchdinz/XBBwDiOsoHgvvTFhRGUFuOmT7cd08h/QHnCWIIyPvq56bOpayhiGI9jWfAQU6p0kGbkxIm2SJWd9VS848DuQZojg7JmHH3z/fet/6AudBs82ALzJgsxYGDYuHFmIUQe8Lwvvv66bTBQpWJFa+OpIhX9FQsJLwftiPlG92BORZD3D+bMMWUdQejDlnx+sQxFMfHN+H3qRJ/77rOt3JOB/h3XVeazjwVlQ/+Ul5Ze8dTB3IAymX6WGERCCFGY2CakCXy+m99yS4avLtsdMgH2OxP5LSUZzIi3QGA5/Lm9jy+BXPnOGdWqufpnn23piPvAwIErEPc5OuSTj78zJsnZTVayAgsGBH+2ySU2AlQ85hgbQF8OntkH1GXSflRwHcGfYLP4oFc47zzX4tZbM3bFSjXh7cC9X3d4u86n58+PpIyfZPKViRdbSWIBUxhJpF4BwhgBBjFvJ9YDvuUTn3nG1T71VLueDNzvvDPOMH98fh9Ta7Y3ZUWO1dfCRIXg/ZnMXx20WczBqQONOnSwnWyYsIWhjvn6EWtLeh9omPZNO/fnSUNaH5uB/sHHhkBxSPDdex99NMMk/cymTd2YyZO3MrFHeGB3HK6XC8qQe/G8tw4aZOXq4ygVBuLNq1TTvEsXyyv6LPKNnW0I0opAAanq2xIp10RAKOHZTgjaM/nI857RpIm5jdWoUsWsaMJQFxEKERKffv5590WSq91hyMMSgdC3b2R8YMwgSHNYoE2kDcQ7ZkIqxgEEWILic69azZpZWV11881WN3i3MPG2Qd8Po9ThWnQMj+idCeMlkbzyELQWRYV3e/HfTSavEinXREChwFbgp1x6qeU/96Id0n4IShu9wIISjgDqvPvZwW/TDqJ/HwVB84YNzQq3bosWGeXlD7bY9sQ7DqCsrFuzpv1/5U03uXKRdv3J55+7Lq1a2flk4F0I3PtC0FbJS56B5722Wze7ftUll9hcJVWkor/afvvtLZYO236fGrxbhbp1M/Ked6Tu/hwpK9/WqEsN2rSx3ydGFQrokytWtDTJUKNqVXdJ8D5scV6tQYOMeuKP3IxD8dTBZEE5xCIbyno/NxdCiMKCLHSiwFx9QND5d2nZMmMiyG4vfTt3doO6ds0I8sbq4aXB5AaICYI1jQd/54533OGeXbAgciZ+WI0h2B4rAH57cla1GFgthk5w3dOoXj3bUtQ/J4M/W/Vi2ZKuJJOv5Q4/3GLroOwpyFXX7Ii3XgHKl9s7dsyYNLGtOCtonYIJcLIm3kzO2FmEINuskDIhYbehjs2bmxVYYYKyvDPIK/IHqANsFc2W9QRITDVM2NjdCdcwv0KM+8ak++6zHZnC4BrYs317S0u+Au3Ql2sqJ/zpDnnLjkwP3H67ubqEhZRU9G2JlGsiNAsEd9q176u4L8//5IgRMV0YaIvsMMO7sXPLoblw2/Cr6MDv+/gXjBk+JhMWf+kGK/nXBAInuwLSrsjTdsH/I/v2tS2RwyTSBsP9cHhsyW8QOtkOH1eXaCV1YeH4YM5B26SN8ozh9npzkH9YzYThM+UVHuOiQal2wVln2dbY4fKKRSLjADs/3dGpk42ZPCe7mLHNNcGfk4X+iH6J92UMBuoh5wgyzC5qqSQV/RXtisUj8pIy8vkFKDNRqA0ZMyZDAckOW+x2ym9TVrh/je7f3/qtZMF6rmvr1tY+aad5STx1MFnY6W3Ba6+ZyyFlI4QQhYlim/PCJvGzbWOrzzAEvmx7222u0zXXmD8wbgFAdmIOyyoZ22syAYleoRVZk2y+vvbOO+a+0LVNG5tseGsXUfhgBa5d797uoYEDTbDZFsHNrdMdd7grLr54qx3miipYH9B+iYGhANBCCJG/sOCF5S+LOLixhwMgs1NYn2HDzFVpeDA+oxQWW8AKELfOuS+9ZIrCVMZOEkJsg+SB1Z8sdJKEgHUIZfgkYxbswbccE1V891k5lDInMZLNV1bLEI4xR87PIL8icXbaaUsMHdzItpVtgsMQO2nq7NkWQyM8oRZCCCFSBVbeKGxwW/9l48aM2EjEJ+L8V2vW5LhBw7YI7qvESsNdUIouIURhJC0tdPxKbzywK0oqVsCxMujUr1+WAWXZFrL/TTe5qXPnml9yPGjlOv58jRUgGd/uHkOG2I4vd3TubGbCovCBQoOVQOJeAO6Fw/v0yXMT6cIGPvyd+/Y1/344pVIld3fQP+231172uagjCx0hhCg42GABCx3iNMaCOVO/YH6Fa53YwopVq1zXQYPcOTVquJaNG+cq3poQQsREFjoFBz7b+IE3JhBmSBDFJ7hPx44mqMVSOojsyU2+Eh+h/803u2OOOEKWUYUYtsG99frrbXK0LSrdiEVwad26ppjcVpQ5QgghChYsbxh3iDFDjEIPc61rGzVyjw4alKst0YsiuP2fWrmyu6pBAylzhBCFFsXQEUIIIYQQQgghhMhP8sBCJ28UOkIIIYQQQgghhBAi35DLlRBCCCGEEEIIIUSaIYWOEEIIIYQQQgghRJohhY4Q+czs2bNd9erV3cMPP2zbh+YF69atczfccIO77LLL3BdffBE5K4QQQgghhBCiqCKFjhD5yO+//+4WLVrkvv/+e/fyyy+7X375JXIld6xatco9++yzbvHixe7dd9+NnBXpyvDhw13ZsmUzjubNm7uffvopcvU/OMe1cFq+W1B8/fXXrkePHq5GjRqF4nmEEEIIIYQoykihI0Q+svPOO7tTTz3V7bPPPq5OnTquZMmSkSu54/DDD3cXXHCBCdKVKlWKnBUi/0CZ07lzZzdp0iS3evXqyNmt2bhxo3vsscdc7dq1Xc+ePU3JKURh5IcffnC9evUyq0ohhBBCiMKIdrkSQohCDBYuWF7dc889bo899oic3RqsdVCoVK5c2XXo0CFyNv+YOHGiGzBggFnoXHzxxaa8DMPzTZs2zY0bNy5D4dO0aVNT6kSnFaIw8Nlnn1lbatWqlbvooosiZ4UQQgghCg+y0BFCCJFr1q5da8qkc889N6aCZsaMGe7OO+80NyyUOqeddlrkihBCCCGEECIZpNARacvTTz/tzj//fLdy5Uo3c+ZM16BBAxMW27Rp45YtWxZJtQVWWkmLpQNm9AiWJ510krkoTZgwwf3555+RlFvAfaR79+6WhqNLly5u+fLlLpZBG9+dO3euu+KKK+z3uefdd9/tfv7550iKxGOd/Prrr/Zc/p1wT3n00UftfBjyIHxP3pF3jcW///7rXnvtNde6dWt3/PHH23u1b9/evfHGG5nei3teeOGFceVrOsF7+Vg0S5Yscdddd529V+PGjd0777yTKQ/4f+nSpZY/5BVl2q9fP6sXsSAo9ahRo6ycuCd5Rt6Fg15zz08++cT1798/I139+vXte+G6UlQhEHjv3r3dyJEjXYUKFVzx4sUjV3IP5UL5+Ng9tMVXX33V6nw08bRXiC7TrMoqlfWqIOFZ6fPo++greF6em+cPv5Pvg+hbw/CZ81z30OeRV99++60bO3as5S335Te++eabSKr/+mu+S5/j86tu3bpbtSuI1V/SzsL3hHjGAVwAsRrz9yEPsHzjsz98eQshhBBCFDTF+wRE/hcirfj444/dK6+8YoqHESNGmJAAn376qQkB1apVc6VLl7ZzTL7nzJljMWvuvfdei4nAxH3Dhg3uhRdecMcdd5w78sgjLS1C94033uief/55S8PB/V566SVLd9BBB1k6QJAYPHiwCQ9fffWVneOeb731ljvmmGPsAO4xb968TDtQnXLKKfaM0ZD2rrvusuf078TzL1y40JUrVy7jnkAecF/P3nvv7erVq7eVaw4CGEGTEUw++ugj99dff9nvkHcIt7zTUUcd5YoVK5ZxT9IhwIbzlec//fTT3W677Wbn0gneC4Gb8sEtaMWKFXZ+zZo19j8WI6VKlbJzb775puvYsaMJ5OQV3+G7HFihlClTxtIBQiJpp06dmiHkkWfkFfGSfFmgCOB3n3rqqYx0CJUoHhBQqQuxlBw8C4Lpeeed53bZZZfI2a3xdeyAAw6IWa/yGn6P4QMFxn333edef/11e+cHH3zQPnM899xzVs/JA+rmiSee6HbYYYeMZ6U91qxZ022//faRuybO559/7jp16mTtm3IC2iL1N5z/EG97/fHHH02hS6yf6LKivHmnXXfd1c6nql4VNDxju3btTOFLefG89Be4y5155pkZddH3F40aNbK656HOTpkyxeqtz1fe//3337f8RqFD3nJf+lfuS3lxX85Tnvx96KGHMvILKzCCyR9yyCHu6KOPtntSpgMHDrT6Fu4vyVO+F85Xf9/sxoHDDjvM+toPPvjAvhOLQw89NMf2KIQQQgiRH8hCR6Q1CHModbp162aCAkIck3sED3aTioZrBx98sHvxxRdNQcHk/thjjzVB7Y8//rDJPYIGIKBzHxQ8fhWaGCBhK5n58+eb5Qyr9wsWLLC0CDiTJ092e+65ZySVM6GS+yIMsjqMEJsVCIIIPLfddpvdi++wKs4259GKFOI6cJ2DGCtZwXOh9GI1mnfhM++G6wvCEYIXAquHXbjefvtty1d+G4ELoZl8Is/TFfIVCxG2eKe+kA8I+OwM9t5771kahEbyGgUXSr1wXlFHwhYC1JdHHnnE6h15hRBJWfAXi6awomK77bYzRQt1jvuRDiXI5Zdfbn+jrQlEfFBuKMtom5QV7RolBPF5ohVk8bRXyhZFDv2H71d8WbVs2dLuwXfD5HW9Kgzw/ihoeFfylOel38SahbqcLFi8kOdDhw61foX+BSUXSiE+h5k1a5b1Wfwuv48yFKU2nzdt2mRpUFQ//vjjVjaUEWVFGVB25G+sfM1uHECpjdUU96GcOE/fymd/0JdHK82FEEIIIQoCKXRE2tO3b1+zEth9993djjvuaLtHValSxYRsBKUwuFkQuBUlBhN3VlrZFQrXDKxYUKYgjF9//fUmSCAQIrxg7o/yhHt6xQcCBSu5tWrVMhN9VnZJiwVC1apVzZIlGXbaaSdb/ec5vvvuOzvHZ34HF4BkQOBki3Qsj3gXnpN3Qzi7+uqrTZDxFgseVudbtGhhv01MFB/zJJ0VDyjEsM7w9YV8oPwR2rzQh8IKoRPhHCWezyvK85xzzjEBlJ2afFoEX+oLeeUtMfjLrmPUMw/nUPJgWeAVDex2hpKH3y5Mwnw8UCe84MuB9ReKShSW/hwCOXmYDLjneBeX8BHt2kOZ0iZRQKJgo11jDdSsWTNr35542yvWObSXyy67zNoG9QQoq2uvvdbaAQoDfsuT1/WqMMA70R+ilMI6huelPpMHvp4nA/k4aNCgjMDZ9C8o2MiraKsYlJ2+v+b36bvOOussU9RQTpQpyjviNrVt29buDZQB5Y+LFgo1+r4wOY0DQgghhBDpghQ6Iu1hpZVJuQcz+AMPPDDm5Bzze+8qAV4o5eB/TPIRuhC8owXJm2++2SxXvFsHwhfKDdxIECDzClbFEQxxF0BA5v9nnnnGni1ZsA7A7SGsYPCUL1/eBKHoOB4nn3xyhuKhqMD7E78lXF8oWxQPfhcb8gH3j0suuSRT+R9xxBHm1oFw6AVvhEoEdVxwcsor6iJ1q2vXrqZI8/dFESKSBzcdFC8I6ChHiNODpUZ0XKx42ytKgvXr17sTTjjBFMRhsMpAIUcd+e233yJn875eFQZQuKDoQgl89tlnW5whlE6x4hIlApZQ++67b+TTFrxL3t9//x05s4X9998/U39N/tLfewUoZUzfRh8WrWTie/R5KPui+86cxgEhhBBCiHRBCh0hkgThg5XrvAahhRVn3AAQ9HDbITYHQhXuA6laQS5qypv8IGylkRPED2H74yeffDJj226RNWwX7S19wgfCeBgE85tuusmsb7CUwsoDdyssNEjvycv2SlvBYqQoQ9wZ3MaIsYUSiv6IYOlYGKHITBcoK/VtQgghhCiqSKEjihysyBKLgRVb3CkSATcDXDHGjx+/lSDJwco/K/GAWT/BNQkEm4qVde7vd9YhbgdWHZMmTTIroUThvXAX+/LLLyNntoByiFV34L3FFgsC8oKAqbHqAPGGsADzaclbXECyU7ShSKAMYcyYMRkxdDiyi30k4gMlKIG9UegQ+4p2gpUNcXW8y1O87dW7POKqE23lgzUIVlaHH354JguPeEikXhUWUFoR8wcrHWLcoGDGtY1g19lBnmcXVDga+iX6Jx/HKCsoD8qFvp12h7Kbv/T3lHcYypjzWPTkNtg05S6EEEIIURiRQkekPbhIIEAgUCMYDBkyxARmYl0kujKLiT8uFQjdWFRkt6KPgIhyZ/r06Rbvgx1WeAaehRgcBGtOBhQsBEolfo53b0AQxTUDISURqxCPt2oYNmyYCY/cl+ckKCi7yBBzCMFHbNnBht3RCHJL8FavEIgFAjguPPfff78Fm/YBsykngrV6BRr3oNwoR1zqEJRJS/7PmDHD0ojkIKAx+ehdIVHukMfUZ855N5542yuuP8RqQcFCWl+mKFIfeOABi59D3KNElcWJ1KuChrpKsG8flwjIV1zEULqElSd+1z92iSKvOPguLlqxoO8hDX85UPwQIJm2gZtnGB+oHmhT9IuUC+n22msvK1NinaFsIlCxfy7SEvya8/RtpEsGlEUoj7D+WrVqVbZKWyGEEEKIgkAKHZH2NG/e3HY+QeHBdrq4JRHQN5mtm5m8cz+UHgTkRLkTjndBMFUvYKAsuvLKKy0IMwogYnnwDDxL48aNM63qEsjV3wPlCgIClhn+HMoAD0LM7bffbnFZ2Eqd6wiibLNbvXp1UzoBz8Hz+HsQiwXrAQIn85n38LEj+D6fEbq4zn15TgKcwlVXXbVVDIptFQRU8ordfQiqSj75POZAGeAh9lD79u3tf6wYyGfSVKxY0QR3r0wgLgeWDpTP+eefb/WEtARSxjIhDGXG7/vfo55QX6g3fA7XwUTqVUET61knTpxo8U84F36vRMAij3wk5g33IW/POOMMU8hi1YbFDcTbXombg8sW59m63JcpbY/dlNie2wcIT4RE6lVhgD6Qd/XlQ5+BxSCxfsIB31GckR8ou8grDuIZoUjxQYrDoMzCdYv7cRBjiHhhtCM+h+Ge/vdpU9yXcqMcKU+UTHyfMsV6iMDGPi3tgHrAM5MuGYjtw/tQV3F5pb5w/3DfKoQQQghRkEihI4oMrKYygUcIQMBLNm4CgUAffPBBE2ZycoFglRgho0uXLu64446zc0z4+cyzJAPWAbwD3+edwu9FYOboQK3xQF6QJ9wDgQh4N86xss07iy0g/LFDFXWgXr16ZlWRHbHqC3lMrJHwLktcZyt66gegcCRGCYdIHmLlhNsfZUBeE6soele4eNsrigWs2Wgf4TKl/dx6660Ju1tBovWqIEEB2bp1a1P4+vrKXz7jzkYf5UFpwxbhxP0CLNZQrrD7oP9uVpAH5AV5Qt5kp3ihvCgnyo9y9ITL1P8ez8Dvs5tWOG2i0Neye1b43kIIIYQQhYlim2VDLNIUrA+wSsEE37sUCSGEKJxghUSQZf5mpyDBOoig2Oedd579FUIIIYQQsZGFjhBCCCGEEEIIIUSaIYWOEEIIIYQQQgghRJohhY4QQgghhBBCCCFEmqEYOkIIIYQQQgghhBBphix0hBBCCCGEEEIIIdIMKXSEEEIIIYQQQggh0gwpdIQQQgghhBBCCCHSDCl0hBBCCCGEEEIIIdIMKXSEEEIIIYQQQggh0gwpdIQQQgghhBBCCCHSDCl0hBBCCCGEEEIIIdIMKXSEEEIIIYQQQggh0gwpdIQQQgghhBBCCCHSDCl0hBBCCCGEEEIIIdIMKXSEEEIIIYQQQggh0gwpdIQQQgghhBBCCCHSDCl0hBBCCCGEEEIIIdIMKXSEEEIIIYQQQggh0gwpdIQQQgghhBBCCCHSDCl0hBBCCCGEEEIIIdIMKXSEEEIIIYQQQggh0gwpdIQQQgghhBBCCCHSDCl0hBBCCCGEEEIIIdIMKXSEEEIIIYQQQggh0gwpdIQQQgghhBBCCCHSDCl0hBBCCCGEEEIIIdIMKXSEEEIIIYQQQggh0gwpdIQQQgghhBBCCCHSDCl0hBBCCCGEEEIIIdIMKXSEEEIIIYQQQggh0gwpdIQQQgghhBBCCCHSDCl0hBBCCCGEEEIIIdIMKXRErvjzzz/dzJkzXYMGDVzZsmVd7dq13aOPPup+/fXXSAqRLN9//70bMWKEO+mkk9zw4cMjZ5Nn8+bNbunSpa59+/bu+OOPt/t2797dff3115EU/0H5UY6UJ+VK+VLOlLfYmo0bN7rHHnvM8qtnz57u999/j1xJjkTKSm0wMf755x+3aNEi17x5c3f++ee7zz77LHIleSgXyodyorwoN8qPcgyTSLmmE+vWrXOjRo3K6C+uuOIKN2/ePMvrWJD+oYceck2aNLH0HE8//XTk6hai71m/fn37zPlY/Pvvv+6NN95wt9xyi6tRo4Z9hzL+6aef7Dp/+ex/L9YR7me532uvveZat25tZcU9+/Xr57755ptICiGEEEKIgqd4n4DI/0IkBJP1hx9+2PXq1ct9++23do5J88KFC90vv/ziqlWr5nbYYQc7L+JnzZo1buTIka5r167uhRdeMOXAKaecYvmZG958803XsWNH984777i//vrL7otwuWTJEle5cmVXpkwZS4ciYODAgaZM8sIQ5Tt37ly36667ukqVKrnttpMuGMifCRMmmBD5zDPP2GeEv5o1a7rtt98+kipx4i0rtcH4QfFFvnTr1s3q9hdffOH23ntvV69ePbfHHntEUiXOJ5984m688Ub3/PPPWzlRXitXrrTfOu6449xBBx0USRl/uaYTvH+HDh3ctGnTMvqLr776ys2aNcuVLl3anXjiia5YsWJ2HoUW+UJ62svq1avtPJx33nnumGOOiXxypvC5++67M+75ww8/uFdffdWUX6eddprbeeed7Tz8/PPPbsCAAa53795u+fLlbsOGDXb+0EMPtfvusssultcomSj3rPD9LO1qzJgx7qabbnKffvqplRX3pJzee+89d+qpp7qSJUtGviWEEEIIUXBIKhNJs3jxYjd27FhbOX3xxRdt4stknc8zZsywybdIDASHRx55xFaiWRHG0uLYY4+NXE2etWvXmuCPEDJu3DgTOBEkEW75/8knn8ywvpk/f757/PHHXcuWLd3rr79u5YrwxfOgvFi2bJmlE87q+Z133mmr++QrgmZuSaSs1AbjZ8WKFZaHKEyHDh3q2rRpE7mSPCgJyH+UDdyTtvHRRx/Z/4DV1vr16+3/RMo1nUBpgzLqiSeesPdAwcN7H3jggW7BggWWNx7q56BBg9zuu+9ueYFyBAspjosuuiiSagv77befmzx5svv444/tOnX9uuuucy+99FImqyqUL/RX1Hf6LNoBz0EaysYr6/jLZ/974WP06NH2vF5pjsKaz1hPvfXWW5YGZU6zZs3sObDwEkIIIYQoDEihI5KCSTQT6z333NNWnA855BBbhWU12n/G/B0FhYgfrCmw7rj33nvd4MGD3cEHHxy5kjtYtcaCoFWrVqaYKV68uFnbXHnllSZIIawgeG3atMkUArg5kHafffaxcq1QoYJr166dlScCjthC9erVzSoAiyryiHzNLfGWldpgYmCtgSvQpEmT3MUXX5zJwiNZPv/8cxPumzZtako07rnjjjva/5x7++23zVoF4i3XdGOvvfZyPXr0cCeffLK9E8oQ2sWFF15o7lG4IwL1FdfAnXbayQ0ZMsTVqlXLlShRwq7F4rLLLnNVq1bNsDBDIUO/tNtuu2WyOkPZgsKZ/qlLly5W7xNphyjccPfCOoc2DLQjyhAFEu0LSpUqZQqdww47zH333Xd2TgghhBCioJFCRyQFk3RWopkEh5UOxH2ZOnWq+/LLL22l1k/mRfyg0EEYQjDMKz744ANbRa9SpUrkzBbrAtyosMJh1RmXnR9//NFWtxHIvCCDmwTliQUB5YsAxXeFc+XLl3dXX321CeZ5RbxlpTaYGCgPiF0TdoHKLeQvLopeQQMoLoi9gnsPZYFVCsRbrkUJ2gUKHMAF8P3333cXXHCBO/LII+1cvBDPBuUZFoLnnHOOWcR5sIpC2YICJhFFjgc3OBSfKPnibccolYQQQgghCgNS6IikQEhkgs5EmtVShBpchYhXgLsQlh6szpJGFCxYaODugRCCwIJwhCvO5ZdfbrE/UNAAwT6JE4EQ6pU5lCGWQgSPnT59up0j3R9//GH/i7wlkbJSGyx4fFuhrHzA4+uvv95dddVVprwAXLwSKdeiAJZG7777rsXbIk4REAuH/MKKifqJAgbFTHZBvLGcIQ0KoLPOOsusY4gtFla8oLikDFCYobDLKTB1GG+dg7UQsX6yg/vwTpQl1khCCCGEEIUBKXREUiDQMwFnYo25OxYl7ACy7777uvvuu8+CtLJSzSEKFsoASwBid2DRgcsHbh4IQm3btnXjx483QYl0lCtCFwoClAMIWwhfWKIgdCGskg6BVOQ9iZaV2mDBgtKMeDAoawiMTRlg7XHppZe6KVOmmKXb33//nVC5pju8AxZiv/32m2vUqFGGpSEKHdzO2AWOODoffvihnUeZ1bdvX3MzzSmGELtQESjZK3/IU9yfnnvuOcvH2bNnW4BkyoX/iZOEUicrvHUOyqWwkigWWFoRGwi3K/pDIYQQQojCgBQ6Iikwo2cC3L9/f9epUyezBGCizk4nTI6ZaGP+nowJvMhbKANWxZ999lkTRghUyhbXKAFuvvlmsxpgRZ10lCtxc1jdRjnArjsIWggyCKcISqTTLlepIdGyUhssWCgPYko1btzYLNiwIiFGz1133WWxZbCiYrezRMo1nUGZQ7Bj8uLWW2+N6VpFHvlgxyhJCGJMfSW+kLdU8hBbiHOkI1YRQY9RLBOAOWx5Q2BmLHdQzpAWNywfmBqXtliKMm+dc8YZZ5glUXbwDASvxmUO6yu1KSGEEEIUFiSViaRAkEQI4WjdurVNxlu0aGHnvXsBpvZMtEXBgrUNbjmAMIUQiRuVjyVCWQG7ulB+uC9QbigHvOUHq+ysnpOWdAinIu9JtKzUBgsW75pYsWJFU3o++OCDFliXoLrefZH4RomUa7qCApHt4MkHlIwENA7jlcXNmzfPCHZMPhHEGCUXMXJQGMeCdOx6haIZJQ9KGyzUvKIMlynuQX0nLefOPfdcd/rpp5vihvYQjbfOIR1WVlmBhQ9KN7ZUR0lF+xJCCCGEKCxIoSOSggkwq6/lypVzTZo0MUsOD4E933nnHXf44Ydr8ltI8Fufs3OMFzgBJQ0r3wgrCFsIRLh+sH1vw4YNM5Ufq9QEbuW6D3Qq8p54y0ptsOA54ogjrCywMDn11FMzLNewHkFZALQXiLdc0xEUMVgl4WrFDlYE6vbv52GXKpRbWOZEx7XJydXKg7VTWJmMUuiAAw5wq1atMgu1MLiFZnVfb51DPxetePLwjASrxvqN8sJCB+WpEEIIIURhQgodkRRMpJkMsyMSLjl+dxb+8pnzrESTTqQeAoKySwvbMke7LQDCIu4Cw4YNMxcRhB1W1Nk1hlgfCKOsgKMkYBcedugZPXq0CT4INpQnLgzEAGFHH5E8xBLBPYR8nDVr1lbCbbxlpTaYenIqKxQUtJexY8dazBZcezj4n3PsWOd3ZIq3XNMNYtZgkfPyyy9bfBvqZCxQFhOsGHcsrGPIJ/KAvmvMmDHutNNOy7RbWxjynbJ4/PHHzW0Niyiv2CFPCTyNqxtpAFe3iRMnWmydcFoPv8+W/yjivOVUGH6P68RFwiUrOhCzEEIIIURhoVgwccl6CwghsoHAlAMHDrRJdjRdunSxeAeKNZA4rBx37tw58mlruNahQ4fIpy0QLPSee+6x//mLW0IYmvnMmTNdjx49tnJrqFOnjglkxPwAti4n3fz58+2zh9Vp0iEERa++b6tgsYTFRVY0bdrUXNfCAmX4O7GuJ1JWaoPxg7BP21m4cGHkTGawoKEdhbfEzqmsAEscXHJWr14dObMFdk0i+K+PI5NIuaYTOfVX4XwjP7F4ic4r3AKJ2VWvXj37nF1ZXXPNNe6mm27KULCgFKMNEFg6GrZI79OnTybrNZTUlAEKJb4XS6GTU10BlHAok4QQQgghChJZ6IikYULNyiW76XghCCGGHXaI5SFBMv8488wzbSWaVX5WwaNBAYNww45VpAHidbRr184NGDAgkyDJ/5zjmo/pwXf4LveQMid30FbY/Ye8xTUl2n0tkbJSG0wtOZUV4LIzcuRIU0ag9EQ5wXbkWOKEgwInUq5FFbYUj84rdgTDSqlu3bqRVFtDPuECihUOypiwtQyKIpSX0W2AnbNQ2ISVOeCtc7BojKXMEUIIIYRIJ2ShI4QQQgghhBBCCJFmyEJHCCGEEEIIIYQQIs2QQkcIIYQQQgghhBAizZBCRwghhBBCCCGEECLNkEJHCCGEEEIIIYQQIs2QQkcIIYQQQgghhBAizZBCRwghhBBCCCGEECLNkEJHCCGEEEIIIYQQIs2QQkcIIYQQQgghhBAizZBCRwghhBBCCCGEECLNkEJH5JqNGze6xx57zNWuXdv17NnT/f7775ErIjd8//33bsSIEe6kk05yw4cPj5xNns2bN7ulS5e69u3bu+OPP97u2717d/f1119HUvzHr7/+6h599FEr07Jly7oGDRq4mTNnuj///DOSQnjIE/KGPCKvyDPyjjxMln/++cfNmzfPXXHFFRn3vOeee9y6desiKf7j559/dqNGjcooqyZNmqissoG8XbRokWvevLk7//zz3WeffRa5kjy0IdoSbYq2RRujrdHmwiTSBtONRMeBH3/80V1//fVWZ2Olp/7OnTs3UxugnlPfo0m0DcbTt/7777/utddes7IiHfetX79+rtu2EEIIIUReUrxPQOR/IRLip59+chMmTHC33HKLe+aZZ+wzQkrNmjXd9ttvH0klEmXNmjVu5MiRrmvXru6FF14wQeeUU05x1apVi6RIjjfffNN17NjRvfPOO+6vv/6y+yJcLlmyxFWuXNmVKVPG0iGsDBw40AQeyhS+/fZbE6523XVXV6lSJbfddtIFA8qBhx9+2PXq1cvyCMizhQsXul9++cXKbIcddrDz8cI9x4wZY4L+V199Zee4J+W3atUqqwuUAyAUd+vWzQRpX1arV69WWcUAoZ9yIb+o21988YXbe++9Xb169dwee+wRSZU4n3zyibvxxhvd888/b22KtrVy5Ur7reOOO84ddNBBkZTxt8F0gnqX6DhAHX/88cfd7NmzrX4ec8wxmdLTB915551uwIABmdrAq6++ap9PO+00t/POO9v5RNpgIn3rs88+6zp16uSWLVtm6eCHH36w+6K8ql69usY5IYQQQhQ4mumLpJkxY4ZNulm5HDdunE2yRe5AyHvkkUdsJbpGjRq2GnzsscdGribP2rVrTegpWbKklRUCJ4Ikwi3/P/nkkxkWHfPnzzdhq2XLlu711193n376qQlqPA+CGwKO2MLixYvd2LFjbeX+xRdftLxC4OMz7QMBNFEoF+55+eWXW/5jQUKe09awLFmwYIGlw9rj6aeftnNcIw1p+Q7fnT59ep5YnxQVVqxYYfUdoX7o0KGuTZs2kSvJg6BPWSHoc0/K4KOPPrL/AUXb+vXr7f9E2mA6kcw48Pbbb9v7UgYnnnhi5Ox/7LTTTu7www93gwYNcu+//77V41deecXVqVPHvfTSS+7DDz+MpIy/DSbSt27YsMGUolWrVjVFHUo77ktbo2299dZbVo+EEEIIIQoaKXRE0rBC2bt3b1vxrFChgitevHjkikgWVpJZqb733nvd4MGD3cEHHxy5kjuWL19ugkmrVq1MmKGssOC48sor3UUXXWQWAgilmzZtMmEIlwXS7rPPPq5YsWJWvu3atTOhCGFGbLEMQLjcc889zerikEMOsbzCIsN/fuONNyzPEgEB9YADDjBhl/wHrBEuvvjijLL67bffzEoAS4/LLrvMXE28xQLfue6666wuffDBB3ZOOHfooYea+86kSZMsL31+5YbPP//chPymTZuaAoF77rjjjvY/51BceAuTeNtgupHoOIBVGYoV+jmso2Kl59w111zjLr30Urf77rvbOdoEeUUf5fMpkTaYSN+KuxXKOuoM98KKiPvuu+++ZnVFuaF0EkIIIYQoaKTQEUlTvnx5d/XVV2e4f4i8AaHjwgsvNMEwr0Cwx6WjSpUqkTNbrAtYhcaiAyUC7goIW1gLIKQhJAGWIF9++aWtqBN7gtVy74KwLYNCBWsMXDbCwiF5NHXqVMszVvZJlwgIrF4xEIZzCJTffPON5f/ff/9taXfZZZethGJciHAnwv1KbKFEiRIWDyXsApVbKF/cg7yCBlAyEHuFGEjUBSw7IN42mG4kMg6QN5MnT7Y20bp166SVIrvttpv9TbQNxtu3YkV1+umnm+VP3759TXGH+xb3xMIHS6H99tsvkloIIYQQouCQQkeIIg6r07h7IAQhdLH6jBsCrgPE/vBuOSgKcDVAGPLKHILwsppN8FhceIB0f/zxh/2/LYOQiJBXqlQpW/1HsMfy4LzzzjOhD2UL+UeaRMCqAAHfC75AuRBv5H//+1/GPVHkoJzAHQ5XE4RlypbywTUOVxUsGVRWqcO3FdqVD3hMoN+rrrrK8h9wzUmkDRZliCH01FNPmWItUYUI9Zt2gVKMmDuQqjaINQ5liDJn1qxZ7qyzzjLXsNGjR1usIAJq52SJJIQQQgiRH0ihI0QRB0EISwBWnVnNxuUD1wVWr9u2bevGjx/vDjvsMEuH8I+QinCEYOR3lmEVnpgTCKtecbCtQ14hQCKgo1Rh5b9fv35mRXPfffdZkFbyiiMRiEGCBQD3qFixosUmOeGEE0wIRkmAVQPBWLHYwbUHiHdUrlw5d+SRR9r3ieHCbkBYIigocupAYYBLEMoaBH3qAC4+uApNmTLFLN2wpEqkDRZVUC4+9NBDljfEpkkUlEHEjCLfDjzwQDuXqjYItBvaHgpWz3fffWfBtClTIYQQQojCgGb6QhRxWElG+GfXlmbNmllQXWKuIADdfPPNZjWAsEU6lAXEYEF5gGDErjvEnCC4K8IpAizppCTYErgVQbJ///62Gw6WAGy/PG3aNFO0IMCTV4mu5O+1116OzQdbtGiRIbieeuqpVg7ExvFWHoBgPGTIEHfOOefY+dKlS5vA/OCDD9p3vOWCSA3kOTGlGjdubBZsWHIQo+euu+6ycsSCBOVbIm2wKIJChYDJ5AX1M9H3RJmDcoa8w1oQCxpIVRvE2opt0FG87b///rYjFmXFblj33HOPBWvm3kIIIYQQBY2kMiGKOAj0CPaAwIlgghuVjyWCdQGgPEA4woUExQCCkV/1xtKDHXhISzqE020d8gpBnIN4IAS8RQnDee9iQxwb8jJRECLJ/5dfftnccdh1DKUN1ghYDHiFDoItQiZWVMRoIUgywiaWBWzdzE5BInV410QsqVB6okgjMDDl4t0Xie2SSBssiuDyhDsaO+ihhKR+cuA+RRD2iRMnmhUgrkzUWw+KFdwJb7rpJtewYUNrX2HlTKraIG5ylCfPescdd1hwZMoVy7dLLrnE4h4Rm0cIIYQQoqCRQkeIbQC/PS87InmBE1DSsEsPMSmwzEH4wfUDJQEClFccAIoFArdyPdlgpkUJXG1wccLVqUmTJmbN5CG4LcoVFCrhPMwN7733nu3ogxCcXf5jDfHcc8/Z/wjJInUcccQR1m6wBsEiyluuoYjA9QpoLxBvGxRbwK0TKxliDGGZg7VMdDDjVLVBvktfh/sifaIHlzkCK6Oo88GuhRBCCCEKEil0hCgCYJ3BVsxsy+wDrIZBWEQRMGzYMHMRQVjCZYDgucT6QBglSCkCErvwsEMPAUDXr19vwik7X7E6jUDDjj5ii+UTii/yBncov0MRf/nMeawxol2esEDo2rWr5SMBV8nfrEA5w/2IX4RrDoqArPKf8iQ+C+5aWOmwFTaWBSJ5ciorrG9oL+yGRNBqH6+F/zmH8I8lCsTbBosi7LpGftA3hQ+UJuQRW7wvW7bM0pCWPGRHKYISY3lDjKhYblPJtsGcwOIHRRzPxw5XlBVlz31R1KF4Q5knhBBCCFHQFAsmKVlLE0JkA5NdVpuzgkk6biNyz0kMAn927tw58mlruNahQ4fIpy0MHz7cYjsAfxHmw9DMWe3u0aOHxcEJQwBeYlAQ8wPYupx0uEeEQcghHdYI3rpgWwcXqIEDB5pLVDRdunSJKYiG202sNoKQT/wi3FDCoFS4/fbbMyw+AKGYurB8+fLImS0QaJcjr6yDigIoZ2g7uPjEAgsa2pFXwEBOZQUI+CjboreIZ1ckFGtYkEAibTCdyM044MsE17NwmqzqtSdcVom0wXj7VqymiE1FEOdYsAMWij6NbUIIIYQoaGShI0QR4Mwzz7Q4HqzyH3/88ZGz/4EC5oILLrBYK6QB4nW0a9fODRgwIJMgyf+c41o4KC/f5R5S5vwHChMEOwK2ekUAgjw77ETH+/CQrlGjRpa3p5xySrbuU6QhCCw7jmExFVbmRHPccce5a6+91uJ74KYiZU7uiaesiLMycuRIV69ePVN6Eq+F7cixxPHKHEikDYr4SaYN5gSuXSjpHnjggYyyomzPOOMMO9e9e3cpc4QQQghRKJCFjhBCCCGEEEIIIUSaIQsdIYQQQgghhBBCiDRDCh0hhBBCCCGEEEKINEMKHSGEEEIIIYQQQog0QwodIYQQQgghhBBCiDRDCh0hhBBCCCGEEEKINEMKHSGEEEIIIYQQQog0QwodIYQQQgghhBBCiDRDCh0hhBBCCCGEEEKINEMKHSGEEEIIIYQQQog0QwodIYQQQgghhBBCiDRDCh0hhBBCCCGEEEKINEMKHSGEEEIIIYQQQog0QwodIYQQQgghhBBCiDRDCh0hhBBCCCGEEEKINEMKHSGEEEIIIYQQQog0QwodIYQQQgghhBBCiDRDCh0hhBBCCCGEEEKINEMKHSGEEEIIIYQQQog0QwodIYQQQgghhBBCiDRDCh0hhBBCCCGEEEKINEMKHSGEEEIIIYQQQog0QwodIYQQQgghhBBCiDRDCh0hhBBCCCGEEEKINEMKHSGEEEIIIYQQQog0QwodIYQQQgghhBBCiDRDCh0hhBBCCCGEEEKINEMKHSGEEEIIIYQQQog0QwodIYQQQgghhBBCiDRDCh0hhBBCCCGEEEKINEMKHSGEEEIIIYQQQog0QwodIYQQQgghhBBCiDRDCh0hhBBCCCGEEEKINEMKHSGEENsM//zzj1u0aJFr3ry5O//8891nn30WuZI8X3/9tevevbs76aST3PHHH+/at2/vli5d6jZv3hxJsQU+c57rpCM93+P7RQHe75lnnrF3K1u2rFu8eHHkyn/Em1fDhw+3e0QfWZXZv//+69544w13yy23uBo1alhayvinn36KpNjCN9984/r162dp+P1rrrnGvfrqq/b9aOJ9ViGEEEKIgkIKHSGEEEWeP//8073wwguuadOm7oorrnALFy6MXMkdn3zyibvhhhvc5MmT3c8//+w2bdrkZs+e7dq0aePefPPNSKot8JnzXCcd6fke3+c+6c6nn37qxo4d63bbbbfImcwkkleJwL369OnjmjRp4qZNm+ZWr14duZIZfr9du3bukUcesTT8/ksvveRat27tnn322UyKmlQ9qxBCCCFEXiKFjhBCiCLPihUrXLdu3dyaNWvc0KFDTTDPLb///rspMH744Qe757Jly9xHH31k/8Njjz3m1q9fb/+vXbvWPfzww65kyZJu3LhxbuXKlWbtwTPx/5NPPmlKp3Tl119/dePHj3d77723WcZEk0heeVC+kQ6LHH/MmjXLrG88WFw9/vjjbsaMGa5ly5buxRdftPwkLb+3xx57WDryduLEifb7Y8aMsTQooBYsWOCqVq3qpkyZYtcgmWcVQgghhCgIpNCJARP+ESNGuPr169vEsXbt2q5///5mqh0NZtqvvfaarfCFTehjpWVCOXfuXFsd5r6YfN999922+ud5+umn7Vq0qTqfOc91DxNWzM+5xsTzzjvvtN/nvhMmTMgkHPA/K5GYjHvzcUzN582bZxPiaHJ61q+++so1aNDATNf/+usvO+fhfvfcc49dJ50QQhQ0hx56qPVnkyZNchdffLHbeeedI1eS5/PPPzf3LRQPjBfcc8cdd7T/Off2229n9IHLly93zz//vGvVqpX1p8WLF3e77rqru/LKK91FF13klixZkqFQSDewbOHdXnnlFXu//fffP3LlPxLJq0RgHMTNC8ubLl26uEMOOcTyNhry9oMPPjBl01lnnWVpihUr5g477DDXtm1b9+6779ozQqqeVQghhBAir5FCJwpW5h544AFbifvwww/tHBNGVlZR6oRX5VBcPPTQQzaBfe655zKZ0E+dOjWSagusXt511102cWSiCJh833///aZoyQ0odK6//np7Fn6f+/bq1cvcCzxMZFHgYDLuzcf53ZtvvtlWKMPE86z77befKYbeeecd9+2339o5DyvRnEdoOeCAAyJnhRCi4ChRooQptA866KDImdyDWw79pVfQAOMCSn6U5d9//71ZgQB9cOXKlV2VKlXsMzDeoDh//fXXrR+P7kvTBd5x9OjRNhYyLsQikbxKBKxnSpUqZcqWWIoczx9//GG/v8suu5giJwxWPCiC/EJMqp5VCCGEECKvkUInBlikYP7+8ccfmzLn/fffdx07djRlBp89TMDxxWcC+9RTT5kJN8ecOXNs1S/M/Pnz3aOPPmqTThQoTBi5P8qfPffcM5IqOQYOHOgOPvhgMzVnksnvH3vssRbokUks7LTTTq53794WNJI0/D6xBsqVK+defvnljHQQz7PusMMOtsrJ+zKhDoNrA+f9KqgQQhRFEOzpE7G0wUoFFyqU61dddZWNG4DFJ1aMKLqJLUNaLDvpny+//HJ34403ZowrsSw7CzsoPhgHTzjhBHfhhRdupSzxxJtXYXCRKl++vI3JDRs2NMvZ6DRffvml3ReFWdgCNTqAMUqbffbZxxZbsIaiDFDSrFq1ylzFuI+/dzLPKoQQQghREEihEwWm1S1atLBVVJQWsPvuu7vTTz/drFr8ThhMBFHwMOnDGqZixYqmvOA4+uijTRni4XsE4KxVq5br2bOnKXu22247uz+++9w7N+BGMGDAAFthZDKNa0GlSpXsWf1ktkKFCu7qq6+2+Aak4fdR+jBZDqdL5FmPO+44+4xCiJVm8KuYNWvWNGWREEIUVegvGR9Q1rC7EgoNlOaXXnqpxWSpXr26+/vvv61fpI8kfg6xWLBkwdUKJQKWkCgU6GtJl04wbmCdyjsxbqIAyYp48yorUMJgOYuihkUGIE+/++47ewbyMWyB6gMYo4yB0qVLu0suucQWG1AOHXnkkTZGnX322Zb/fIeFD8jtswohhBBC5BdS6MSArUpxryJ2DiuDHJdddlnk6haYSGIej+IkJxP+jRs32srriSeeaAqVvAYz/vBEGqUUsW04+B98TBzcrli95J1Q5rACGiaRZ8XMHcUPE22/WkmesAMIk+TsJvdCCJHuYHHz1ltvucaNG7vp06ebVSIxenBZ3Wuvvaw/3X777U3RT1/MTkrNmjUzy0dijBH7BbdX7kOMl3SzaMRyE1cr4tIcccQRkbOxiTevPB06dDDLJQ4UOCwUECeHWDdYi4Zjt6Gs6dq1a4YFKlajPoAx4x6KMhYyiDk3ZMgQd+qpp9q1Aw880BRRuFmzEMMCDST6rEIIIYQQBYUUOlEwcWSrUmLmhN2rosGqxVul5AQredGBg/MTJrOYxLOCiVURq49ZkeizotAiPUEigdVQBBfOCyFEUcYrALDQZOejBx980KwhUR5s2LDBXHdwh8XCEQU4oBxAkTN48OCMxQAsQQAFQzqBQoejU6dOptDxCyCdO3e26yyE8Jlg/vHmVSywEt13331tQeK0006zsZdxzSvKWFhAUeYtUDl37rnnmgUpce/8mEZ6zrMrFuM71qVYovK9H3/80axcITfPKoQQQgiRn0ihEwXuRphks2NUeLtUzKzDsOMFkz787/3OT1mB6Tam9l988YWt7CUKE1fiAyQLVjP/+9//bNLLyjArmLwT78eOHWESfVbcu5g0o9D56aefbIX0zDPPTIklkhBCFCZQYhCXBRdbrD5QPACuSPSF4OOp4eIKKDm8cgCwniT4/DHHHGP3KqokkldZwWIEB98l/1CUEXifcXjdunWRVFtg0SW802NWEAMIhRNl4n8/L55VCCGEECI/kEInCiaLmFuzUorSxluf4GMfBl97JoCYgRO/hm1OmUByEBR45syZkZRblCSkxXR7+PDhpmBhYoiiBrNutnr1+BVbdqhioukDTrJleLL43T2YoBIYEjDvf+KJJ2x3lTCJPCuQR7imkQ8ojVitJX6OF1aEECJdQUmNKw+7Hc2aNcv6wjBYaRBvbezYsRazhX6Sg/85R1+IhQqgsME9dtiwYdaXeivPCRMm2IIBigN2D0wn2G7dL3qEj3vuuceu8158Jl0ieRUN6RhbcJdiwYXy8PFuyFNcfnGJoryAxQjciYmtg5WNdz0Ow5jI2M5W5zNmzDAXOD8+5uZZhRBCCCHyk2LBBDXzDHUbB0UKLlfRbklY4zD5ZjLHBBKYELLDFObb0WByTgwAD+bcPXr0sB2komHyy4QXMOW+6aabbAeUMGeccYZbvny569atW0ZaJsr8BgE2/blYMLnt3r27xW8Ig+LKm6Zjdu4nvfE+q4dJNDu18Hwod8L3EkKIwgD9FP0yVpixwIIGJXZYUGcnQx8/DWvGWH0bFhvEwVm9enXkzBaIQzZo0CALvgsMtSj66Vujx5c6depY3DbisxQFsHghr1Ho+PES4s2rrMqKMYsx79prr82IN8S4zDgcvegCF1xwgevTp48rU6aMfQ6Xp4d7EvgYl61wDKN4n1UIIYQQoiApHkx2+kT+FwH40HNgmcLBTk4oTFq2bOneeecdc1vCxBsw965WrZrbf//9TbnDxA/LHiaM7DxVokQJSwcECMb3n+CNuGhhIYPgwH2ZdHohgcklK7nEVMA1iskjShyECVYTsZ7hOjDpZYtyJsz+XCywouE+PCMBn/ktBIjbbrvNViQ5z4qjD/IY77N6+MzzEnySOD3ZPYsQQhQECP7z5s0zd9JY4CZar169DCsN2GWXXawP5GjSpIkpfaKtD+nz2QGQWC1YitCHX3zxxda/ht1y+B67KtEXszPTV199Zd9lK2wUBz5uS1EAaxryulGjRhnjJcSbV9Flxffq1q3r7rjjDluACCteGLe4J/nH+Ma4SB4TQBnlDy7EHgL+e/dp4rwxrrJ5AG7D3q3KE++zCiGEEEIUJLLQEbkGU3Qsd9577z1zDSvKcSCEEEIIIYQQQojCgGLoiFyBOxdbvo4bN841bNhQwZCFEEIIIYQQQoh8QBY6IimiYxHgYkbwUNy1hBBCCCGEEEIIkVpkoSNyBTGGevXqJWWOEEIIIYQQQgiRj8hCRwghhBBCCCGEECLNkIWOEEIIIYQQQgghRJohhY4QQgghhBBCCCFEmiGFjhBCCCGEEEIIIUSaIYWOEEIIIYQQQgghRJohhY4QQgghhBBCCCFEmiGFjhCFlO+//96NGDHCnXTSSW748OGRs8nDhnZLly517du3d8cff7zdt3v37u7rr7+OpPiPX3/91T366KOudu3armzZsq5BgwZu5syZ7s8//4ykEGE2btzoHnvsMcuvnj17ut9//z1yJTkSKSvKhLKhjCgrnoGyowzF1vzzzz9u0aJFrnnz5u788893n332WeRK8lAulA/lRHlRbpRf9CaSiZRrOsL7PfPMM/Zu1MXFixdHrvxHvH0LfR7Xo4+syuzff/91b7zxhrvllltcjRo1LC1l/NNPP0VSbOGbb75x/fr1szQ85zXXXONeffVV+3408ZarEEIIIURBUbxPQOR/IUQhYM2aNW7kyJGua9eu7oUXXjDlwCmnnOKqVasWSZEcb775puvYsaN755133F9//WX3RThZsmSJq1y5sitTpoylQ+AaOHCgKZO8MPTtt9+6uXPnul133dVVqlTJbbeddMFA/kyYMMGESARZPiP41axZ022//faRVIkTb1mhnHj44Yddr169rIyAZ1i4cKH75ZdfrM7ssMMOdn5bB4UB+dKtWzer21988YXbe++9Xb169dwee+wRSZU4n3zyibvxxhvd888/b+VEea1cudJ+67jjjnMHHXRQJGX85ZqufPrpp27w4MHujz/+cJs2bXKNGjVyBxxwQORqYn0LefX666/b/2FildnPP//sBgwY4Hr37u2WL1/uNmzYYOcPPfRQd95557lddtnFPlNWnTt3dnPmzLE0lAH14LnnnnMHH3ywO+qoo1yxYsUy0sZbrkIIIYQQBYWkMiEKEQgNjzzyiBs1apStILOSfeyxx0auJs/atWtN8C9ZsqQbN26cCSYIkgi3/P/kk09mrJDPnz/fPf74465ly5YmUCGkoazgeVBeLFu2zNIJ52bMmOHuvPNOswYgX0877bTIleRJpKywgBg7dqyrX7++e/HFF62sEDj5zLNheSC2sGLFCstDFKZDhw51bdq0iVxJHgR98v+HH36we9I2PvroI/sfsNpav369/Z9IuaYjKGvGjx9vChcsY2KRaN/StGlTO4dFjj9mzZpl7c2DUpN7Ut+5L+2A/CQtZeMVP+TtxIkTrazGjBljafj9BQsWuKpVq7opU6bYNUikXIUQQgghCpIir9BhYoYLBObbb731lqtbt6674oor3Oeff+7mzZtnZt+YUf/444+Rb2yxkGAFEaGIiSNp+vfvb6ba0WCm/dprr7nWrVtnMqGPTsvv8xxMev/3v/+5xo0b270RKphUhiENk9uwC0VWvx8vTGZfeukle1dvPo6pOXnAhNinueOOO9xll13mVq9ebefC4KbA9/iOh2cNm8+Hj7xyZ9iWwJoC6457773XVrpZNc4LWLVmpblVq1YmPBUvXtxWxK+88kp30UUXmYUAwgur6igEKE/S7rPPPrZiXaFCBdeuXTtTONGOxBaqV69uVgFYVJFH5GtuibesaLe06T333NOsPg455BArKywH/GdcUCgzscVag75/0qRJ7uKLL3Y777xz5EryMI7QL6J4YLzgnjvuuKP9z7m3337bffXVV5Y23nJNR3BB4t1eeeUVe7/9998/cuU/UtW3MMagFOIeXbp0sXofqx2Stx988IEpm8466yxLw+8fdthhrm3btu7dd9+18oREylUIIYQQoiDZZix0WGEbNGiQ+/jjj22ihhXE3XffbZPB2bNnZ6xkowB64IEHbCXuww8/tHOkYWUVpUp4VQ6B6qGHHrLJKSbbTFgx/Z48ebKbOnVqJNV/cA1FEauIfuKKcmTIkCEZ9/Um6bhQMMEE//tMWDEDTwYmsihweFeeg2dFGLz55ptthRKYsOKiwao/wkcY3hXhsFy5cq58+fJ2jrwiT/v27SvFTR6CQufCCy+08sgrKH9cOqpUqRI5s6X8cHVgpZwyx/UBxSYr1ygqUBQAwtqXX35pFgTE9aGs+a5w1hauvvpqE8zzinjLirg9WA3gjhdW/FFG9D+UGf0F6YRzJUqUMIV2XrrKkL/02V5BA/SVKPnp2ykLr7CPt1zTEd5x9OjRNhayYBCLVPUtjO2lSpUyZUssRY4HNzDKCvcr71blwYoHRZBfNEmkXIUQQgghCpJtRqHDJAzXFVYIcYvARBuhGWuZE0880SaVHqxLmGCi/GGC+f7779uKNwqQsOKCCTiKISawTz31lE1WOfDPZ9UvGpQpBH8Mm3Djz8+qpr/vs88+m8kk3f++N8vn+0wsE2WnnXYySwKUMkxEmbBOmzbNFDQvv/yyTXaBGAbkD78dXtnHXYC4D0xwfUwE7oEwct1119nqMvdFOVSrVi2LcYB5O3kpChbKkfLbbbfdTPGAVRkKzMsvv9xiRPi6hzBDXAmEFS9wrVu3ziyFsLaaPn26nSOdry8ib0mkrFDUECcHYRbLLgRQ+iNihuCyh9KW8iONSA2+rVBWKCdwobr++uvdVVddZf02YPGZSLmmG77enXDCCTamRitLPMn0LYwhKE0ZRxo2bGgLIuRnGMZu7onCLGyBGh3AGKUNVkEoOxmvKAPG0lWrVpmrGPfx9463XIUQQgghCpptRqFz5JFHmqk0E2pW3Fgpxey+dOnSFtPAg2l1ixYtbBXVBxPdfffd3emnn24CEpNAYCLo3R2wpqlYsaLdl+Poo4+21cJoDjzwQLPG8eb+WGCceuqpGfflLwqXc88910zAmXwCv9+sWTNzF3vvvfeSEtAwa8eSgPgGTLgJPImCi8kyv+0nvVw/88wz7XeY1HpQ3mCG7k3Vgc+k4XkRKr35OpN6JskIMKLgoa6y6k09R4nIKjpuHggw1DOEGcqNdAhTlCl1HyEN9wiUA9QTXOsQakjn24HIWxItK4RphE5cTmh37N6z7777uvvuu8/6JdJxiNRAn03/TF9HYGzKgD780ksvtZgsWKP8/fffCZVrOsG4gXUq78S4SV3Mitz2LShhWAxBUcN4BOTpd999Z89APoYtUPkfl2aUMcBYf8kll9jCCMoh5gQsaJx99tmW/3yHhQ+It1yFEEIIIQqabUahQ9DDsNUMSpe99tor8ikzbFWKe1U4LgxxZcIwkcQ8HouWeE34jzjiCNtFIwyKJVZn+UsMGyaQTHBRkIRhonzMMcdYHAC/O0gicG+saXC7YvWSd+J3WAENg1IGZRbxAbzbFZNsJrMohcJ5iIIKBRk7MWEtwOQeJQ/CJc/PNVHwoIBDgYj1F4pBrKiIz0Q54XJHOVGvSIdAgyIRoQnlALvuEM+HIKAIMQg6pNMuV6kh0bKiX6Cv6tSpk1k8EKcLyzsUyvRRpOMQqYHywH2WmGhYmaDwJkbPXXfdZeML/SK7nSVSrukEVqy4WhGXhvEtOxLtWzp06GBjIwcKHNydcDvGFRm35rAFKcoadgX0FqhYwPoAxox7jGGMbVgDsajCQgowhqGIws2aOYG3Hoq3XIUQQgghChpJZVEwcbzhhhssZo03g48Fq4gITPlNMgIak1lWRFnBxKqIiXN2sGpJHBfvdoWSCXcrXKnCiiYUTBdccIFNhrFQYkLPxBcFT506dTIsjETBwoq4LzfKByESVweviPSWVAg3KAgQahCQUA6QltVprMm8wpF0CKci70m0rBA8OQjKTlBabyXh2y0Wd5SlSA1eAUD/h2LiwQcfNMU3ygPvYkR8o0TKNZ1AocOBQpH+3y+A4EoMLITw+emnn85V34KSB8szFiRwCWbsZVzzijLGJhRl3gKVc1iOYllLfDqv/CE953FrZnzH3Zhn4XvE+CGODsRbrkIIIYQQBY0UOlEQYweTbLYiZpXPrxBiZh2GSSiTPlyLMPHOC1jxQzjjd6O3RGVFkPNMIlnZTAQsiYgVxKSXlWFWMHkn7ocbWjRMvJk0e7crlFxMoAm+GobzrIhiDcCkHVj5ZMcfYg0w+RWFA7/1OQKWF0wAQYog4SjnUMAh2GCFRXBs3BKoCx7qDHGjuO5dE0TeE29Z4RLi3UaaNGmSqV+gzaOEPfzwwzOVochbUGJQFvSB9H3eugRrRfpG8FaN8ZZrUSUv+hYWIzjIZ/IPRRkx3RiHsVALw6ILeZsTuC2icKJMfFklUq5CCCGEEAWJFDpRMFlEqcJKIUobVvbYohQf+zBMOpkAYgY+YMAAczViAsmxYsUKC16cKAhoBHQkgPPYsWMzlDooc4gxwHncoUiXCD7WBhNUAkMC5v1PPPGEWeHEgudgBRSlD4IhblqskIYhmDMrmgSMnjFjhimKWPlkBTRRKyKROwgISmwmtmVGOIoGYRG3vmHDhpkrgbcwY3t8lJUILfvtt5/VLeoYdQ1XCuogQgxKTlwYiAFCYGyRPLhM4h5CPs6aNcvyN0y8ZYUwi3BM2eC64ndI4i+fOY81COlEcuRUVijYaS/018Rsoc/k4H/OYenold3xlms6wXbr9DfRxz333GPXeS8+ky43fQt5iiUQ7lKkJ51X/JCnBCjGJcq7IzNm4k5MbB2sbGJZ/TAmMraz1TnjFy5wfnxMpFyFEEIIIQqSYsGEKvMMtYjBhBl/fcC0+rfffjNzcEzdw5+ZFOKzj7sQLlfRbklY43AvJnOkBSaEbDGOEiMa7sn9PMOHD7cVSCa6ftIYC8y+e/To4ebPnx858x/sHNWnT58sY/9kBZPb7t27W/yGMCiuvGk6eRGe9DJ5RfAgaCfPRHBJBI4wTz75pAk70aAMY8JLrIT9998/clbEC6vF3mUhFtF1C6hfXojiLwJUGJo5SkbqVnTdxj2OOCy+XmVVB6kvpGPVWtZXW6BNR8fXCoMFXHTbCn8n1vVEyiq7PghBld3ypFzdAsI+bQcrzFhgQUM7CgvqOZUVYLFBHJzVq1dHzmyB3RMHDRpkVlSQSLmmO74PQ6Hjx0uIt2/JqqxIR9937bXXZtRrxmXaQPSiC+ASzJjprdditVfuSeBjXLbCbSXechVCCCGEKEiKB5OdPpH/iyTsROEnhSgZ+MwKIauB4c+YbbPajcUJB6vcHMcdd5ztSIJg5OPI+G27/Qo5SgsEKyZ+KDOYMGIpUaJECUsHb775pm3JypbCu+yyS+Ts1nh3J+IMkJ6JLRNIgkGiaArHsIkXLI24B89IwGcEEgSI2267zZRLnCcvwkEeMTFHAEGpg/KL94l+blaTcbvCiol8QnHE5JoYA+wsgjIIJZBcPhKDlWjqZFbg+ka9C0MeY02FqwBbIUcrDRGScM2hHrArDEGvqau4xiG0+JgR4Osg9ZuVb8qTcrz99tttRxjvfiC2bLOM0JoVWLZFty3aEW6aHLhKoUgIK8gSKSvfB3GOtu37i27dulk/JOuc/6Bvol198cUXkTOZwSUIpXm47eRUVkDZEHQfixPaCwoCrOXoX8NuOYmUa7rj+7BGjRpljJcQb98SXVbkE7s83nHHHVtZgNK2yP/oNsCYifKHsd4Tbq9saICSjgUfYu1E92vxlqsQQgghREFS5C10RGogNgHm77hZsbIadhVgMo4JPSbwrJoycRZCCCGEEEIIIUTeoaV2kRS4DBArCNcsLHP4C/zFUglFT1EP8imEEEIIIYQQQhQUstARSZFd3ALAPL1Xr17m9hHtoiCEEEIIIYQQQojcIYWOSBpi77A7yJw5c2yLc6x2iDtAjARiJxDHQPFWhBBCCCGEEEKIvEcKHSGEEEIIIYQQQog0Q+YTQgghhBBCCCGEEGmGFDpCCCGEEEIIIYQQaYYUOkIIIYQQQgghhBBpRpFQ6Kxbt87dcMMNtqPSF198ETkrhBBCCCGEEEIIUTQpEgqdVatWuWeffdYtXrzYvfvuu5GzyfH000+7smXL2r0KEzxPYXwuIYQQQgghhBBC5D9FQqFz+OGHuwsuuMDVqFHDVapUKXI2f/jhhx9cr1693OzZsyNnhMgbvv/+ezdixAh30kknueHDh0fOJg8b2i1dutS1b9/eHX/88Xbf7t27u6+//jqS4j/Ykv7RRx91tWvXNkVigwYN3MyZM92ff/4ZSSHCbNy40T322GOWXz179nS///575EpyJFJWlAllQxlRVjwDZUcZiq35559/3KJFi1zz5s3d+eef7z777LPIleShXCgfyonyotwov+hNJBMp13SE93vmmWfs3bJagIg3r+jzuEf0kVWZ/fvvv+6NN95wt9xyi80FSEsZ//TTT5EUW/jmm29cv379LA2/f80117hXX33Vvh9NvM8qhBBCCFFQFAmFTpkyZdywYcPcuHHj3CGHHBI5mz9s2LDBvfPOO+6vv/6KnBEid6xZs8YNGjTInXfeeW7o0KHu559/jlzJHW+++aZr06aNKR83bdpk9508ebK5K37yySeRVFuUOQMHDnR9+/bNEJywfOvYsaN75JFHTCAWW0BYfOihh1zdunVd796980Q5APGWFWVBmVA23jqRZ6DsKEMpdf4DxdcLL7zgmjZt6q644gq3cOHCyJXcQXlQLpQP5UR5UW6UH+UYJt5yTVc+/fRTN3bsWLfbbrtFzmQmkbxKBO7Vp08f16RJEzdt2jS3evXqyJXM8Pvt2rWzNkMafv+ll15yrVu3NivfsKImVc8qhBBCCJGXKCiyEIUIFIMIG6NGjbIVZCwtjj322MjV5Fm7dq17+OGHXcmSJU3xuXLlSltp7tatm/3/5JNPZljfzJ8/3z3++OOuZcuW7vXXXzchjVV3nmfChAlu2bJllk44N2PGDHfnnXeaNQD5etppp0WuJE8iZYUFBAJ0/fr13YsvvmhlhaKCzzwblgdiCytWrLA8RGGKohTBPLdgiUX+Y6nJPWkbH330kf0PWG2tX7/e/k+kXNMRlIfjx493e++9t1nGRJNIXnlQvpEOJaU/Zs2aZe3Ng1KT/or6Tp9FOyA/Scvv7bHHHpaOvJ04caL9/pgxYywN7WXBggWuatWqbsqUKXYNknlWIYQQQoiCIOUKHYRTJmXfffdd5ExmOM910nmi3T1YTZ07d+5Wk10f78Yf2ZnPY06NcMO9wt/xB/fy7LPPPm6HHXZw//vf/1zjxo3tOpN/L8gy2cOtgvM84/Lly13nzp0z3S/a1Dva1B7hGLPvrFwoeF9MwUnLwe/lBu7JSiS/783Huf+8efMyLC5Ic8cdd1hw6VgrnLgp8D2+44kuq/CRV+4M2xLUu5o1a7p7773XDR482B188MGRK7mDOvr888+7Vq1aWd0rXry423XXXd2VV17pLrroIrdkyRITXliFRiFAeZKWtlCsWDFXoUIFW9lG4fTWW29F7iqqV69uljkjR460PCJfc0u8ZUW7pU3vueeeZqGDdSJlddBBB2V8xgVF1oNbOPTQQ63/nzRpkrv44ovdzjvvHLmSPJ9//rn1i4xhKNG454477mj/c+7tt992X331laWNt1zTEcY33u2VV16x99t///0jV/4jkbxKBMYYFM70T126dLF6H6sdkrcffPCBjc1nnXWWpaG9HHbYYa5t27Zm4cYzQqqeVQghhBAir0m5QofJFStZCIqx4DzXERwhlrsHEysmXCh9knX3YFUPs2rulRNMsnGj6NSpU4bwihJjwIABFtckGaJN7VGY8D7RpvYoVbDO4H0R1kjL8fHHH0dSJAcTWRQ4/L43H+f+N998s61QAhPWatWq2ao/wkcY8h3hsFy5cq58+fJ2DsUWrkHhshK5B4XOhRdeaOWRV1D+lStXdlWqVImc2VJ+KA6xwqHMv/32W/fjjz/ayjWKChQFgLD25ZdfmgUB9Z+y5rvCWVu4+uqrrc/IK+ItK+L2YDVwyimnZFL8UUZTp061MqNvIZ1wrkSJEqbQRuGVV5C/jFleQQP0la+99pqNGZQFViAQb7mmI7zj6NGjTZnDgkEsEsmrRGChpVSpUqZsiaXI8fzxxx/2+7vssospcsJgxcNchfg6kKpnFUIIIYTIa1Ku0EEoRLDw1ipYqWC5gSACKHOYHB144IH2GXcP78ZAWoRHJruYUk+fPj2T4oBVTT5z3HPPPZGzW0OcGybNFStWtL9MxN5//31bxeZ3sc7hXh5W54i1wOSUdEwYUe5g4cM1VuuwruF3WZXEJYbf98/CETb19qb2Rx11lKVnsojQjNk9k0wCmnpFFSt/mIOzkozyiWclLffLDTvttJNZEqCU4Z48A7EGUNC8/PLL9hxAUGncRsjz8Mo+70CsICa4BxxwgJ3jHuTnddddZ6vL3BflUK1atVy9evXMvB1LHVGwUI6UH3EtUDx4a7XLL7/c3XjjjVZfAWGGtkJ79MqcdevWmaUQbZb2B6Tz9UXkLYmUFYqaX375xYRZLLsQQFESE3sJpTBKW8qPNCI1+LZCWXkrzOuvv95dddVVNnYALl6JlGu64evdCSecYIroaGWJJ968CsMYgtKUcaRhw4YWJD46DfML7ovCLGyBGh3AmPGYhSOUnYxXlAHjLrtk4irGffy9k3lWIYQQQoiCIOUKHYQNVr68Qoc4Blh/oBwAJrpMskjHaiUWMbj8sGMLkyngeqNGjWylLBlLFYQazKOxOkCpwoRz9913txU94hn4yXQYzLexkiEdChwfGyOZCTdKIN4Zaxwmptttt529y+mnn+7OOeccmywinJEXKEROPPFEm4zut99+9qykzSrIZLzgDoIlAfENuCfPgCKKyTITWz/p5fqZZ57p3nvvPZvUelDe8B7eVB34TJpzzz3Xyo/7Yr7OpJ5JMgKMKHgQWmhb1HUUqSgqcfNAgKGOI8xQbqRDUUOZoiBASMP1CuUA9QTXOoQa0lFnRN6TaFkhTNNP4nJCu0PRvO+++7r77rvPdt8jHYdIDSjNGCPo69hdiTJAaX7ppZdaTBbGnL///juhck0nGDeee+45e6cWLVpkjNmxiDevsgIlDDFsGBsZj4A8xW2bZyAfwxaoPoAx4yuULl3aXXLJJbZAgnLoyCOPtAWNs88+2/Kf77DwAbl9ViGEEEKI/CLlCh1WxVASsEqMwoKJHxYdWL0wGUNBwnXS/fbbbxZTBmuUY445JiMWC0edOnVMmRNWMsQLEzl+A5N2FA1MQlGgYBmDosVbI4Q5+eSTMxQXuYV3wsWKyWT4nY444ggTvMgbngd3KxRfxHpg4p+XRMfl4fcR0lkBDYNSBpcAFGDe7Qohg8ksSiGEDg/WTSiasGbi+clXlDwIlyh4cquEEnkD9RilJLu4NGvWzJSGKEwpJ1zuKCfiS5AOgQYFKkITygF2kCOeD0FAEWIQdEiHQlDkPYmWFQJ0//79zYIQxTWxtrC8Q1lN/0o6DpEaKA8WIYi1hgUbCm9i9Nx1111ur732sn5x++23T6hc0wnGZFytiEvDeJYd8eaVp0OHDrbYwoECB3cnFlqIdcPOU8wnPIzxXbt2zbBAZX7hAxgz7jGGMbZhaThkyBB36qmn2jXGMBRRDzzwgDv66KMz5gKJPqsQQgghREGRcqkMf3ViFqDQQOBgxQuXHBQ5TGD5TABFJrupAuUCEzmCvbIax8QT9yuUKbgGoeAoDLDix+piXsNkFmsLVjB9XJ7sYNWSOC7e7YoywqKKciMvPSjdLrjgApsMk5/kKxNfFDwo4HxcJFGwYG3jy43yQYjEjcrHEqF8AeEGBQFCDQISygHSsjpNPB+UgqQlXSrb67ZMomWF4MlBfDDcOb2VhG+3KLIpS5EavAKA/g+l54MPPmiKb5QH3n2R+EaJlGs6gUKHA4Ui/b9frGCTAMDals+4NcebV7FAgYzlGQsSWMuirGRc84oyxiYUZdR37sc5LEexgsWt2yt/SM95dsVCUYS7Mf0c3yN+GNbEkJtnFUIIIYTIT1Ku0GEVmckSyhtMnZkoMTFCicNEEOUCVgAIjBxcx0yatH51LnwgsCQKEzpWRFFS+JU5JpnsiIEVQlhJkSx+Qh4L3gnLFkzAY70TJtxM5Mkr8gUrnfDqIxNXH5w5GQi0yY5dTHrJB1Yw+V1WMdmxIxoEQibN3u2K1VEm0ARfDcN5VkSxBiA/gfxlxx9iDTD5FYUDv/U5ApYXTAAlDbGaUM6hgKOtUlcJjo1bAnXBQ53Byo3r3jVB5D3xlhUuId5tpEmTJtaPemjzKGEPP/zwTGUo8haUGJQFfSB9n7dcw1qRvhG8VWO85VpUSSSvsoL5AgffJf9QlBHTDctbFozC4BZK3uYEbosonCgT//t58axCCCGEEPlByhU6TLq8QodJ63HHHWe7jeDug987EzEUHqycIXhwntVLzJxRxOQFCKL43xND5v777zdlEavZrGrndvWa1XEUQlj/eHeuaHCh4ndQdKDEQkETC1YVUYxwL4JDkw6FCjtJcSSLj7XBBNUHaqY8nnjiCbPCiQWBJfl9lD4IhlgxsUIahi1qWdEkuDSBrFEUsfLJCmi6uQ6kOwQEZStmgmlT36NBWGSHnWHDhplyEGEHJd2ECRNMoYjQQswmlAS43LGTC64UtEHqNG0GFwZcAQmMLZIHhS3uIeQju+9F9xnxlhXCLIo3yga3OL9DEn/5zHmsQUgnkiOnssJKg/aCmzAKe/pMDv7nHIsIXtkdb7mmE+GNCcKH36SA9+Iz6RLJq2hIx9iJuxT1mvLwSmXylADFuERRXoBLFO7EzDGwsollUciYyCYELOwwfuEC58fH3DyrEEIIIUS+EkxQU878+fM3H3744Ztr1aq1efny5XYuEEA3n3766ZuDSdPmmTNn2jn44YcfNrdq1crSRx/16tXb/Omnn1q63377bXOPHj1ipuO4+uqrN69bt87SrlixYnOdOnW2SlOhQoXNzZs337xo0aLNweTa0j711FN2LZjo2WcPnznP9TB//PHH5v79+2e6L0f497n3008/bb8XnY4jmOBbOli1atXmSy65JNN18ok0vH/0c8XDhg0bNnfo0CHTPTl4HvKffCQ/w/z999+bAwF+c6dOnTZfccUVm1999dXIlf944okntronB8/bvXv3zcEkO5JSJIKvg1kd4fri4Zy/Hl1HIbs6SHuj3XmyaoN8l3v4tiL+6xeyOmK1rfB3Yl1PpKw2bdq0uVevXlul4xg5cqS1Y7EF+mP65Vh5xREeXzw5lRW8/vrr1ueF78VBP75y5cpIqsTKNd3JahyNN6+yKivybvTo0ZnqNWXSu3fvrdJyMO6tXbs2kjJ2e+We48aN26qtxPusQgghhBAFScotdIBVR6xDMDn3MQKwWmHlDFcl3Iw8BBwcMGCArZphzZMXsJLGCiHWNAQ79itrmG4TUwZ//2RdmnATIzYNz5vVih1WSsSawQ+fmD3ZWQVhxt2nTx9bWQf+sipJDKBkweqiW7dutkUuv82BKTm7FmHREQssbFj9x5KJ4I/eXSAM8Yhw46JMCZjr34t4SayWsk16dq5oIu9gZzLaE6v8sWJC+TrIjlWkAcqNIKO0N9qdx7dBrvn2ynf4LvfwriIiOegn2LWPvMWNMdp9LZGywqoRCxJ2tPL9D7vkER8M91RZyuWOnMoKqlatataX9O2MMfSD9LVY4uAS50mkXIsq8eZVNOQT5cC4wqYK4XqN9Q3jb3Qb6Nu3rxs4cGAmV8QwlSpVsi3j58yZYzuORbeVZJ9VCCGEECI/KYZWJ/J/kQX3pTvuuMMmd0ykvUD677//WkyZVq1a2dakxO4R8UFsAhRNuFmxy07YVQA3AtxzmHyzHSwTZyGEEEIIIYQQQuQd+WKhU9CwVTpBhvGrJ54MoMciPsiHH35onwksKuIH66YVK1ZYXAHylb/AXyx0UPQU9SCfQgghhBBCCCFEQbFNWOjMnDnTde/e3ZQQsWDXEcy1cU0S8YEVDhZPWODEAhN18pS8lYuOEEIIIYQQQgiRt2wTCh1cq9hqlF0v3n33XbMgQeHALhaXXHKJq127trb2TQJ2CWF3EGIQsMU5CjNiHbDlOfEOiGPgt3sVQgghhBBCCCFE3rFNKHSEEEIIIYQQQgghihIynxBCCCGEEEIIIYRIM6TQEUIIIYQQQgghhEgzpNARQgghhBBCCCGESDOk0BFCCCGEEEIIIYRIM6TQEUIIIYQQQgghhEgzpNARQgghhBBCCCGESDOk0BFCCCGEEEIIIYRIM6TQEUIIIYQQQgghhEgzpNARQgghhBBCCCGESDOk0BFCCCGEEEIIIYRIM6TQEUIIIYQQQgghhEgzpNARQgghhBBCCCGESDOk0BFCCCGEEEIIIYRIM6TQEUIIIYQQQgghhEgzpNARQgghhBBCCCGESDOk0BFCCCGEEEIIIYRIM6TQEUIIIYQQQgghhEgzpNARQgghhBBCCCGESDOk0BFCCCGEEEIIIYRIM6TQEUIIIYQQQgghhEgzpNARQgghhBBCCCGESDOk0BFCCCGEEEIIIYRIM6TQEUIIIYQQQgghhEgzpNARQgghhBBCCCGESDOk0BFCCCGEEEIIIYRIM6TQEUIIIYQQQgghhEgzpNARQgghhBBCCCGESDPyVaHz9NNPu7Jly2Yc559/vvvss88iVzMzfPjwTGmbN2/ufvrpp8hVIRJn8eLFmeoUB3VSCCGEEEIIIYRIN9LaQufff/91r732mmvdurU7/vjjXY0aNVy/fv3cN998E0mxNV9//bUbOnSoq1+/foZQj6Dv2bx5s1u+fLnr0qWLO+mkk+y+11xzjZs7d677888/I6m2EK2gCh/hewLf5R7ci3uSpkmTJm7mzJlb3Rd4tzfeeMPdcsst9l6k31aUWr5c27dvb2XAu1Nejz76qPv1118jqf5jW84rIYQQQgghhBDbJvmu0KlZs6YpO7DMmTVrlgnfWdG0aVO3bNkySzt27Fi3xx57RK44988//7gHH3zQNWvWzD333HNu06ZNbvXq1e6RRx5xN9xwgyluwpB+2rRp7sILL3QjRoxwH374YeRKZn7++Wd31113ualTp9r/3Pell15ybdu2dRMmTDCFT6Lw2zw/9+Be3BNQQnTs2NGukcbD7/bp08cUPjwz77UtQb1o1aqVmz17tuUFUF59+/Z1gwYNcr///rudg0TyqnLlylaXOJ5//nl37LHHRq4IIYQQQgghhBDpRdpa6Gy33XbuwAMPdN27d3dvvfWWCelLliwxBQ8Ko0WLFkVSbuHNN990gwcPNouPyZMnZyiKOBD0PdwXK48XX3zRffLJJ3agWDjllFPcK6+84n755ZdIyi2EFVThI3zPb7/91s2fP99dfvnl9lyffvqp3RelQq1ateycvy+Knccff9zNmDHDtWzZ0p5j5cqVds9opVZRZMOGDWbJVLVqVcsf8on8Io/IP8p6zZo1lnZbzyshhBBCCCGEENsuaavQKVasmLnhXHfddW7PPfe0c6VKlTKFzmGHHea+++47Owe46SD0n3DCCW7gwIGmLNh5550jVzPDPa699lp3yCGHmHKH4+ijj874Dp8T5e+//3Z//PGHO+KII9y+++5rz859Dj30UHfUUUe53XbbzW2//faWFmXEM88849q1a2duXzxH8eLF7dq2AO5TWOCQNwcddJDlE/lFvh133HFu1113dTvttJOl3dbzSgghhBBCCCHEtktax9DJDpQkHixkcNm57LLL3F577RU5Gx9//fWXW7hwoVmLnHvuuW733XePXImf/fff31WvXt3de++9FuyZ5/nxxx/dmDFjzLXrvPPOcyVKlLC0WA6hVEJZtS0qJ0qWLOlOP/10s7DBxerzzz836yXyadSoUa5OnTpuv/32s7Tbel4JIYQQQgghhNh2KVIKHeLbvPvuu6aEOfnkkyNnnQXHXbt2rVnJ9O/f39WuXdti9zRo0CBmUGIsRHr27GlpsM7hf2LdXHDBBWYtEgZlD+5VPnAv98dNKBxrZ8cdd3SdOnWygMgocU499VSz+MG1CCUPu315vvzyS7M4+uCDDzKCAhNEmf+XLl2aVAyfdIL8veqqq0yZQyyds846y5144olu9OjRFvSYYMdeebOt55UQQgghhBBCiG2XIqXQIdbKY489Zm5X5cuXj5zdsrPV999/7zp06OAefvhhc9UBlD8oanIKdkygXVx6UDBklw4rIO6P4oaYPWFwEypXrpy5DnlQSLAjFy5ZgCIJVzGCPBNA2QcFJogy/7dp08YUFUUd3KxQkOFC5SFfvvjiC+WVEEIIIYQQQggRUGQUOihpunXrZtYyWHjEcsHBImfOnDkWOBcrGrYdJwAyAYtR+HiIlcP259yTtE899ZRZfrDDUlhJcNFFF1kaDpRJBEe+/fbbTbEwfvx4C/ALBO/FMgflEdY5KHtQPKGwQFEUvctV6dKlXdeuXW0XLO6LaxFbrQNWPeG0RQ0UZlhNscsVrmovvPCCxcmpVq2au+eee7ba5WpbzishhBBCCCGEENsuRUKhg5Ll5ptvdsccc4y79dZbLXBuGOLpECiZAMq4UKHswQoEJQ1KmfXr12dsJR4NaStWrGiKlx122CHDuicaXIXYVenSSy811yzu561Jli9fbkobdmlC+UAcn9NOO8098MADtnsWCiXi6vBbKJPY+Qoro7333tvuyzni9xBbhmfFpayowg5WKLtwSbvjjjssOHKFChVMSXPJJZeYkgZlnPJKCCGEEEIIIcS2TFordLDmeP311y0+DUI/FjrhYMgeguiy0xUuO9GErT2yA0WB310pO4jHg4WOVxoBliNYABEPJqxsOuCAAyxYMpY9KHRQGHFu1apVbt26dZFUW2D3p+hYP0UR8oH8QOGFksZDsGS2iCcfyU/llRBCCCGEEEKIbZm0VeigzHnppZcsUO4ZZ5xhli/Rljmegw8+2FWqVMlNnDjRrVixwgR+XHFefvlli5/Ddth+56RoSIfSYNiwYfZ/ODZPGO5JTBx2sZo3b55ZiKCEAL+tOsonFBY8O+mx9iGOD25i/vf5HyuVSZMmWTBn2Lhxoz078WKwFkK5VFTx1lQoddjhinwiv8g33Kr22Wcf2/4dtvW8EkIIIYQQQgix7VIsEJbzbSsgYtbMmDHDYqHgnpQdKEYIessOU7GEcgT4zp072y5TWTFlyhQT+oG4LN27d9/KtYrgu3fddVdGOhQJbG8eDbFaiI/jd7rCsoc4OygPoiEo8k033ZShYML1p0ePHhasNxYoo6699lqz6uG+AwcOtBg80fDbffr0cWXKlImcKXpgWTNkyBD30EMPRc5khvhI5Bd1Ijd5hTKNINnE6sHtTgghhBBCCCGESCeKTFDknGBr8FGjRllQYjjwwANdixYtLLaNV+bEAusdtsEmMC/bkqPMiQUKn3r16rnHH3/cFEdha6FSpUpZMF+24mYLbvDpsRAitg/KHEBRQbyeXr16mbIJ+A7fRXlRlJU5wBbvxEMivpAvK6x2sMLiHHnrFXzbel4JIYQQQgghhNh2SVsLHSFygyx0hBBCCCGEEEKkM9uMhY4QQgghhBBCCCFEUSHfFTrEvMHFCRcZ3KCy2gYciE9DEGLSNm/ePCPwrRDJQHwk6hJH7dq1bTt5IYQQQgghhBAiHZGFjhBCCCGEEEIIIUSaka8xdIQQQgghhBBCCCFE7pGFjhBCCCGEEEIIIUSaIYWOEEIIIYQQQgghRJohhY4QQgghhBBCCCFEmiGFjhBCCCGEEEIIIUSaUWgVOsOHD8/YYlrblou8ILxtuT+efvrpyNXMRNe/nLbYF0IIIYQQQggh8hNZ6OQCNgh74403XOvWrd3xxx/vatSo4Xr06OG+/vrrSIr/iFYQ5KQo+Pfff+3et9xyi92XtLlVanHPpUuXuo4dO9r9UHDkxCeffOIaNGhg6XmHWGzcuNE99thjrnbt2q5nz57u999/j1zJzK+//uoeffRRS8f9uO/MmTPdn3/+GUmRmXXr1rmHHnrINWnSxNJzRCtgSDNq1KiMe15xxRVu3rx57p9//omkEEIIIYQQQgghih6FWqHTtGlTt2zZMlN4jB071u2xxx6RKwUPyhyUEdddd5177rnn3KZNm9zq1avdpEmT3A033GCKkGT5+eefXZ8+fUyRMW3aNLtvbkCR8/bbb7t27dq5Cy+80J47HlDAjB8/3n311Vdut912i5z9D5RLKFzq1q3revfuna0FC/caOHCg69u3b0a6d99915RLjzzySCYFDHn70ksvuUaNGrk777zTFFuxII/J/0GDBmXcc9GiRa5Nmzb23NE78leuXNnScTz//PPu2GOPjVzZmg4dOmSkveeeeyJnhRBCCCGEEEKIwoEsdJIEKxyUTFWrVnULFixwn376qVu5cqUbM2aM++GHH0xpEm0lElZQ+WPWrFlmWeLhO48//ribMWOGa9mypXvxxRftvqRNVqn1zTffuLvuusu98sorrlu3bq5fv36RK1mDMgSlB99BQXXIIYdErvwHz4jChecfN26cO+200yJXtmb+/Pn2XrzT66+/bvn1zDPPmPXRhAkTLF88XENJs/vuu7uHH37Yvffeexn5ddFFF0VSOVe6dGlT0jzxxBOWRyh4sBQ68MADrUwoByGEEEIIIYQQoigihU6SfPzxx27NmjWm7DjssMNcsWLFXPHixd1ZZ53lGjdu7N555x23fv36SOr4QWmBogNrmi5dupgihfvmhn322cesaLAewqIllrVNNChVUCBdfvnlrnr16pGzmeE8ljkjR450FSpUyPI5sV5auHChuUW1atXKnof84ju8519//eXeeustS4tCC2XYTjvt5IYMGeJq1arlSpQoYdei2WuvvczF7eSTT7bf3m677eyZsELCFQtXMCGEEEIIIYQQoigihU6SoKTYddddTfEQBkXFwQcfbAoFXKcSBUuVUqVKufr16+dakePZYYcdXIsWLUyBwvPlBO5RuEFheYNVUVbPUb58eXf11VdbPmTHjz/+aBY0KFv23HNPO4cF0JdffumefPJJ9/3335sii9g7v/zyi3v//ffdBRdc4I488khLmwyxykYIIYQQQgghhCgqSKGTJAcddJC59BCrBYUEoJB49dVXzRUJZUW0hc7EiRNNCYKipGHDhm7EiBFm5ROG76H0+OCDD1z79u3dSSedZAGX+Z+AxtFxYfIa7k9MINycCPaM21Nu2bBhg+WRV+ag7Bo8eLAFhJ4+fbqdwy3sjz/+sLg8pN15550t2DGKLfIL6x4CKqNsyg7KhNg8lSpVcnvvvXfkrBBCCCGEEEIIUbSQQidJCKh7ySWXuMmTJ5vlCUoHlDVXXnmluRfh1oRlTFYsWbLEDR061BQ1PoAyCqHvvvvOFCpt27Z1s2fPNisfrIH4n2C/KHVSCa5WWOdcf/317ogjjoiczR0oalDSkB/cG+UMyhryCyUNv4WrFcGbUegsX77cdssijs6HH35o98CCh4DK9957b5a7YnGPqVOnut9++80CKu+4446RK0IIIYQQQgghRNFCCp0kwaXnxhtvtDg3KHPgxBNPtN2pUEZgjRJ2RQrvmoQC57XXXrP4MViToBQijoyHYL9du3a13Z1QsOCGhfIH5s6du1Ww5byCmDMoWngPlC7xuGfFA65PxM1BeUVA5jJlyphihgDGKMNQWPkYOB5iEZEvxCoiDwgOjbUOgZrJw2jIEwIoY/Fz66235spdSwghhBBCCCGEKOxIoZMLULzgluSVDCgTsNDBLWi//fbLcDGKBsXFvvvu66655hrbGQrLHBQSKDVwNSIQcLNmzcxlCKUK584991x3+umnmxtXWPmTl2BFg3UMu1ERbwdFlXd34jzbd/MZhRXPHC8otsgL8ovvEvSZwMVY0GBts3btWtuZivf0yp/mzZvbDmJY9ZAHBIcmTz7//HNTAIXhWXBfQ0HUv39/+54QQgghhBBCCFGUkUInj8GahC2zieFSsmTJyNnYoJjgQMGD0gLlxQEHHOBWrVplcWbC4I6UlatRYQfFFDuBVatWzWIHhS2XUIQtXrzYrqPMYVt2gkpjmRMdLyjW+5N/bMmOqxW7Yp1yyil5ZlkkhBBCCCGEEEIUVqTQyQNQtqCAeeqpp1zHjh3tHLs0ZaVYwBoHhQUKCHZ/qlGjRsaOTJUrV7ZAyWwxTjwZwBWKgMrE1qlYsaJZsqQCrG9mzZqV4RrmDyyQiBnUuXNn+4zbVCLPQGDlKlWquHnz5rnRo0eblRHKGt4dVzIUX+QBoPwhCDTWTm+++ablFflLkOgxY8aYRRMKHyC+EBY5L7/8srv77rtNYSSEEEIIIYQQQmwLSKGTC/7f3l1AWVX1fRzfdncHKrZidzcKGBjYiAFiYD8WoO9jYSc2dqBiBwZ2J6JiB3ajiC2Kzst3c/c8h8OdmXsHBufo97PWXTB39pzY59xZa//mv/c599xzYwjCei0EFqypA6YVUXGSEMwwhShNYVpkkUVC27ZtYyUPa+uwXkyy2GKLhTZt2sS1bAh3aE+Ic9JJJ8WpWEx/qhZTkjimtH+CGWy77ba171ElUy1+Jv08x8pi0NkneaWpWQRbrH/TunXreF5UL7HgMtPIBg0aFNfWSWveMA2Lp1/x+PIdd9wx9hXfa9++fQx1eI8pWXjsscfiOjuETDvssEPtsaRXtVPDJEmSJEkqCgOd8YC1YQhlWOi3X79+8VHj9WG9GJ7CRBVOly5d4to5CZUvLLR89NFHx1ACLFLME55OPvnkuKBwEc0666wxlGIhaM4fa6yxRgx48tVM9N+FF14Y2rVrF58WRv926NAh9O3bNwZhkiRJkiT9201Uk1+opJmg+oVHeFNl0VRTjPTvRVUP1VFdu3aN1T/1ueOOO0KfPn1qK7IkSZIkSfq7WaEjSZIkSZJUMM060Mmux8IaNGmRYKkxsmv+pEex1yVV4/BKaw5JkiRJktRcWKEjSZIkSZJUMM12DR1JkiRJkiSVZ4WOJEmSJElSwRjoSJIkSZIkFYyBjiRJkiRJUsEY6PzLDBs2LBxwwAFh2223DR999FHpXUmSJEmSVCQGOv8yH3zwQejfv398hPfLL79celeSJEmSJBWJgc6/TMuWLcNmm20W1l577bD88suX3m1+Pv3009CjR4+wwgorhKWXXjrst99+4bXXXgvj8lC2L774Ipxwwgnx3Nnm7rvvHp566qnw119/lVqMxj6ee+65sPfee8d2tO/Zs2c8pqw77rgjLLjggnW+Nt100/D++++XWv8P27/zzjvjtmlHuJbF8TzzzDO1+6cPOH/eyx8reI++OfDAA8tuLzn33HPHOL70yh9ntfsHlV+XXnpp2HHHHWu3S/9k0eaiiy4KG220Ufz+5ptvHr/m/bzhw4eP0Zbt3nXXXeH3338vtRjbn3/+GX+m3DnRJ+m46npl+4393HffffEeSdepoWNo6LqCeyh7D9LH3Gs+bFCSJElStQx0/mVmnnnm0Lt373DVVVeF+eabr/Ru8/Lee+/FaWE33HBDHNj//PPP4Z577gn77LNPeP7550utqsM2u3XrFi6//PLw2WefxW0+9thjcUBNxVIaUPMvg/YuXbqE+++/P7aj/fXXXx+Pie2MqyFDhoQrr7wyTDPNNKV3xvThhx/GQX/aP33A+Xft2jU89NBDpVajg5eBAwfG89piiy3icY8Ple4f9Bf9uN1224UTTzwxhhN16du3bzj11FNrg5bXX389fv1///d/4fvvv4/v4ZtvvglHHHHEGG3ZLoEV14/gphz64sYbbwyzzDJL6Z3GYftcn3333TeeG32AdAx8r9wxNHRd+XlCoew9SB9zrz344IOlVpIkSZJUGQMdNSu//fZbHBQPHTo0nHnmmeGNN94Ib731Vvw/rrnmmjEG/5WgouK6666L27zkkkvCu+++GwffDz/8cFhllVXCTTfdFL8HKijYP+/zfdrRnp+jDaFJGsy3b98+Bg7510svvRTatWsXK6Dmnnvu2Db55ZdfwtVXXx1mm222sNtuu5XeHdMkk0wSdtpppxgApP1z/HPNNVd44oknwogRI2I7Ko5OOeWU8OSTT4bu3bvHEKYhbJc+zR7v3XffHStKkkr3D75P8DLttNOGyy67LLzyyiu126V/suacc84Y0r399tvx+1SwEGYQmvA1CIio7Hn66adjQJSO9dlnnw077LBDuPXWW2vbZhECEZSstdZaYcsttyy9+z8rrrhi/Ln8i3uLY6ASaIEFFohtv/zyy/DAAw/E/XEcnCNBHqHL+uuvH9/74YcfYtukkutK0LTJJpvEyh+2R7+efvrp8Xvsj21IkiRJUqUmWKDz+eefh/POOy9Os2DwyACqV69ecVBaTnZqAu07duwYp3zkpyaUmx7CVJ3sdhm4MQWDKSdZ3333XRx8HXXUUTFIyL7HoJK/oF988cXxGNjuWWedVfvXehAUMBhlOkqaGsQUjQEDBpT9C36axsG5cE5s94wzzogVEPjkk0/C1ltvHc/7jz/+iO8lbI/9833aVSs/Paiu6UCgj998881w+OGH157X+JjyVAmqQxgwEyhwr0w55ZRh8sknj//nPaowqj1/gphXX301XtcNNtggBhYTTTRRHMBThcFaQuwXhA3cq1Tj8H3a0Z6f23777cOgQYMaDJSoIiIMIdTh+BP6jlCAAIZqFwKScuaff/6w8847x3Ag7X/ZZZeNoQR9MfHEoz+2s88+e2jbtm2sHiKUqKsypFqV7p97koBriimmiMEEYcd0000Xv1cOC3ETlE022WTx65lmmin+HuC403s//fRT7GPacq+n/uNcOUfacS2zOI6bb745Xuc99tgjTD/99KXvNIzrfe+998bjSJU9I0eOjKHVQgstFOaYY47YB5wz/bLooovG45100kljW1R6XRdeeOH4u4ZtsD36lYBn4403Dl9//fUYQZkkSZIkNWSCBDqEJRdccEGssmCaBQgT+Is+oU5+gMyAmMF3mpoABvmEKyn8AAM51u1gEJWdHkIVAAO8ccFfzw855JBYAcExsF0CIbadQg0GlgQ4TEfh++yfgOfQQw+N1R1Z/PWdbREgcC5gu+eff378GVDBQIDCgJYqgaxvv/02vk8IlK/6GN/YD31KH6bz4hwZtGf7vylQuUBfcZ4MeMF1JrQjKGPgS8VENRgos82pppoqDs6zCBWYepYCQM516qmnjiFFFj/XokWLuN5LfX3AvUx4Rrix3HLLld4djePmHqZvuc6V4tg598GDB4fWrVvXhh/8S4Cx1FJLjXVe41Nd+6dKhfdYk4mwohoEsYRoTMMi0CBkBGEK14Brla5/wrUiZEq/ExJ+X7Cdgw8+uLbKphIErARS/Mx6661XejfEQGa11VYLZ599dvzM81mkAogqLT4Tbdq0GSO4aux1zcqHRJIkSZLUkAlWocOAjfUt0nQLBoKsR5GdbgGCC0IaBuEEQFSFMGCi4oGBY6oOAFM2CH0YRN1+++0xhOHFX9yrGdiVQwBFEMXgnJCBECY/3YJB/3//+9/aqSm0u+WWW8Iiiywy1tQUplRcccUVsdKEsIe29AUBUaoMYKBMJQjnwFSTrHfeeSe+nypMqpWdHkSlT304R0KjNOWIY3300UdjyJLt/6ZAYEN/EKoQnHH999prr9CpU6d4z4AKmmoQBFDhwWCc6VCECYREPPGLaTIff/xx7TbnnXfeWOnB+xwLuA9YPPm2226Lbeur0EnVOUz74RwSQhHuVSpdWO+moQAmVYrxuSGwYaoZlVtUuIwLpk4tueSScbvbbLNNrJor15+V7J829BFVNCxGnK2+417nnPNSpRgBEPcyn9Mjjzyytq8IcrgGLC7MPcd14noRuBHacA9wfdJni//z+4LqqTXWWCO+V6lUncNxc38kVCEddNBBMawlxGG7nDfVdYQ8VLcl1V7XPKrNCIZXWmmlOG1NkiRJkio1QQIdBnxUEjBoSX/dZ/DCehf8NZ4BW8JUH6Yv/Oc//4khBAM9Bkn8Zb5Dhw5hhhlmiO0Y6BEGMfg/+uijwzLLLBODDl6LLbZYHKSNCyoRmA7FdCNCDKpnqLhIA0ww0N11111rp6bQbokllogDZtqkSh7O8fHHH4+BEFMuGMTSlr5goEg/JK1atYpfEwilaWCpQmWdddaJYVFTo1qAQT5TkZj6xbFSxdK5c+fa/m8q9BX3BsHeYYcdFgfJBCRce9a6oXKCKo5qzDjjjGGrrbaKgRghBmEC/bjhhhvG4IZ9poocrh9tCdrYF+ED13OXXXaJ1zA7PSgvVeesu+668X5MuA+oIGO9Fj4H2aCnUgRR9McLL7xQemfcsU1CU6bTEdrVp9z+CXT4vHJPs45Otvru+OOPj+FHXU+ESqiA4XOWwh9+V6TP7p577hmvE9drzTXXjMdKdVSa9sXnol+/frGyhfVuqgk6U3UO9zWfqzzuB/bNlKuEMI9gKd1/43pdOWfuP548xzk3ZZWVJEmSpH+eCVahw5o4TK/ir/cMknmxTkYegyYG1QyI6xvgEHYwFYKFZ/mL/vhGWDPrrLOWvhpt//33jwvmUvGBtCZO9tHGDP6pgshiXRAGggRChD/1ITAh+GEAnSonOE8qPwggGhMGVIvqEoImppyxTwbcVMpkg7emQmBCaEDFBQvgUsXBGjFMV+N60JfVTk3hPqKqgiljqYpjnnnmiYNwKrEIAFOVFP3LebN+ENcTXLdjjjkmBhepeqicVJ1DEJmttqAShCk5VLywLksluMe41whH+HkqXggZTjvttLEen14p7t9UpUWAQ0jIE7II7giwsus2VbN/rhE/TzsquqisIaAgmOXns1KlGO2oBCO0YdsEMykA5d7jWjEVi/uBQI5Ar0+fPvH68RkhVOPnuUe4jvnPakOy1TnZ0AYERVTmUEHI/riu11xzTQx/uC/oF9o05romhDl8rgiDCMqqPX5JkiRJmiCBDoNHFpllzZz8AC8vVaU0hHCh0rZNgQEdUy3yjzYuh7/o5xc5rg8hFe1ZABiEKVQu8P6EwKPNGbgTVlGtwsCXShmuIWuJNKUUrBDoMYhmEJ/WiPnxxx/jFB/WsqkW1RssQHvttdfGe5AKKAIaAjbOKfsIdwIEFtlOgQShARU6DMKp1ErHmJWqc1ZdddUxqnPAwJ8X03gY+KdAkzVfQLDJ1/x8OYQXVP0w8Gea4VdffVX6TuNR4UKQQRhJ9QufJe7pcuraPwEPU5UINAhhaMd1oi9ZVJk1cur6XNCOvqQ6iJCHgCdNo+J79CPTuJiOxJpOVADRR1QFUdGCtJg1jwJPfcqLKYVUDqXwmGPOStU57J9qOPaXxc8S2lD1w3Qwwhb6iPBv9dVXj9MnCVkbe12pMmL6GqHtySefXPX6Q5IkSZKECRLoMFWF6S7ZxxDzYgpNHgNEqnTyC5/mMe2CgTXroDR2oV5+ttr1WBIGdA899FCspklrzXBOnB9PY8qiWoMn73z00UexwqQhPE2HgSaBDgNYqj5YtLWh6p7xiQE/T+OhWoUFcc8555x4PEwxaUoMjLkHqJygOoLjANUb9APGdX2khICGwTaBUUPb5PpynQnVyj1FKVud01TT0pqiOovAhRf9nA828vL7p4qHcI1QI1XXJA1NtUqotkpPsqoPYVO696iCGxccLyElTyGjUiuPa01wSOVR9pxZV4ppeAREfP4bg58jSKQyh5CKz5gkSZIkNcYECXQYMDJ1gsETQUyqPmH9iDymv/CUGf5yTeVLqmxhTRUWtU0L0lIdwECcaSMnnXRS/Es9VTu8WECYv8AnDDwJQxiIEarQhkcMs/ZOQ2uH1CU9OYnwIU3BYoFWpo48++yz8euEQIdjpdIjPTWHATCDVKYXcSxZ9BHVBZwboREDUNb5aGjAPT5QqUHlEdcnVUCxXyoNCNDqWxB4fCAgYK0lKiR4shZ9xIv/8x79wLFkcZxUZTDYpgqsrkqThOvG+TF9hoWOeTx2uoZZ3Cc81YoFt5l+Axbmzl+HVJ3DcVOpkpemGeVfaXFqgk2+pl05fAZeeeWV+EQ0KkUaU6GURx9xXzG1ibCVBa/5TJVT1/75TDHVkPuaQItt0mdU1TBlqb5j5f4nrKRiqn///rGqqVyww7Ul/GDKGwEIfUTgiewUsuyLChmmbaYKKx63nqTqHI6dz1i5z1SqwOJznD6rnBfboiqI7VHdU+11JaTu2bNnrHCi363MkSRJkjQuJkigQ5hBqMMCwgxiCG222267uAYGQU8W32caBlU6TAehLQP4lVdeOQ78GFglDK47duwYB2j8NZ2f5cVjhQl4EioqeApNWpiYNjw1iQFkfnpMpQhyqCYhwKFqg/8zTYSBWj70YLoPU3ZYaDk9NYf2LLrKWjGEVXkMSDlOtscUk3EZxDMopiqAfuTFgDc7JYUpMwyuEwahXJ/0NCSOg4oZnu6VXcC5KVDdQl+BATt9xIv/Mwjn0dD5ShGqrBi8U1XBVKr0FLIswrx0/tyPnB+BIdOIqNTIInRL501IQ5US6MNylTyEGWyLtYfGR3UO4VA6Vl58Bpj6RiBAP3Dvodx1RZrqwytNN+L6pqdW8aJP27ZtG6uO2Cafn6TS/RM8sjYR/c20J7ZJnxFgEOrwXmqb3z/3P8EIYSzXgs9ywv3HdmnHPcj14QlXTG/k817N4sd5qTqH7de19hYhFfsk2EyfVc6Lz8sjjzwSP8cEOtUi+OLnuSbps5d9cd9JkiRJUqUmSKBDVQXTrVhcFjzJib9Us6Bodu0S8BdzBnesncKgivVMCH1YIHWfffaJXycM7FnjgifqEKYgLXbLIqoJA0DCIQaE/DxtWAz2wgsvjFUEjUHVTffu3eM6G2yTF6EHC7wy6MxjHQ4Gr1SFcP5gEMfXrE+Sx/YITwgpqJ6oZFrK+MB+WD+GJ1pxfOBfvmZxYga7TY0qF64N1z8tiks/9+7dOw6s85gKwwCZ8IC+KjclKosAjpCGgT3hUV0BAfsl6OBpTQR3PB4/L1XncK2oEGoK3Ns9evSIj/0vVwHUGHwGCFK4pl26dKk3JKlv//RJ/lrx2SOAITCqC/vniWPsn98FdU0n47PCvcd6TlyzutpVIludw++TuireCOWoBuL3SvqdxXmlYKmh/pIkSZKkCWGimvziF2oWmL7C1A2muvA0nFTpIEmSJEmSNEEqdFQdFk7miTpXXXVVrGKgokCSJEmSJCmxQqcZYW0N1j9JmLrFlLJxmWYiSZIkSZL+eazQaYZYN4QncBnmSJIkSZKkcqzQkSRJkiRJKhgrdCRJkiRJkgrGQEeSJEmSJKlgDHQkSZIkSZIKxkBHkiRJkiSpYAx0JEmSJEmSCsZAR5IkSZIkqWAMdCRJkiRJkgrGQEeSJEmSJKlgDHQkSZIkSZIKxkBHkiRJkiSpYAx0JEmSJEmSCsZAR5IkSZIkqWAMdCRJkiRJkgrGQEeSJEmSJKlgDHQkSZIkSZIKxkBHkiRJkiSpYAx0JEmSJEmSCsZAR5IkSZIkqWAMdCRJkiRJkgrGQEeSJEmSJKlgDHQkSZIkSZIKxkBHkiRJkiSpYAx0JEmSJEmSCsZAR5IkSZIkqWAMdCRJkiRJkgrGQEeSJEmSJKlgDHQkSZIkSZIKxkBHkiRJkiSpYJpdoPP++++HTTfdNCy44IJjvXbbbbfw3XfflVqO9tdff4XXXnstHHjggbHNiy++WPpO4/3yyy+hb9++Yccdd4zbXHvttcMJJ5wQ3nvvvVBTU1NqpWrRr1dccUXYaKONYr9uvfXW4a677gq///57qUX1hg8fHi666KLabXLN6trmF198Ea8j13PppZcOu+++e3jqqafiPVTOsGHDwqWXXlp7H/C64447St8djTbZ/W+++ebxa97Py7ft2LFjGDBgQPjzzz9LLf6nmr6q5DPAcfO9ul585vjsJdX0KyrpK372vvvui/1O/9e33Ur7qr7fF+eee26p1Wj00zPPPBP222+/sMIKK8Q2XC/6mf7OYj/sj/3SjuM466yzyl5XSZIkSfo7THLMKKX/NwsENvfee2/45ptvSu/8z/zzzx/atGkTpppqqjg4Y+DKAJ3XO++8E9tst912Ye65547/bwz2e/jhh8fB6WeffRbf+/HHH8NLL70UPvroo7DeeuvF/as6DJhPPvnkcN5559WGcl9++WUc4E899dRh+eWXDxNPXF2+yLXq3r17uOaaa2q3yTUrt03CuIMPPjjeW1zPP/74I17P+++/P7Ro0SIsuuiiYaKJJoptCe0ef/zxsP/++4c777yz9j4A99/iiy9e+irE++SMM86o3f/QoUNjSPTpp5+GNddcM0w55ZTxffbP9m655Zbatp988km4++67w4wzzhiWW2652v1X2lfVfAbefvvtGFDUZbbZZgvt2rULM800U1X9WmlfEZAQnLBd+p3+R9rutNNOG/uA7VbTV3y/rt8Xq6++elh11VVLX4XQv3//cNBBB4U33ngj/Pbbb/E9rhfH/9NPP4XVVlstTDrppPFYL7nkktCjR4+4X7Cf559/PnzwwQdxu/SDJEmSJP2tRg3ImpUhQ4bUjBpY1tx+++2ld8obNWCu6dChQ81SSy1V06dPn5q+ffvWtGzZsmbgwIGlFo1z2WWX1W5z+PDh8b1RA7yaUYPQmlGD99r3VB2uJ9fnxBNPrPnqq69q/vrrr5pXX321plOnTjVrrbVWzeDBg0stK8PPcz24Vtdff33Nr7/+Gt9n2927d69p3bp1zTvvvBPfGzFiRM2xxx4b9/Pggw/WjBw5Mv78qMF5zR577FHTsWPH+HPJu+++G+/B9u3b1zz88MM1P/zwQ+k7Y7vxxhtrnnvuuZrff/89fj1s2LCaXr16xeMaNGhQfA9Dhw6tOeGEE2qef/75uH/uqSeffDIeU37/lfbV+PgMcD9369atpmfPnrEPq+lXVNpX6VjZxhdffBH3Qx/weeca7LrrrrHvUE1fpd8XDZ0zx7XvvvvGffEzbJNj4Fg4JrbB+3j55ZdrVl111fh+2hf9QH/QL/369YvvSZIkSdLfqbBr6Mw+++yhbdu2YdQgK3Tp0iVMM800pe+Mm59//jnMO++8YYMNNggzzDBDfI+qgfnmmy907ty59r1k1KAwTuPYe++94zQSpnLwl32m92SVa8fUj+eee26MaVxUAjC1jOkqHMvFF18cpwjRnikfvJeVn5rDFBEqHuqaGkN1xLbbbhuOP/74saaZNBWOmSoIjrFr167x2lFhMWpwHLp16xarNV544YVS68pQUTFo0KB4LkxHSpUwbJv7YbLJJguvvvpqfI8qDP5Pv3JdJ5lkkrj/BRZYIIwa5IdRA/jw4YcfxrajBvpxCtAUU0wRTj/99LD++uuH6aabLn6vHPa/yiqrxP2BChfOk/sxvYdZZ5019OzZM6y88spx/9xTVIRsscUWcRoP54Nq+mp8fAaoOuEebNeuXezDavq1mr4aOXJkGDFiRFhooYXCHHPMEc+JPqDqjuoojp3qGFTaV9Xg80dVDvvj8802OQaOpVWrVrHihvMAVU9UOO2zzz7xvEE/bLnllqF9+/axWu/XX3+N70uSJEnS36WwgQ4Dyz322CMOdBmYjS8ENkxPYXpGQ4EHA1qm3DDwZuoOg3HWHrnhhhvCzTffXGo1eloK28u3u+eee+IgmUFxNtTBu+++Gw455JBwyimnxGkptGdNELad2qapOYQzaf2Tp59+OoYUl19+eTy+PMILBqy33XZb3MeEwHQY9sWgfJZZZonvcQ4ff/xxuPHGG8PXX38djz9Ng6kEAQH9yPQ3Bv1ZhCpMIUrTfwgS6Cva5u8V2hLWpQDuhx9+CIMHDw6bbbZZWHjhheN7lSI0IBhi/aWNN944BmyVyIYJ1fTVuH4Gvv/++xgcEsQwjQnV9Gs1fTXXXHPFczr77LPjfcwUMs6VqU18VpieVV9wlmT7qhrTTz99WGuttcKVV14ZPy9cJ46ffbNWT+vWrcOcc84Z23L+BDiTTz55/DrhPQIg7pVq7lVJkiRJagrNNtBhvRMGxNlXfpHTpsDgdKuttgrnnHNO2GmnneK6IHVVBBCMEJxQPXP77bfHgTgv1vSg+iNhTRDWQ6EdA2i+pt1VV10Vw4SbbropVpFkXXDBBXHQmNoT1DDw5l8GonjggQdiMHPiiSfGRXEZ6D/77LNhzz33DLfeemttyJPFwH3FFVeMFRlUS0wIrFlDEJECCqosTjvttLiYLccJBskEL5UicKDSguvz6KOPxvCKQIXtEKgQNNCnbJMggkoLBu9UV9CO9qyHcvXVV8ew5PPPP4/bpUKKY2XwzkCfRXO596iYKbd4LrhGtCHUoAKIa3/kkUc2uM4Kx0fAxpo0BCVoir6qS6rOofIkHWs1/VpNXxGOsH4NCyIT4qyxxhqxsolqMkIezq8+5foqi4oi9k01G+vvPPbYY2NUqRF4derUKYY5rMXDdeKzQAXcYYcdFqu3UoDFZ5LPEeFp+uxzXQhgH3rooXhN0mdQkiRJkv4uha3QaSozzzxzOOmkk2KgQiUAg9B11lknTilhIJcw0GXQyMD76KOPDssss0wcEPJabLHF4uA2YYoMA0AqbphuxXQP2jH43HXXXeMiumnx1YSKARbbTe2pHmAAmgbYhD1sN02NSQNyggsWxWX7VBrlMeWEAIlFdFmIdkJg8M/An4oSAjAG/AQASy65ZBz477XXXrXnVSlChNTHBFiLLLJIDFRYiPjMM8+MFU2ECPQdC+kS0hGibbPNNrEd7TfccMMY6FCRkao+CCnefPPNcNRRR4VTTz01vP766/F9wjHCAMKHuqazJQSPXLv6Krw4XwImpu5wvVI1SFP0VTmpOmfdddeN925STb9W21f0MdujyiUhTCMsojKoLnX1VTlUDxHYEBzlq9Q4ZkIfApvkq6++itMQs/vnXPn8EerSN/zMsssuG6dIEmhxHml6mCRJkiT9XZptoMN6MQwMsy/+8j4hMGBkCghrk1BBwKCaahoG0xwHCFSYNkLFABUN9fn222/j036yA8mEgTohDE9FymIaDWuJZHH+TBmh4oTBLT/D12ybQWd6MRglzCEYaA4YAHOODIgJkgjNGOzzFCWm4RCoEEAx4K4GFR4EbUxvYg0WgpsOHTqEPn36xAoQps8RjFCdQQUIbXkf88wzT5yuRHBHAJcqYhIqOKjQoB+HDBkSq1UIOh588MHaeyBhXRXeox0VVAQhhC/9+vUbayodCBkuu+yyWHFzxBFHjDFdqan6Ki9V53Ds+WCv0n5NKukrzpnKHB6tzjbYP+fEZ4KnynEfZ8OXpL6+Avc7AQ774cUTrKgkIvxkmwRO4DowtZFpj0z/euSRR2IVEk/B4ncNgVSaRsXnjof/cX9wn4Bj5jqktYoaqr6SJEmSpKZmhU49GDSzYGtap+att96KVQ0MMlOVzPjCIP2fisEvgQnBANUcDKRZ4JbgjAoOAi8GzlSHVIOghgE5FSws1MtivgzMGeRTPdKyZctSy9H9u8kmm4Rrr702DvyfeOKJeCxM32EtlxS2pUCFKThpsWP2w/d33nnnuPYKoUo5tKOSijCGoIRwIz81inuG6XeEGb169Yr7yGqqvspK1Tn0XbY6J6m0X6vpK4IVApYddtghTkcjNKEShkCNx4AzfZCANKuhviqHfmF7LA5OoJn6nyl1bIdtHHfccbFSjdCUqiOqtwhumdqYEPrQ/9wn3C/cNwRcVF1xfgY6kiRJkv5uBjoVINhhQVWmXTCg5klDDLAZeLMOC9NQ6sNf9AmDmF6SRdUAa98gu+ZOJdL+eRIPU4lShUL2RYVBc0BowvkREjDlKTsY5jhZi4jvExCMK8I2Fp4G1U/1YXBOsMHAPvU/1U8tWrSI1Sb56pqGplolTMcpF7gQbrDINdOHqIAheCAAyZoQfZWtzsk/ta0u5fq1mr4i3CJgoZone048TYrKI84rG+hU0ld14VgInvjcpUomts0+CJGya/CwWDJTKjk2jrE+r7zySpxmyRpU4+NelSRJkqRxYaCTQeUC0y8YuKXqmzQ4ZPFh3qcCg8EcL4IAHkXOmjtUI1C1w+udd96J0zsSBoDo3bt3HJTThgEyU1N4StZKK60UB8bVYFDMwJoKDqajcOyV+DseW86UHs5xwIABcRFajpV+JYiiQoJBNesJ5VEdwoK9VFvQb/XhehGaMVWGahLCCqowyuG8Bw4cGKf6cF1Zg4hwAgz2WbeIPiX4SNVYHAtThggE6rpW6V6hmoOnmlH9koIdQj+qTKj4YH0dAptyGttXlUrVOeyjkoqX+vq1mr5KU9pYbJhwhXOiLdeVxY75jKSnTFXaV+VwfoRAVAOxPhBVRSDcIQgj1EmfVY6BYyHcotKo3CLhnBNtmEJ36KGHxs/8uPS/JEmSJI0vE40a1Iy9yMffiAEea8Ww1gWDx7ow0GSNkeuuu670zthY/DeFKZVgMM7TtR5//PHSO2Nab7314kCT6RggGGA6FgP4PLaT1vxhUMgAlwFxHgNOnlKVBtfpGDjuhtYMYqpQz54943SVvCWWWCIuzpsGtAmDebbPlB4GqVQdTQh1HSsDbfqUNVfyFRgcPwEb+Dd/P6R7Ja2TkvDYdl7ZShAG8gRZWeybJxwxPSg75Y22LIadHs+d0GfcczwhDPXdLyzK+5///Kf2GFK/14UnqjHFhwCo0r5qzGeAbbI4N1UvTEErp9p+raSvCFo4J54UVQ7TsDp37hyvQzV9VVdbzpkKn3T/UzHEOROglsMTsDgGtllXvxLkHHvssbXVXJIkSZL0d7JCJyMNQhnwstgxGESzICoVClQLpDAHDGwZBFLtkqoI0mK7LCKbMEhNC/CyLaR2VBJUUilRDuuQUB1EpUmrVq1K79bv73hsOdKxduvWbYyFZlmnhUfFl5tOQ4BGlQvtqASpD+dPIMBaKFy/bOiQx7WlDY+X32WXXcZav4jHy1944YWxj7j+3BdcTxbbbdu2banV2DgvpkmxmDbhRX3HUJ/G9FUlUnUO0weZ5lSJhvq10r5iaheBJp8V7kHQlp+jLYsN569DY/A5ZB+EldkwkymKVNhkP4McL1U8vNejR4+y0+TofxbU5olZVEwZ5kiSJElqLppdhY4kSZIkSZLqZ4WOJEmSJElSwRjoSJIkSZIkFYyBjiRJkiRJUsEY6EiSJEmSJBWMgY4kSZIkSVLBGOhIkiRJkiQVjIGOJEmSJElSwRjoSJIkSZIkFYyBjiRJkiRJUsEY6EiSJEmSJBWMgY4kSZIkSVLBGOhIkiRJkiQVjIGOJEmSJElSwRjoSJIkSZIkFYyBjiRJkiRJUsEY6EiSJEmSJBWMgY4kSZIkSVLBGOhIkiRJkiQVjIGOJEmSJElSwRjoSJIkSZIkFYyBjiRJkiRJUsEY6EiSJEmSJBWMgY4kSZIkSVLBGOhIkiRJkiQVjIGOJEmSJElSwRjoSJIkSZIkFYyBjiRJkiRJUsEY6EiSJEmSJBWMgY4kSZIkSVLBGOhIkiRJkiQVjIGOJEmSJElSwRjojIM77rgjLLjggrWvTTfdNLz//vul747p3HPPHaPtbrvtFr777rvSdyVJkiRJkirX7AKdfEiy9NJLh9133z0MGDAg/Pnnn6VWako1NTXhtddeC/vtt1/s/xVWWCH06NEjfPrpp6UWjfPFF1+EE044Iay99tq11/Wpp54Kf/31V6nFaOz/ueeeC3vvvXdsR/uePXuOtX/avfnmm+Hwww+Px5i2ed9994Xff/+91Op/+Pns/tk++2E75QwbNixceumlYccdd6y9H7k/s9gP+2O/bJM2tL/rrrvKHgPY35133lnb/sUXXyx9ZzRCQcLBtM/si2Awi7575pln4rWiD2iz+eabhyuuuCL88ssvpVaj8fnhc9SxY8fYbqONNgpnnXVWPM883rvoootiG9ryM/nPIMedjquuVzq3/Oc6/6orDG2or5Kvv/46nHfeebEP8n2U1HcMdW1XkiRJkpqrZl+h8/PPP4fHHnss7LPPPuGyyy5rVqFO+/bt4yCUFwPj+uy///61bQ8++ODSu83T888/H/v7nnvuif0/fPjwcMMNN4QDDjggvPfee6VW1eHnunXrFi6//PLw2Wef1V5XQpX+/fvXhir8SxjSpUuXcP/998d2tL/++uvH2j/Hdcopp4Sbb745/j9tc9999w19+/YdI6ghuCFoye6f7bOfBx98sNRqNH6O7Wy33XbhxBNPjD9bDvfilVdeGfdHe7YJ2h944IHxe+Xu1yFDhsTvTTPNNKV3Gu/uu+8OXbt2jdeKPsDrr78ejj/++HDqqaeG3377Lb7HcVxyySXxuj799NPxPe5Fwo/u3buHb775Jr4H+ph+4edpA36Gn7366qvH6Nem1lBfff755/E427RpE84888zaPpAkSZKkf7pmGegsscQScZDNYPLdd9+N1QYLL7xwePTRR8cYeGr8+/bbb2NwNv3004errroq9j/VOgz6+f+NN95YZ+VJXWh/3XXXhaFDh8ZQge0wUH/44YfDKqusEm666ab4PVBFwwCe9/k+7WjPz9GGsCeFJBNPPHGstuG+IITgRbCx+uqrhyeffDL88MMPsR1mmWWWsMkmm8RqGtqxzdNPPz1+74EHHhijmoV9EhJMO+20sS9eeeWV2jCOEC/58ssv48/usMMOMfDg59g29+76668f38seA9gPochss80Wp93Vh35J+00vgsHkxx9/jOdDX7FP9s0xsF+O6YUXXoiBB7iG9CvvP/vss3Fbb7zxRgysaE9fJzPOOGNYccUVQ79+/WI/sd1rrrkmzDPPPLFdula0yR8fr7feeisGQlT3LLDAArFtNvzMvl566aXQrl27sPzyy4e55547tk0a6qs//vgjBnRUEnEf8HuC3x31WWeddWI1Tv44OBdJkiRJKpJmX6EzySSThLXWWiu0bt06fP/997VVEAkBANOBmGrBi+k3TMMpV0WQpsekKScMAs8444yx/qrPIJjpG0xdoR0D0169esUpQxMKoQVhAiEEFTMTCn1HOEDVB/1D/0899dRhl112iYNyBuBpQF8p2r/66qtxUL7BBhvEbU400URxsE91y8svvxw+/PDD2Pbtt9+O/U81Dt+nHe35ue233z4MGjQo3geYYYYZQufOncN8880Xwx1eiy22WAw4ppxyyvh1QiB41FFHhUUXXTS+zzbp24033jhO1xkxYkRsR78TGk0xxRQx8CGYmW666eL38kaOHBl/bqGFFgpzzDFHPFa2Pf/888f9UFUy6aSTllqPrvyhbwmb6N+55pqr9J3GYboVFTjsb95554375hg4llatWsXrxnmAEIPAhCqb2WefPb5HH2255Za11/XXX3+N788666xxitvKK68c+4ntrrbaamGLLbaIU7F++umn2K4uXMN77703fm4I0urDvU1FE6EOx5NU0leTTTZZDGjOPvvscNppp4UWLVqUviNJkiRJ/3zNPtDJYnDJK6FygIE/04EIZXgx/YYBYD4E4a/9TM8hQKAiAUy9Of/88+N0mYQB8gUXXBCnbzB1BfwFn3CFUCeFCU2Nyo4nnngiVkgwOK62KqaxCF6oVlhppZVK74zuE4IwKjsIBqhMqQahB/0/1VRTxcAha6aZZoqBTArLCOyyQUTCzzFgJ1Coa1oNFRuPP/54DAIIa6iwqUQ2eKHfBw8eHDbbbLMYAtWHkIGgg0CBqUv0CxVkVBNxHzINKBsGUT1z8cUXx/uT8HFcUUVF2EnlDVOsCMU4fvZN1Qoh6Jxzzhnb0q8EJpNPPnn8OuE9AiD6P03Pqk+5a5PFfUogRhi33nrrld4tj88S69oQmi233HKld0ertK8IdAia8uclSZIkSf90zT7QYZDJAJGFUZdZZpk4+EzvM5AFA9g0NSQtfHrLLbeMMY2GqTFMyaDqhmkjtKWSgDAoX0XAzzO1iO8T5jDAZ00Ugh++nhAYrFMhs8gii8QB74QYsBKIMOWKgIOBOxUgLFrMNJ1DDjmk9tyrrVQitKEqhOtEJQjbpRLmgw8+iFNqPv7449qpQVSaUNHD+1TOgGvNcdx2222xbTZU43tU3nDNqM7h/1wrApl8eJT3ySefxACL8CqFPzx5jP0SdBCKZKu08gsNc00OOuiguCAyIc4aa6wRq4MIvwh5WOg34eeYHrTsssvGAKKhY8O2224b9819wFQr7r9ssMc2OnXqFMMc1tKhiolghCDksMMOixVRKQAlNCOQ435PFTZM2WKK2kMPPRSDsvz0sCyuCZVUTI1iClRdUnUO/ZYqgeqSqnOoEuJ+SxrTV5Ui8COwpF85RkJafhdMyHWBJEmSJGl8aJaBDtN+0tN1llxyyRgm8H/W5UjTMggACAf22muv+Bf8NDWEp+EwhYR1PNLUIKoTGMgRjDDgp3qAtkzZYABOlUPC9vfYY484yOf7YLBPG7aTfyJTU+F8mE7Ek4WoQpgQCFkISAiT6D+qI5hqRYhCZRMhC32X1rCpFGuybLXVVjF022abbWLlC0HVhhtuGLdJv6aqD9ZAoS3BA9Uv6R7gOLiGhE3pupRD1RXT7gg46hukExqw75YtW8aBfQoNCHS4/7hPWEcnW6VFcEJQkw1VOG7OJQWNoL8IvZiSBY6DBZjpU+6tbHhRCc6J8yE4IujI9j/3MX1EYJN89dVX4aOPPqrdP9Zcc81YsXPOOefEYJSfITDh6VgElpxHdnpYFvsjjGNKFgtF1xUupuocjqWhezZV56y77rrxeJJx7atqcG2pvKNfJ+S0RkmSJEkaHwox5YqAhoE0YUKSBt6sCcLgNPs69NBDY5UFFQigIoEBNtUL9VUXJKzLw1/uU6jEi2qJfzpCJAItnjq18847x0qmrbfeOlZH0aeEKYRk2WlvlSAsoVqFNWmoYgEL7DJgZ3oblTWpSooBPAEeoQz9Dq7bMcccE0MW2mUH+RwvjyIncCEwuv3222OoRxjDQsDlEOawdhKhAZUsrBmTR7ULoRIVJ0z/YeFlgh+mc6VKJYIOKnOoCOK8CAVYPJhAg+Ongow2bIOqGSpmWG+nIZw3AQ774cXixTy1i35gm9z3IPwgQElrzDzyyCPxWq266qrxqWv0AQEdOEf6kD6n78Ex87kiKE1VWXkcP6HHrbfeGo444oh6p6Flq3OyAVc5qTqHz3Z2aly1fVUN9pX6lGvK9MFjjz02TuEj3Eu/LyRJkiSpCJploJOecsUAnQHzwIED4wA1O92lGlQqMJ2oEmldHgaxaeD+b0HlCwsNg0CDcIDFZpkGBaZjIQUC1SAEYl2ba6+9NvYr6wMR0BCwse5MtsKEih4eZ57CE8IEKnS4/qwJU9dCu+yDag/CFM6l3PVj8E4ARHXXySefPFZAQaUKU4UIFKjeYjsEUhwfIRfr1FBRBIKV9OSoI488MoYmVMIQUvGkLab5sa4OIQUvpmcRUqSQMD2+Pk2tomKlHEIrtsdi3tkFnKlSI0DiOI877ri4OPJSSy0V13+iyik90Ssh9KHP6Xv6hmvBotD0K+eXD3QIg1gcnH0QcLKfuqTqHK4P1Wz1TZNK1TkET9nqHIxrX1WK42MqYIcOHeL0PK5ptqJJkiRJkpq7Zl2hwwCdhVV32mmnuH4Kf1FPqCigYoe/rDM4zb9YL4TBLagAYBoR01AaekIP03oIknicM5URaXs8QvrfID32mYEz/ZcG5gzYWUx68cUXb3BtlEoRJDAwZz/Z6qtyqKigYog1XLiW9SEAKbdwL+EKgQaVOVSv8CSqPAb5LL5MqJCfspWdagWOiYCF8CsbhvA0KaaLNWYB6bpwLFSlcd8zzQpsm30QImUrz+gfpjxxbBxjfXgkO2vzsK5Mts8IOFhEnKlWVFYRKNUX0tBfVOfwtKqGAr9sdU4KEP8uXFNCPn7XpH6VJEmSpCJo9iMYBlpM4SBI6NevX+2CuFQbMFWHCh4GiPVV4BDoEBpQ6ZGeRsQAmekkL7zwQnw0csJAlkEzg1LWCmG7VAgRHE1IaarLhH5sOf3M4L53796xb9KjsZnyQ6jFNJ305KSE71NBRYjBMXPs9SHIoU+ppCGoY1oXQUoe+2axXqZRMa0J9S12zH5ZaJlj5/+svZOwDg2P4mZ9GQKKuqYOEYwwZYt7hX5nOxwHiydzrxGepMdjp0ohwsN0T9GWAJAFhOlH+io71Sf7os9Av/I17crhnidYoRqINWeoUEEKNQl1qBxi3xwDx0JgQvBWbtoS50QbFnlmKh2fDRZeTgg4qMihkoepaVTS1CdV59B3TFOspDqHNarKVfyMa19Vir5irSN+H7BOFVVFDQWFkiRJktSsjBoANiujBu817dq1qxkyZEjpnZqaUYOvmuuvv75m1MCz5v777y+9W1MzaiBdM2ogVtOyZcuxXqMG7zW//vprqWVNzdChQ2u6du1ati37TB5++OG4n3ybUQPQ+P7AgQNjO7bNPvLt0mvXXXetGTZsWGzLv3xdrh2v/LEi+zPHHHNMzYgRI0rfaVr09agBd9k+oP/oxzyuFdeMNtnzzqLf8ttjH1dddVXNyJEjS61G692791ht2f6LL75YajFauW3yWn755WvuvPPOeC5JuW1mX3w/Ybvl7iu2e/fdd5da1dQMHz68plu3bmO1S6+LL754rHPL4r6jXbqnkvR+/tWhQ4cxPhfcE7169Srbltd///vf2vuqrvu1U6dONR988EFsk9S1//TK36+DBw+O/XXppZeO0efl8Pnlut93332ldypTbV+lV7qu9X1ejzvuuJqff/45tpMkSZKkoijEHAP+4s8Tepj2QeVEqtLhL/x9+vSJT95paJoH65ucdNJJsSqkVatW8T0qHfiaqoeEqSpMt2IBWtB21EAwLtSaXeelqVEtMKEfWw76mioYHtlNNQ7o227dusX+K7eAMFOMqMygIoRjbqjSgWlTLHzMFB3WxqEKqxzW0mE6Ewv3Up3F08zqw7XiqU2s/ZN9clW12M+FF14Ypw9RBcNxsNYKVUpt27YttQpxuhBTt3j6VbpfaMvP0ZbFhus6t2pQIcM+qKhJ1TngnqDChjV70rXieLmfea9Hjx5x+lke15NFqnliFvd1Q9Pd6pOtzmE9nkqqc6iGoZrr75SuE+sI0U/lFoSWJEmSpOZsIlKd0v8lSZIkSZJUAK4CKkmSJEmSVDAGOpIkSZIkSQVjoCNJkiRJklQwBjqSJEmSJEkFY6AjSZIkSZJUMAY6kiRJkiRJBWOgI0mSJEmSVDAGOpIkSZIkSQVjoCNJkiRJklQwBjqSJEmSJEkFY6AjSZIkSZJUMAY6kiRJkiRJBWOgI0mSJEmSVDAGOpIkSZIkSQVjoCNJkiRJklQwBjqSJEmSJEkFY6AjSZIkSZJUMAY6kiRJkiRJBWOgI0mSJEmSVDAGOpIkSZIkSQVjoCNJkiRJklQwBjqSJEmSJEkFY6AjSZIkSZJUMAY6kiRJkiRJBWOgI0mSJEmSVDAGOpIkSZIkSQVjoCNJkiRJklQwBjqSJEmSJEkFY6AjSZIkSZJUMAY6kiRJkiRJBWOgI0mSJEmSVDAGOpIkSZIkSQXTbAOd77//Puyzzz5hwQUXDKeddlr4888/S99RUf3yyy/hiiuuCBtttFG8rltvvXW46667wu+//15qUb3hw4eHiy66qHabO+64Y53b/OKLL8IJJ5wQ1l577bD00kuH3XffPTz11FPhr7/+KrUI4cUXX4zbqe9Fm3Lee++9eE60Offcc0vvjlZTUxPefPPNcPjhh4cVVlihdv/33Xdfnef/9ddfh/POOy+2z28vueOOO8Y6vvTKH+ewYcPG6KvNN988fs375dAvzz33XDjssMNin/Ezu+22W/juu+9KLUZf0759+9aeN9vu1atX+PTTT0st/ofP8IABA0LHjh1r25511ll17h/025133hn7K39OHAfHw/t1vbL9xvk888wzYb/99ot9yvfpA+5JzqMu9V1X5PuV8+M8/Z0lSZIkqSk120Dnww8/jANaBugvvfRS+Oabb0rfURExYD755JPD8ccfH95///343ssvvxwOPPDAcPnllzdq8Ms9ccQRR4RTTz21dpsEEOW2yaC8W7du8f3PPvss/Pzzz+Gxxx4Le++9d+jfv38MDsYF53f11VeHTz75JEwzzTSld/+H4OmUU04JN998c/x/2v++++4bA5Hs/j///PN4Tm3atAlnnnlmbD8+sJ9sX73++uvx6//7v/+LAWoW+zzmmGPi5++WW26JfVbOAw88EI4++uh4LcG2L7vssnDwwQePEepwLS655JIY0j799NPxPdoSkHTv3r3Oz/eQIUPClVdeWbZPq3X33XeHrl27hnvuuae2T+kD7kn64bfffovvZTV0XbmvunTpMka/cn6cJz83rveVJEmSJNWlWQY6DIIGDhwYllhiidChQ4c42GNgp+Ji4H/ttdeGPffcMzz77LPxelJ5QeUHQcMbb7xRalkZ7hGqUxg8n3jiifHnGVCz7R122CHceuuttQNsKmCuu+66MHTo0BgqvPvuu3H/Dz/8cFhllVXCTTfdFL+HFVdcMf5c/vXWW2/FgTtVGAsssEBsm3AsDz74YHjyySfDAQccEOabb77Sd/5n4oknjuf66KOPxhCAF8HC6quvHn/uhx9+iO3++OOPGLoAL/4AABCfSURBVDpR8UF7qkf4HNRnnXXWiZUr+WPmXLLmnHPOcMMNN4S33347fp+f4ZwIlvg6IXzhWt12223xenHM9BltCFdmmmmmUssQQw4CnNdeey1+n3+POuqouO0U8oD3+VmuDdeItlwzrh3XkGuRl8KU2WabLVbi5HEcbJNt5V8XX3xxmGeeecKqq64a2/7444+xGorrzbWi/7kH2DfH9MILL8QgLauS6zrjjDPGfu7Xr1/sI7Z7zTXXxH1zTum+kiRJkqTxrVkGOgxuCXSWXHLJsPDCC4dFFlkkVl6Uq+JI0yiotGBaBlMpevToEafX5DGwZ1CXpnwwYD7jjDPGqIBIU1jy01X4mvf5fsL/0xQUqogYHNNm++23D4MGDRrjr/MMTgkwmGaTjpOpH5xXtl2Sn8aRpielPnjllVfCaqutFgf/eeyLqT1UCeQrLz766KOw7bbbxqoE2k0IVKM8/vjj8VyokJh99tnDRBNNFJZaaqlYNUOIwYC6Gj/99FPsY86Fvplyyinj+2yb6zDZZJOFV199Nb7HoJr/c6022GCDMMkkk8T9E8xQIUPwQEVYfQhB7r333ngOs8wyS+nd0VIVCcEA16ScGWaYIXTu3DmGAoQ7vBZbbLEYMHDsfA2Om4Dm7LPPjlMNW7RoEd8fH+gr9sc+QCDC+RDKpPdAIMK9yrXhPuKY6bNy+Pn1118/TD311PFr/l133XXjuaVrAj4/c889d7wnuUbg+1tuuWVo3759/Pz8+uuv8X1kwxTumbnmmqv0nYZxz/PZJCzjHgO/J6jAmX/++cO8884b+5t7YI455gitWrWKxz3FFFPEtkkl13XWWWcNPXv2DCuvvHLsI7ZL2y222CJ+hrlPJUmSJKkpNMtAh+kN/LV7mWWWCdNOO22sUBg8eHBtFUNCuHHppZfGAd/9998fgwPCGaoQmNqSRXjBlBcG8GnKB9NIzj///Fih0FgMQq+//vrQqVOn2ioDwgnWaslOOaFC5aCDDor7SsdJhcahhx4aqxeyGFDvtddeY0zjIHQg4CGQASEPlQHsKx/acF60Z6BNkJDF+wyuqb6gjycEKqzYFwPdFIYwYP/444/DjTfeGKfWcZ7lprzUZeTIkbEfp5pqqrHCBoIKqjrSNKERI0bE609bBvFZtCWwKBcAJgSBhGkEQOutt17p3dHYLqEa12OnnXaqM/jII8Qi5CK02GSTTeJ9nhDoEAhMPvnkpXfGPwIOQiyqozbeeON4/AmVM9w3rC9T6fmAa/rll1/Ga0qfLrfccqXvjA71CHDy58R7hCr0f/b6E6ZQZcNnm/CzGs8//3wMSgmLUtA0/fTTh7XWWisGNISZnDu/T/g9weeqdevWsYIpaex1zSoXEkmSJEnS+NIsAx0GZPyFn7+mMwBnQJemdGQRTDDo4vu33357DA14UUmRnxZDoML0FQapBC9MjaDqgvAnX3FRDQKVCy+8ME7JIHRiu1RWEJxQRZNQBUHVBZUInAfHyfQfUIWQMKjlnJjiw9oiqT3/Ut0w6aSTxnbTTTddrITg/Xx1CcdEQECFQh6DbIKgdu3ahYUWWqj0btNiuguhTepnKhfoo0033TROjQIDeoKXShHOUGlBJQlTggj3CCnYDiEF14LKHLZJaENVCIN3+ot2tP/ggw/ilB6Cpfx0m6xUncO9k6pLQIBBkMh1pkIsG8qUw7VlOhIhAfc3/2e9n80222ysoKkaBENcU7bLMbIoMfdhucqvVIFG5RvVSnxOjjzyyNrgA/QH14qqprSAMFVl/J/PYX67qXqN+2mNNdaI15tjoHolIeBhqhWft1S1QjtCzYceeijeEymwTWHKsssuG4OtavomVecQZmYDJbZB6EqYw1o6nDvfJzRi0Weqt1JoU+11zeO+4/O//PLLx2BRkiRJkppCswt0GOQxQKQqJw2kGCgy7YqpVWkwyYCcahcGnizKSjUPAzJeDJYZ2CZpyg+DPAbRDGKZGsE0E6ag8Jf7xiKoYfDKNB+Ol+0ykOP40/QoMDWFwWmqmOE4GShzblSbJIQzVBBRobPHHnvUtudfBv4MjBMCG6axPPHEE7X9wrnSf0wn43t5hGSsGUMFUbUD1cYiVCHQob8ZqNMXVEUwpY6QjXNNgUylqOxI15h1Xrg/CCnWXHPN2oWEqQbherDOyVZbbRVDtG222aZ2Gt+GG24YAx36rK5KilSdQ79TOZNFFQnnw/E3JhyjgogpTQQM5cKXxmCRX9a0YWofwWhDWJSYaYeEKCB0+uqrr2KgQTVbWkCYPuL/hIr5irI8QhsWVM4udMx1oQrmnHPOiZ9VAiACG0Iiwjf6n7AyhSkEmtz/2aCpEqk6h3sj/7PcC+w3+xniXKl6y34Gx+W6ch8THFK5t9122zVplZUkSZKkf7dmF+gwuGKAR9iR/jI/88wzx8E/g9X0V3wGnkzvIDyhUqM+VARQucFf5Mf3X8wZHLJOR7aKgEEjg3TWBkkYMFM5wlOD+D4vqioImrIYBBPqENY0NM2DwIbghgAnrQNE1QmVBWmtmOaAwTqVLQzeCZK4nlQrsXgs07AICzhWBtzVIIw7/fTT45QhgjWCGxbR7tOnT6wUIQQjROLaUA1EW94Hi9YSGFxwwQUxAKyrSitbncPUoIR7ilCKe4qAqpIqEkIozj9VaFFVRuULU+saCknqwj3G9ngRRHAvHHvssfF+IKwiIM1K7WlLcEgYRqjGor7ZUIm+pHKHcIS2TMMiKAPrUGXDSu7jdAxUQFFZRtjKdUiPZKdah5CHPqfvwbXgPiAM5foRwNDfVM1QMVNtmJKqc6hc4/dCFudGMJfW43nkkUdidReLJvPo9PSUq8Zc14Q+IUyj6oynrxEcSpIkSVJTaXaBDn9hp3IhLVzMiwE3fzHPTi9Ki5xWgr++s2bJ34Uwh0d2U0nEALk+lZ4TCEEYkBIGvPnmm3HQyvYJw6hAaS4YqBOYEBJQIcVAOq0Rw4D/22+/jYN8Ao9qMNjm/BmAMz2IRZIZmHPPsFB1y5YtSy1H9xVr1fD0JoIHqpo4FgI+QrRs1UaSqnNYW4Uqruzgnooj+pztEeile5UQgPcJCfiafZS7phwPlSpU6BA6cUzjiuNjehmhFtVcBGXZypMs2nJehGyEPIQ2VFJxXFwHqtl23nnn2D+05T36j34gOKnr80SIRmjD5/edd96Jx5AQpNAf9D3nS98RxvH5oP9ToMOL9aYIdFK/8hh0sLAzXxPc5KXqnPyaRGBKHQEiIeBxxx0XK9W4boRUVG8RUjFNrbHXlf+fd955cR9U7LEfSZIkSWpKzSrQSdOt6sJgK32fMICQgIqUVJ1SFwZ3LIpK9U9jnjrDX97TE5Mag8Er00iyj2zmxbnkp/FwTlQrUMFRyTQcntCz0korxYEsIQZPB2MqUbVTVZoSoQDT3AhfmPKUPbbUD3x/fCwgy7Wir0FVV30IEggGGLjn11xCqs5hvaFUVTK+EZSM74VzCaL4TFRS9cQ0p2yQRrhE5RefK9a1ySJETRU39WGflYZzVJNRzUOVz7j0Q6rO4R4rF6ZQzcd9xtSvbJUevxf4DPK7hVCrMQitWHCdqVZUgVFdlw3/JEmSJKkpNKtAh8CFQRd/BU+hR3oRqPCXdL5P8MPgj4E46+qcdNJJsXKHAScvKgOorEgIdGjLVAjWDGFwR1jC4J8FhLOLEqfpW0zJYMDPi+og1hlprLSGDBURDCA5Rhae5a/5TC/LIjhgugdP32KAyv5BENW/f//4c1lURFBNQdUDiz3TPj/dJIs+ntCPLaf/CZ0GDBgQp9Mw+Kb/Ca2okKBPmDqWxzXnSUVUe3AP1IcKCdZdYVoPVTpUnVCFUQ7nTfBFdQxP++Kx51S2ZKXqHAb/5abeUKXBtLr8fcpTq1g/iYoSvmaKVblwg3uP0KR3797x/w2FT5VI9xX3OH1NNQ19Ww79TwBIJQr3FdVC6TgJV6ho4elttAH333XXXRfDsmzbPD6b3LeEG6yRU27/nC+fQaZ68ZQ3Ppvp+menkGVf/E4A6z/xNe2yqM4hGGJqXFp3KouQlNCO3x/pdwV9wHEQhjIlMFUEVXNdCc6oyOHzx+8IAiVJkiRJmhCaVaBDuEGFCuuK5DEgoxqFARmhBJhWwmCfgTdrxrBmBa82bdrUTs0ClQq77LJLXJSVJ0uxdgeDN6Ylbb/99nHKT9KiRYv4V3zWVmGgyYvAiEAi+4SjajDVhIEe64UwcOcYefw1x8KxZaW1ZnDIIYfE/TPIZBDN07TKTaHh2AiNqA5YeeWVx6hAyPs7HltOGMJAm/5nehSBE/3P1BimSXG+5dYb4elV3BOs9VKuQoqBNWvj0D/0K5U0rFPEYr7cF9m+5Zxpx4s+ZcFaAgCecMTP5aXqHLbf0BpNlcjun1dalJkgYP/99x/j/AlEUrv8VB9eBDYgxGLqT3o/3VcEkCyKzL2dgiiCGdalSW3pf4Ib7m36gs9SwhRHPkNcK9rQnvuPtoSHHBPy++dFiMN9y7985tI1yLbl3PkMEiryNevNsK5SY6XqHAIs1mQqh/1w3FzT9LuCPuA4WMSZ8y13DzaEe4if516kAi/1Q3rlp2ZJkiRJ0vjSbAIdpi0w6F188cXHWHw2i0Ei7VJVC1N3WLiVgWH6y3ha7JZ1RLJYlJUBKVUZBENgwMXXLKKaEKiwqCthA6iW4ck8afDZGExhYf0cggOCKY6RxZGpgCDkyGPKCAvKMtBOU30YePJo9HJVJwQO6fypdKhvugfnwyB9Qj62HKn/u3XrNsY5ERrU9dhuwgmCBNqVC/myuKadO3eOa6EQKNQ35YxAiTYM7rOhQ5KtzmGNl/r6s7E4XoIs1hMi7Bof+2CNIq4rVTc9evSotw+4Bkx/4x7s2bPnGG2pPOFzwT2b7nnuGz4DrAVVV/iS9k/wSOVV9rHlWeyboIzgiYqtctPdqpGqc6jmKledA6ZoUg1EUMv9BD6LfPZ5j/6qq+pIkiRJkpqjiWqYd6BCYzoMU41Yu4R/6xvIS5IkSZKk4mtWU65UPdbmYc0Y1gFijSHDHEmSJEmS/vkMdAoqrbPCmiFMsWF9FB+VLEmSJEnSv4OBTsGxdg5r/LBuUH4tGEmSJEmS9M/kGjqSJEmSJEkFY4WOJEmSJElSwRjoSJIkSZIkFYyBjiRJkiRJUsEY6EiSJEmSJBWMgY4kSZIkSVLBGOhIkiRJkiQVjIGOJEmSJElSwRjoSJIkSZIkFYyBjiRJkiRJUsEY6EiSJEmSJBWMgY4kSZIkSVLBGOhIkiRJkiQVjIGOJEmSJElSwRjoSJIkSZIkFYyBjiRJkiRJUsEY6EiSJEmSJBWMgY4kSZIkSVLBGOhIkiRJkiQVjIGOJEmSJElSwRjoSJIkSZIkFYyBjiRJkiRJUsEY6EiSJEmSJBWMgY4kSZIkSVLBGOhIkiRJkiQVjIGOJEmSJElSwRjoSJIkSZIkFYyBjiRJkiRJUsEY6EiSJEmSJBWMgY4kSZIkSVLBGOhIkiRJkiQVjIGOJEmSJElSwRjoSJIkSZIkFYyBjiRJkiRJUsEY6EiSJEmSJBWMgY4kSZIkSVLBGOhIkiRJkiQVjIGOJEmSJElSwRjoSJIkSZIkFYyBjiRJkiRJUsEY6EiSJEmSJBWMgY4kSZIkSVLBGOhIkiRJkiQVjIGOJEmSJElSoYTw/7hpHY/5O+VZAAAAAElFTkSuQmCC)"
      ],
      "metadata": {
        "id": "HvwqnlDFPV4-"
      }
    },
    {
      "cell_type": "code",
      "source": [
        "result = model.predict(test)"
      ],
      "metadata": {
        "id": "-y6GVwsfuBrI"
      },
      "execution_count": null,
      "outputs": []
    },
    {
      "cell_type": "code",
      "source": [
        "j['Status'] = result\n",
        "j.no = j.no.astype(str)\n",
        "j.FKP02 = j.FKP02.astype(str)\n",
        "j.info()"
      ],
      "metadata": {
        "id": "EN5Eye9tuLn9"
      },
      "execution_count": null,
      "outputs": []
    },
    {
      "cell_type": "markdown",
      "source": [
        "## Bagging balanced x class weight with DecisionTree\n"
      ],
      "metadata": {
        "id": "bps4LvIi7VxT"
      }
    },
    {
      "cell_type": "code",
      "source": [
        "df.info()"
      ],
      "metadata": {
        "colab": {
          "base_uri": "https://localhost:8080/"
        },
        "id": "3m6dDPVPHsdH",
        "outputId": "74465ae3-9fce-4838-d273-f2aaa39a1789"
      },
      "execution_count": null,
      "outputs": [
        {
          "output_type": "stream",
          "name": "stdout",
          "text": [
            "<class 'pandas.core.frame.DataFrame'>\n",
            "RangeIndex: 4056897 entries, 0 to 4056896\n",
            "Data columns (total 11 columns):\n",
            " #   Column           Dtype  \n",
            "---  ------           -----  \n",
            " 0   id_kunj          int64  \n",
            " 1   no_kel           int64  \n",
            " 2   no_peserta       int64  \n",
            " 3   kode_ICD4        int64  \n",
            " 4   kode_ICD3        int64  \n",
            " 5   jenis_kunjungan  int64  \n",
            " 6   kodeICD_angka    int64  \n",
            " 7   kodeICD_huruf_9  float64\n",
            " 8   jenis_poli_1.0   float64\n",
            " 9   jenis_poli_13.0  float64\n",
            " 10  jenis_poli_12.0  float64\n",
            "dtypes: float64(4), int64(7)\n",
            "memory usage: 340.5 MB\n"
          ]
        }
      ]
    },
    {
      "cell_type": "code",
      "source": [
        "X_train, X_test, y_train, y_test = train_test_split(df, y, test_size=0.1)"
      ],
      "metadata": {
        "id": "AQimK9zt7VxU"
      },
      "execution_count": null,
      "outputs": []
    },
    {
      "cell_type": "code",
      "source": [
        "# evaluate bagging with knn algorithm for classification\n",
        "from numpy import mean\n",
        "from numpy import std\n",
        "from sklearn.model_selection import cross_val_score\n",
        "from sklearn.model_selection import RepeatedStratifiedKFold\n",
        "from imblearn.ensemble import BalancedBaggingClassifier\n",
        "# define the model\n",
        "model = BalancedBaggingClassifier(\n",
        "    base_estimator=DecisionTreeClassifier(class_weight = 'balanced', random_state=7), \n",
        "    n_estimators=10,\n",
        "    random_state=42,\n",
        "    n_jobs=2)\n",
        "# evaluate the model\n",
        "model.fit(df, y)"
      ],
      "metadata": {
        "colab": {
          "base_uri": "https://localhost:8080/"
        },
        "outputId": "0c2e8948-86c6-4b0a-8962-3e60e0f94a37",
        "id": "OtBWbn4y7VxW"
      },
      "execution_count": null,
      "outputs": [
        {
          "output_type": "execute_result",
          "data": {
            "text/plain": [
              "BalancedBaggingClassifier(base_estimator=DecisionTreeClassifier(class_weight='balanced',\n",
              "                                                                random_state=7),\n",
              "                          n_jobs=2, random_state=42)"
            ]
          },
          "metadata": {},
          "execution_count": 18
        }
      ]
    },
    {
      "cell_type": "code",
      "source": [
        "acc1 = []\n",
        "target_pred = model.predict(X_test)\n",
        "generateClassificationReport(y_test,target_pred)\n",
        "acc1.append(accuracy_score(y_test,target_pred))\n",
        "print(\"\\n F1 Score: \", f1_score(y_test, target_pred))\n",
        "print(\"\\n Accuracy: \", stat.mean(acc1))"
      ],
      "metadata": {
        "colab": {
          "base_uri": "https://localhost:8080/"
        },
        "outputId": "31b6a99e-102f-445e-d830-247e8a797888",
        "id": "_qDU0MYx7VxX"
      },
      "execution_count": null,
      "outputs": [
        {
          "output_type": "stream",
          "name": "stdout",
          "text": [
            "              precision    recall  f1-score   support\n",
            "\n",
            "           0       1.00      1.00      1.00    262845\n",
            "           1       1.00      1.00      1.00    142845\n",
            "\n",
            "    accuracy                           1.00    405690\n",
            "   macro avg       1.00      1.00      1.00    405690\n",
            "weighted avg       1.00      1.00      1.00    405690\n",
            "\n",
            "[[262649    196]\n",
            " [   344 142501]]\n",
            "accuracy is  0.9986689344080456\n",
            "\n",
            " F1 Score:  0.9981088596423644\n",
            "\n",
            " Accuracy:  0.9986689344080456\n"
          ]
        }
      ]
    },
    {
      "cell_type": "code",
      "source": [
        "acc1 = []\n",
        "target_pred = model.predict(df)\n",
        "generateClassificationReport(y,target_pred)\n",
        "acc1.append(accuracy_score(y,target_pred))\n",
        "print(\"\\n F1 Score: \", f1_score(y, target_pred))\n",
        "print(\"\\n Accuracy: \", stat.mean(acc1))"
      ],
      "metadata": {
        "colab": {
          "base_uri": "https://localhost:8080/"
        },
        "id": "_fh1tR_e_RaL",
        "outputId": "08479c11-a2a3-4de6-d2af-1eb850ddd9d4"
      },
      "execution_count": null,
      "outputs": [
        {
          "output_type": "stream",
          "name": "stdout",
          "text": [
            "              precision    recall  f1-score   support\n",
            "\n",
            "           0       1.00      1.00      1.00   2634511\n",
            "           1       1.00      1.00      1.00   1422386\n",
            "\n",
            "    accuracy                           1.00   4056897\n",
            "   macro avg       1.00      1.00      1.00   4056897\n",
            "weighted avg       1.00      1.00      1.00   4056897\n",
            "\n",
            "[[2632514    1997]\n",
            " [   3327 1419059]]\n",
            "accuracy is  0.998687666953339\n",
            "\n",
            " F1 Score:  0.9981276213828171\n",
            "\n",
            " Accuracy:  0.998687666953339\n"
          ]
        }
      ]
    },
    {
      "cell_type": "code",
      "source": [
        "# save the model to disk\n",
        "import pickle\n",
        "%cd '/content/drive/MyDrive/BDC'\n",
        "filename = './decisiontreeclassifier-bagbal-cw.sav'\n",
        "pickle.dump(model, open(filename, 'wb'))\n",
        " \n",
        "# some time later...\n",
        " \n",
        "# load the model from disk\n",
        "loaded_model = pickle.load(open(filename, 'rb'))"
      ],
      "metadata": {
        "colab": {
          "base_uri": "https://localhost:8080/"
        },
        "id": "JzJ6piKaCCdS",
        "outputId": "e9e7bcfb-b40d-44a3-d2e0-32b6fd433c76"
      },
      "execution_count": null,
      "outputs": [
        {
          "output_type": "stream",
          "name": "stdout",
          "text": [
            "/content/drive/.shortcut-targets-by-id/1TnlK0p-G3RTX1KNM_nNxK7LQlClI3wjp/BDC\n"
          ]
        }
      ]
    },
    {
      "cell_type": "code",
      "source": [
        "import sklearn\n",
        "sklearn.__version__"
      ],
      "metadata": {
        "colab": {
          "base_uri": "https://localhost:8080/",
          "height": 36
        },
        "outputId": "f677f1a2-7bbc-4525-81b7-89fb0788f520",
        "id": "05NRL6qY7VxY"
      },
      "execution_count": null,
      "outputs": [
        {
          "output_type": "execute_result",
          "data": {
            "text/plain": [
              "'1.0.2'"
            ],
            "application/vnd.google.colaboratory.intrinsic+json": {
              "type": "string"
            }
          },
          "metadata": {},
          "execution_count": 20
        }
      ]
    },
    {
      "cell_type": "markdown",
      "source": [
        "# Random Forest Basic"
      ],
      "metadata": {
        "id": "neRnS7CXDH-x"
      }
    },
    {
      "cell_type": "code",
      "source": [
        "#Fitting Model, Predict, Evaluation\n",
        "model = RandomForestClassifier(n_estimators=50)\n",
        "acc1 = []\n",
        "model.fit(X_train, y_train)\n",
        "#target_pred = model.predict(X_test)\n",
        "#generateClassificationReport(y_test,target_pred)\n",
        "#acc1.append(accuracy_score(y_test,target_pred))\n",
        "\n",
        "#print(\"\\n Accuracy: \", stat.mean(acc1))\n",
        "#print(\"F1-score: \", f1_score(y_test, target_pred))"
      ],
      "metadata": {
        "colab": {
          "base_uri": "https://localhost:8080/"
        },
        "id": "qtWCdETOnOn5",
        "outputId": "7de678cd-ce58-4202-a11f-b93bfa4a6847"
      },
      "execution_count": null,
      "outputs": [
        {
          "output_type": "execute_result",
          "data": {
            "text/plain": [
              "RandomForestClassifier(n_estimators=50)"
            ]
          },
          "metadata": {},
          "execution_count": 6
        }
      ]
    },
    {
      "cell_type": "code",
      "source": [
        "# save the model to disk\n",
        "import pickle\n",
        "%cd '/content/drive/MyDrive/BDC'\n",
        "filename = './randomforestclassifier-basic2.sav'\n",
        "pickle.dump(model, open(filename, 'wb'))\n",
        "\n",
        "# load the model from disk\n",
        "loaded_model = pickle.load(open(filename, 'rb'))"
      ],
      "metadata": {
        "colab": {
          "base_uri": "https://localhost:8080/"
        },
        "id": "gT8NppJs-9Av",
        "outputId": "64f8f64f-91f0-4e03-b882-89c0ecf89b2c"
      },
      "execution_count": null,
      "outputs": [
        {
          "output_type": "stream",
          "name": "stdout",
          "text": [
            "/content/drive/.shortcut-targets-by-id/1TnlK0p-G3RTX1KNM_nNxK7LQlClI3wjp/BDC\n"
          ]
        }
      ]
    },
    {
      "cell_type": "code",
      "source": [
        "target_pred = model.predict(X_test)\n",
        "generateClassificationReport(y_test,target_pred)\n",
        "acc1.append(accuracy_score(y_test,target_pred))\n",
        "\n",
        "print(\"\\n Accuracy: \", stat.mean(acc1))\n",
        "print(\"F1-score: \", f1_score(y_test, target_pred))"
      ],
      "metadata": {
        "colab": {
          "base_uri": "https://localhost:8080/"
        },
        "id": "zb4C6ONd8mBY",
        "outputId": "b5145b79-26ea-40f9-a762-11ab011d5bf8"
      },
      "execution_count": null,
      "outputs": [
        {
          "output_type": "stream",
          "name": "stdout",
          "text": [
            "              precision    recall  f1-score   support\n",
            "\n",
            "           0       0.99      1.00      0.99    263742\n",
            "           1       0.99      0.98      0.99    141948\n",
            "\n",
            "    accuracy                           0.99    405690\n",
            "   macro avg       0.99      0.99      0.99    405690\n",
            "weighted avg       0.99      0.99      0.99    405690\n",
            "\n",
            "[[263000    742]\n",
            " [  2209 139739]]\n",
            "accuracy is  0.9927259730335971\n",
            "\n",
            " Accuracy:  0.9927259730335971\n",
            "F1-score:  0.9895513562700714\n"
          ]
        }
      ]
    },
    {
      "cell_type": "code",
      "source": [
        "target_pred = model.predict(df)\n",
        "generateClassificationReport(y,target_pred)\n",
        "acc1.append(accuracy_score(y,target_pred))\n",
        "\n",
        "print(\"\\n Accuracy: \", stat.mean(acc1))\n",
        "print(\"F1-score: \", f1_score(y, target_pred))"
      ],
      "metadata": {
        "colab": {
          "base_uri": "https://localhost:8080/"
        },
        "id": "_PBTilOq_Flm",
        "outputId": "45d09f61-06d5-4170-bd9e-feca841f0e0c"
      },
      "execution_count": null,
      "outputs": [
        {
          "output_type": "stream",
          "name": "stdout",
          "text": [
            "              precision    recall  f1-score   support\n",
            "\n",
            "           0       1.00      1.00      1.00   2634511\n",
            "           1       1.00      1.00      1.00   1422386\n",
            "\n",
            "    accuracy                           1.00   4056897\n",
            "   macro avg       1.00      1.00      1.00   4056897\n",
            "weighted avg       1.00      1.00      1.00   4056897\n",
            "\n",
            "[[2633758     753]\n",
            " [   2541 1419845]]\n",
            "accuracy is  0.9991880493884858\n",
            "\n",
            " Accuracy:  0.9959570112110414\n",
            "F1-score:  0.9988413582348687\n"
          ]
        }
      ]
    },
    {
      "cell_type": "code",
      "source": [
        "# save the model to disk\n",
        "import pickle\n",
        "%cd '/content/drive/MyDrive/BDC'\n",
        "filename = './randomforestclassifier-basic.sav'\n",
        "pickle.dump(model, open(filename, 'wb'))\n",
        " \n",
        "# some time later...\n",
        " \n",
        "# load the model from disk\n",
        "loaded_model = pickle.load(open(filename, 'rb'))"
      ],
      "metadata": {
        "colab": {
          "base_uri": "https://localhost:8080/"
        },
        "id": "ofC0i_HfPKe1",
        "outputId": "bb5bf1b6-4e5d-41e3-8cb0-b4145ec33e13"
      },
      "execution_count": null,
      "outputs": [
        {
          "output_type": "stream",
          "name": "stdout",
          "text": [
            "/content/drive/.shortcut-targets-by-id/1TnlK0p-G3RTX1KNM_nNxK7LQlClI3wjp/BDC\n"
          ]
        }
      ]
    },
    {
      "cell_type": "code",
      "source": [
        "df.info()"
      ],
      "metadata": {
        "colab": {
          "base_uri": "https://localhost:8080/"
        },
        "id": "-e3lFbupRAhu",
        "outputId": "828abf9e-9466-458a-9a83-62c0942230e7"
      },
      "execution_count": null,
      "outputs": [
        {
          "output_type": "stream",
          "name": "stdout",
          "text": [
            "<class 'pandas.core.frame.DataFrame'>\n",
            "RangeIndex: 4056897 entries, 0 to 4056896\n",
            "Data columns (total 38 columns):\n",
            " #   Column           Dtype  \n",
            "---  ------           -----  \n",
            " 0   Unnamed: 0       int64  \n",
            " 1   id_kunj          int64  \n",
            " 2   no_kel           int64  \n",
            " 3   no_peserta       int64  \n",
            " 4   kode_ICD4        int64  \n",
            " 5   kode_ICD3        int64  \n",
            " 6   jenis_kunjungan  int64  \n",
            " 7   kodeICD_angka    int64  \n",
            " 8   kodeICD_huruf_9  float64\n",
            " 9   kodeICD_huruf_A  float64\n",
            " 10  kodeICD_huruf_B  float64\n",
            " 11  kodeICD_huruf_C  float64\n",
            " 12  kodeICD_huruf_D  float64\n",
            " 13  kodeICD_huruf_E  float64\n",
            " 14  kodeICD_huruf_F  float64\n",
            " 15  kodeICD_huruf_G  float64\n",
            " 16  kodeICD_huruf_H  float64\n",
            " 17  kodeICD_huruf_I  float64\n",
            " 18  kodeICD_huruf_J  float64\n",
            " 19  kodeICD_huruf_K  float64\n",
            " 20  kodeICD_huruf_L  float64\n",
            " 21  kodeICD_huruf_M  float64\n",
            " 22  kodeICD_huruf_N  float64\n",
            " 23  kodeICD_huruf_O  float64\n",
            " 24  kodeICD_huruf_P  float64\n",
            " 25  kodeICD_huruf_Q  float64\n",
            " 26  kodeICD_huruf_R  float64\n",
            " 27  kodeICD_huruf_S  float64\n",
            " 28  kodeICD_huruf_T  float64\n",
            " 29  kodeICD_huruf_U  float64\n",
            " 30  kodeICD_huruf_V  float64\n",
            " 31  kodeICD_huruf_W  float64\n",
            " 32  kodeICD_huruf_X  float64\n",
            " 33  kodeICD_huruf_Y  float64\n",
            " 34  kodeICD_huruf_Z  float64\n",
            " 35  jenis_poli_1.0   float64\n",
            " 36  jenis_poli_13.0  float64\n",
            " 37  jenis_poli_12.0  float64\n",
            "dtypes: float64(30), int64(8)\n",
            "memory usage: 1.1 GB\n"
          ]
        }
      ]
    },
    {
      "cell_type": "code",
      "source": [
        "test = pd.read_csv('/content/drive/MyDrive/BDC/cramers-test.csv')"
      ],
      "metadata": {
        "id": "7cQWZOQkQ6O3"
      },
      "execution_count": null,
      "outputs": []
    },
    {
      "cell_type": "code",
      "source": [
        "test.info()"
      ],
      "metadata": {
        "colab": {
          "base_uri": "https://localhost:8080/"
        },
        "id": "Bs12tAmoQ_oe",
        "outputId": "a3833162-9595-4fe3-f11f-b3b97dbf1b8c"
      },
      "execution_count": null,
      "outputs": [
        {
          "output_type": "stream",
          "name": "stdout",
          "text": [
            "<class 'pandas.core.frame.DataFrame'>\n",
            "RangeIndex: 1014225 entries, 0 to 1014224\n",
            "Data columns (total 38 columns):\n",
            " #   Column               Non-Null Count    Dtype  \n",
            "---  ------               --------------    -----  \n",
            " 0   Unnamed: 0           1014225 non-null  int64  \n",
            " 1   id_kunj              1014225 non-null  int64  \n",
            " 2   no_kel               1014225 non-null  int64  \n",
            " 3   no_peserta           1014225 non-null  int64  \n",
            " 4   kode_ICD4_enc        1014225 non-null  int64  \n",
            " 5   kode_ICD3_enc        1014225 non-null  int64  \n",
            " 6   jenis_kunjungan_enc  1014225 non-null  int64  \n",
            " 7   kodeICD_angka        1014225 non-null  int64  \n",
            " 8   kodeICD_huruf_9      1014225 non-null  float64\n",
            " 9   kodeICD_huruf_A      1014225 non-null  float64\n",
            " 10  kodeICD_huruf_B      1014225 non-null  float64\n",
            " 11  kodeICD_huruf_C      1014225 non-null  float64\n",
            " 12  kodeICD_huruf_D      1014225 non-null  float64\n",
            " 13  kodeICD_huruf_E      1014225 non-null  float64\n",
            " 14  kodeICD_huruf_F      1014225 non-null  float64\n",
            " 15  kodeICD_huruf_G      1014225 non-null  float64\n",
            " 16  kodeICD_huruf_H      1014225 non-null  float64\n",
            " 17  kodeICD_huruf_I      1014225 non-null  float64\n",
            " 18  kodeICD_huruf_J      1014225 non-null  float64\n",
            " 19  kodeICD_huruf_K      1014225 non-null  float64\n",
            " 20  kodeICD_huruf_L      1014225 non-null  float64\n",
            " 21  kodeICD_huruf_M      1014225 non-null  float64\n",
            " 22  kodeICD_huruf_N      1014225 non-null  float64\n",
            " 23  kodeICD_huruf_O      1014225 non-null  float64\n",
            " 24  kodeICD_huruf_P      1014225 non-null  float64\n",
            " 25  kodeICD_huruf_Q      1014225 non-null  float64\n",
            " 26  kodeICD_huruf_R      1014225 non-null  float64\n",
            " 27  kodeICD_huruf_S      1014225 non-null  float64\n",
            " 28  kodeICD_huruf_T      1014225 non-null  float64\n",
            " 29  kodeICD_huruf_U      1014225 non-null  float64\n",
            " 30  kodeICD_huruf_V      1014225 non-null  float64\n",
            " 31  kodeICD_huruf_W      1014225 non-null  float64\n",
            " 32  kodeICD_huruf_X      1014225 non-null  float64\n",
            " 33  kodeICD_huruf_Y      1014225 non-null  float64\n",
            " 34  kodeICD_huruf_Z      1014225 non-null  float64\n",
            " 35  jenis_poli_1         1014225 non-null  float64\n",
            " 36  jenis_poli_13        1014225 non-null  float64\n",
            " 37  jenis_poli_12        1014225 non-null  float64\n",
            "dtypes: float64(30), int64(8)\n",
            "memory usage: 294.0 MB\n"
          ]
        }
      ]
    },
    {
      "cell_type": "code",
      "source": [
        "test = test.rename(columns={'jenis_kunjungan_enc': 'jenis_kunjungan', \n",
        "                            'jenis_poli_1': 'jenis_poli_1.0',\n",
        "                            'jenis_poli_12': 'jenis_poli_12.0',\n",
        "                            'jenis_poli_13': 'jenis_poli_13.0',\n",
        "                            'kode_ICD3_enc': 'kode_ICD3',\n",
        "                            'kode_ICD4_enc': 'kode_ICD4'})"
      ],
      "metadata": {
        "id": "71AqBdIhZ6hV"
      },
      "execution_count": null,
      "outputs": []
    },
    {
      "cell_type": "code",
      "source": [
        "result = model.predict(test)"
      ],
      "metadata": {
        "id": "zyLhGVLWPjLQ"
      },
      "execution_count": null,
      "outputs": []
    },
    {
      "cell_type": "code",
      "source": [
        "type(result)"
      ],
      "metadata": {
        "colab": {
          "base_uri": "https://localhost:8080/"
        },
        "id": "hahxb5CIbpKC",
        "outputId": "f0837e1f-a765-49c2-a599-62e01dcea013"
      },
      "execution_count": null,
      "outputs": [
        {
          "output_type": "execute_result",
          "data": {
            "text/plain": [
              "numpy.ndarray"
            ]
          },
          "metadata": {},
          "execution_count": 26
        }
      ]
    }
  ]
}