{
  "nbformat": 4,
  "nbformat_minor": 0,
  "metadata": {
    "colab": {
      "provenance": [],
      "collapsed_sections": []
    },
    "kernelspec": {
      "name": "python3",
      "display_name": "Python 3"
    },
    "language_info": {
      "name": "python"
    }
  },
  "cells": [
    {
      "cell_type": "markdown",
      "source": [
        "# Import and Prep"
      ],
      "metadata": {
        "id": "3fK5JkTbNEyJ"
      }
    },
    {
      "cell_type": "code",
      "execution_count": null,
      "metadata": {
        "id": "CS7vBBKyzxRp",
        "colab": {
          "base_uri": "https://localhost:8080/",
          "height": 465
        },
        "outputId": "440572e2-53f8-4aa9-9d2e-13bb479970c6"
      },
      "outputs": [
        {
          "output_type": "error",
          "ename": "FileNotFoundError",
          "evalue": "ignored",
          "traceback": [
            "\u001b[0;31m---------------------------------------------------------------------------\u001b[0m",
            "\u001b[0;31mFileNotFoundError\u001b[0m                         Traceback (most recent call last)",
            "\u001b[0;32m<ipython-input-1-e4607e2750e1>\u001b[0m in \u001b[0;36m<module>\u001b[0;34m\u001b[0m\n\u001b[1;32m     10\u001b[0m                                                                                                                  \u001b[0;34m'ICD4_diagnosis'\u001b[0m\u001b[0;34m,\u001b[0m \u001b[0;34m'prov_rujukan'\u001b[0m\u001b[0;34m,\u001b[0m \u001b[0;34m'kab_rujukan'\u001b[0m\u001b[0;34m,\u001b[0m \u001b[0;34m'kepemilikan_rujukan'\u001b[0m\u001b[0;34m,\u001b[0m\u001b[0;34m\u001b[0m\u001b[0;34m\u001b[0m\u001b[0m\n\u001b[1;32m     11\u001b[0m                                                                                                                  \u001b[0;34m'jenis_rujukan'\u001b[0m\u001b[0;34m,\u001b[0m \u001b[0;34m'tipe_rujukan'\u001b[0m \u001b[0;34m,\u001b[0m \u001b[0;34m'poli_rujukan'\u001b[0m\u001b[0;34m,\u001b[0m \u001b[0;34m'jenis_kunjungan'\u001b[0m\u001b[0;34m,\u001b[0m\u001b[0;34m\u001b[0m\u001b[0;34m\u001b[0m\u001b[0m\n\u001b[0;32m---> 12\u001b[0;31m                                                                                                                  'status_pulang'])\n\u001b[0m\u001b[1;32m     13\u001b[0m \u001b[0;31m# df = pd.read_csv(\"/content/drive/MyDrive/BDC/BDC Satria Data 2022/test_fktp.txt\", sep=\",\", header=None,\u001b[0m\u001b[0;34m\u001b[0m\u001b[0;34m\u001b[0m\u001b[0;34m\u001b[0m\u001b[0m\n\u001b[1;32m     14\u001b[0m \u001b[0;31m#                  names = ['no_peserta', 'no_kel', 'bobot', 'id_kunj','tgl_datang', 'tgl_pulang',\u001b[0m\u001b[0;34m\u001b[0m\u001b[0;34m\u001b[0m\u001b[0;34m\u001b[0m\u001b[0m\n",
            "\u001b[0;32m/usr/local/lib/python3.7/dist-packages/pandas/util/_decorators.py\u001b[0m in \u001b[0;36mwrapper\u001b[0;34m(*args, **kwargs)\u001b[0m\n\u001b[1;32m    309\u001b[0m                     \u001b[0mstacklevel\u001b[0m\u001b[0;34m=\u001b[0m\u001b[0mstacklevel\u001b[0m\u001b[0;34m,\u001b[0m\u001b[0;34m\u001b[0m\u001b[0;34m\u001b[0m\u001b[0m\n\u001b[1;32m    310\u001b[0m                 )\n\u001b[0;32m--> 311\u001b[0;31m             \u001b[0;32mreturn\u001b[0m \u001b[0mfunc\u001b[0m\u001b[0;34m(\u001b[0m\u001b[0;34m*\u001b[0m\u001b[0margs\u001b[0m\u001b[0;34m,\u001b[0m \u001b[0;34m**\u001b[0m\u001b[0mkwargs\u001b[0m\u001b[0;34m)\u001b[0m\u001b[0;34m\u001b[0m\u001b[0;34m\u001b[0m\u001b[0m\n\u001b[0m\u001b[1;32m    312\u001b[0m \u001b[0;34m\u001b[0m\u001b[0m\n\u001b[1;32m    313\u001b[0m         \u001b[0;32mreturn\u001b[0m \u001b[0mwrapper\u001b[0m\u001b[0;34m\u001b[0m\u001b[0;34m\u001b[0m\u001b[0m\n",
            "\u001b[0;32m/usr/local/lib/python3.7/dist-packages/pandas/io/parsers/readers.py\u001b[0m in \u001b[0;36mread_csv\u001b[0;34m(filepath_or_buffer, sep, delimiter, header, names, index_col, usecols, squeeze, prefix, mangle_dupe_cols, dtype, engine, converters, true_values, false_values, skipinitialspace, skiprows, skipfooter, nrows, na_values, keep_default_na, na_filter, verbose, skip_blank_lines, parse_dates, infer_datetime_format, keep_date_col, date_parser, dayfirst, cache_dates, iterator, chunksize, compression, thousands, decimal, lineterminator, quotechar, quoting, doublequote, escapechar, comment, encoding, encoding_errors, dialect, error_bad_lines, warn_bad_lines, on_bad_lines, delim_whitespace, low_memory, memory_map, float_precision, storage_options)\u001b[0m\n\u001b[1;32m    584\u001b[0m     \u001b[0mkwds\u001b[0m\u001b[0;34m.\u001b[0m\u001b[0mupdate\u001b[0m\u001b[0;34m(\u001b[0m\u001b[0mkwds_defaults\u001b[0m\u001b[0;34m)\u001b[0m\u001b[0;34m\u001b[0m\u001b[0;34m\u001b[0m\u001b[0m\n\u001b[1;32m    585\u001b[0m \u001b[0;34m\u001b[0m\u001b[0m\n\u001b[0;32m--> 586\u001b[0;31m     \u001b[0;32mreturn\u001b[0m \u001b[0m_read\u001b[0m\u001b[0;34m(\u001b[0m\u001b[0mfilepath_or_buffer\u001b[0m\u001b[0;34m,\u001b[0m \u001b[0mkwds\u001b[0m\u001b[0;34m)\u001b[0m\u001b[0;34m\u001b[0m\u001b[0;34m\u001b[0m\u001b[0m\n\u001b[0m\u001b[1;32m    587\u001b[0m \u001b[0;34m\u001b[0m\u001b[0m\n\u001b[1;32m    588\u001b[0m \u001b[0;34m\u001b[0m\u001b[0m\n",
            "\u001b[0;32m/usr/local/lib/python3.7/dist-packages/pandas/io/parsers/readers.py\u001b[0m in \u001b[0;36m_read\u001b[0;34m(filepath_or_buffer, kwds)\u001b[0m\n\u001b[1;32m    480\u001b[0m \u001b[0;34m\u001b[0m\u001b[0m\n\u001b[1;32m    481\u001b[0m     \u001b[0;31m# Create the parser.\u001b[0m\u001b[0;34m\u001b[0m\u001b[0;34m\u001b[0m\u001b[0;34m\u001b[0m\u001b[0m\n\u001b[0;32m--> 482\u001b[0;31m     \u001b[0mparser\u001b[0m \u001b[0;34m=\u001b[0m \u001b[0mTextFileReader\u001b[0m\u001b[0;34m(\u001b[0m\u001b[0mfilepath_or_buffer\u001b[0m\u001b[0;34m,\u001b[0m \u001b[0;34m**\u001b[0m\u001b[0mkwds\u001b[0m\u001b[0;34m)\u001b[0m\u001b[0;34m\u001b[0m\u001b[0;34m\u001b[0m\u001b[0m\n\u001b[0m\u001b[1;32m    483\u001b[0m \u001b[0;34m\u001b[0m\u001b[0m\n\u001b[1;32m    484\u001b[0m     \u001b[0;32mif\u001b[0m \u001b[0mchunksize\u001b[0m \u001b[0;32mor\u001b[0m \u001b[0miterator\u001b[0m\u001b[0;34m:\u001b[0m\u001b[0;34m\u001b[0m\u001b[0;34m\u001b[0m\u001b[0m\n",
            "\u001b[0;32m/usr/local/lib/python3.7/dist-packages/pandas/io/parsers/readers.py\u001b[0m in \u001b[0;36m__init__\u001b[0;34m(self, f, engine, **kwds)\u001b[0m\n\u001b[1;32m    809\u001b[0m             \u001b[0mself\u001b[0m\u001b[0;34m.\u001b[0m\u001b[0moptions\u001b[0m\u001b[0;34m[\u001b[0m\u001b[0;34m\"has_index_names\"\u001b[0m\u001b[0;34m]\u001b[0m \u001b[0;34m=\u001b[0m \u001b[0mkwds\u001b[0m\u001b[0;34m[\u001b[0m\u001b[0;34m\"has_index_names\"\u001b[0m\u001b[0;34m]\u001b[0m\u001b[0;34m\u001b[0m\u001b[0;34m\u001b[0m\u001b[0m\n\u001b[1;32m    810\u001b[0m \u001b[0;34m\u001b[0m\u001b[0m\n\u001b[0;32m--> 811\u001b[0;31m         \u001b[0mself\u001b[0m\u001b[0;34m.\u001b[0m\u001b[0m_engine\u001b[0m \u001b[0;34m=\u001b[0m \u001b[0mself\u001b[0m\u001b[0;34m.\u001b[0m\u001b[0m_make_engine\u001b[0m\u001b[0;34m(\u001b[0m\u001b[0mself\u001b[0m\u001b[0;34m.\u001b[0m\u001b[0mengine\u001b[0m\u001b[0;34m)\u001b[0m\u001b[0;34m\u001b[0m\u001b[0;34m\u001b[0m\u001b[0m\n\u001b[0m\u001b[1;32m    812\u001b[0m \u001b[0;34m\u001b[0m\u001b[0m\n\u001b[1;32m    813\u001b[0m     \u001b[0;32mdef\u001b[0m \u001b[0mclose\u001b[0m\u001b[0;34m(\u001b[0m\u001b[0mself\u001b[0m\u001b[0;34m)\u001b[0m\u001b[0;34m:\u001b[0m\u001b[0;34m\u001b[0m\u001b[0;34m\u001b[0m\u001b[0m\n",
            "\u001b[0;32m/usr/local/lib/python3.7/dist-packages/pandas/io/parsers/readers.py\u001b[0m in \u001b[0;36m_make_engine\u001b[0;34m(self, engine)\u001b[0m\n\u001b[1;32m   1038\u001b[0m             )\n\u001b[1;32m   1039\u001b[0m         \u001b[0;31m# error: Too many arguments for \"ParserBase\"\u001b[0m\u001b[0;34m\u001b[0m\u001b[0;34m\u001b[0m\u001b[0;34m\u001b[0m\u001b[0m\n\u001b[0;32m-> 1040\u001b[0;31m         \u001b[0;32mreturn\u001b[0m \u001b[0mmapping\u001b[0m\u001b[0;34m[\u001b[0m\u001b[0mengine\u001b[0m\u001b[0;34m]\u001b[0m\u001b[0;34m(\u001b[0m\u001b[0mself\u001b[0m\u001b[0;34m.\u001b[0m\u001b[0mf\u001b[0m\u001b[0;34m,\u001b[0m \u001b[0;34m**\u001b[0m\u001b[0mself\u001b[0m\u001b[0;34m.\u001b[0m\u001b[0moptions\u001b[0m\u001b[0;34m)\u001b[0m  \u001b[0;31m# type: ignore[call-arg]\u001b[0m\u001b[0;34m\u001b[0m\u001b[0;34m\u001b[0m\u001b[0m\n\u001b[0m\u001b[1;32m   1041\u001b[0m \u001b[0;34m\u001b[0m\u001b[0m\n\u001b[1;32m   1042\u001b[0m     \u001b[0;32mdef\u001b[0m \u001b[0m_failover_to_python\u001b[0m\u001b[0;34m(\u001b[0m\u001b[0mself\u001b[0m\u001b[0;34m)\u001b[0m\u001b[0;34m:\u001b[0m\u001b[0;34m\u001b[0m\u001b[0;34m\u001b[0m\u001b[0m\n",
            "\u001b[0;32m/usr/local/lib/python3.7/dist-packages/pandas/io/parsers/c_parser_wrapper.py\u001b[0m in \u001b[0;36m__init__\u001b[0;34m(self, src, **kwds)\u001b[0m\n\u001b[1;32m     49\u001b[0m \u001b[0;34m\u001b[0m\u001b[0m\n\u001b[1;32m     50\u001b[0m         \u001b[0;31m# open handles\u001b[0m\u001b[0;34m\u001b[0m\u001b[0;34m\u001b[0m\u001b[0;34m\u001b[0m\u001b[0m\n\u001b[0;32m---> 51\u001b[0;31m         \u001b[0mself\u001b[0m\u001b[0;34m.\u001b[0m\u001b[0m_open_handles\u001b[0m\u001b[0;34m(\u001b[0m\u001b[0msrc\u001b[0m\u001b[0;34m,\u001b[0m \u001b[0mkwds\u001b[0m\u001b[0;34m)\u001b[0m\u001b[0;34m\u001b[0m\u001b[0;34m\u001b[0m\u001b[0m\n\u001b[0m\u001b[1;32m     52\u001b[0m         \u001b[0;32massert\u001b[0m \u001b[0mself\u001b[0m\u001b[0;34m.\u001b[0m\u001b[0mhandles\u001b[0m \u001b[0;32mis\u001b[0m \u001b[0;32mnot\u001b[0m \u001b[0;32mNone\u001b[0m\u001b[0;34m\u001b[0m\u001b[0;34m\u001b[0m\u001b[0m\n\u001b[1;32m     53\u001b[0m \u001b[0;34m\u001b[0m\u001b[0m\n",
            "\u001b[0;32m/usr/local/lib/python3.7/dist-packages/pandas/io/parsers/base_parser.py\u001b[0m in \u001b[0;36m_open_handles\u001b[0;34m(self, src, kwds)\u001b[0m\n\u001b[1;32m    227\u001b[0m             \u001b[0mmemory_map\u001b[0m\u001b[0;34m=\u001b[0m\u001b[0mkwds\u001b[0m\u001b[0;34m.\u001b[0m\u001b[0mget\u001b[0m\u001b[0;34m(\u001b[0m\u001b[0;34m\"memory_map\"\u001b[0m\u001b[0;34m,\u001b[0m \u001b[0;32mFalse\u001b[0m\u001b[0;34m)\u001b[0m\u001b[0;34m,\u001b[0m\u001b[0;34m\u001b[0m\u001b[0;34m\u001b[0m\u001b[0m\n\u001b[1;32m    228\u001b[0m             \u001b[0mstorage_options\u001b[0m\u001b[0;34m=\u001b[0m\u001b[0mkwds\u001b[0m\u001b[0;34m.\u001b[0m\u001b[0mget\u001b[0m\u001b[0;34m(\u001b[0m\u001b[0;34m\"storage_options\"\u001b[0m\u001b[0;34m,\u001b[0m \u001b[0;32mNone\u001b[0m\u001b[0;34m)\u001b[0m\u001b[0;34m,\u001b[0m\u001b[0;34m\u001b[0m\u001b[0;34m\u001b[0m\u001b[0m\n\u001b[0;32m--> 229\u001b[0;31m             \u001b[0merrors\u001b[0m\u001b[0;34m=\u001b[0m\u001b[0mkwds\u001b[0m\u001b[0;34m.\u001b[0m\u001b[0mget\u001b[0m\u001b[0;34m(\u001b[0m\u001b[0;34m\"encoding_errors\"\u001b[0m\u001b[0;34m,\u001b[0m \u001b[0;34m\"strict\"\u001b[0m\u001b[0;34m)\u001b[0m\u001b[0;34m,\u001b[0m\u001b[0;34m\u001b[0m\u001b[0;34m\u001b[0m\u001b[0m\n\u001b[0m\u001b[1;32m    230\u001b[0m         )\n\u001b[1;32m    231\u001b[0m \u001b[0;34m\u001b[0m\u001b[0m\n",
            "\u001b[0;32m/usr/local/lib/python3.7/dist-packages/pandas/io/common.py\u001b[0m in \u001b[0;36mget_handle\u001b[0;34m(path_or_buf, mode, encoding, compression, memory_map, is_text, errors, storage_options)\u001b[0m\n\u001b[1;32m    705\u001b[0m                 \u001b[0mencoding\u001b[0m\u001b[0;34m=\u001b[0m\u001b[0mioargs\u001b[0m\u001b[0;34m.\u001b[0m\u001b[0mencoding\u001b[0m\u001b[0;34m,\u001b[0m\u001b[0;34m\u001b[0m\u001b[0;34m\u001b[0m\u001b[0m\n\u001b[1;32m    706\u001b[0m                 \u001b[0merrors\u001b[0m\u001b[0;34m=\u001b[0m\u001b[0merrors\u001b[0m\u001b[0;34m,\u001b[0m\u001b[0;34m\u001b[0m\u001b[0;34m\u001b[0m\u001b[0m\n\u001b[0;32m--> 707\u001b[0;31m                 \u001b[0mnewline\u001b[0m\u001b[0;34m=\u001b[0m\u001b[0;34m\"\"\u001b[0m\u001b[0;34m,\u001b[0m\u001b[0;34m\u001b[0m\u001b[0;34m\u001b[0m\u001b[0m\n\u001b[0m\u001b[1;32m    708\u001b[0m             )\n\u001b[1;32m    709\u001b[0m         \u001b[0;32melse\u001b[0m\u001b[0;34m:\u001b[0m\u001b[0;34m\u001b[0m\u001b[0;34m\u001b[0m\u001b[0m\n",
            "\u001b[0;31mFileNotFoundError\u001b[0m: [Errno 2] No such file or directory: '/content/drive/MyDrive/BDC/BDC Satria Data 2022/train_fktp.txt'"
          ]
        }
      ],
      "source": [
        "# Read Text Files with Pandas using read_csv()\n",
        "  \n",
        "# importing pandas\n",
        "import pandas as pd\n",
        "  \n",
        "# read text file into pandas DataFrame\n",
        "df = pd.read_csv(\"/content/drive/MyDrive/BDC/BDC Satria Data 2022/train_fktp.txt\", sep=\",\", header=None, names = ['no_peserta', 'no_kel', 'bobot', 'id_kunj','tgl_datang', 'tgl_pulang', \n",
        "                                                                                                                 'prov', 'kab', 'kepemilikan', 'jenis', 'tipe', 'tingkat_pelayanan', \n",
        "                                                                                                                 'jenis_poli', 'segmen_peserta', 'kode_ICD', 'kode_ICD3', 'kode_ICD4', \n",
        "                                                                                                                 'ICD4_diagnosis', 'prov_rujukan', 'kab_rujukan', 'kepemilikan_rujukan',\n",
        "                                                                                                                 'jenis_rujukan', 'tipe_rujukan' , 'poli_rujukan', 'jenis_kunjungan', \n",
        "                                                                                                                 'status_pulang'])\n",
        "# df = pd.read_csv(\"/content/drive/MyDrive/BDC/BDC Satria Data 2022/test_fktp.txt\", sep=\",\", header=None,\n",
        "#                  names = ['no_peserta', 'no_kel', 'bobot', 'id_kunj','tgl_datang', 'tgl_pulang', \n",
        "#                           'prov', 'kab', 'kepemilikan', 'jenis', 'tipe', 'tingkat_pelayanan', \n",
        "#                           'jenis_poli', 'segmen_peserta', 'kode_ICD', 'kode_ICD3', 'kode_ICD4', \n",
        "#                           'ICD4_diagnosis', 'prov_rujukan', 'kab_rujukan', 'kepemilikan_rujukan',\n",
        "#                           'jenis_rujukan', 'tipe_rujukan' , 'poli_rujukan', 'jenis_kunjungan'])\n",
        "# display DataFrame\n",
        "df.info()"
      ]
    },
    {
      "cell_type": "code",
      "source": [
        "from google.colab import drive\n",
        "drive.mount('/content/drive')"
      ],
      "metadata": {
        "colab": {
          "base_uri": "https://localhost:8080/",
          "height": 338
        },
        "id": "u1qaPpZXSt39",
        "outputId": "dc1fbd3a-71fa-45e4-b1d0-f3da4bfc733b"
      },
      "execution_count": null,
      "outputs": [
        {
          "output_type": "error",
          "ename": "KeyboardInterrupt",
          "evalue": "ignored",
          "traceback": [
            "\u001b[0;31m---------------------------------------------------------------------------\u001b[0m",
            "\u001b[0;31mKeyboardInterrupt\u001b[0m                         Traceback (most recent call last)",
            "\u001b[0;32m<ipython-input-2-d5df0069828e>\u001b[0m in \u001b[0;36m<module>\u001b[0;34m\u001b[0m\n\u001b[1;32m      1\u001b[0m \u001b[0;32mfrom\u001b[0m \u001b[0mgoogle\u001b[0m\u001b[0;34m.\u001b[0m\u001b[0mcolab\u001b[0m \u001b[0;32mimport\u001b[0m \u001b[0mdrive\u001b[0m\u001b[0;34m\u001b[0m\u001b[0;34m\u001b[0m\u001b[0m\n\u001b[0;32m----> 2\u001b[0;31m \u001b[0mdrive\u001b[0m\u001b[0;34m.\u001b[0m\u001b[0mmount\u001b[0m\u001b[0;34m(\u001b[0m\u001b[0;34m'/content/drive'\u001b[0m\u001b[0;34m)\u001b[0m\u001b[0;34m\u001b[0m\u001b[0;34m\u001b[0m\u001b[0m\n\u001b[0m",
            "\u001b[0;32m/usr/local/lib/python3.7/dist-packages/google/colab/drive.py\u001b[0m in \u001b[0;36mmount\u001b[0;34m(mountpoint, force_remount, timeout_ms, readonly)\u001b[0m\n\u001b[1;32m    104\u001b[0m       \u001b[0mtimeout_ms\u001b[0m\u001b[0;34m=\u001b[0m\u001b[0mtimeout_ms\u001b[0m\u001b[0;34m,\u001b[0m\u001b[0;34m\u001b[0m\u001b[0;34m\u001b[0m\u001b[0m\n\u001b[1;32m    105\u001b[0m       \u001b[0mephemeral\u001b[0m\u001b[0;34m=\u001b[0m\u001b[0;32mTrue\u001b[0m\u001b[0;34m,\u001b[0m\u001b[0;34m\u001b[0m\u001b[0;34m\u001b[0m\u001b[0m\n\u001b[0;32m--> 106\u001b[0;31m       readonly=readonly)\n\u001b[0m\u001b[1;32m    107\u001b[0m \u001b[0;34m\u001b[0m\u001b[0m\n\u001b[1;32m    108\u001b[0m \u001b[0;34m\u001b[0m\u001b[0m\n",
            "\u001b[0;32m/usr/local/lib/python3.7/dist-packages/google/colab/drive.py\u001b[0m in \u001b[0;36m_mount\u001b[0;34m(mountpoint, force_remount, timeout_ms, ephemeral, readonly)\u001b[0m\n\u001b[1;32m    123\u001b[0m   \u001b[0;32mif\u001b[0m \u001b[0mephemeral\u001b[0m\u001b[0;34m:\u001b[0m\u001b[0;34m\u001b[0m\u001b[0;34m\u001b[0m\u001b[0m\n\u001b[1;32m    124\u001b[0m     _message.blocking_request(\n\u001b[0;32m--> 125\u001b[0;31m         'request_auth', request={'authType': 'dfs_ephemeral'}, timeout_sec=None)\n\u001b[0m\u001b[1;32m    126\u001b[0m \u001b[0;34m\u001b[0m\u001b[0m\n\u001b[1;32m    127\u001b[0m   \u001b[0mmountpoint\u001b[0m \u001b[0;34m=\u001b[0m \u001b[0m_os\u001b[0m\u001b[0;34m.\u001b[0m\u001b[0mpath\u001b[0m\u001b[0;34m.\u001b[0m\u001b[0mexpanduser\u001b[0m\u001b[0;34m(\u001b[0m\u001b[0mmountpoint\u001b[0m\u001b[0;34m)\u001b[0m\u001b[0;34m\u001b[0m\u001b[0;34m\u001b[0m\u001b[0m\n",
            "\u001b[0;32m/usr/local/lib/python3.7/dist-packages/google/colab/_message.py\u001b[0m in \u001b[0;36mblocking_request\u001b[0;34m(request_type, request, timeout_sec, parent)\u001b[0m\n\u001b[1;32m    169\u001b[0m   request_id = send_request(\n\u001b[1;32m    170\u001b[0m       request_type, request, parent=parent, expect_reply=True)\n\u001b[0;32m--> 171\u001b[0;31m   \u001b[0;32mreturn\u001b[0m \u001b[0mread_reply_from_input\u001b[0m\u001b[0;34m(\u001b[0m\u001b[0mrequest_id\u001b[0m\u001b[0;34m,\u001b[0m \u001b[0mtimeout_sec\u001b[0m\u001b[0;34m)\u001b[0m\u001b[0;34m\u001b[0m\u001b[0;34m\u001b[0m\u001b[0m\n\u001b[0m",
            "\u001b[0;32m/usr/local/lib/python3.7/dist-packages/google/colab/_message.py\u001b[0m in \u001b[0;36mread_reply_from_input\u001b[0;34m(message_id, timeout_sec)\u001b[0m\n\u001b[1;32m     95\u001b[0m     \u001b[0mreply\u001b[0m \u001b[0;34m=\u001b[0m \u001b[0m_read_next_input_message\u001b[0m\u001b[0;34m(\u001b[0m\u001b[0;34m)\u001b[0m\u001b[0;34m\u001b[0m\u001b[0;34m\u001b[0m\u001b[0m\n\u001b[1;32m     96\u001b[0m     \u001b[0;32mif\u001b[0m \u001b[0mreply\u001b[0m \u001b[0;34m==\u001b[0m \u001b[0m_NOT_READY\u001b[0m \u001b[0;32mor\u001b[0m \u001b[0;32mnot\u001b[0m \u001b[0misinstance\u001b[0m\u001b[0;34m(\u001b[0m\u001b[0mreply\u001b[0m\u001b[0;34m,\u001b[0m \u001b[0mdict\u001b[0m\u001b[0;34m)\u001b[0m\u001b[0;34m:\u001b[0m\u001b[0;34m\u001b[0m\u001b[0;34m\u001b[0m\u001b[0m\n\u001b[0;32m---> 97\u001b[0;31m       \u001b[0mtime\u001b[0m\u001b[0;34m.\u001b[0m\u001b[0msleep\u001b[0m\u001b[0;34m(\u001b[0m\u001b[0;36m0.025\u001b[0m\u001b[0;34m)\u001b[0m\u001b[0;34m\u001b[0m\u001b[0;34m\u001b[0m\u001b[0m\n\u001b[0m\u001b[1;32m     98\u001b[0m       \u001b[0;32mcontinue\u001b[0m\u001b[0;34m\u001b[0m\u001b[0;34m\u001b[0m\u001b[0m\n\u001b[1;32m     99\u001b[0m     if (reply.get('type') == 'colab_reply' and\n",
            "\u001b[0;31mKeyboardInterrupt\u001b[0m: "
          ]
        }
      ]
    },
    {
      "cell_type": "code",
      "source": [
        "df_train = pd.read_csv(\"/content/drive/MyDrive/BDC/train-siap-encode.csv\")"
      ],
      "metadata": {
        "id": "l3oqJ3TRM1jw"
      },
      "execution_count": null,
      "outputs": []
    },
    {
      "cell_type": "code",
      "source": [
        "df_train.info()"
      ],
      "metadata": {
        "colab": {
          "base_uri": "https://localhost:8080/"
        },
        "id": "pepVOmfsNNBt",
        "outputId": "89abb01e-24dc-47b0-8f57-fb8a56cd436d"
      },
      "execution_count": null,
      "outputs": [
        {
          "output_type": "stream",
          "name": "stdout",
          "text": [
            "<class 'pandas.core.frame.DataFrame'>\n",
            "RangeIndex: 4056897 entries, 0 to 4056896\n",
            "Data columns (total 30 columns):\n",
            " #   Column               Dtype  \n",
            "---  ------               -----  \n",
            " 0   Unnamed: 0           int64  \n",
            " 1   no_peserta           float64\n",
            " 2   no_kel               int64  \n",
            " 3   bobot                float64\n",
            " 4   id_kunj              object \n",
            " 5   tgl_datang           float64\n",
            " 6   tgl_pulang           float64\n",
            " 7   prov                 int64  \n",
            " 8   kab                  int64  \n",
            " 9   kepemilikan          int64  \n",
            " 10  jenis                int64  \n",
            " 11  tipe                 int64  \n",
            " 12  tingkat_pelayanan    int64  \n",
            " 13  jenis_poli           float64\n",
            " 14  segmen_peserta       int64  \n",
            " 15  kode_ICD             int64  \n",
            " 16  kode_ICD3            object \n",
            " 17  kode_ICD4            object \n",
            " 18  prov_rujukan         int64  \n",
            " 19  kab_rujukan          int64  \n",
            " 20  kepemilikan_rujukan  int64  \n",
            " 21  jenis_rujukan        int64  \n",
            " 22  tipe_rujukan         int64  \n",
            " 23  poli_rujukan         int64  \n",
            " 24  jenis_kunjungan      int64  \n",
            " 25  status_pulang        object \n",
            " 26  jum_kunj             int64  \n",
            " 27  kodeICD_huruf        object \n",
            " 28  kodeICD_angka        float64\n",
            " 29  jml_hari             int64  \n",
            "dtypes: float64(6), int64(19), object(5)\n",
            "memory usage: 928.6+ MB\n"
          ]
        }
      ]
    },
    {
      "cell_type": "code",
      "source": [
        "df = df_train.drop(['Unnamed: 0'], axis=1)\n",
        "df.info()"
      ],
      "metadata": {
        "colab": {
          "base_uri": "https://localhost:8080/"
        },
        "id": "ceFiZ-JsNWlD",
        "outputId": "7b3e5608-7007-44ef-9653-a76134e0418a"
      },
      "execution_count": null,
      "outputs": [
        {
          "output_type": "stream",
          "name": "stdout",
          "text": [
            "<class 'pandas.core.frame.DataFrame'>\n",
            "RangeIndex: 4056897 entries, 0 to 4056896\n",
            "Data columns (total 29 columns):\n",
            " #   Column               Dtype  \n",
            "---  ------               -----  \n",
            " 0   no_peserta           float64\n",
            " 1   no_kel               int64  \n",
            " 2   bobot                float64\n",
            " 3   id_kunj              object \n",
            " 4   tgl_datang           float64\n",
            " 5   tgl_pulang           float64\n",
            " 6   prov                 int64  \n",
            " 7   kab                  int64  \n",
            " 8   kepemilikan          int64  \n",
            " 9   jenis                int64  \n",
            " 10  tipe                 int64  \n",
            " 11  tingkat_pelayanan    int64  \n",
            " 12  jenis_poli           float64\n",
            " 13  segmen_peserta       int64  \n",
            " 14  kode_ICD             int64  \n",
            " 15  kode_ICD3            object \n",
            " 16  kode_ICD4            object \n",
            " 17  prov_rujukan         int64  \n",
            " 18  kab_rujukan          int64  \n",
            " 19  kepemilikan_rujukan  int64  \n",
            " 20  jenis_rujukan        int64  \n",
            " 21  tipe_rujukan         int64  \n",
            " 22  poli_rujukan         int64  \n",
            " 23  jenis_kunjungan      int64  \n",
            " 24  status_pulang        object \n",
            " 25  jum_kunj             int64  \n",
            " 26  kodeICD_huruf        object \n",
            " 27  kodeICD_angka        float64\n",
            " 28  jml_hari             int64  \n",
            "dtypes: float64(6), int64(18), object(5)\n",
            "memory usage: 897.6+ MB\n"
          ]
        }
      ]
    },
    {
      "cell_type": "code",
      "source": [],
      "metadata": {
        "id": "z2cmDmlMN9I9"
      },
      "execution_count": null,
      "outputs": []
    },
    {
      "cell_type": "code",
      "source": [
        "df = df_train"
      ],
      "metadata": {
        "id": "hAy1c5NDN0UY"
      },
      "execution_count": null,
      "outputs": []
    },
    {
      "cell_type": "code",
      "source": [
        "header = ['no_peserta', 'no_kel', 'bobot', 'id_kunj','tgl_datang', 'tgl_pulang', 'prov', 'kab', 'kepemilikan', 'jenis', 'tipe', 'tingkat_pelayanan', 'jenis_poli', 'segmen_peserta', 'kode_ICD', 'kode_ICD3', 'kode_ICD4', 'ICD4_diagnosis', 'prov_rujukan', 'kab_rujukan', 'kepemilikan_rujukan', 'jenis_rujukan', 'tipe_rujukan' , 'poli_rujukan', 'jenis_kunjungan', 'status_pulang']"
      ],
      "metadata": {
        "id": "jR67lfa90p_d"
      },
      "execution_count": null,
      "outputs": []
    },
    {
      "cell_type": "code",
      "source": [
        "df.describe()"
      ],
      "metadata": {
        "id": "GyOA8xSs2DKB",
        "colab": {
          "base_uri": "https://localhost:8080/",
          "height": 364
        },
        "outputId": "e331225a-a49a-4459-c221-2674bbdac14a"
      },
      "execution_count": null,
      "outputs": [
        {
          "output_type": "execute_result",
          "data": {
            "text/plain": [
              "         no_peserta        no_kel         bobot          prov           kab  \\\n",
              "count  1.014225e+06  1.014225e+06  1.014225e+06  1.014225e+06  1.014225e+06   \n",
              "mean   9.159896e+07  9.492149e+07  1.056841e+02  3.609869e+01  3.637708e+03   \n",
              "std    8.995272e+07  8.858823e+07  1.873387e+02  1.871773e+01  1.870930e+03   \n",
              "min    1.500000e+01  1.500000e+01  5.106980e-01  1.100000e+01  1.101000e+03   \n",
              "25%    3.382176e+07  3.580259e+07  1.680836e+01  3.100000e+01  3.171000e+03   \n",
              "50%    6.769082e+07  7.177364e+07  5.158066e+01  3.300000e+01  3.318000e+03   \n",
              "75%    1.016452e+08  1.112675e+08  1.281638e+02  3.600000e+01  3.603000e+03   \n",
              "max    4.553771e+08  4.553795e+08  3.710185e+04  9.400000e+01  9.471000e+03   \n",
              "\n",
              "        kepemilikan         jenis          tipe  tingkat_pelayanan  \\\n",
              "count  1.014225e+06  1.014225e+06  1.014225e+06       1.014225e+06   \n",
              "mean   5.651684e+00  1.677975e+00  2.710881e+00       1.065155e+00   \n",
              "std    2.935942e+00  8.368108e-01  1.313511e+00       3.418626e-01   \n",
              "min    1.000000e+00  1.000000e+00  1.000000e+00       1.000000e+00   \n",
              "25%    3.000000e+00  1.000000e+00  2.000000e+00       1.000000e+00   \n",
              "50%    3.000000e+00  1.000000e+00  3.000000e+00       1.000000e+00   \n",
              "75%    9.000000e+00  2.000000e+00  4.000000e+00       1.000000e+00   \n",
              "max    9.000000e+00  7.000000e+00  1.000000e+01       3.000000e+00   \n",
              "\n",
              "         jenis_poli  segmen_peserta      kode_ICD  prov_rujukan   kab_rujukan  \\\n",
              "count  1.014225e+06    1.014225e+06  1.014225e+06  1.014225e+06  1.014225e+06   \n",
              "mean   5.249099e+00    3.491121e+00  3.944485e+03  9.225917e+01  9.408837e+03   \n",
              "std    5.679685e+00    1.384277e+00  4.367784e+03  1.873706e+01  1.918504e+03   \n",
              "min    1.000000e+00    1.000000e+00  1.000000e+00  1.100000e+01  1.101000e+03   \n",
              "25%    1.000000e+00    2.000000e+00  6.940000e+02  9.800000e+01  9.998000e+03   \n",
              "50%    1.000000e+00    4.000000e+00  9.510000e+02  9.800000e+01  9.998000e+03   \n",
              "75%    1.200000e+01    5.000000e+00  9.999000e+03  9.800000e+01  9.998000e+03   \n",
              "max    2.800000e+01    5.000000e+00  9.999000e+03  9.800000e+01  9.998000e+03   \n",
              "\n",
              "       kepemilikan_rujukan  jenis_rujukan  tipe_rujukan  poli_rujukan  \\\n",
              "count         1.014225e+06   1.014225e+06  1.014225e+06  1.014225e+06   \n",
              "mean          8.946482e+01   8.895451e+01  9.170838e+01  9.809328e+01   \n",
              "std           2.662540e+01   2.820152e+01  1.970859e+01  2.908261e-01   \n",
              "min           1.000000e+00   1.000000e+00  5.000000e+00  9.800000e+01   \n",
              "25%           9.800000e+01   9.800000e+01  9.800000e+01  9.800000e+01   \n",
              "50%           9.800000e+01   9.800000e+01  9.800000e+01  9.800000e+01   \n",
              "75%           9.800000e+01   9.800000e+01  9.800000e+01  9.800000e+01   \n",
              "max           9.800000e+01   9.800000e+01  9.900000e+01  9.900000e+01   \n",
              "\n",
              "       jenis_kunjungan  \n",
              "count     1.014225e+06  \n",
              "mean      1.341060e+00  \n",
              "std       4.740658e-01  \n",
              "min       1.000000e+00  \n",
              "25%       1.000000e+00  \n",
              "50%       1.000000e+00  \n",
              "75%       2.000000e+00  \n",
              "max       2.000000e+00  "
            ],
            "text/html": [
              "\n",
              "  <div id=\"df-50459845-8c4a-46f2-9243-795bce04ccd9\">\n",
              "    <div class=\"colab-df-container\">\n",
              "      <div>\n",
              "<style scoped>\n",
              "    .dataframe tbody tr th:only-of-type {\n",
              "        vertical-align: middle;\n",
              "    }\n",
              "\n",
              "    .dataframe tbody tr th {\n",
              "        vertical-align: top;\n",
              "    }\n",
              "\n",
              "    .dataframe thead th {\n",
              "        text-align: right;\n",
              "    }\n",
              "</style>\n",
              "<table border=\"1\" class=\"dataframe\">\n",
              "  <thead>\n",
              "    <tr style=\"text-align: right;\">\n",
              "      <th></th>\n",
              "      <th>no_peserta</th>\n",
              "      <th>no_kel</th>\n",
              "      <th>bobot</th>\n",
              "      <th>prov</th>\n",
              "      <th>kab</th>\n",
              "      <th>kepemilikan</th>\n",
              "      <th>jenis</th>\n",
              "      <th>tipe</th>\n",
              "      <th>tingkat_pelayanan</th>\n",
              "      <th>jenis_poli</th>\n",
              "      <th>segmen_peserta</th>\n",
              "      <th>kode_ICD</th>\n",
              "      <th>prov_rujukan</th>\n",
              "      <th>kab_rujukan</th>\n",
              "      <th>kepemilikan_rujukan</th>\n",
              "      <th>jenis_rujukan</th>\n",
              "      <th>tipe_rujukan</th>\n",
              "      <th>poli_rujukan</th>\n",
              "      <th>jenis_kunjungan</th>\n",
              "    </tr>\n",
              "  </thead>\n",
              "  <tbody>\n",
              "    <tr>\n",
              "      <th>count</th>\n",
              "      <td>1.014225e+06</td>\n",
              "      <td>1.014225e+06</td>\n",
              "      <td>1.014225e+06</td>\n",
              "      <td>1.014225e+06</td>\n",
              "      <td>1.014225e+06</td>\n",
              "      <td>1.014225e+06</td>\n",
              "      <td>1.014225e+06</td>\n",
              "      <td>1.014225e+06</td>\n",
              "      <td>1.014225e+06</td>\n",
              "      <td>1.014225e+06</td>\n",
              "      <td>1.014225e+06</td>\n",
              "      <td>1.014225e+06</td>\n",
              "      <td>1.014225e+06</td>\n",
              "      <td>1.014225e+06</td>\n",
              "      <td>1.014225e+06</td>\n",
              "      <td>1.014225e+06</td>\n",
              "      <td>1.014225e+06</td>\n",
              "      <td>1.014225e+06</td>\n",
              "      <td>1.014225e+06</td>\n",
              "    </tr>\n",
              "    <tr>\n",
              "      <th>mean</th>\n",
              "      <td>9.159896e+07</td>\n",
              "      <td>9.492149e+07</td>\n",
              "      <td>1.056841e+02</td>\n",
              "      <td>3.609869e+01</td>\n",
              "      <td>3.637708e+03</td>\n",
              "      <td>5.651684e+00</td>\n",
              "      <td>1.677975e+00</td>\n",
              "      <td>2.710881e+00</td>\n",
              "      <td>1.065155e+00</td>\n",
              "      <td>5.249099e+00</td>\n",
              "      <td>3.491121e+00</td>\n",
              "      <td>3.944485e+03</td>\n",
              "      <td>9.225917e+01</td>\n",
              "      <td>9.408837e+03</td>\n",
              "      <td>8.946482e+01</td>\n",
              "      <td>8.895451e+01</td>\n",
              "      <td>9.170838e+01</td>\n",
              "      <td>9.809328e+01</td>\n",
              "      <td>1.341060e+00</td>\n",
              "    </tr>\n",
              "    <tr>\n",
              "      <th>std</th>\n",
              "      <td>8.995272e+07</td>\n",
              "      <td>8.858823e+07</td>\n",
              "      <td>1.873387e+02</td>\n",
              "      <td>1.871773e+01</td>\n",
              "      <td>1.870930e+03</td>\n",
              "      <td>2.935942e+00</td>\n",
              "      <td>8.368108e-01</td>\n",
              "      <td>1.313511e+00</td>\n",
              "      <td>3.418626e-01</td>\n",
              "      <td>5.679685e+00</td>\n",
              "      <td>1.384277e+00</td>\n",
              "      <td>4.367784e+03</td>\n",
              "      <td>1.873706e+01</td>\n",
              "      <td>1.918504e+03</td>\n",
              "      <td>2.662540e+01</td>\n",
              "      <td>2.820152e+01</td>\n",
              "      <td>1.970859e+01</td>\n",
              "      <td>2.908261e-01</td>\n",
              "      <td>4.740658e-01</td>\n",
              "    </tr>\n",
              "    <tr>\n",
              "      <th>min</th>\n",
              "      <td>1.500000e+01</td>\n",
              "      <td>1.500000e+01</td>\n",
              "      <td>5.106980e-01</td>\n",
              "      <td>1.100000e+01</td>\n",
              "      <td>1.101000e+03</td>\n",
              "      <td>1.000000e+00</td>\n",
              "      <td>1.000000e+00</td>\n",
              "      <td>1.000000e+00</td>\n",
              "      <td>1.000000e+00</td>\n",
              "      <td>1.000000e+00</td>\n",
              "      <td>1.000000e+00</td>\n",
              "      <td>1.000000e+00</td>\n",
              "      <td>1.100000e+01</td>\n",
              "      <td>1.101000e+03</td>\n",
              "      <td>1.000000e+00</td>\n",
              "      <td>1.000000e+00</td>\n",
              "      <td>5.000000e+00</td>\n",
              "      <td>9.800000e+01</td>\n",
              "      <td>1.000000e+00</td>\n",
              "    </tr>\n",
              "    <tr>\n",
              "      <th>25%</th>\n",
              "      <td>3.382176e+07</td>\n",
              "      <td>3.580259e+07</td>\n",
              "      <td>1.680836e+01</td>\n",
              "      <td>3.100000e+01</td>\n",
              "      <td>3.171000e+03</td>\n",
              "      <td>3.000000e+00</td>\n",
              "      <td>1.000000e+00</td>\n",
              "      <td>2.000000e+00</td>\n",
              "      <td>1.000000e+00</td>\n",
              "      <td>1.000000e+00</td>\n",
              "      <td>2.000000e+00</td>\n",
              "      <td>6.940000e+02</td>\n",
              "      <td>9.800000e+01</td>\n",
              "      <td>9.998000e+03</td>\n",
              "      <td>9.800000e+01</td>\n",
              "      <td>9.800000e+01</td>\n",
              "      <td>9.800000e+01</td>\n",
              "      <td>9.800000e+01</td>\n",
              "      <td>1.000000e+00</td>\n",
              "    </tr>\n",
              "    <tr>\n",
              "      <th>50%</th>\n",
              "      <td>6.769082e+07</td>\n",
              "      <td>7.177364e+07</td>\n",
              "      <td>5.158066e+01</td>\n",
              "      <td>3.300000e+01</td>\n",
              "      <td>3.318000e+03</td>\n",
              "      <td>3.000000e+00</td>\n",
              "      <td>1.000000e+00</td>\n",
              "      <td>3.000000e+00</td>\n",
              "      <td>1.000000e+00</td>\n",
              "      <td>1.000000e+00</td>\n",
              "      <td>4.000000e+00</td>\n",
              "      <td>9.510000e+02</td>\n",
              "      <td>9.800000e+01</td>\n",
              "      <td>9.998000e+03</td>\n",
              "      <td>9.800000e+01</td>\n",
              "      <td>9.800000e+01</td>\n",
              "      <td>9.800000e+01</td>\n",
              "      <td>9.800000e+01</td>\n",
              "      <td>1.000000e+00</td>\n",
              "    </tr>\n",
              "    <tr>\n",
              "      <th>75%</th>\n",
              "      <td>1.016452e+08</td>\n",
              "      <td>1.112675e+08</td>\n",
              "      <td>1.281638e+02</td>\n",
              "      <td>3.600000e+01</td>\n",
              "      <td>3.603000e+03</td>\n",
              "      <td>9.000000e+00</td>\n",
              "      <td>2.000000e+00</td>\n",
              "      <td>4.000000e+00</td>\n",
              "      <td>1.000000e+00</td>\n",
              "      <td>1.200000e+01</td>\n",
              "      <td>5.000000e+00</td>\n",
              "      <td>9.999000e+03</td>\n",
              "      <td>9.800000e+01</td>\n",
              "      <td>9.998000e+03</td>\n",
              "      <td>9.800000e+01</td>\n",
              "      <td>9.800000e+01</td>\n",
              "      <td>9.800000e+01</td>\n",
              "      <td>9.800000e+01</td>\n",
              "      <td>2.000000e+00</td>\n",
              "    </tr>\n",
              "    <tr>\n",
              "      <th>max</th>\n",
              "      <td>4.553771e+08</td>\n",
              "      <td>4.553795e+08</td>\n",
              "      <td>3.710185e+04</td>\n",
              "      <td>9.400000e+01</td>\n",
              "      <td>9.471000e+03</td>\n",
              "      <td>9.000000e+00</td>\n",
              "      <td>7.000000e+00</td>\n",
              "      <td>1.000000e+01</td>\n",
              "      <td>3.000000e+00</td>\n",
              "      <td>2.800000e+01</td>\n",
              "      <td>5.000000e+00</td>\n",
              "      <td>9.999000e+03</td>\n",
              "      <td>9.800000e+01</td>\n",
              "      <td>9.998000e+03</td>\n",
              "      <td>9.800000e+01</td>\n",
              "      <td>9.800000e+01</td>\n",
              "      <td>9.900000e+01</td>\n",
              "      <td>9.900000e+01</td>\n",
              "      <td>2.000000e+00</td>\n",
              "    </tr>\n",
              "  </tbody>\n",
              "</table>\n",
              "</div>\n",
              "      <button class=\"colab-df-convert\" onclick=\"convertToInteractive('df-50459845-8c4a-46f2-9243-795bce04ccd9')\"\n",
              "              title=\"Convert this dataframe to an interactive table.\"\n",
              "              style=\"display:none;\">\n",
              "        \n",
              "  <svg xmlns=\"http://www.w3.org/2000/svg\" height=\"24px\"viewBox=\"0 0 24 24\"\n",
              "       width=\"24px\">\n",
              "    <path d=\"M0 0h24v24H0V0z\" fill=\"none\"/>\n",
              "    <path d=\"M18.56 5.44l.94 2.06.94-2.06 2.06-.94-2.06-.94-.94-2.06-.94 2.06-2.06.94zm-11 1L8.5 8.5l.94-2.06 2.06-.94-2.06-.94L8.5 2.5l-.94 2.06-2.06.94zm10 10l.94 2.06.94-2.06 2.06-.94-2.06-.94-.94-2.06-.94 2.06-2.06.94z\"/><path d=\"M17.41 7.96l-1.37-1.37c-.4-.4-.92-.59-1.43-.59-.52 0-1.04.2-1.43.59L10.3 9.45l-7.72 7.72c-.78.78-.78 2.05 0 2.83L4 21.41c.39.39.9.59 1.41.59.51 0 1.02-.2 1.41-.59l7.78-7.78 2.81-2.81c.8-.78.8-2.07 0-2.86zM5.41 20L4 18.59l7.72-7.72 1.47 1.35L5.41 20z\"/>\n",
              "  </svg>\n",
              "      </button>\n",
              "      \n",
              "  <style>\n",
              "    .colab-df-container {\n",
              "      display:flex;\n",
              "      flex-wrap:wrap;\n",
              "      gap: 12px;\n",
              "    }\n",
              "\n",
              "    .colab-df-convert {\n",
              "      background-color: #E8F0FE;\n",
              "      border: none;\n",
              "      border-radius: 50%;\n",
              "      cursor: pointer;\n",
              "      display: none;\n",
              "      fill: #1967D2;\n",
              "      height: 32px;\n",
              "      padding: 0 0 0 0;\n",
              "      width: 32px;\n",
              "    }\n",
              "\n",
              "    .colab-df-convert:hover {\n",
              "      background-color: #E2EBFA;\n",
              "      box-shadow: 0px 1px 2px rgba(60, 64, 67, 0.3), 0px 1px 3px 1px rgba(60, 64, 67, 0.15);\n",
              "      fill: #174EA6;\n",
              "    }\n",
              "\n",
              "    [theme=dark] .colab-df-convert {\n",
              "      background-color: #3B4455;\n",
              "      fill: #D2E3FC;\n",
              "    }\n",
              "\n",
              "    [theme=dark] .colab-df-convert:hover {\n",
              "      background-color: #434B5C;\n",
              "      box-shadow: 0px 1px 3px 1px rgba(0, 0, 0, 0.15);\n",
              "      filter: drop-shadow(0px 1px 2px rgba(0, 0, 0, 0.3));\n",
              "      fill: #FFFFFF;\n",
              "    }\n",
              "  </style>\n",
              "\n",
              "      <script>\n",
              "        const buttonEl =\n",
              "          document.querySelector('#df-50459845-8c4a-46f2-9243-795bce04ccd9 button.colab-df-convert');\n",
              "        buttonEl.style.display =\n",
              "          google.colab.kernel.accessAllowed ? 'block' : 'none';\n",
              "\n",
              "        async function convertToInteractive(key) {\n",
              "          const element = document.querySelector('#df-50459845-8c4a-46f2-9243-795bce04ccd9');\n",
              "          const dataTable =\n",
              "            await google.colab.kernel.invokeFunction('convertToInteractive',\n",
              "                                                     [key], {});\n",
              "          if (!dataTable) return;\n",
              "\n",
              "          const docLinkHtml = 'Like what you see? Visit the ' +\n",
              "            '<a target=\"_blank\" href=https://colab.research.google.com/notebooks/data_table.ipynb>data table notebook</a>'\n",
              "            + ' to learn more about interactive tables.';\n",
              "          element.innerHTML = '';\n",
              "          dataTable['output_type'] = 'display_data';\n",
              "          await google.colab.output.renderOutput(dataTable, element);\n",
              "          const docLink = document.createElement('div');\n",
              "          docLink.innerHTML = docLinkHtml;\n",
              "          element.appendChild(docLink);\n",
              "        }\n",
              "      </script>\n",
              "    </div>\n",
              "  </div>\n",
              "  "
            ]
          },
          "metadata": {},
          "execution_count": 63
        }
      ]
    },
    {
      "cell_type": "code",
      "source": [
        "df.isnull().sum()"
      ],
      "metadata": {
        "id": "mw-F-UZD1lFY",
        "colab": {
          "base_uri": "https://localhost:8080/"
        },
        "outputId": "3a826feb-c665-4fd1-bc51-ce08f0cf9cd5"
      },
      "execution_count": null,
      "outputs": [
        {
          "output_type": "execute_result",
          "data": {
            "text/plain": [
              "no_peserta                   0\n",
              "no_kel                       0\n",
              "bobot                        0\n",
              "id_kunj                      0\n",
              "tgl_datang                   0\n",
              "tgl_pulang                   0\n",
              "prov                         0\n",
              "kab                          0\n",
              "kepemilikan                  0\n",
              "jenis                        0\n",
              "tipe                         0\n",
              "tingkat_pelayanan            0\n",
              "jenis_poli                   1\n",
              "segmen_peserta               0\n",
              "kode_ICD                     0\n",
              "kode_ICD3              1380240\n",
              "kode_ICD4                    0\n",
              "ICD4_diagnosis               0\n",
              "prov_rujukan                 0\n",
              "kab_rujukan                  0\n",
              "kepemilikan_rujukan          0\n",
              "jenis_rujukan                0\n",
              "tipe_rujukan                 0\n",
              "poli_rujukan                 0\n",
              "jenis_kunjungan              0\n",
              "status_pulang                0\n",
              "dtype: int64"
            ]
          },
          "metadata": {},
          "execution_count": 7
        }
      ]
    },
    {
      "cell_type": "code",
      "source": [
        "df.head()"
      ],
      "metadata": {
        "colab": {
          "base_uri": "https://localhost:8080/",
          "height": 315
        },
        "id": "muRPIVrK7DKA",
        "outputId": "07eb52bd-740a-4952-ab22-3172f94a7286"
      },
      "execution_count": null,
      "outputs": [
        {
          "output_type": "execute_result",
          "data": {
            "text/plain": [
              "    no_peserta     no_kel       bobot           id_kunj  tgl_datang  \\\n",
              "0   95085112.0   26931775    2.626307  449590620P000054  2020-06-17   \n",
              "1  224470578.0  227368233    1.051830  467490619P000001  2019-06-01   \n",
              "2   63871289.0   62313678  364.741455  254321219Y002368  2019-12-21   \n",
              "3   29915626.0  113446188    1.050523   88681119P000020  2019-11-04   \n",
              "4  189355720.0   69855169   30.044949   97010720P000238  2020-07-15   \n",
              "\n",
              "   tgl_pulang  prov   kab  kepemilikan  jenis  ...  kode_ICD4  \\\n",
              "0  2020-06-17    51  5171            9      3  ...       K297   \n",
              "1  2019-06-01    35  3516            9      2  ...       Z309   \n",
              "2  2019-12-21    34  3402            3      1  ...        I10   \n",
              "3  2019-11-04    35  3509            3      1  ...       I110   \n",
              "4  2020-07-15    62  6206            3      1  ...        I10   \n",
              "\n",
              "                                      ICD4_diagnosis  prov_rujukan  \\\n",
              "0                             Gastritis, unspecified            98   \n",
              "1              Contraceptive management, unspecified            98   \n",
              "2                   Essential (primary) hypertension            98   \n",
              "3  Hypertensive heart disease with (congestive) h...            98   \n",
              "4                   Essential (primary) hypertension            98   \n",
              "\n",
              "   kab_rujukan  kepemilikan_rujukan jenis_rujukan tipe_rujukan poli_rujukan  \\\n",
              "0         9998                   98            98           98           98   \n",
              "1         9998                   98            98           98           98   \n",
              "2         9998                   98            98           98           98   \n",
              "3         9998                   98            98           98           98   \n",
              "4         9998                   98            98           98           98   \n",
              "\n",
              "   jenis_kunjungan  status_pulang  \n",
              "0                1    Belum_Sehat  \n",
              "1                1    Belum_Sehat  \n",
              "2                1    Belum_Sehat  \n",
              "3                1    Belum_Sehat  \n",
              "4                1    Belum_Sehat  \n",
              "\n",
              "[5 rows x 26 columns]"
            ],
            "text/html": [
              "\n",
              "  <div id=\"df-81f05494-e6b2-4968-9db1-01be83935c67\">\n",
              "    <div class=\"colab-df-container\">\n",
              "      <div>\n",
              "<style scoped>\n",
              "    .dataframe tbody tr th:only-of-type {\n",
              "        vertical-align: middle;\n",
              "    }\n",
              "\n",
              "    .dataframe tbody tr th {\n",
              "        vertical-align: top;\n",
              "    }\n",
              "\n",
              "    .dataframe thead th {\n",
              "        text-align: right;\n",
              "    }\n",
              "</style>\n",
              "<table border=\"1\" class=\"dataframe\">\n",
              "  <thead>\n",
              "    <tr style=\"text-align: right;\">\n",
              "      <th></th>\n",
              "      <th>no_peserta</th>\n",
              "      <th>no_kel</th>\n",
              "      <th>bobot</th>\n",
              "      <th>id_kunj</th>\n",
              "      <th>tgl_datang</th>\n",
              "      <th>tgl_pulang</th>\n",
              "      <th>prov</th>\n",
              "      <th>kab</th>\n",
              "      <th>kepemilikan</th>\n",
              "      <th>jenis</th>\n",
              "      <th>...</th>\n",
              "      <th>kode_ICD4</th>\n",
              "      <th>ICD4_diagnosis</th>\n",
              "      <th>prov_rujukan</th>\n",
              "      <th>kab_rujukan</th>\n",
              "      <th>kepemilikan_rujukan</th>\n",
              "      <th>jenis_rujukan</th>\n",
              "      <th>tipe_rujukan</th>\n",
              "      <th>poli_rujukan</th>\n",
              "      <th>jenis_kunjungan</th>\n",
              "      <th>status_pulang</th>\n",
              "    </tr>\n",
              "  </thead>\n",
              "  <tbody>\n",
              "    <tr>\n",
              "      <th>0</th>\n",
              "      <td>95085112.0</td>\n",
              "      <td>26931775</td>\n",
              "      <td>2.626307</td>\n",
              "      <td>449590620P000054</td>\n",
              "      <td>2020-06-17</td>\n",
              "      <td>2020-06-17</td>\n",
              "      <td>51</td>\n",
              "      <td>5171</td>\n",
              "      <td>9</td>\n",
              "      <td>3</td>\n",
              "      <td>...</td>\n",
              "      <td>K297</td>\n",
              "      <td>Gastritis, unspecified</td>\n",
              "      <td>98</td>\n",
              "      <td>9998</td>\n",
              "      <td>98</td>\n",
              "      <td>98</td>\n",
              "      <td>98</td>\n",
              "      <td>98</td>\n",
              "      <td>1</td>\n",
              "      <td>Belum_Sehat</td>\n",
              "    </tr>\n",
              "    <tr>\n",
              "      <th>1</th>\n",
              "      <td>224470578.0</td>\n",
              "      <td>227368233</td>\n",
              "      <td>1.051830</td>\n",
              "      <td>467490619P000001</td>\n",
              "      <td>2019-06-01</td>\n",
              "      <td>2019-06-01</td>\n",
              "      <td>35</td>\n",
              "      <td>3516</td>\n",
              "      <td>9</td>\n",
              "      <td>2</td>\n",
              "      <td>...</td>\n",
              "      <td>Z309</td>\n",
              "      <td>Contraceptive management, unspecified</td>\n",
              "      <td>98</td>\n",
              "      <td>9998</td>\n",
              "      <td>98</td>\n",
              "      <td>98</td>\n",
              "      <td>98</td>\n",
              "      <td>98</td>\n",
              "      <td>1</td>\n",
              "      <td>Belum_Sehat</td>\n",
              "    </tr>\n",
              "    <tr>\n",
              "      <th>2</th>\n",
              "      <td>63871289.0</td>\n",
              "      <td>62313678</td>\n",
              "      <td>364.741455</td>\n",
              "      <td>254321219Y002368</td>\n",
              "      <td>2019-12-21</td>\n",
              "      <td>2019-12-21</td>\n",
              "      <td>34</td>\n",
              "      <td>3402</td>\n",
              "      <td>3</td>\n",
              "      <td>1</td>\n",
              "      <td>...</td>\n",
              "      <td>I10</td>\n",
              "      <td>Essential (primary) hypertension</td>\n",
              "      <td>98</td>\n",
              "      <td>9998</td>\n",
              "      <td>98</td>\n",
              "      <td>98</td>\n",
              "      <td>98</td>\n",
              "      <td>98</td>\n",
              "      <td>1</td>\n",
              "      <td>Belum_Sehat</td>\n",
              "    </tr>\n",
              "    <tr>\n",
              "      <th>3</th>\n",
              "      <td>29915626.0</td>\n",
              "      <td>113446188</td>\n",
              "      <td>1.050523</td>\n",
              "      <td>88681119P000020</td>\n",
              "      <td>2019-11-04</td>\n",
              "      <td>2019-11-04</td>\n",
              "      <td>35</td>\n",
              "      <td>3509</td>\n",
              "      <td>3</td>\n",
              "      <td>1</td>\n",
              "      <td>...</td>\n",
              "      <td>I110</td>\n",
              "      <td>Hypertensive heart disease with (congestive) h...</td>\n",
              "      <td>98</td>\n",
              "      <td>9998</td>\n",
              "      <td>98</td>\n",
              "      <td>98</td>\n",
              "      <td>98</td>\n",
              "      <td>98</td>\n",
              "      <td>1</td>\n",
              "      <td>Belum_Sehat</td>\n",
              "    </tr>\n",
              "    <tr>\n",
              "      <th>4</th>\n",
              "      <td>189355720.0</td>\n",
              "      <td>69855169</td>\n",
              "      <td>30.044949</td>\n",
              "      <td>97010720P000238</td>\n",
              "      <td>2020-07-15</td>\n",
              "      <td>2020-07-15</td>\n",
              "      <td>62</td>\n",
              "      <td>6206</td>\n",
              "      <td>3</td>\n",
              "      <td>1</td>\n",
              "      <td>...</td>\n",
              "      <td>I10</td>\n",
              "      <td>Essential (primary) hypertension</td>\n",
              "      <td>98</td>\n",
              "      <td>9998</td>\n",
              "      <td>98</td>\n",
              "      <td>98</td>\n",
              "      <td>98</td>\n",
              "      <td>98</td>\n",
              "      <td>1</td>\n",
              "      <td>Belum_Sehat</td>\n",
              "    </tr>\n",
              "  </tbody>\n",
              "</table>\n",
              "<p>5 rows × 26 columns</p>\n",
              "</div>\n",
              "      <button class=\"colab-df-convert\" onclick=\"convertToInteractive('df-81f05494-e6b2-4968-9db1-01be83935c67')\"\n",
              "              title=\"Convert this dataframe to an interactive table.\"\n",
              "              style=\"display:none;\">\n",
              "        \n",
              "  <svg xmlns=\"http://www.w3.org/2000/svg\" height=\"24px\"viewBox=\"0 0 24 24\"\n",
              "       width=\"24px\">\n",
              "    <path d=\"M0 0h24v24H0V0z\" fill=\"none\"/>\n",
              "    <path d=\"M18.56 5.44l.94 2.06.94-2.06 2.06-.94-2.06-.94-.94-2.06-.94 2.06-2.06.94zm-11 1L8.5 8.5l.94-2.06 2.06-.94-2.06-.94L8.5 2.5l-.94 2.06-2.06.94zm10 10l.94 2.06.94-2.06 2.06-.94-2.06-.94-.94-2.06-.94 2.06-2.06.94z\"/><path d=\"M17.41 7.96l-1.37-1.37c-.4-.4-.92-.59-1.43-.59-.52 0-1.04.2-1.43.59L10.3 9.45l-7.72 7.72c-.78.78-.78 2.05 0 2.83L4 21.41c.39.39.9.59 1.41.59.51 0 1.02-.2 1.41-.59l7.78-7.78 2.81-2.81c.8-.78.8-2.07 0-2.86zM5.41 20L4 18.59l7.72-7.72 1.47 1.35L5.41 20z\"/>\n",
              "  </svg>\n",
              "      </button>\n",
              "      \n",
              "  <style>\n",
              "    .colab-df-container {\n",
              "      display:flex;\n",
              "      flex-wrap:wrap;\n",
              "      gap: 12px;\n",
              "    }\n",
              "\n",
              "    .colab-df-convert {\n",
              "      background-color: #E8F0FE;\n",
              "      border: none;\n",
              "      border-radius: 50%;\n",
              "      cursor: pointer;\n",
              "      display: none;\n",
              "      fill: #1967D2;\n",
              "      height: 32px;\n",
              "      padding: 0 0 0 0;\n",
              "      width: 32px;\n",
              "    }\n",
              "\n",
              "    .colab-df-convert:hover {\n",
              "      background-color: #E2EBFA;\n",
              "      box-shadow: 0px 1px 2px rgba(60, 64, 67, 0.3), 0px 1px 3px 1px rgba(60, 64, 67, 0.15);\n",
              "      fill: #174EA6;\n",
              "    }\n",
              "\n",
              "    [theme=dark] .colab-df-convert {\n",
              "      background-color: #3B4455;\n",
              "      fill: #D2E3FC;\n",
              "    }\n",
              "\n",
              "    [theme=dark] .colab-df-convert:hover {\n",
              "      background-color: #434B5C;\n",
              "      box-shadow: 0px 1px 3px 1px rgba(0, 0, 0, 0.15);\n",
              "      filter: drop-shadow(0px 1px 2px rgba(0, 0, 0, 0.3));\n",
              "      fill: #FFFFFF;\n",
              "    }\n",
              "  </style>\n",
              "\n",
              "      <script>\n",
              "        const buttonEl =\n",
              "          document.querySelector('#df-81f05494-e6b2-4968-9db1-01be83935c67 button.colab-df-convert');\n",
              "        buttonEl.style.display =\n",
              "          google.colab.kernel.accessAllowed ? 'block' : 'none';\n",
              "\n",
              "        async function convertToInteractive(key) {\n",
              "          const element = document.querySelector('#df-81f05494-e6b2-4968-9db1-01be83935c67');\n",
              "          const dataTable =\n",
              "            await google.colab.kernel.invokeFunction('convertToInteractive',\n",
              "                                                     [key], {});\n",
              "          if (!dataTable) return;\n",
              "\n",
              "          const docLinkHtml = 'Like what you see? Visit the ' +\n",
              "            '<a target=\"_blank\" href=https://colab.research.google.com/notebooks/data_table.ipynb>data table notebook</a>'\n",
              "            + ' to learn more about interactive tables.';\n",
              "          element.innerHTML = '';\n",
              "          dataTable['output_type'] = 'display_data';\n",
              "          await google.colab.output.renderOutput(dataTable, element);\n",
              "          const docLink = document.createElement('div');\n",
              "          docLink.innerHTML = docLinkHtml;\n",
              "          element.appendChild(docLink);\n",
              "        }\n",
              "      </script>\n",
              "    </div>\n",
              "  </div>\n",
              "  "
            ]
          },
          "metadata": {},
          "execution_count": 5
        }
      ]
    },
    {
      "cell_type": "code",
      "source": [
        "df.info()"
      ],
      "metadata": {
        "colab": {
          "base_uri": "https://localhost:8080/"
        },
        "id": "YjfoPNSTv37p",
        "outputId": "49ad7573-4b79-4d29-925f-f6e7605ed624"
      },
      "execution_count": null,
      "outputs": [
        {
          "output_type": "stream",
          "name": "stdout",
          "text": [
            "<class 'pandas.core.frame.DataFrame'>\n",
            "RangeIndex: 4056897 entries, 0 to 4056896\n",
            "Data columns (total 26 columns):\n",
            " #   Column               Dtype  \n",
            "---  ------               -----  \n",
            " 0   no_peserta           float64\n",
            " 1   no_kel               int64  \n",
            " 2   bobot                float64\n",
            " 3   id_kunj              object \n",
            " 4   tgl_datang           object \n",
            " 5   tgl_pulang           object \n",
            " 6   prov                 int64  \n",
            " 7   kab                  int64  \n",
            " 8   kepemilikan          int64  \n",
            " 9   jenis                int64  \n",
            " 10  tipe                 int64  \n",
            " 11  tingkat_pelayanan    int64  \n",
            " 12  jenis_poli           float64\n",
            " 13  segmen_peserta       int64  \n",
            " 14  kode_ICD             int64  \n",
            " 15  kode_ICD3            object \n",
            " 16  kode_ICD4            object \n",
            " 17  ICD4_diagnosis       object \n",
            " 18  prov_rujukan         int64  \n",
            " 19  kab_rujukan          int64  \n",
            " 20  kepemilikan_rujukan  int64  \n",
            " 21  jenis_rujukan        int64  \n",
            " 22  tipe_rujukan         int64  \n",
            " 23  poli_rujukan         int64  \n",
            " 24  jenis_kunjungan      int64  \n",
            " 25  status_pulang        object \n",
            "dtypes: float64(3), int64(16), object(7)\n",
            "memory usage: 804.7+ MB\n"
          ]
        }
      ]
    },
    {
      "cell_type": "markdown",
      "source": [
        "#Cleaning\n",
        "\n",
        "\n",
        "\n"
      ],
      "metadata": {
        "id": "OSZGr00DqQk5"
      }
    },
    {
      "cell_type": "markdown",
      "source": [
        "Change datetime to pandas format"
      ],
      "metadata": {
        "id": "7lUyyLKZefr8"
      }
    },
    {
      "cell_type": "code",
      "source": [
        "df['tgl_datang'] = pd.to_datetime(df['tgl_datang'], format=\"%Y-%m-%d\")"
      ],
      "metadata": {
        "id": "nOsSS-BTzsd7"
      },
      "execution_count": null,
      "outputs": []
    },
    {
      "cell_type": "code",
      "source": [
        "df['tgl_pulang'] = pd.to_datetime(df['tgl_pulang'], format=\"%Y-%m-%d\")"
      ],
      "metadata": {
        "id": "P-OsACxs0A9a"
      },
      "execution_count": null,
      "outputs": []
    },
    {
      "cell_type": "markdown",
      "source": [
        "Check Imbalance"
      ],
      "metadata": {
        "id": "384IwXr_elIr"
      }
    },
    {
      "cell_type": "code",
      "source": [
        "df.groupby('status_pulang').count()"
      ],
      "metadata": {
        "id": "s2wSRY_K2dr8"
      },
      "execution_count": null,
      "outputs": []
    },
    {
      "cell_type": "markdown",
      "source": [
        "check pattern of some columns"
      ],
      "metadata": {
        "id": "5nWa91mLUV1Q"
      }
    },
    {
      "cell_type": "code",
      "source": [
        "#checking uniqueness and pattern of no keluarga\n",
        "ax = []\n",
        "for i in df['no_kel']:\n",
        "  # if len(str(i)) >= 2 and len(str(i)) <= 7:\n",
        "    # print(i)\n",
        "  ax.append(len(str(i)))\n",
        "print(min(ax), max(ax))"
      ],
      "metadata": {
        "id": "xuuTh2upf27C",
        "colab": {
          "base_uri": "https://localhost:8080/"
        },
        "outputId": "392a482b-f254-49a6-afb8-24801b466316"
      },
      "execution_count": null,
      "outputs": [
        {
          "output_type": "stream",
          "name": "stdout",
          "text": [
            "2 9\n"
          ]
        }
      ]
    },
    {
      "cell_type": "code",
      "source": [
        "# check uniqueness and pattern of id kunjungan\n",
        "ax = []\n",
        "for i in df['id_kunj']:\n",
        "  ax.append(len(str(i)))\n",
        "print(min(ax), max(ax))"
      ],
      "metadata": {
        "colab": {
          "base_uri": "https://localhost:8080/"
        },
        "id": "6ZrhwvxrbPv2",
        "outputId": "ff1a6763-0ef6-4c6a-fc1e-9cf8acf01238"
      },
      "execution_count": null,
      "outputs": [
        {
          "output_type": "stream",
          "name": "stdout",
          "text": [
            "9 16\n"
          ]
        }
      ]
    },
    {
      "cell_type": "code",
      "source": [
        "# print(df['kode_ICD4'].unique())\n",
        "ax = []\n",
        "for i in df['kode_ICD4']:\n",
        "  ax.append(len(str(i)))\n",
        "print(min(ax), max(ax))"
      ],
      "metadata": {
        "colab": {
          "base_uri": "https://localhost:8080/"
        },
        "id": "U3C2eI2exiky",
        "outputId": "0a062be0-b3ff-4871-d164-3acc16400c42"
      },
      "execution_count": null,
      "outputs": [
        {
          "output_type": "stream",
          "name": "stdout",
          "text": [
            "3 5\n"
          ]
        }
      ]
    },
    {
      "cell_type": "code",
      "source": [
        "len(df['no_kel']) - len(df['no_kel'].unique())"
      ],
      "metadata": {
        "colab": {
          "base_uri": "https://localhost:8080/"
        },
        "id": "rt7gtRlUxNda",
        "outputId": "13b25dda-8226-42ad-94d7-464e9cd53634"
      },
      "execution_count": null,
      "outputs": [
        {
          "output_type": "execute_result",
          "data": {
            "text/plain": [
              "3618617"
            ]
          },
          "metadata": {},
          "execution_count": 31
        }
      ]
    },
    {
      "cell_type": "code",
      "source": [
        "for a in header:\n",
        "  print(a)\n",
        "  print(df[a].unique())\n",
        "  print(len(df[a].unique()))\n",
        "  print(len(df[a]) - len(df[a].unique()))"
      ],
      "metadata": {
        "colab": {
          "base_uri": "https://localhost:8080/"
        },
        "id": "m82YMuBea1Fj",
        "outputId": "2b057eb2-48e2-4582-f316-1365fc0f70d8"
      },
      "execution_count": null,
      "outputs": [
        {
          "output_type": "stream",
          "name": "stdout",
          "text": [
            "no_peserta\n",
            "[9.50851120e+07 2.24470578e+08 6.38712890e+07 ... 8.96015200e+07\n",
            " 1.44029606e+08 2.47667570e+07]\n",
            "832023\n",
            "3224874\n",
            "no_kel\n",
            "[ 26931775 227368233  62313678 ... 336355362 144029606  44813505]\n",
            "438280\n",
            "3618617\n",
            "bobot\n",
            "[  2.62630701   1.05183005 364.74145508 ... 343.9397583  667.41711426\n",
            " 132.90498352]\n",
            "50390\n",
            "4006507\n",
            "id_kunj\n",
            "['449590620P000054' '467490619P000001' '254321219Y002368' ... '962412926'\n",
            " '273170420P000003' '1188955927']\n",
            "4056897\n",
            "0\n",
            "tgl_datang\n",
            "['2020-06-17T00:00:00.000000000' '2019-06-01T00:00:00.000000000'\n",
            " '2019-12-21T00:00:00.000000000' '2019-11-04T00:00:00.000000000'\n",
            " '2020-07-15T00:00:00.000000000' '2019-07-17T00:00:00.000000000'\n",
            " '2019-11-07T00:00:00.000000000' '2019-06-13T00:00:00.000000000'\n",
            " '2020-07-10T00:00:00.000000000' '2019-05-04T00:00:00.000000000'\n",
            " '2019-01-08T00:00:00.000000000' '2020-03-17T00:00:00.000000000'\n",
            " '2019-10-05T00:00:00.000000000' '2019-03-13T00:00:00.000000000'\n",
            " '2019-12-24T00:00:00.000000000' '2019-12-01T00:00:00.000000000'\n",
            " '2019-09-02T00:00:00.000000000' '2020-09-15T00:00:00.000000000'\n",
            " '2019-03-25T00:00:00.000000000' '2019-10-31T00:00:00.000000000'\n",
            " '2020-06-25T00:00:00.000000000' '2019-12-02T00:00:00.000000000'\n",
            " '2020-02-26T00:00:00.000000000' '2019-08-13T00:00:00.000000000'\n",
            " '2020-03-13T00:00:00.000000000' '2019-11-21T00:00:00.000000000'\n",
            " '2020-03-11T00:00:00.000000000' '2019-10-15T00:00:00.000000000'\n",
            " '2020-03-14T00:00:00.000000000' '2020-11-05T00:00:00.000000000'\n",
            " '2019-07-06T00:00:00.000000000' '2019-07-01T00:00:00.000000000'\n",
            " '2019-09-17T00:00:00.000000000' '2019-11-15T00:00:00.000000000'\n",
            " '2019-08-05T00:00:00.000000000' '2019-01-31T00:00:00.000000000'\n",
            " '2019-12-30T00:00:00.000000000' '2019-03-28T00:00:00.000000000'\n",
            " '2020-01-22T00:00:00.000000000' '2020-11-12T00:00:00.000000000'\n",
            " '2019-05-23T00:00:00.000000000' '2019-07-11T00:00:00.000000000'\n",
            " '2019-03-21T00:00:00.000000000' '2020-04-17T00:00:00.000000000'\n",
            " '2020-12-08T00:00:00.000000000' '2019-10-18T00:00:00.000000000'\n",
            " '2020-09-21T00:00:00.000000000' '2020-01-20T00:00:00.000000000'\n",
            " '2019-12-20T00:00:00.000000000' '2019-03-31T00:00:00.000000000'\n",
            " '2020-10-22T00:00:00.000000000' '2019-08-19T00:00:00.000000000'\n",
            " '2020-09-28T00:00:00.000000000' '2019-08-03T00:00:00.000000000'\n",
            " '2020-04-06T00:00:00.000000000' '2020-10-21T00:00:00.000000000'\n",
            " '2020-12-17T00:00:00.000000000' '2019-05-02T00:00:00.000000000'\n",
            " '2019-07-08T00:00:00.000000000' '2019-10-17T00:00:00.000000000'\n",
            " '2019-11-19T00:00:00.000000000' '2019-07-23T00:00:00.000000000'\n",
            " '2020-12-09T00:00:00.000000000' '2019-01-15T00:00:00.000000000'\n",
            " '2019-12-16T00:00:00.000000000' '2019-10-07T00:00:00.000000000'\n",
            " '2020-04-03T00:00:00.000000000' '2020-07-06T00:00:00.000000000'\n",
            " '2020-08-10T00:00:00.000000000' '2020-12-14T00:00:00.000000000'\n",
            " '2020-07-20T00:00:00.000000000' '2019-10-10T00:00:00.000000000'\n",
            " '2019-05-03T00:00:00.000000000' '2019-02-26T00:00:00.000000000'\n",
            " '2019-09-16T00:00:00.000000000' '2019-01-23T00:00:00.000000000'\n",
            " '2019-08-02T00:00:00.000000000' '2019-07-03T00:00:00.000000000'\n",
            " '2020-10-15T00:00:00.000000000' '2020-01-06T00:00:00.000000000'\n",
            " '2019-01-09T00:00:00.000000000' '2019-09-23T00:00:00.000000000'\n",
            " '2020-02-22T00:00:00.000000000' '2020-02-05T00:00:00.000000000'\n",
            " '2019-10-14T00:00:00.000000000' '2019-11-18T00:00:00.000000000'\n",
            " '2019-02-28T00:00:00.000000000' '2020-11-02T00:00:00.000000000'\n",
            " '2019-09-20T00:00:00.000000000' '2019-10-01T00:00:00.000000000'\n",
            " '2019-02-12T00:00:00.000000000' '2019-07-09T00:00:00.000000000'\n",
            " '2019-06-22T00:00:00.000000000' '2019-10-28T00:00:00.000000000'\n",
            " '2020-06-24T00:00:00.000000000' '2019-03-02T00:00:00.000000000'\n",
            " '2020-03-31T00:00:00.000000000' '2019-08-24T00:00:00.000000000'\n",
            " '2020-11-26T00:00:00.000000000' '2020-12-30T00:00:00.000000000'\n",
            " '2019-09-26T00:00:00.000000000' '2020-03-28T00:00:00.000000000'\n",
            " '2020-08-15T00:00:00.000000000' '2019-11-30T00:00:00.000000000'\n",
            " '2020-01-31T00:00:00.000000000' '2019-09-12T00:00:00.000000000'\n",
            " '2020-10-14T00:00:00.000000000' '2019-07-20T00:00:00.000000000'\n",
            " '2020-02-11T00:00:00.000000000' '2020-03-12T00:00:00.000000000'\n",
            " '2020-08-05T00:00:00.000000000' '2019-02-06T00:00:00.000000000'\n",
            " '2019-01-24T00:00:00.000000000' '2020-06-13T00:00:00.000000000'\n",
            " '2020-10-09T00:00:00.000000000' '2019-01-05T00:00:00.000000000'\n",
            " '2020-05-31T00:00:00.000000000' '2019-04-30T00:00:00.000000000'\n",
            " '2020-07-29T00:00:00.000000000' '2019-06-26T00:00:00.000000000'\n",
            " '2020-10-03T00:00:00.000000000' '2020-11-27T00:00:00.000000000'\n",
            " '2020-09-18T00:00:00.000000000' '2019-08-15T00:00:00.000000000'\n",
            " '2020-03-19T00:00:00.000000000' '2020-01-12T00:00:00.000000000'\n",
            " '2020-09-30T00:00:00.000000000' '2019-01-10T00:00:00.000000000'\n",
            " '2020-02-25T00:00:00.000000000' '2020-03-23T00:00:00.000000000'\n",
            " '2020-02-24T00:00:00.000000000' '2020-08-07T00:00:00.000000000'\n",
            " '2019-09-05T00:00:00.000000000' '2020-07-22T00:00:00.000000000'\n",
            " '2020-05-04T00:00:00.000000000' '2020-02-04T00:00:00.000000000'\n",
            " '2019-01-20T00:00:00.000000000' '2020-02-08T00:00:00.000000000'\n",
            " '2020-05-27T00:00:00.000000000' '2020-12-28T00:00:00.000000000'\n",
            " '2019-03-14T00:00:00.000000000' '2020-03-10T00:00:00.000000000'\n",
            " '2020-06-30T00:00:00.000000000' '2019-08-07T00:00:00.000000000'\n",
            " '2019-01-14T00:00:00.000000000' '2019-02-16T00:00:00.000000000'\n",
            " '2020-06-22T00:00:00.000000000' '2019-02-23T00:00:00.000000000'\n",
            " '2019-03-08T00:00:00.000000000' '2019-03-15T00:00:00.000000000'\n",
            " '2020-08-18T00:00:00.000000000' '2020-01-07T00:00:00.000000000'\n",
            " '2019-05-01T00:00:00.000000000' '2019-08-26T00:00:00.000000000'\n",
            " '2020-04-07T00:00:00.000000000' '2019-07-10T00:00:00.000000000'\n",
            " '2019-10-25T00:00:00.000000000' '2019-12-03T00:00:00.000000000'\n",
            " '2020-05-02T00:00:00.000000000' '2020-09-23T00:00:00.000000000'\n",
            " '2019-06-25T00:00:00.000000000' '2020-08-04T00:00:00.000000000'\n",
            " '2019-05-16T00:00:00.000000000' '2020-11-14T00:00:00.000000000'\n",
            " '2019-10-23T00:00:00.000000000' '2019-11-28T00:00:00.000000000'\n",
            " '2019-11-05T00:00:00.000000000' '2019-02-02T00:00:00.000000000'\n",
            " '2019-05-08T00:00:00.000000000' '2019-01-11T00:00:00.000000000'\n",
            " '2020-11-17T00:00:00.000000000' '2019-02-18T00:00:00.000000000'\n",
            " '2019-01-25T00:00:00.000000000' '2020-05-06T00:00:00.000000000'\n",
            " '2020-09-25T00:00:00.000000000' '2020-02-10T00:00:00.000000000'\n",
            " '2019-07-15T00:00:00.000000000' '2020-04-29T00:00:00.000000000'\n",
            " '2019-02-15T00:00:00.000000000' '2020-07-08T00:00:00.000000000'\n",
            " '2020-04-28T00:00:00.000000000' '2020-11-20T00:00:00.000000000'\n",
            " '2019-11-16T00:00:00.000000000' '2019-06-21T00:00:00.000000000'\n",
            " '2019-12-10T00:00:00.000000000' '2019-09-13T00:00:00.000000000'\n",
            " '2019-08-20T00:00:00.000000000' '2020-01-24T00:00:00.000000000'\n",
            " '2019-03-30T00:00:00.000000000' '2019-10-04T00:00:00.000000000'\n",
            " '2020-01-30T00:00:00.000000000' '2019-02-19T00:00:00.000000000'\n",
            " '2019-03-23T00:00:00.000000000' '2019-03-18T00:00:00.000000000'\n",
            " '2020-01-09T00:00:00.000000000' '2020-01-17T00:00:00.000000000'\n",
            " '2020-08-11T00:00:00.000000000' '2019-08-04T00:00:00.000000000'\n",
            " '2020-03-04T00:00:00.000000000' '2019-05-09T00:00:00.000000000'\n",
            " '2019-01-19T00:00:00.000000000' '2020-06-05T00:00:00.000000000'\n",
            " '2020-11-23T00:00:00.000000000' '2020-10-24T00:00:00.000000000'\n",
            " '2020-11-16T00:00:00.000000000' '2019-08-30T00:00:00.000000000'\n",
            " '2020-12-01T00:00:00.000000000' '2019-08-27T00:00:00.000000000'\n",
            " '2020-09-19T00:00:00.000000000' '2019-09-10T00:00:00.000000000'\n",
            " '2020-06-23T00:00:00.000000000' '2019-11-23T00:00:00.000000000'\n",
            " '2019-07-16T00:00:00.000000000' '2020-10-16T00:00:00.000000000'\n",
            " '2020-02-14T00:00:00.000000000' '2020-02-03T00:00:00.000000000'\n",
            " '2019-04-25T00:00:00.000000000' '2019-07-13T00:00:00.000000000'\n",
            " '2020-08-24T00:00:00.000000000' '2020-08-31T00:00:00.000000000'\n",
            " '2020-11-30T00:00:00.000000000' '2019-09-14T00:00:00.000000000'\n",
            " '2020-12-21T00:00:00.000000000' '2020-01-28T00:00:00.000000000'\n",
            " '2019-04-13T00:00:00.000000000' '2019-05-06T00:00:00.000000000'\n",
            " '2020-05-23T00:00:00.000000000' '2020-11-28T00:00:00.000000000'\n",
            " '2020-09-12T00:00:00.000000000' '2019-06-08T00:00:00.000000000'\n",
            " '2020-01-27T00:00:00.000000000' '2020-03-09T00:00:00.000000000'\n",
            " '2020-05-20T00:00:00.000000000' '2019-06-12T00:00:00.000000000'\n",
            " '2020-03-27T00:00:00.000000000' '2019-10-08T00:00:00.000000000'\n",
            " '2020-06-20T00:00:00.000000000' '2019-10-03T00:00:00.000000000'\n",
            " '2020-12-10T00:00:00.000000000' '2020-03-25T00:00:00.000000000'\n",
            " '2019-07-31T00:00:00.000000000' '2019-04-10T00:00:00.000000000'\n",
            " '2020-10-30T00:00:00.000000000' '2019-02-25T00:00:00.000000000'\n",
            " '2020-08-06T00:00:00.000000000' '2020-01-16T00:00:00.000000000'\n",
            " '2019-08-31T00:00:00.000000000' '2020-12-16T00:00:00.000000000'\n",
            " '2019-10-30T00:00:00.000000000' '2019-02-01T00:00:00.000000000'\n",
            " '2019-03-04T00:00:00.000000000' '2019-07-25T00:00:00.000000000'\n",
            " '2019-07-30T00:00:00.000000000' '2019-09-28T00:00:00.000000000'\n",
            " '2019-03-12T00:00:00.000000000' '2019-09-09T00:00:00.000000000'\n",
            " '2019-05-20T00:00:00.000000000' '2020-03-21T00:00:00.000000000'\n",
            " '2019-11-26T00:00:00.000000000' '2019-06-03T00:00:00.000000000'\n",
            " '2020-04-21T00:00:00.000000000' '2019-01-17T00:00:00.000000000'\n",
            " '2020-07-02T00:00:00.000000000' '2020-02-12T00:00:00.000000000'\n",
            " '2019-01-03T00:00:00.000000000' '2019-06-27T00:00:00.000000000'\n",
            " '2019-01-02T00:00:00.000000000' '2019-11-22T00:00:00.000000000'\n",
            " '2020-10-08T00:00:00.000000000' '2019-04-16T00:00:00.000000000'\n",
            " '2020-08-12T00:00:00.000000000' '2019-06-19T00:00:00.000000000'\n",
            " '2020-11-11T00:00:00.000000000' '2019-10-29T00:00:00.000000000'\n",
            " '2019-05-15T00:00:00.000000000' '2019-02-11T00:00:00.000000000'\n",
            " '2020-03-02T00:00:00.000000000' '2019-03-20T00:00:00.000000000'\n",
            " '2019-01-07T00:00:00.000000000' '2020-06-09T00:00:00.000000000'\n",
            " '2019-06-20T00:00:00.000000000' '2019-07-14T00:00:00.000000000'\n",
            " '2020-12-04T00:00:00.000000000' '2019-04-01T00:00:00.000000000'\n",
            " '2020-03-05T00:00:00.000000000' '2019-02-21T00:00:00.000000000'\n",
            " '2019-08-12T00:00:00.000000000' '2019-07-02T00:00:00.000000000'\n",
            " '2019-09-06T00:00:00.000000000' '2020-07-27T00:00:00.000000000'\n",
            " '2020-08-14T00:00:00.000000000' '2020-05-17T00:00:00.000000000'\n",
            " '2020-06-02T00:00:00.000000000' '2019-09-30T00:00:00.000000000'\n",
            " '2020-06-04T00:00:00.000000000' '2020-10-05T00:00:00.000000000'\n",
            " '2019-11-14T00:00:00.000000000' '2019-05-07T00:00:00.000000000'\n",
            " '2019-01-04T00:00:00.000000000' '2020-02-02T00:00:00.000000000'\n",
            " '2020-09-07T00:00:00.000000000' '2019-01-16T00:00:00.000000000'\n",
            " '2020-04-18T00:00:00.000000000' '2019-08-28T00:00:00.000000000'\n",
            " '2019-04-09T00:00:00.000000000' '2020-07-24T00:00:00.000000000'\n",
            " '2019-12-26T00:00:00.000000000' '2020-11-04T00:00:00.000000000'\n",
            " '2020-04-30T00:00:00.000000000' '2020-07-14T00:00:00.000000000'\n",
            " '2019-09-24T00:00:00.000000000' '2019-06-17T00:00:00.000000000'\n",
            " '2020-06-12T00:00:00.000000000' '2020-10-26T00:00:00.000000000'\n",
            " '2020-10-20T00:00:00.000000000' '2019-08-23T00:00:00.000000000'\n",
            " '2019-05-14T00:00:00.000000000' '2019-01-30T00:00:00.000000000'\n",
            " '2019-08-09T00:00:00.000000000' '2019-12-14T00:00:00.000000000'\n",
            " '2020-05-11T00:00:00.000000000' '2020-04-23T00:00:00.000000000'\n",
            " '2019-08-01T00:00:00.000000000' '2019-03-27T00:00:00.000000000'\n",
            " '2020-03-03T00:00:00.000000000' '2019-06-18T00:00:00.000000000'\n",
            " '2019-04-05T00:00:00.000000000' '2020-10-06T00:00:00.000000000'\n",
            " '2019-11-06T00:00:00.000000000' '2020-01-13T00:00:00.000000000'\n",
            " '2020-10-17T00:00:00.000000000' '2020-08-19T00:00:00.000000000'\n",
            " '2019-12-09T00:00:00.000000000' '2019-04-26T00:00:00.000000000'\n",
            " '2019-06-15T00:00:00.000000000' '2020-02-17T00:00:00.000000000'\n",
            " '2020-11-03T00:00:00.000000000' '2019-01-21T00:00:00.000000000'\n",
            " '2019-09-25T00:00:00.000000000' '2020-03-22T00:00:00.000000000'\n",
            " '2019-09-27T00:00:00.000000000' '2020-11-25T00:00:00.000000000'\n",
            " '2020-12-07T00:00:00.000000000' '2020-10-27T00:00:00.000000000'\n",
            " '2020-11-13T00:00:00.000000000' '2019-10-11T00:00:00.000000000'\n",
            " '2019-12-05T00:00:00.000000000' '2019-07-04T00:00:00.000000000'\n",
            " '2020-01-15T00:00:00.000000000' '2019-05-21T00:00:00.000000000'\n",
            " '2019-03-06T00:00:00.000000000' '2020-04-01T00:00:00.000000000'\n",
            " '2020-07-17T00:00:00.000000000' '2020-01-23T00:00:00.000000000'\n",
            " '2020-02-07T00:00:00.000000000' '2020-01-18T00:00:00.000000000'\n",
            " '2019-10-26T00:00:00.000000000' '2019-03-29T00:00:00.000000000'\n",
            " '2019-05-18T00:00:00.000000000' '2020-05-15T00:00:00.000000000'\n",
            " '2020-07-03T00:00:00.000000000' '2020-03-30T00:00:00.000000000'\n",
            " '2020-03-06T00:00:00.000000000' '2019-10-02T00:00:00.000000000'\n",
            " '2019-03-05T00:00:00.000000000' '2019-04-22T00:00:00.000000000'\n",
            " '2020-09-17T00:00:00.000000000' '2019-02-20T00:00:00.000000000'\n",
            " '2020-09-02T00:00:00.000000000' '2020-04-15T00:00:00.000000000'\n",
            " '2019-04-04T00:00:00.000000000' '2020-10-01T00:00:00.000000000'\n",
            " '2019-08-14T00:00:00.000000000' '2020-01-14T00:00:00.000000000'\n",
            " '2020-08-20T00:00:00.000000000' '2019-04-03T00:00:00.000000000'\n",
            " '2020-05-30T00:00:00.000000000' '2020-09-03T00:00:00.000000000'\n",
            " '2020-03-20T00:00:00.000000000' '2019-09-07T00:00:00.000000000'\n",
            " '2020-07-01T00:00:00.000000000' '2019-06-24T00:00:00.000000000'\n",
            " '2019-05-29T00:00:00.000000000' '2019-07-07T00:00:00.000000000'\n",
            " '2020-10-19T00:00:00.000000000' '2020-07-19T00:00:00.000000000'\n",
            " '2020-05-19T00:00:00.000000000' '2019-07-22T00:00:00.000000000'\n",
            " '2020-07-31T00:00:00.000000000' '2020-05-07T00:00:00.000000000'\n",
            " '2019-02-04T00:00:00.000000000' '2020-04-04T00:00:00.000000000'\n",
            " '2019-08-16T00:00:00.000000000' '2020-12-19T00:00:00.000000000'\n",
            " '2019-01-12T00:00:00.000000000' '2020-06-03T00:00:00.000000000'\n",
            " '2019-05-31T00:00:00.000000000' '2019-02-13T00:00:00.000000000'\n",
            " '2020-09-14T00:00:00.000000000' '2019-06-07T00:00:00.000000000'\n",
            " '2019-10-09T00:00:00.000000000' '2019-12-13T00:00:00.000000000'\n",
            " '2020-09-29T00:00:00.000000000' '2020-01-08T00:00:00.000000000'\n",
            " '2020-05-14T00:00:00.000000000' '2019-07-12T00:00:00.000000000'\n",
            " '2020-07-04T00:00:00.000000000' '2020-05-12T00:00:00.000000000'\n",
            " '2020-05-05T00:00:00.000000000' '2020-02-18T00:00:00.000000000'\n",
            " '2019-03-11T00:00:00.000000000' '2019-07-29T00:00:00.000000000'\n",
            " '2019-12-12T00:00:00.000000000' '2019-06-10T00:00:00.000000000'\n",
            " '2019-07-26T00:00:00.000000000' '2020-02-13T00:00:00.000000000'\n",
            " '2019-11-01T00:00:00.000000000' '2019-05-17T00:00:00.000000000'\n",
            " '2020-11-19T00:00:00.000000000' '2019-11-27T00:00:00.000000000'\n",
            " '2019-05-24T00:00:00.000000000' '2019-04-07T00:00:00.000000000'\n",
            " '2020-06-18T00:00:00.000000000' '2020-04-05T00:00:00.000000000'\n",
            " '2020-02-15T00:00:00.000000000' '2019-08-21T00:00:00.000000000'\n",
            " '2019-07-28T00:00:00.000000000' '2020-03-07T00:00:00.000000000'\n",
            " '2019-01-27T00:00:00.000000000' '2020-04-08T00:00:00.000000000'\n",
            " '2020-08-09T00:00:00.000000000' '2019-11-25T00:00:00.000000000'\n",
            " '2020-09-26T00:00:00.000000000' '2020-01-21T00:00:00.000000000'\n",
            " '2019-07-18T00:00:00.000000000' '2020-01-03T00:00:00.000000000'\n",
            " '2020-02-19T00:00:00.000000000' '2020-11-10T00:00:00.000000000'\n",
            " '2019-10-20T00:00:00.000000000' '2019-04-11T00:00:00.000000000'\n",
            " '2020-08-03T00:00:00.000000000' '2019-11-13T00:00:00.000000000'\n",
            " '2020-08-26T00:00:00.000000000' '2019-09-11T00:00:00.000000000'\n",
            " '2019-11-29T00:00:00.000000000' '2019-09-03T00:00:00.000000000'\n",
            " '2019-12-27T00:00:00.000000000' '2019-03-19T00:00:00.000000000'\n",
            " '2019-09-19T00:00:00.000000000' '2020-12-15T00:00:00.000000000'\n",
            " '2019-11-02T00:00:00.000000000' '2020-07-13T00:00:00.000000000'\n",
            " '2020-07-21T00:00:00.000000000' '2020-08-13T00:00:00.000000000'\n",
            " '2020-01-10T00:00:00.000000000' '2020-07-30T00:00:00.000000000'\n",
            " '2020-09-13T00:00:00.000000000' '2020-08-29T00:00:00.000000000'\n",
            " '2019-10-16T00:00:00.000000000' '2020-08-08T00:00:00.000000000'\n",
            " '2020-06-19T00:00:00.000000000' '2020-09-11T00:00:00.000000000'\n",
            " '2020-12-22T00:00:00.000000000' '2019-01-28T00:00:00.000000000'\n",
            " '2020-04-20T00:00:00.000000000' '2020-09-05T00:00:00.000000000'\n",
            " '2020-03-08T00:00:00.000000000' '2019-04-24T00:00:00.000000000'\n",
            " '2019-04-23T00:00:00.000000000' '2020-07-25T00:00:00.000000000'\n",
            " '2019-01-18T00:00:00.000000000' '2019-02-14T00:00:00.000000000'\n",
            " '2020-01-25T00:00:00.000000000' '2020-12-24T00:00:00.000000000'\n",
            " '2020-11-06T00:00:00.000000000' '2020-06-11T00:00:00.000000000'\n",
            " '2019-11-12T00:00:00.000000000' '2020-09-01T00:00:00.000000000'\n",
            " '2019-09-04T00:00:00.000000000' '2019-05-13T00:00:00.000000000'\n",
            " '2020-01-29T00:00:00.000000000' '2019-04-08T00:00:00.000000000'\n",
            " '2020-03-16T00:00:00.000000000' '2020-11-09T00:00:00.000000000'\n",
            " '2019-02-17T00:00:00.000000000' '2019-12-07T00:00:00.000000000'\n",
            " '2020-09-08T00:00:00.000000000' '2020-02-23T00:00:00.000000000'\n",
            " '2020-10-12T00:00:00.000000000' '2020-10-13T00:00:00.000000000'\n",
            " '2020-04-09T00:00:00.000000000' '2019-02-09T00:00:00.000000000'\n",
            " '2019-10-21T00:00:00.000000000' '2019-05-28T00:00:00.000000000'\n",
            " '2019-07-24T00:00:00.000000000' '2019-09-22T00:00:00.000000000'\n",
            " '2019-12-19T00:00:00.000000000' '2020-09-09T00:00:00.000000000'\n",
            " '2020-02-06T00:00:00.000000000' '2020-08-25T00:00:00.000000000'\n",
            " '2019-09-01T00:00:00.000000000' '2019-09-18T00:00:00.000000000'\n",
            " '2020-10-04T00:00:00.000000000' '2020-11-18T00:00:00.000000000'\n",
            " '2019-07-19T00:00:00.000000000' '2020-03-24T00:00:00.000000000'\n",
            " '2019-05-11T00:00:00.000000000' '2019-06-11T00:00:00.000000000'\n",
            " '2019-12-17T00:00:00.000000000' '2019-03-10T00:00:00.000000000'\n",
            " '2020-03-26T00:00:00.000000000' '2020-05-09T00:00:00.000000000'\n",
            " '2020-05-28T00:00:00.000000000' '2020-06-14T00:00:00.000000000'\n",
            " '2020-05-08T00:00:00.000000000' '2020-06-06T00:00:00.000000000'\n",
            " '2019-09-21T00:00:00.000000000' '2020-08-28T00:00:00.000000000'\n",
            " '2020-08-01T00:00:00.000000000' '2020-02-29T00:00:00.000000000'\n",
            " '2020-09-20T00:00:00.000000000' '2020-02-01T00:00:00.000000000'\n",
            " '2020-04-10T00:00:00.000000000' '2020-04-02T00:00:00.000000000'\n",
            " '2019-04-27T00:00:00.000000000' '2019-03-16T00:00:00.000000000'\n",
            " '2019-08-22T00:00:00.000000000' '2019-10-12T00:00:00.000000000'\n",
            " '2020-07-18T00:00:00.000000000' '2019-10-24T00:00:00.000000000'\n",
            " '2019-07-27T00:00:00.000000000' '2019-08-06T00:00:00.000000000'\n",
            " '2020-12-11T00:00:00.000000000' '2019-06-14T00:00:00.000000000'\n",
            " '2019-03-26T00:00:00.000000000' '2020-07-23T00:00:00.000000000'\n",
            " '2020-11-21T00:00:00.000000000' '2020-11-24T00:00:00.000000000'\n",
            " '2019-10-22T00:00:00.000000000' '2019-11-20T00:00:00.000000000'\n",
            " '2019-02-27T00:00:00.000000000' '2019-12-29T00:00:00.000000000'\n",
            " '2019-06-16T00:00:00.000000000' '2020-03-18T00:00:00.000000000'\n",
            " '2020-12-23T00:00:00.000000000' '2019-01-22T00:00:00.000000000'\n",
            " '2019-12-18T00:00:00.000000000' '2019-05-27T00:00:00.000000000'\n",
            " '2020-04-27T00:00:00.000000000' '2019-11-10T00:00:00.000000000'\n",
            " '2019-01-29T00:00:00.000000000' '2019-08-29T00:00:00.000000000'\n",
            " '2020-05-13T00:00:00.000000000' '2020-05-22T00:00:00.000000000'\n",
            " '2019-05-10T00:00:00.000000000' '2020-02-27T00:00:00.000000000'\n",
            " '2020-12-26T00:00:00.000000000' '2019-04-29T00:00:00.000000000'\n",
            " '2019-02-08T00:00:00.000000000' '2020-01-01T00:00:00.000000000'\n",
            " '2019-06-29T00:00:00.000000000' '2019-04-14T00:00:00.000000000'\n",
            " '2019-12-23T00:00:00.000000000' '2020-12-05T00:00:00.000000000'\n",
            " '2020-12-02T00:00:00.000000000' '2020-08-27T00:00:00.000000000'\n",
            " '2020-02-28T00:00:00.000000000' '2019-11-11T00:00:00.000000000'\n",
            " '2020-06-15T00:00:00.000000000' '2019-07-21T00:00:00.000000000'\n",
            " '2020-12-03T00:00:00.000000000' '2019-12-06T00:00:00.000000000'\n",
            " '2019-04-02T00:00:00.000000000' '2020-08-21T00:00:00.000000000'\n",
            " '2020-07-09T00:00:00.000000000' '2020-04-14T00:00:00.000000000'\n",
            " '2019-02-07T00:00:00.000000000' '2020-07-05T00:00:00.000000000'\n",
            " '2019-12-28T00:00:00.000000000' '2020-01-04T00:00:00.000000000'\n",
            " '2019-02-22T00:00:00.000000000' '2020-09-10T00:00:00.000000000'\n",
            " '2020-09-24T00:00:00.000000000' '2019-04-12T00:00:00.000000000'\n",
            " '2020-06-29T00:00:00.000000000' '2020-01-02T00:00:00.000000000'\n",
            " '2019-01-26T00:00:00.000000000' '2019-06-02T00:00:00.000000000'\n",
            " '2020-09-04T00:00:00.000000000' '2019-06-28T00:00:00.000000000'\n",
            " '2020-04-13T00:00:00.000000000' '2019-10-13T00:00:00.000000000'\n",
            " '2019-04-20T00:00:00.000000000' '2020-04-16T00:00:00.000000000'\n",
            " '2020-02-21T00:00:00.000000000' '2020-06-26T00:00:00.000000000'\n",
            " '2019-07-05T00:00:00.000000000' '2020-09-06T00:00:00.000000000'\n",
            " '2020-06-10T00:00:00.000000000' '2019-08-08T00:00:00.000000000'\n",
            " '2019-10-06T00:00:00.000000000' '2020-10-31T00:00:00.000000000'\n",
            " '2019-03-09T00:00:00.000000000' '2020-12-12T00:00:00.000000000'\n",
            " '2019-12-04T00:00:00.000000000' '2019-12-08T00:00:00.000000000'\n",
            " '2020-02-20T00:00:00.000000000' '2020-04-25T00:00:00.000000000'\n",
            " '2020-04-22T00:00:00.000000000' '2019-01-01T00:00:00.000000000'\n",
            " '2020-10-10T00:00:00.000000000' '2019-04-15T00:00:00.000000000'\n",
            " '2020-07-28T00:00:00.000000000' '2020-01-26T00:00:00.000000000'\n",
            " '2020-01-19T00:00:00.000000000' '2020-09-27T00:00:00.000000000'\n",
            " '2019-02-03T00:00:00.000000000' '2019-05-22T00:00:00.000000000'\n",
            " '2020-10-28T00:00:00.000000000' '2020-06-08T00:00:00.000000000'\n",
            " '2020-06-01T00:00:00.000000000' '2020-07-11T00:00:00.000000000'\n",
            " '2019-04-18T00:00:00.000000000' '2019-11-08T00:00:00.000000000'\n",
            " '2019-12-11T00:00:00.000000000' '2019-01-13T00:00:00.000000000'\n",
            " '2020-05-18T00:00:00.000000000' '2019-06-04T00:00:00.000000000'\n",
            " '2019-08-25T00:00:00.000000000' '2020-11-15T00:00:00.000000000'\n",
            " '2019-04-06T00:00:00.000000000' '2020-06-27T00:00:00.000000000'\n",
            " '2019-03-22T00:00:00.000000000' '2020-08-30T00:00:00.000000000'\n",
            " '2019-05-05T00:00:00.000000000' '2020-02-16T00:00:00.000000000'\n",
            " '2019-08-10T00:00:00.000000000' '2019-02-05T00:00:00.000000000'\n",
            " '2020-12-31T00:00:00.000000000' '2020-07-07T00:00:00.000000000'\n",
            " '2019-11-17T00:00:00.000000000' '2019-11-09T00:00:00.000000000'\n",
            " '2020-09-16T00:00:00.000000000' '2020-09-22T00:00:00.000000000'\n",
            " '2020-10-07T00:00:00.000000000' '2019-01-06T00:00:00.000000000'\n",
            " '2020-10-02T00:00:00.000000000' '2019-03-07T00:00:00.000000000'\n",
            " '2019-10-27T00:00:00.000000000' '2020-11-07T00:00:00.000000000'\n",
            " '2020-05-29T00:00:00.000000000' '2020-01-11T00:00:00.000000000'\n",
            " '2020-10-23T00:00:00.000000000' '2020-05-21T00:00:00.000000000'\n",
            " '2020-01-05T00:00:00.000000000' '2019-05-12T00:00:00.000000000'\n",
            " '2020-08-22T00:00:00.000000000' '2019-08-17T00:00:00.000000000'\n",
            " '2020-04-19T00:00:00.000000000' '2019-06-30T00:00:00.000000000'\n",
            " '2020-05-16T00:00:00.000000000' '2020-12-29T00:00:00.000000000'\n",
            " '2020-04-24T00:00:00.000000000' '2020-12-18T00:00:00.000000000'\n",
            " '2020-10-25T00:00:00.000000000' '2019-03-03T00:00:00.000000000'\n",
            " '2019-03-01T00:00:00.000000000' '2020-05-26T00:00:00.000000000'\n",
            " '2020-07-16T00:00:00.000000000' '2020-10-18T00:00:00.000000000'\n",
            " '2019-11-24T00:00:00.000000000' '2019-12-31T00:00:00.000000000'\n",
            " '2020-11-08T00:00:00.000000000' '2020-03-01T00:00:00.000000000'\n",
            " '2020-12-06T00:00:00.000000000' '2020-06-21T00:00:00.000000000'\n",
            " '2020-05-25T00:00:00.000000000' '2020-08-16T00:00:00.000000000'\n",
            " '2020-08-17T00:00:00.000000000' '2019-02-24T00:00:00.000000000'\n",
            " '2019-06-05T00:00:00.000000000' '2019-04-19T00:00:00.000000000'\n",
            " '2019-03-17T00:00:00.000000000' '2019-09-15T00:00:00.000000000'\n",
            " '2020-02-09T00:00:00.000000000' '2019-09-08T00:00:00.000000000'\n",
            " '2020-11-22T00:00:00.000000000' '2019-10-19T00:00:00.000000000'\n",
            " '2020-10-29T00:00:00.000000000' '2020-05-10T00:00:00.000000000'\n",
            " '2020-12-25T00:00:00.000000000' '2020-11-01T00:00:00.000000000'\n",
            " '2020-12-13T00:00:00.000000000' '2020-04-11T00:00:00.000000000'\n",
            " '2019-12-15T00:00:00.000000000' '2019-05-25T00:00:00.000000000'\n",
            " '2019-05-26T00:00:00.000000000' '2020-03-29T00:00:00.000000000'\n",
            " '2019-08-11T00:00:00.000000000' '2020-04-26T00:00:00.000000000'\n",
            " '2020-11-29T00:00:00.000000000' '2019-05-19T00:00:00.000000000'\n",
            " '2020-03-15T00:00:00.000000000' '2019-05-30T00:00:00.000000000'\n",
            " '2020-12-20T00:00:00.000000000' '2019-06-06T00:00:00.000000000'\n",
            " '2020-04-12T00:00:00.000000000' '2020-06-16T00:00:00.000000000'\n",
            " '2020-08-02T00:00:00.000000000' '2019-04-28T00:00:00.000000000'\n",
            " '2019-03-24T00:00:00.000000000' '2019-11-03T00:00:00.000000000'\n",
            " '2019-04-21T00:00:00.000000000' '2019-06-23T00:00:00.000000000'\n",
            " '2020-06-28T00:00:00.000000000' '2019-08-18T00:00:00.000000000'\n",
            " '2019-02-10T00:00:00.000000000' '2020-06-07T00:00:00.000000000'\n",
            " '2020-05-01T00:00:00.000000000' '2019-12-25T00:00:00.000000000'\n",
            " '2019-04-17T00:00:00.000000000' '2020-07-12T00:00:00.000000000'\n",
            " '2020-12-27T00:00:00.000000000' '2019-06-09T00:00:00.000000000'\n",
            " '2020-07-26T00:00:00.000000000' '2020-05-03T00:00:00.000000000'\n",
            " '2019-09-29T00:00:00.000000000' '2019-12-22T00:00:00.000000000'\n",
            " '2020-08-23T00:00:00.000000000' '2020-05-24T00:00:00.000000000'\n",
            " '2020-10-11T00:00:00.000000000']\n",
            "731\n",
            "4056166\n",
            "tgl_pulang\n",
            "['2020-06-17T00:00:00.000000000' '2019-06-01T00:00:00.000000000'\n",
            " '2019-12-21T00:00:00.000000000' '2019-11-04T00:00:00.000000000'\n",
            " '2020-07-15T00:00:00.000000000' '2019-07-17T00:00:00.000000000'\n",
            " '2019-11-07T00:00:00.000000000' '2019-06-13T00:00:00.000000000'\n",
            " '2020-07-10T00:00:00.000000000' '2019-05-04T00:00:00.000000000'\n",
            " '2019-01-08T00:00:00.000000000' '2020-03-17T00:00:00.000000000'\n",
            " '2019-10-05T00:00:00.000000000' '2019-03-13T00:00:00.000000000'\n",
            " '2019-12-24T00:00:00.000000000' '2019-12-01T00:00:00.000000000'\n",
            " '2019-09-02T00:00:00.000000000' '2020-09-15T00:00:00.000000000'\n",
            " '2019-03-25T00:00:00.000000000' '2019-10-31T00:00:00.000000000'\n",
            " '2020-06-25T00:00:00.000000000' '2019-12-02T00:00:00.000000000'\n",
            " '2020-02-26T00:00:00.000000000' '2019-08-13T00:00:00.000000000'\n",
            " '2020-03-13T00:00:00.000000000' '2019-11-21T00:00:00.000000000'\n",
            " '2020-03-11T00:00:00.000000000' '2019-10-15T00:00:00.000000000'\n",
            " '2020-03-14T00:00:00.000000000' '2020-11-05T00:00:00.000000000'\n",
            " '2019-07-06T00:00:00.000000000' '2019-07-01T00:00:00.000000000'\n",
            " '2019-09-17T00:00:00.000000000' '2019-11-15T00:00:00.000000000'\n",
            " '2019-08-05T00:00:00.000000000' '2019-01-31T00:00:00.000000000'\n",
            " '2019-12-30T00:00:00.000000000' '2019-03-28T00:00:00.000000000'\n",
            " '2020-01-22T00:00:00.000000000' '2020-11-12T00:00:00.000000000'\n",
            " '2019-05-23T00:00:00.000000000' '2019-07-11T00:00:00.000000000'\n",
            " '2019-03-21T00:00:00.000000000' '2020-04-17T00:00:00.000000000'\n",
            " '2020-12-08T00:00:00.000000000' '2019-10-18T00:00:00.000000000'\n",
            " '2020-09-21T00:00:00.000000000' '2020-01-20T00:00:00.000000000'\n",
            " '2019-12-20T00:00:00.000000000' '2019-03-31T00:00:00.000000000'\n",
            " '2020-10-22T00:00:00.000000000' '2019-08-19T00:00:00.000000000'\n",
            " '2020-09-28T00:00:00.000000000' '2019-08-03T00:00:00.000000000'\n",
            " '2020-04-06T00:00:00.000000000' '2020-10-21T00:00:00.000000000'\n",
            " '2020-12-17T00:00:00.000000000' '2019-05-02T00:00:00.000000000'\n",
            " '2019-07-08T00:00:00.000000000' '2019-10-17T00:00:00.000000000'\n",
            " '2019-11-19T00:00:00.000000000' '2019-07-23T00:00:00.000000000'\n",
            " '2020-12-09T00:00:00.000000000' '2019-01-15T00:00:00.000000000'\n",
            " '2019-12-16T00:00:00.000000000' '2019-10-07T00:00:00.000000000'\n",
            " '2020-04-03T00:00:00.000000000' '2020-07-06T00:00:00.000000000'\n",
            " '2020-08-10T00:00:00.000000000' '2020-12-14T00:00:00.000000000'\n",
            " '2020-07-20T00:00:00.000000000' '2019-10-10T00:00:00.000000000'\n",
            " '2019-05-03T00:00:00.000000000' '2019-02-26T00:00:00.000000000'\n",
            " '2019-09-16T00:00:00.000000000' '2019-01-23T00:00:00.000000000'\n",
            " '2019-08-02T00:00:00.000000000' '2019-07-03T00:00:00.000000000'\n",
            " '2020-10-15T00:00:00.000000000' '2020-01-06T00:00:00.000000000'\n",
            " '2019-01-09T00:00:00.000000000' '2019-09-23T00:00:00.000000000'\n",
            " '2020-02-22T00:00:00.000000000' '2020-02-05T00:00:00.000000000'\n",
            " '2019-10-14T00:00:00.000000000' '2019-11-18T00:00:00.000000000'\n",
            " '2019-02-28T00:00:00.000000000' '2020-11-02T00:00:00.000000000'\n",
            " '2019-09-20T00:00:00.000000000' '2019-10-01T00:00:00.000000000'\n",
            " '2019-02-12T00:00:00.000000000' '2019-07-09T00:00:00.000000000'\n",
            " '2019-06-22T00:00:00.000000000' '2019-10-28T00:00:00.000000000'\n",
            " '2020-06-24T00:00:00.000000000' '2019-03-02T00:00:00.000000000'\n",
            " '2020-03-31T00:00:00.000000000' '2019-08-24T00:00:00.000000000'\n",
            " '2020-11-26T00:00:00.000000000' '2020-12-30T00:00:00.000000000'\n",
            " '2019-09-26T00:00:00.000000000' '2020-03-28T00:00:00.000000000'\n",
            " '2020-08-15T00:00:00.000000000' '2019-11-30T00:00:00.000000000'\n",
            " '2020-01-31T00:00:00.000000000' '2019-09-12T00:00:00.000000000'\n",
            " '2020-10-14T00:00:00.000000000' '2019-07-20T00:00:00.000000000'\n",
            " '2020-02-11T00:00:00.000000000' '2020-03-12T00:00:00.000000000'\n",
            " '2020-08-05T00:00:00.000000000' '2019-02-06T00:00:00.000000000'\n",
            " '2019-01-24T00:00:00.000000000' '2020-06-13T00:00:00.000000000'\n",
            " '2020-10-09T00:00:00.000000000' '2019-01-05T00:00:00.000000000'\n",
            " '2020-05-31T00:00:00.000000000' '2019-04-30T00:00:00.000000000'\n",
            " '2020-07-29T00:00:00.000000000' '2019-06-26T00:00:00.000000000'\n",
            " '2020-10-03T00:00:00.000000000' '2020-11-27T00:00:00.000000000'\n",
            " '2020-09-18T00:00:00.000000000' '2019-08-15T00:00:00.000000000'\n",
            " '2020-03-19T00:00:00.000000000' '2020-01-12T00:00:00.000000000'\n",
            " '2020-09-30T00:00:00.000000000' '2019-01-10T00:00:00.000000000'\n",
            " '2020-02-25T00:00:00.000000000' '2020-03-23T00:00:00.000000000'\n",
            " '2020-02-24T00:00:00.000000000' '2020-08-07T00:00:00.000000000'\n",
            " '2019-09-05T00:00:00.000000000' '2020-07-22T00:00:00.000000000'\n",
            " '2020-05-04T00:00:00.000000000' '2020-02-04T00:00:00.000000000'\n",
            " '2019-01-20T00:00:00.000000000' '2020-02-08T00:00:00.000000000'\n",
            " '2020-05-27T00:00:00.000000000' '2020-12-28T00:00:00.000000000'\n",
            " '2019-03-14T00:00:00.000000000' '2020-03-10T00:00:00.000000000'\n",
            " '2020-06-30T00:00:00.000000000' '2019-08-07T00:00:00.000000000'\n",
            " '2019-01-14T00:00:00.000000000' '2019-02-16T00:00:00.000000000'\n",
            " '2020-06-22T00:00:00.000000000' '2019-02-23T00:00:00.000000000'\n",
            " '2019-03-08T00:00:00.000000000' '2019-03-15T00:00:00.000000000'\n",
            " '2020-08-18T00:00:00.000000000' '2020-01-07T00:00:00.000000000'\n",
            " '2019-08-26T00:00:00.000000000' '2020-04-07T00:00:00.000000000'\n",
            " '2019-07-10T00:00:00.000000000' '2019-10-25T00:00:00.000000000'\n",
            " '2019-12-03T00:00:00.000000000' '2020-05-02T00:00:00.000000000'\n",
            " '2020-09-23T00:00:00.000000000' '2019-06-25T00:00:00.000000000'\n",
            " '2020-08-04T00:00:00.000000000' '2019-05-16T00:00:00.000000000'\n",
            " '2020-11-14T00:00:00.000000000' '2019-10-23T00:00:00.000000000'\n",
            " '2019-11-28T00:00:00.000000000' '2019-11-05T00:00:00.000000000'\n",
            " '2019-02-02T00:00:00.000000000' '2019-05-08T00:00:00.000000000'\n",
            " '2019-01-11T00:00:00.000000000' '2020-11-17T00:00:00.000000000'\n",
            " '2019-02-18T00:00:00.000000000' '2019-01-25T00:00:00.000000000'\n",
            " '2020-05-06T00:00:00.000000000' '2020-09-25T00:00:00.000000000'\n",
            " '2020-02-10T00:00:00.000000000' '2019-07-15T00:00:00.000000000'\n",
            " '2020-04-29T00:00:00.000000000' '2019-02-15T00:00:00.000000000'\n",
            " '2020-07-08T00:00:00.000000000' '2020-04-28T00:00:00.000000000'\n",
            " '2020-11-20T00:00:00.000000000' '2019-11-16T00:00:00.000000000'\n",
            " '2019-06-21T00:00:00.000000000' '2019-12-10T00:00:00.000000000'\n",
            " '2019-09-13T00:00:00.000000000' '2019-08-20T00:00:00.000000000'\n",
            " '2020-01-24T00:00:00.000000000' '2019-03-30T00:00:00.000000000'\n",
            " '2019-10-04T00:00:00.000000000' '2020-01-30T00:00:00.000000000'\n",
            " '2019-02-19T00:00:00.000000000' '2019-03-23T00:00:00.000000000'\n",
            " '2019-03-18T00:00:00.000000000' '2020-01-09T00:00:00.000000000'\n",
            " '2020-01-17T00:00:00.000000000' '2020-08-11T00:00:00.000000000'\n",
            " '2019-08-04T00:00:00.000000000' '2020-03-04T00:00:00.000000000'\n",
            " '2019-05-09T00:00:00.000000000' '2019-01-19T00:00:00.000000000'\n",
            " '2020-06-05T00:00:00.000000000' '2020-11-23T00:00:00.000000000'\n",
            " '2020-10-24T00:00:00.000000000' '2020-11-16T00:00:00.000000000'\n",
            " '2019-08-30T00:00:00.000000000' '2020-12-01T00:00:00.000000000'\n",
            " '2019-08-27T00:00:00.000000000' '2020-09-19T00:00:00.000000000'\n",
            " '2019-09-10T00:00:00.000000000' '2020-06-23T00:00:00.000000000'\n",
            " '2019-11-23T00:00:00.000000000' '2019-07-16T00:00:00.000000000'\n",
            " '2020-10-16T00:00:00.000000000' '2020-02-14T00:00:00.000000000'\n",
            " '2020-02-03T00:00:00.000000000' '2019-04-25T00:00:00.000000000'\n",
            " '2019-07-13T00:00:00.000000000' '2020-08-24T00:00:00.000000000'\n",
            " '2020-08-31T00:00:00.000000000' '2020-11-30T00:00:00.000000000'\n",
            " '2019-09-14T00:00:00.000000000' '2020-12-21T00:00:00.000000000'\n",
            " '2020-01-28T00:00:00.000000000' '2019-04-13T00:00:00.000000000'\n",
            " '2019-05-06T00:00:00.000000000' '2020-05-23T00:00:00.000000000'\n",
            " '2020-11-28T00:00:00.000000000' '2020-09-12T00:00:00.000000000'\n",
            " '2019-06-08T00:00:00.000000000' '2020-01-27T00:00:00.000000000'\n",
            " '2020-03-09T00:00:00.000000000' '2020-05-20T00:00:00.000000000'\n",
            " '2019-06-12T00:00:00.000000000' '2020-03-27T00:00:00.000000000'\n",
            " '2019-10-08T00:00:00.000000000' '2020-06-20T00:00:00.000000000'\n",
            " '2019-10-03T00:00:00.000000000' '2020-12-10T00:00:00.000000000'\n",
            " '2020-03-25T00:00:00.000000000' '2019-07-31T00:00:00.000000000'\n",
            " '2019-04-10T00:00:00.000000000' '2020-10-30T00:00:00.000000000'\n",
            " '2019-02-25T00:00:00.000000000' '2020-08-06T00:00:00.000000000'\n",
            " '2020-01-16T00:00:00.000000000' '2019-08-31T00:00:00.000000000'\n",
            " '2020-12-16T00:00:00.000000000' '2019-10-30T00:00:00.000000000'\n",
            " '2019-02-01T00:00:00.000000000' '2019-03-04T00:00:00.000000000'\n",
            " '2019-07-25T00:00:00.000000000' '2019-07-30T00:00:00.000000000'\n",
            " '2019-09-28T00:00:00.000000000' '2019-03-12T00:00:00.000000000'\n",
            " '2019-09-09T00:00:00.000000000' '2019-05-20T00:00:00.000000000'\n",
            " '2020-03-21T00:00:00.000000000' '2019-11-26T00:00:00.000000000'\n",
            " '2019-06-03T00:00:00.000000000' '2020-04-21T00:00:00.000000000'\n",
            " '2019-01-17T00:00:00.000000000' '2020-07-02T00:00:00.000000000'\n",
            " '2020-02-12T00:00:00.000000000' '2019-01-03T00:00:00.000000000'\n",
            " '2019-06-27T00:00:00.000000000' '2019-01-02T00:00:00.000000000'\n",
            " '2019-11-22T00:00:00.000000000' '2020-10-08T00:00:00.000000000'\n",
            " '2019-04-16T00:00:00.000000000' '2020-08-12T00:00:00.000000000'\n",
            " '2019-06-19T00:00:00.000000000' '2020-11-11T00:00:00.000000000'\n",
            " '2019-10-29T00:00:00.000000000' '2019-05-15T00:00:00.000000000'\n",
            " '2019-02-11T00:00:00.000000000' '2020-03-02T00:00:00.000000000'\n",
            " '2019-03-20T00:00:00.000000000' '2019-01-07T00:00:00.000000000'\n",
            " '2020-06-09T00:00:00.000000000' '2019-06-20T00:00:00.000000000'\n",
            " '2019-07-14T00:00:00.000000000' '2020-12-04T00:00:00.000000000'\n",
            " '2019-04-01T00:00:00.000000000' '2020-03-05T00:00:00.000000000'\n",
            " '2019-02-21T00:00:00.000000000' '2019-08-12T00:00:00.000000000'\n",
            " '2019-07-02T00:00:00.000000000' '2019-09-06T00:00:00.000000000'\n",
            " '2020-07-27T00:00:00.000000000' '2020-08-14T00:00:00.000000000'\n",
            " '2020-05-17T00:00:00.000000000' '2020-06-02T00:00:00.000000000'\n",
            " '2019-09-30T00:00:00.000000000' '2020-06-04T00:00:00.000000000'\n",
            " '2020-10-05T00:00:00.000000000' '2019-11-14T00:00:00.000000000'\n",
            " '2019-05-07T00:00:00.000000000' '2019-01-04T00:00:00.000000000'\n",
            " '2020-02-02T00:00:00.000000000' '2020-09-07T00:00:00.000000000'\n",
            " '2019-01-16T00:00:00.000000000' '2020-04-18T00:00:00.000000000'\n",
            " '2019-08-28T00:00:00.000000000' '2019-04-09T00:00:00.000000000'\n",
            " '2020-07-24T00:00:00.000000000' '2019-12-26T00:00:00.000000000'\n",
            " '2020-11-04T00:00:00.000000000' '2020-04-30T00:00:00.000000000'\n",
            " '2020-07-14T00:00:00.000000000' '2019-09-24T00:00:00.000000000'\n",
            " '2019-06-17T00:00:00.000000000' '2020-06-12T00:00:00.000000000'\n",
            " '2020-10-26T00:00:00.000000000' '2020-10-20T00:00:00.000000000'\n",
            " '2019-08-23T00:00:00.000000000' '2019-05-14T00:00:00.000000000'\n",
            " '2019-01-30T00:00:00.000000000' '2019-08-09T00:00:00.000000000'\n",
            " '2019-12-14T00:00:00.000000000' '2020-05-11T00:00:00.000000000'\n",
            " '2020-04-23T00:00:00.000000000' '2019-08-01T00:00:00.000000000'\n",
            " '2019-03-27T00:00:00.000000000' '2020-03-03T00:00:00.000000000'\n",
            " '2019-06-18T00:00:00.000000000' '2019-04-05T00:00:00.000000000'\n",
            " '2020-10-06T00:00:00.000000000' '2019-11-06T00:00:00.000000000'\n",
            " '2020-01-13T00:00:00.000000000' '2020-04-02T00:00:00.000000000'\n",
            " '2020-10-17T00:00:00.000000000' '2020-08-19T00:00:00.000000000'\n",
            " '2019-12-09T00:00:00.000000000' '2019-04-26T00:00:00.000000000'\n",
            " '2019-06-15T00:00:00.000000000' '2020-02-17T00:00:00.000000000'\n",
            " '2020-11-03T00:00:00.000000000' '2019-01-21T00:00:00.000000000'\n",
            " '2019-09-25T00:00:00.000000000' '2020-03-22T00:00:00.000000000'\n",
            " '2019-09-27T00:00:00.000000000' '2020-11-25T00:00:00.000000000'\n",
            " '2020-12-07T00:00:00.000000000' '2020-10-27T00:00:00.000000000'\n",
            " '2020-11-13T00:00:00.000000000' '2019-10-11T00:00:00.000000000'\n",
            " '2019-12-05T00:00:00.000000000' '2019-07-04T00:00:00.000000000'\n",
            " '2020-01-15T00:00:00.000000000' '2019-05-21T00:00:00.000000000'\n",
            " '2019-03-06T00:00:00.000000000' '2020-04-01T00:00:00.000000000'\n",
            " '2020-07-17T00:00:00.000000000' '2020-01-23T00:00:00.000000000'\n",
            " '2020-02-07T00:00:00.000000000' '2020-01-18T00:00:00.000000000'\n",
            " '2019-10-26T00:00:00.000000000' '2019-03-29T00:00:00.000000000'\n",
            " '2019-05-18T00:00:00.000000000' '2020-05-15T00:00:00.000000000'\n",
            " '2020-07-03T00:00:00.000000000' '2020-03-30T00:00:00.000000000'\n",
            " '2020-03-06T00:00:00.000000000' '2019-10-02T00:00:00.000000000'\n",
            " '2019-03-05T00:00:00.000000000' '2019-04-22T00:00:00.000000000'\n",
            " '2020-09-17T00:00:00.000000000' '2019-02-20T00:00:00.000000000'\n",
            " '2020-09-02T00:00:00.000000000' '2020-04-15T00:00:00.000000000'\n",
            " '2019-04-04T00:00:00.000000000' '2020-10-01T00:00:00.000000000'\n",
            " '2019-08-14T00:00:00.000000000' '2020-01-14T00:00:00.000000000'\n",
            " '2020-08-20T00:00:00.000000000' '2019-04-03T00:00:00.000000000'\n",
            " '2020-05-30T00:00:00.000000000' '2020-09-03T00:00:00.000000000'\n",
            " '2020-03-20T00:00:00.000000000' '2019-09-07T00:00:00.000000000'\n",
            " '2020-07-01T00:00:00.000000000' '2019-06-24T00:00:00.000000000'\n",
            " '2019-05-29T00:00:00.000000000' '2019-07-07T00:00:00.000000000'\n",
            " '2020-10-19T00:00:00.000000000' '2020-07-19T00:00:00.000000000'\n",
            " '2020-05-19T00:00:00.000000000' '2019-07-22T00:00:00.000000000'\n",
            " '2020-07-31T00:00:00.000000000' '2020-05-07T00:00:00.000000000'\n",
            " '2019-02-04T00:00:00.000000000' '2020-04-04T00:00:00.000000000'\n",
            " '2019-08-16T00:00:00.000000000' '2020-12-19T00:00:00.000000000'\n",
            " '2019-01-12T00:00:00.000000000' '2020-06-03T00:00:00.000000000'\n",
            " '2019-05-31T00:00:00.000000000' '2019-02-13T00:00:00.000000000'\n",
            " '2020-09-14T00:00:00.000000000' '2019-06-07T00:00:00.000000000'\n",
            " '2019-10-09T00:00:00.000000000' '2019-12-13T00:00:00.000000000'\n",
            " '2020-09-29T00:00:00.000000000' '2020-01-08T00:00:00.000000000'\n",
            " '2020-05-14T00:00:00.000000000' '2019-07-12T00:00:00.000000000'\n",
            " '2020-07-04T00:00:00.000000000' '2020-05-12T00:00:00.000000000'\n",
            " '2020-05-05T00:00:00.000000000' '2020-02-18T00:00:00.000000000'\n",
            " '2019-03-11T00:00:00.000000000' '2019-07-29T00:00:00.000000000'\n",
            " '2019-12-12T00:00:00.000000000' '2019-06-10T00:00:00.000000000'\n",
            " '2019-07-26T00:00:00.000000000' '2020-02-13T00:00:00.000000000'\n",
            " '2019-11-01T00:00:00.000000000' '2019-05-17T00:00:00.000000000'\n",
            " '2020-11-19T00:00:00.000000000' '2019-11-27T00:00:00.000000000'\n",
            " '2019-05-24T00:00:00.000000000' '2019-04-07T00:00:00.000000000'\n",
            " '2020-06-18T00:00:00.000000000' '2020-04-05T00:00:00.000000000'\n",
            " '2020-02-15T00:00:00.000000000' '2019-08-21T00:00:00.000000000'\n",
            " '2019-07-28T00:00:00.000000000' '2020-03-07T00:00:00.000000000'\n",
            " '2019-01-27T00:00:00.000000000' '2020-04-08T00:00:00.000000000'\n",
            " '2020-08-09T00:00:00.000000000' '2019-11-25T00:00:00.000000000'\n",
            " '2020-09-26T00:00:00.000000000' '2020-01-21T00:00:00.000000000'\n",
            " '2019-07-18T00:00:00.000000000' '2020-01-03T00:00:00.000000000'\n",
            " '2020-02-19T00:00:00.000000000' '2020-11-10T00:00:00.000000000'\n",
            " '2019-10-20T00:00:00.000000000' '2019-04-11T00:00:00.000000000'\n",
            " '2020-08-03T00:00:00.000000000' '2019-11-13T00:00:00.000000000'\n",
            " '2020-08-26T00:00:00.000000000' '2019-09-11T00:00:00.000000000'\n",
            " '2019-11-29T00:00:00.000000000' '2019-09-03T00:00:00.000000000'\n",
            " '2019-12-27T00:00:00.000000000' '2019-03-19T00:00:00.000000000'\n",
            " '2019-09-19T00:00:00.000000000' '2020-12-15T00:00:00.000000000'\n",
            " '2019-11-02T00:00:00.000000000' '2020-07-13T00:00:00.000000000'\n",
            " '2020-07-21T00:00:00.000000000' '2020-08-13T00:00:00.000000000'\n",
            " '2020-01-10T00:00:00.000000000' '2020-07-30T00:00:00.000000000'\n",
            " '2020-09-13T00:00:00.000000000' '2020-08-29T00:00:00.000000000'\n",
            " '2019-10-16T00:00:00.000000000' '2020-08-08T00:00:00.000000000'\n",
            " '2020-06-19T00:00:00.000000000' '2020-09-11T00:00:00.000000000'\n",
            " '2020-12-22T00:00:00.000000000' '2019-01-28T00:00:00.000000000'\n",
            " '2020-04-20T00:00:00.000000000' '2020-09-05T00:00:00.000000000'\n",
            " '2020-03-08T00:00:00.000000000' '2019-04-24T00:00:00.000000000'\n",
            " '2019-04-23T00:00:00.000000000' '2020-07-25T00:00:00.000000000'\n",
            " '2019-01-18T00:00:00.000000000' '2019-02-14T00:00:00.000000000'\n",
            " '2020-01-25T00:00:00.000000000' '2020-12-24T00:00:00.000000000'\n",
            " '2020-11-06T00:00:00.000000000' '2020-06-11T00:00:00.000000000'\n",
            " '2019-11-12T00:00:00.000000000' '2020-09-01T00:00:00.000000000'\n",
            " '2019-09-04T00:00:00.000000000' '2019-05-13T00:00:00.000000000'\n",
            " '2020-01-29T00:00:00.000000000' '2019-04-08T00:00:00.000000000'\n",
            " '2020-03-16T00:00:00.000000000' '2020-11-09T00:00:00.000000000'\n",
            " '2019-02-17T00:00:00.000000000' '2019-12-07T00:00:00.000000000'\n",
            " '2020-09-08T00:00:00.000000000' '2020-02-23T00:00:00.000000000'\n",
            " '2020-10-12T00:00:00.000000000' '2020-10-13T00:00:00.000000000'\n",
            " '2020-04-09T00:00:00.000000000' '2019-02-09T00:00:00.000000000'\n",
            " '2019-10-21T00:00:00.000000000' '2019-05-28T00:00:00.000000000'\n",
            " '2019-07-24T00:00:00.000000000' '2019-09-22T00:00:00.000000000'\n",
            " '2019-12-19T00:00:00.000000000' '2020-09-09T00:00:00.000000000'\n",
            " '2020-02-06T00:00:00.000000000' '2020-08-25T00:00:00.000000000'\n",
            " '2019-09-01T00:00:00.000000000' '2019-09-18T00:00:00.000000000'\n",
            " '2020-10-04T00:00:00.000000000' '2020-11-18T00:00:00.000000000'\n",
            " '2019-07-19T00:00:00.000000000' '2020-03-24T00:00:00.000000000'\n",
            " '2019-05-11T00:00:00.000000000' '2019-06-11T00:00:00.000000000'\n",
            " '2019-12-17T00:00:00.000000000' '2019-03-10T00:00:00.000000000'\n",
            " '2020-03-26T00:00:00.000000000' '2020-05-09T00:00:00.000000000'\n",
            " '2020-05-28T00:00:00.000000000' '2020-06-14T00:00:00.000000000'\n",
            " '2020-05-08T00:00:00.000000000' '2020-06-06T00:00:00.000000000'\n",
            " '2019-09-21T00:00:00.000000000' '2020-08-28T00:00:00.000000000'\n",
            " '2020-08-01T00:00:00.000000000' '2020-02-29T00:00:00.000000000'\n",
            " '2020-09-20T00:00:00.000000000' '2020-02-01T00:00:00.000000000'\n",
            " '2020-04-10T00:00:00.000000000' '2019-04-27T00:00:00.000000000'\n",
            " '2019-03-16T00:00:00.000000000' '2019-08-22T00:00:00.000000000'\n",
            " '2019-10-12T00:00:00.000000000' '2020-07-18T00:00:00.000000000'\n",
            " '2019-10-24T00:00:00.000000000' '2019-07-27T00:00:00.000000000'\n",
            " '2019-08-06T00:00:00.000000000' '2020-12-11T00:00:00.000000000'\n",
            " '2019-06-14T00:00:00.000000000' '2019-03-26T00:00:00.000000000'\n",
            " '2020-07-23T00:00:00.000000000' '2020-11-21T00:00:00.000000000'\n",
            " '2020-11-24T00:00:00.000000000' '2019-10-22T00:00:00.000000000'\n",
            " '2019-11-20T00:00:00.000000000' '2019-02-27T00:00:00.000000000'\n",
            " '2019-12-29T00:00:00.000000000' '2019-06-16T00:00:00.000000000'\n",
            " '2020-03-18T00:00:00.000000000' '2020-12-23T00:00:00.000000000'\n",
            " '2019-01-22T00:00:00.000000000' '2019-12-18T00:00:00.000000000'\n",
            " '2019-05-27T00:00:00.000000000' '2020-04-27T00:00:00.000000000'\n",
            " '2019-11-10T00:00:00.000000000' '2019-01-29T00:00:00.000000000'\n",
            " '2019-08-29T00:00:00.000000000' '2020-05-13T00:00:00.000000000'\n",
            " '2020-05-22T00:00:00.000000000' '2019-05-10T00:00:00.000000000'\n",
            " '2020-02-27T00:00:00.000000000' '2020-12-26T00:00:00.000000000'\n",
            " '2019-04-29T00:00:00.000000000' '2019-02-08T00:00:00.000000000'\n",
            " '2020-01-01T00:00:00.000000000' '2019-11-11T00:00:00.000000000'\n",
            " '2019-06-29T00:00:00.000000000' '2019-04-14T00:00:00.000000000'\n",
            " '2019-12-23T00:00:00.000000000' '2020-12-05T00:00:00.000000000'\n",
            " '2020-12-02T00:00:00.000000000' '2020-08-27T00:00:00.000000000'\n",
            " '2020-02-28T00:00:00.000000000' '2020-06-15T00:00:00.000000000'\n",
            " '2019-07-21T00:00:00.000000000' '2020-12-03T00:00:00.000000000'\n",
            " '2019-12-06T00:00:00.000000000' '2019-04-02T00:00:00.000000000'\n",
            " '2020-08-21T00:00:00.000000000' '2020-07-09T00:00:00.000000000'\n",
            " '2020-04-14T00:00:00.000000000' '2019-02-07T00:00:00.000000000'\n",
            " '2020-07-05T00:00:00.000000000' '2019-12-28T00:00:00.000000000'\n",
            " '2020-01-04T00:00:00.000000000' '2019-02-22T00:00:00.000000000'\n",
            " '2020-09-10T00:00:00.000000000' '2020-09-24T00:00:00.000000000'\n",
            " '2019-04-12T00:00:00.000000000' '2020-06-29T00:00:00.000000000'\n",
            " '2020-01-02T00:00:00.000000000' '2019-01-26T00:00:00.000000000'\n",
            " '2019-06-02T00:00:00.000000000' '2020-09-04T00:00:00.000000000'\n",
            " '2019-06-28T00:00:00.000000000' '2020-04-13T00:00:00.000000000'\n",
            " '2019-10-13T00:00:00.000000000' '2019-04-20T00:00:00.000000000'\n",
            " '2020-04-16T00:00:00.000000000' '2020-02-21T00:00:00.000000000'\n",
            " '2020-06-26T00:00:00.000000000' '2019-07-05T00:00:00.000000000'\n",
            " '2020-09-06T00:00:00.000000000' '2020-06-10T00:00:00.000000000'\n",
            " '2019-08-08T00:00:00.000000000' '2019-10-06T00:00:00.000000000'\n",
            " '2020-10-31T00:00:00.000000000' '2019-03-09T00:00:00.000000000'\n",
            " '2020-12-12T00:00:00.000000000' '2019-12-04T00:00:00.000000000'\n",
            " '2019-12-08T00:00:00.000000000' '2020-02-20T00:00:00.000000000'\n",
            " '2020-04-25T00:00:00.000000000' '2020-04-22T00:00:00.000000000'\n",
            " '2019-01-01T00:00:00.000000000' '2020-10-10T00:00:00.000000000'\n",
            " '2019-04-15T00:00:00.000000000' '2020-07-28T00:00:00.000000000'\n",
            " '2020-01-26T00:00:00.000000000' '2020-01-19T00:00:00.000000000'\n",
            " '2020-09-27T00:00:00.000000000' '2019-02-03T00:00:00.000000000'\n",
            " '2019-05-22T00:00:00.000000000' '2020-10-28T00:00:00.000000000'\n",
            " '2020-06-08T00:00:00.000000000' '2020-06-01T00:00:00.000000000'\n",
            " '2020-07-11T00:00:00.000000000' '2019-04-18T00:00:00.000000000'\n",
            " '2019-11-08T00:00:00.000000000' '2019-12-11T00:00:00.000000000'\n",
            " '2019-01-13T00:00:00.000000000' '2020-05-18T00:00:00.000000000'\n",
            " '2019-06-04T00:00:00.000000000' '2019-08-25T00:00:00.000000000'\n",
            " '2020-11-15T00:00:00.000000000' '2019-04-06T00:00:00.000000000'\n",
            " '2020-06-27T00:00:00.000000000' '2019-03-22T00:00:00.000000000'\n",
            " '2020-08-30T00:00:00.000000000' '2019-05-05T00:00:00.000000000'\n",
            " '2020-02-16T00:00:00.000000000' '2019-08-10T00:00:00.000000000'\n",
            " '2019-06-06T00:00:00.000000000' '2019-02-05T00:00:00.000000000'\n",
            " '2020-12-31T00:00:00.000000000' '2020-07-07T00:00:00.000000000'\n",
            " '2019-11-17T00:00:00.000000000' '2019-11-09T00:00:00.000000000'\n",
            " '2020-11-08T00:00:00.000000000' '2020-09-16T00:00:00.000000000'\n",
            " '2020-09-22T00:00:00.000000000' '2020-10-07T00:00:00.000000000'\n",
            " '2019-01-06T00:00:00.000000000' '2020-10-02T00:00:00.000000000'\n",
            " '2019-03-07T00:00:00.000000000' '2019-10-27T00:00:00.000000000'\n",
            " '2020-11-07T00:00:00.000000000' '2020-05-29T00:00:00.000000000'\n",
            " '2020-01-11T00:00:00.000000000' '2020-10-23T00:00:00.000000000'\n",
            " '2020-05-21T00:00:00.000000000' '2020-01-05T00:00:00.000000000'\n",
            " '2019-05-12T00:00:00.000000000' '2020-08-22T00:00:00.000000000'\n",
            " '2019-08-17T00:00:00.000000000' '2020-04-19T00:00:00.000000000'\n",
            " '2019-06-30T00:00:00.000000000' '2020-05-16T00:00:00.000000000'\n",
            " '2020-12-29T00:00:00.000000000' '2020-04-24T00:00:00.000000000'\n",
            " '2020-12-18T00:00:00.000000000' '2020-10-25T00:00:00.000000000'\n",
            " '2019-03-03T00:00:00.000000000' '2019-03-01T00:00:00.000000000'\n",
            " '2019-05-01T00:00:00.000000000' '2020-05-26T00:00:00.000000000'\n",
            " '2020-07-16T00:00:00.000000000' '2020-10-18T00:00:00.000000000'\n",
            " '2019-11-24T00:00:00.000000000' '2019-12-31T00:00:00.000000000'\n",
            " '2020-03-01T00:00:00.000000000' '2020-12-06T00:00:00.000000000'\n",
            " '2020-06-21T00:00:00.000000000' '2020-05-25T00:00:00.000000000'\n",
            " '2020-08-16T00:00:00.000000000' '2020-08-17T00:00:00.000000000'\n",
            " '2019-06-05T00:00:00.000000000' '2019-03-17T00:00:00.000000000'\n",
            " '2019-09-15T00:00:00.000000000' '2020-02-09T00:00:00.000000000'\n",
            " '2019-09-08T00:00:00.000000000' '2020-11-22T00:00:00.000000000'\n",
            " '2019-10-19T00:00:00.000000000' '2020-10-29T00:00:00.000000000'\n",
            " '2020-05-10T00:00:00.000000000' '2020-12-25T00:00:00.000000000'\n",
            " '2020-11-01T00:00:00.000000000' '2020-12-13T00:00:00.000000000'\n",
            " '2020-04-11T00:00:00.000000000' '2019-12-15T00:00:00.000000000'\n",
            " '2019-05-25T00:00:00.000000000' '2019-04-19T00:00:00.000000000'\n",
            " '2019-05-26T00:00:00.000000000' '2019-02-24T00:00:00.000000000'\n",
            " '2020-03-29T00:00:00.000000000' '2019-08-11T00:00:00.000000000'\n",
            " '2020-04-26T00:00:00.000000000' '2020-11-29T00:00:00.000000000'\n",
            " '2019-05-19T00:00:00.000000000' '2020-03-15T00:00:00.000000000'\n",
            " '2019-05-30T00:00:00.000000000' '2020-12-20T00:00:00.000000000'\n",
            " '2020-06-16T00:00:00.000000000' '2020-08-02T00:00:00.000000000'\n",
            " '2019-04-28T00:00:00.000000000' '2019-03-24T00:00:00.000000000'\n",
            " '2019-11-03T00:00:00.000000000' '2019-04-21T00:00:00.000000000'\n",
            " '2019-06-23T00:00:00.000000000' '2020-06-28T00:00:00.000000000'\n",
            " '2019-08-18T00:00:00.000000000' '2019-02-10T00:00:00.000000000'\n",
            " '2020-06-07T00:00:00.000000000' '2020-05-01T00:00:00.000000000'\n",
            " '2019-12-25T00:00:00.000000000' '2019-04-17T00:00:00.000000000'\n",
            " '2020-07-12T00:00:00.000000000' '2020-12-27T00:00:00.000000000'\n",
            " '2019-06-09T00:00:00.000000000' '2020-07-26T00:00:00.000000000'\n",
            " '2020-05-03T00:00:00.000000000' '2019-09-29T00:00:00.000000000'\n",
            " '2019-12-22T00:00:00.000000000' '2020-08-23T00:00:00.000000000'\n",
            " '2020-05-24T00:00:00.000000000' '2020-10-11T00:00:00.000000000'\n",
            " '2020-04-12T00:00:00.000000000' '2021-01-01T00:00:00.000000000'\n",
            " '2021-01-04T00:00:00.000000000' '2021-01-02T00:00:00.000000000'\n",
            " '2021-01-03T00:00:00.000000000' '2021-01-09T00:00:00.000000000']\n",
            "736\n",
            "4056161\n",
            "prov\n",
            "[51 35 34 62 18 33 14 63 13 73 21 31 16 64 53 12 15 72 17 91 36 32 52 74\n",
            " 11 19 94 71 61 81 82 75 76 65]\n",
            "34\n",
            "4056863\n",
            "kab\n",
            "[5171 3516 3402 3509 6206 1801 3374 5103 1471 6309 1302 7317 3373 3310\n",
            " 2171 3578 3522 3319 1371 7309 1407 3174 1612 6471 3171 5104 3471 5305\n",
            " 1205 3508 6302 1304 3305 7307 1223 3101 1503 3301 1807 3521 7209 3172\n",
            " 1704 3505 3329 1610 7306 1671 1409 3318 6472 7305 9108 3404 3308 3603\n",
            " 3515 1275 3275 3204 3312 3321 1810 3175 1408 5105 6409 1805 1405 1509\n",
            " 5272 1276 3510 3673 6371 1374 3671 1218 3206 1202 7405 7402 1607 1110\n",
            " 3574 1603 3328 7303 3573 7314 7322 1212 3322 3525 7371 3503 3303 3278\n",
            " 3372 5371 5318 3504 3327 3320 1802 3572 7313 1906 1215 1702 1611 7311\n",
            " 1404 6303 1312 1173 6308 3520 9401 3324 3276 5203 3524 1605 7373 7171\n",
            " 1804 5102 1111 1703 7325 3315 6108 3216 6101 1114 3215 8101 3302 5107\n",
            " 3523 9413 3513 6107 3604 3205 1272 6372 1502 3601 1204 1303 3214 3212\n",
            " 6402 3314 7326 3271 1220 3323 6301 1473 8204 3502 3325 3674 7101 3213\n",
            " 5202 6401 7571 6305 3506 3201 5101 1306 7202 3313 9171 6304 1305 3207\n",
            " 1171 5303 3209 6205 7210 2172 3577 3602 3277 3311 1904 3575 3202 1901\n",
            " 3317 1571 3511 7409 3173 3306 1706 8171 3375 7471 1206 7105 6403 3507\n",
            " 2103 1222 1809 1701 7208 5312 5307 1604 1271 1210 1277 3571 3210 7205\n",
            " 1221 3274 3307 1307 3512 6307 3517 3273 3376 1806 1903 6202 1115 7602\n",
            " 1213 1107 3401 3304 9471 1602 6112 1705 1309 8104 7502 7407 3514 1771\n",
            " 1872 3208 1608 1508 5206 6310 3326 1278 7172 3316 6271 6110 1274 5271\n",
            " 1402 6171 6204 7109 8103 1506 8271 6404 7271 5204 6501 7604 7404 7403\n",
            " 1803 1401 7401 9101 3518 3211 1211 8102 1203 3217 3218 5317 7408 7308\n",
            " 1108 1674 1813 5313 5108 3203 5316 3309 1208 1308 1707 7206 1606 1225\n",
            " 1273 1224 6213 7603 3272 6201 7504 1708 1118 7472 3529 1871 1808 7301\n",
            " 1377 3527 8172 1104 1672 7318 6109 1113 3526 3519 7601 1106 1109 3528\n",
            " 1501 1673 1209 1709 3579 5306 7304 7411 7102 7312 7414 1372 1406 5207\n",
            " 7316 6571 1902 6474 6203 5311 1410 1403 1505 7204 7415 7302 1105 2104\n",
            " 7413 9106 1207 5302 5208 1102 5309 1504 7107 7106 6102 1103 7606 5315\n",
            " 7174 3403 3672 5308 6172 8205 1311 7103 1101 5106 1601 6104 3279 5201\n",
            " 7372 6103 7110 3576 6212 7605 1116 1219 6105 7173 5304 1112 6306 7501\n",
            " 3501 8201 1172 1812 2102 7310 7406 8272 5205 1216 6311 7212 1971 6504\n",
            " 6502 7207 1609 3371 6210 6208 1217 1376 1174 1905 1572 1117 5319 7108\n",
            " 8206 6405 1811 1310 7201 6106 8107 6111 8207 1175 6503 8106 8109 7104\n",
            " 1375 9412 7203 9408 9409 9403 9432 7315 7505 5310 6211 9104 8105 5301\n",
            " 1507 1613 2101 7111 9411 9420 1373 6207 9402 5314 5321 9404 1214 7410\n",
            " 9107 9105 9427 7503 6209 8202 7211 1201 9414 9102 9415 8203 1301 8108\n",
            " 2105 9419 9426 7412 8208 5320 9428 9435 6411 9110 9111 9109 9418 9103\n",
            " 9431 9430 9429 9436 9410]\n",
            "509\n",
            "4056388\n",
            "kepemilikan\n",
            "[9 3 4 8 2 5 7 6 1]\n",
            "9\n",
            "4056888\n",
            "jenis\n",
            "[3 2 1 4 5 7]\n",
            "6\n",
            "4056891\n",
            "tipe\n",
            "[ 2  1  4  3  6  5  8 10  7]\n",
            "9\n",
            "4056888\n",
            "tingkat_pelayanan\n",
            "[1 3 2]\n",
            "3\n",
            "4056894\n",
            "jenis_poli\n",
            "[ 1.  3. 12. 13.  2.  4.  7.  5. 28.  6.  9. 27. 14. 18. 15.  8. 20. 17.\n",
            " 10. 19. 21. 25. 24. 23. 22. nan 26.]\n",
            "27\n",
            "4056870\n",
            "segmen_peserta\n",
            "[4 5 1 2 3]\n",
            "5\n",
            "4056892\n",
            "kode_ICD\n",
            "[ 773 1757  621 ... 1928 1959 1696]\n",
            "1837\n",
            "4055060\n",
            "kode_ICD3\n",
            "['K29' 'Z30' 'I10' ... 'Y11' 'X60' 'Y31']\n",
            "1837\n",
            "4055060\n",
            "kode_ICD4\n",
            "['K297' 'Z309' 'I10' ... 'R432' 'M1993' 'R859']\n",
            "9665\n",
            "4047232\n",
            "ICD4_diagnosis\n",
            "['Gastritis, unspecified' 'Contraceptive management, unspecified'\n",
            " 'Essential (primary) hypertension' ... 'Parageusia'\n",
            " 'Arthrosis, unspecified, forearm'\n",
            " 'Abnormal findings in specimens from digestive organs and abdominal cavity, unspecified abnormal finding']\n",
            "9660\n",
            "4047237\n",
            "prov_rujukan\n",
            "[98 73 63 18 13 33 35 64 53 32 34 51 36 12 14 11 21 19 74 31 71 17 94 52\n",
            " 16 62 72 91 61 65 15 82 76 81 75]\n",
            "35\n",
            "4056862\n",
            "kab_rujukan\n",
            "[9998 7307 6309 1810 1374 1805 3328 3573 3522 6472 5311 7311 3578 3509\n",
            " 3215 3302 3471 5171 3601 7306 1271 1471 3214 3321 6402 6301 3213 1807\n",
            " 1806 1171 3305 1409 3329 1312 2172 7373 1971 3277 3322 7409 3173 3375\n",
            " 7171 1702 3209 3603 1371 9471 3402 2171 1302 3204 1220 5271 1671 6204\n",
            " 7271 9101 3201 6171 3318 5104 1108 6501 1275 1201 3523 1508 3319 5316\n",
            " 1276 3510 3602 3301 1572 1502 1771 3374 8271 1871 5107 3371 1277 3517\n",
            " 3671 3528 7316 3574 1278 1808 6571 3511 1902 6203 1208 6471 3326 3273\n",
            " 7325 1410 7313 3172 3216 1105 3207 3271 3674 3205 1401 3217 6102 3404\n",
            " 3372 7174 3518 3513 5105 3320 3323 5308 3312 1101 7105 7372 3579 3208\n",
            " 1305 3310 3202 7472 1112 3309 6306 8201 1174 3275 1606 9171 3373 3203\n",
            " 3512 7471 3576 1209 7604 3520 3506 7202 6371 3303 3504 8171 3524 7406\n",
            " 3274 1609 6305 1503 1408 7371 1701 3314 3175 3210 3376 3672 1605 3526\n",
            " 6308 1213 3306 3507 5208 5106 1811 7201 1872 1207 3516 3401 1674 1109\n",
            " 5371 3514 1173 1608 3212 3525 3171 1604 1110 3571 1273 7310 1672 2104\n",
            " 6111 1601 1571 6307 3519 7102 3572 1903 7173 8103 3315 7602 1612 3174\n",
            " 1801 6372 5205 3673 1113 6101 3276 3324 3521 1212 6271 3308 1308 3604\n",
            " 6201 6502 1473 7318 1172 5307 1372 7404 3508 6302 7305 1602 7309 3577\n",
            " 3311 6404 7405 3317 6401 6303 7208 1375 5318 7403 6202 3529 1804 6172\n",
            " 5202 8204 3307 3515 3211 9401 2101 5103 6304 1402 3313 1118 7101 3316\n",
            " 1803 5102 1106 9420 3325 3278 6106 1303 1607 5203 6112 6311 5304 1809\n",
            " 1221 7172 1407 1222 1509 3501 1506 1310 7413 6409 3575 1117 8272 1114\n",
            " 3272 1707 5201 8102 7505 6205 6403 7314 5310 1603 1905 1406 8205 1673\n",
            " 1377 7571 3304 5302 8105 1507 1202 7504 1218 5306 6105 1274 7308 6207\n",
            " 6208 1376 7312 1211 5108 1705 1206 1901 3503 1311 3527 7104 7302 7315\n",
            " 6107 1306 5207 7204 7401 3403 6474 5301 1115 5317 3327 7322 5206 9108\n",
            " 1215 1204 1613 1505 1309 6405 7103 3502 1272 9102 1403 3505 7203 7317\n",
            " 1703 7411 7402 5312 1304 5321 7407 1404 1373 6310 1405 3279 5313 1116\n",
            " 1610 3206 6109 1102 5101 5204 8107 1704 1802 9107 1904 6206 5272 1223\n",
            " 9412 1104 7303 9106 6211 6104 7326 7601 7108 1906 1210 8172 1103 6108\n",
            " 1217 3101 9408 1216 1708 5303 2102 9402 7109 8109 5305 1205 7209 8101\n",
            " 7106 8104 7502 7304 9409 7605 7501 6504 1107 9105 7206 1709 7301 6103\n",
            " 1175 1504 2105 5309 6212 5315 1706 1307 6213 6110 7207 1203 8106 2103\n",
            " 7408 7503 7110 8206 6210 9404 3218 6209 9104 1611 7210 7107 7211 7603\n",
            " 1812 7410 8207 7212 1219 9403 7606 7415 8203 5314 9427 8202 9415 7205\n",
            " 9413 1813 1111 1301 5320 8108]\n",
            "482\n",
            "4056415\n",
            "kepemilikan_rujukan\n",
            "[98  3  9  5  2  4  8  1  7  6]\n",
            "10\n",
            "4056887\n",
            "jenis_rujukan\n",
            "[98  1  2]\n",
            "3\n",
            "4056894\n",
            "tipe_rujukan\n",
            "[98 28 34 14 27 37 33 35 13 38 29 15 10 39 26  9  8 17 36  5 31 99  6 32\n",
            " 11 12]\n",
            "26\n",
            "4056871\n",
            "poli_rujukan\n",
            "[98 99]\n",
            "2\n",
            "4056895\n",
            "jenis_kunjungan\n",
            "[1 2]\n",
            "2\n",
            "4056895\n",
            "status_pulang\n",
            "['Belum_Sehat' 'Sehat']\n",
            "2\n",
            "4056895\n"
          ]
        }
      ]
    },
    {
      "cell_type": "markdown",
      "source": [
        "### NaN Handler"
      ],
      "metadata": {
        "id": "etxB7bqSSlCH"
      }
    },
    {
      "cell_type": "code",
      "source": [
        "df['jenis_poli'].mode()"
      ],
      "metadata": {
        "colab": {
          "base_uri": "https://localhost:8080/"
        },
        "id": "nv7WezMZijee",
        "outputId": "9499b354-220b-471d-f889-2c4dc24c592a"
      },
      "execution_count": null,
      "outputs": [
        {
          "output_type": "execute_result",
          "data": {
            "text/plain": [
              "0    1\n",
              "dtype: int64"
            ]
          },
          "metadata": {},
          "execution_count": 67
        }
      ]
    },
    {
      "cell_type": "code",
      "source": [
        "df['kode_ICD4'] = df['kode_ICD4'].astype('str')"
      ],
      "metadata": {
        "id": "bHh5YejNgXcd"
      },
      "execution_count": null,
      "outputs": []
    },
    {
      "cell_type": "code",
      "source": [
        "#kolom 12 diisi mode\n",
        "df['jenis_poli'] = df['jenis_poli'].fillna(1.0)\n",
        "#kolom 15 diisi kode_ICD4[:3]\n",
        "icd3 = []\n",
        "for i in df['kode_ICD4']:\n",
        "  icd3.append(i[:3])\n",
        "df['kode_ICD3'] = icd3"
      ],
      "metadata": {
        "id": "NwwzKRAISnXM"
      },
      "execution_count": null,
      "outputs": []
    },
    {
      "cell_type": "code",
      "source": [
        "icd3"
      ],
      "metadata": {
        "id": "fkyV5U3rcbrY"
      },
      "execution_count": null,
      "outputs": []
    },
    {
      "cell_type": "code",
      "source": [
        "len(df['kode_ICD4'][0])"
      ],
      "metadata": {
        "colab": {
          "base_uri": "https://localhost:8080/"
        },
        "id": "Olrzn_5IbRxN",
        "outputId": "74791ac7-9d2b-4d22-8103-336871e0b443"
      },
      "execution_count": null,
      "outputs": [
        {
          "output_type": "execute_result",
          "data": {
            "text/plain": [
              "4"
            ]
          },
          "metadata": {},
          "execution_count": 71
        }
      ]
    },
    {
      "cell_type": "code",
      "source": [
        "df.isna().sum()"
      ],
      "metadata": {
        "colab": {
          "base_uri": "https://localhost:8080/"
        },
        "id": "0YAweisikkgo",
        "outputId": "6e6b42a3-bc7e-4ddd-8f5a-f6df30cb186c"
      },
      "execution_count": null,
      "outputs": [
        {
          "output_type": "execute_result",
          "data": {
            "text/plain": [
              "no_peserta             0\n",
              "no_kel                 0\n",
              "bobot                  0\n",
              "id_kunj                0\n",
              "tgl_datang             0\n",
              "tgl_pulang             0\n",
              "prov                   0\n",
              "kab                    0\n",
              "kepemilikan            0\n",
              "jenis                  0\n",
              "tipe                   0\n",
              "tingkat_pelayanan      0\n",
              "jenis_poli             0\n",
              "segmen_peserta         0\n",
              "kode_ICD               0\n",
              "kode_ICD3              0\n",
              "kode_ICD4              0\n",
              "ICD4_diagnosis         0\n",
              "prov_rujukan           0\n",
              "kab_rujukan            0\n",
              "kepemilikan_rujukan    0\n",
              "jenis_rujukan          0\n",
              "tipe_rujukan           0\n",
              "poli_rujukan           0\n",
              "jenis_kunjungan        0\n",
              "dtype: int64"
            ]
          },
          "metadata": {},
          "execution_count": 72
        }
      ]
    },
    {
      "cell_type": "markdown",
      "source": [
        "## Drop"
      ],
      "metadata": {
        "id": "VgLjMynRyHMg"
      }
    },
    {
      "cell_type": "code",
      "source": [
        "df = df.drop(['ICD4_diagnosis'], axis=1)\n",
        "df.info()"
      ],
      "metadata": {
        "id": "YANaPEyEyI0r",
        "colab": {
          "base_uri": "https://localhost:8080/"
        },
        "outputId": "eb55bd08-1d9b-458d-e551-96024cc18922"
      },
      "execution_count": null,
      "outputs": [
        {
          "output_type": "stream",
          "name": "stdout",
          "text": [
            "<class 'pandas.core.frame.DataFrame'>\n",
            "RangeIndex: 1014225 entries, 0 to 1014224\n",
            "Data columns (total 24 columns):\n",
            " #   Column               Non-Null Count    Dtype         \n",
            "---  ------               --------------    -----         \n",
            " 0   no_peserta           1014225 non-null  float64       \n",
            " 1   no_kel               1014225 non-null  int64         \n",
            " 2   bobot                1014225 non-null  float64       \n",
            " 3   id_kunj              1014225 non-null  object        \n",
            " 4   tgl_datang           1014225 non-null  datetime64[ns]\n",
            " 5   tgl_pulang           1014225 non-null  datetime64[ns]\n",
            " 6   prov                 1014225 non-null  int64         \n",
            " 7   kab                  1014225 non-null  int64         \n",
            " 8   kepemilikan          1014225 non-null  int64         \n",
            " 9   jenis                1014225 non-null  int64         \n",
            " 10  tipe                 1014225 non-null  int64         \n",
            " 11  tingkat_pelayanan    1014225 non-null  int64         \n",
            " 12  jenis_poli           1014225 non-null  int64         \n",
            " 13  segmen_peserta       1014225 non-null  int64         \n",
            " 14  kode_ICD             1014225 non-null  int64         \n",
            " 15  kode_ICD3            1014225 non-null  object        \n",
            " 16  kode_ICD4            1014225 non-null  object        \n",
            " 17  prov_rujukan         1014225 non-null  int64         \n",
            " 18  kab_rujukan          1014225 non-null  int64         \n",
            " 19  kepemilikan_rujukan  1014225 non-null  int64         \n",
            " 20  jenis_rujukan        1014225 non-null  int64         \n",
            " 21  tipe_rujukan         1014225 non-null  int64         \n",
            " 22  poli_rujukan         1014225 non-null  int64         \n",
            " 23  jenis_kunjungan      1014225 non-null  int64         \n",
            "dtypes: datetime64[ns](2), float64(2), int64(17), object(3)\n",
            "memory usage: 185.7+ MB\n"
          ]
        }
      ]
    },
    {
      "cell_type": "markdown",
      "source": [
        "# Feature Engineering"
      ],
      "metadata": {
        "id": "yBEkyyuDTCGw"
      }
    },
    {
      "cell_type": "markdown",
      "source": [
        "##Jumlah per peserta"
      ],
      "metadata": {
        "id": "o8mVi6i8TEQk"
      }
    },
    {
      "cell_type": "code",
      "source": [
        "df.groupby(['no_peserta']).head()"
      ],
      "metadata": {
        "colab": {
          "base_uri": "https://localhost:8080/",
          "height": 487
        },
        "id": "_xRyHfOOVEqR",
        "outputId": "f7b6bbed-72ae-4f64-91c8-323cdbf60463"
      },
      "execution_count": null,
      "outputs": [
        {
          "output_type": "execute_result",
          "data": {
            "text/plain": [
              "          no_peserta     no_kel       bobot           id_kunj tgl_datang  \\\n",
              "0         95085112.0   26931775    2.626307  449590620P000054 2020-06-17   \n",
              "1        224470578.0  227368233    1.051830  467490619P000001 2019-06-01   \n",
              "2         63871289.0   62313678  364.741455  254321219Y002368 2019-12-21   \n",
              "3         29915626.0  113446188    1.050523   88681119P000020 2019-11-04   \n",
              "4        189355720.0   69855169   30.044949   97010720P000238 2020-07-15   \n",
              "...              ...        ...         ...               ...        ...   \n",
              "4056887   24766757.0   44813505   16.388153   25380419Y000191 2019-04-22   \n",
              "4056889   18267669.0   90970599  299.083801        1042794066 2019-11-08   \n",
              "4056892  212666736.0   91270403   14.246229        1285820875 2020-07-29   \n",
              "4056893   30859241.0   30859241    3.886934  315641120P000514 2020-11-14   \n",
              "4056894    8859416.0    8859416    6.146070         962412926 2019-08-16   \n",
              "\n",
              "        tgl_pulang  prov   kab  kepemilikan  jenis  ...  kode_ICD3  kode_ICD4  \\\n",
              "0       2020-06-17    51  5171            9      3  ...         K2       K297   \n",
              "1       2019-06-01    35  3516            9      2  ...         Z3       Z309   \n",
              "2       2019-12-21    34  3402            3      1  ...         I1        I10   \n",
              "3       2019-11-04    35  3509            3      1  ...         I1       I110   \n",
              "4       2020-07-15    62  6206            3      1  ...         I1        I10   \n",
              "...            ...   ...   ...          ...    ...  ...        ...        ...   \n",
              "4056887 2019-04-22    53  5302            3      1  ...         J0        J09   \n",
              "4056889 2019-11-08    73  7309            3      1  ...         99       9999   \n",
              "4056892 2020-07-29    35  3505            9      3  ...         99       9999   \n",
              "4056893 2020-11-14    35  3514            9      2  ...         H2       H269   \n",
              "4056894 2019-08-16    11  1171            4      2  ...         99       9999   \n",
              "\n",
              "         prov_rujukan  kab_rujukan  kepemilikan_rujukan jenis_rujukan  \\\n",
              "0                  98         9998                   98            98   \n",
              "1                  98         9998                   98            98   \n",
              "2                  98         9998                   98            98   \n",
              "3                  98         9998                   98            98   \n",
              "4                  98         9998                   98            98   \n",
              "...               ...          ...                  ...           ...   \n",
              "4056887            98         9998                   98            98   \n",
              "4056889            98         9998                   98            98   \n",
              "4056892            98         9998                   98            98   \n",
              "4056893            35         3514                    9             2   \n",
              "4056894            98         9998                   98            98   \n",
              "\n",
              "        tipe_rujukan  poli_rujukan  jenis_kunjungan  status_pulang  \n",
              "0                 98            98                1    Belum_Sehat  \n",
              "1                 98            98                1    Belum_Sehat  \n",
              "2                 98            98                1    Belum_Sehat  \n",
              "3                 98            98                1    Belum_Sehat  \n",
              "4                 98            98                1    Belum_Sehat  \n",
              "...              ...           ...              ...            ...  \n",
              "4056887           98            98                1    Belum_Sehat  \n",
              "4056889           98            98                2          Sehat  \n",
              "4056892           98            98                2          Sehat  \n",
              "4056893           14            99                1    Belum_Sehat  \n",
              "4056894           98            98                2          Sehat  \n",
              "\n",
              "[2507818 rows x 25 columns]"
            ],
            "text/html": [
              "\n",
              "  <div id=\"df-c8433633-a60d-44d7-b912-756ecebecb82\">\n",
              "    <div class=\"colab-df-container\">\n",
              "      <div>\n",
              "<style scoped>\n",
              "    .dataframe tbody tr th:only-of-type {\n",
              "        vertical-align: middle;\n",
              "    }\n",
              "\n",
              "    .dataframe tbody tr th {\n",
              "        vertical-align: top;\n",
              "    }\n",
              "\n",
              "    .dataframe thead th {\n",
              "        text-align: right;\n",
              "    }\n",
              "</style>\n",
              "<table border=\"1\" class=\"dataframe\">\n",
              "  <thead>\n",
              "    <tr style=\"text-align: right;\">\n",
              "      <th></th>\n",
              "      <th>no_peserta</th>\n",
              "      <th>no_kel</th>\n",
              "      <th>bobot</th>\n",
              "      <th>id_kunj</th>\n",
              "      <th>tgl_datang</th>\n",
              "      <th>tgl_pulang</th>\n",
              "      <th>prov</th>\n",
              "      <th>kab</th>\n",
              "      <th>kepemilikan</th>\n",
              "      <th>jenis</th>\n",
              "      <th>...</th>\n",
              "      <th>kode_ICD3</th>\n",
              "      <th>kode_ICD4</th>\n",
              "      <th>prov_rujukan</th>\n",
              "      <th>kab_rujukan</th>\n",
              "      <th>kepemilikan_rujukan</th>\n",
              "      <th>jenis_rujukan</th>\n",
              "      <th>tipe_rujukan</th>\n",
              "      <th>poli_rujukan</th>\n",
              "      <th>jenis_kunjungan</th>\n",
              "      <th>status_pulang</th>\n",
              "    </tr>\n",
              "  </thead>\n",
              "  <tbody>\n",
              "    <tr>\n",
              "      <th>0</th>\n",
              "      <td>95085112.0</td>\n",
              "      <td>26931775</td>\n",
              "      <td>2.626307</td>\n",
              "      <td>449590620P000054</td>\n",
              "      <td>2020-06-17</td>\n",
              "      <td>2020-06-17</td>\n",
              "      <td>51</td>\n",
              "      <td>5171</td>\n",
              "      <td>9</td>\n",
              "      <td>3</td>\n",
              "      <td>...</td>\n",
              "      <td>K2</td>\n",
              "      <td>K297</td>\n",
              "      <td>98</td>\n",
              "      <td>9998</td>\n",
              "      <td>98</td>\n",
              "      <td>98</td>\n",
              "      <td>98</td>\n",
              "      <td>98</td>\n",
              "      <td>1</td>\n",
              "      <td>Belum_Sehat</td>\n",
              "    </tr>\n",
              "    <tr>\n",
              "      <th>1</th>\n",
              "      <td>224470578.0</td>\n",
              "      <td>227368233</td>\n",
              "      <td>1.051830</td>\n",
              "      <td>467490619P000001</td>\n",
              "      <td>2019-06-01</td>\n",
              "      <td>2019-06-01</td>\n",
              "      <td>35</td>\n",
              "      <td>3516</td>\n",
              "      <td>9</td>\n",
              "      <td>2</td>\n",
              "      <td>...</td>\n",
              "      <td>Z3</td>\n",
              "      <td>Z309</td>\n",
              "      <td>98</td>\n",
              "      <td>9998</td>\n",
              "      <td>98</td>\n",
              "      <td>98</td>\n",
              "      <td>98</td>\n",
              "      <td>98</td>\n",
              "      <td>1</td>\n",
              "      <td>Belum_Sehat</td>\n",
              "    </tr>\n",
              "    <tr>\n",
              "      <th>2</th>\n",
              "      <td>63871289.0</td>\n",
              "      <td>62313678</td>\n",
              "      <td>364.741455</td>\n",
              "      <td>254321219Y002368</td>\n",
              "      <td>2019-12-21</td>\n",
              "      <td>2019-12-21</td>\n",
              "      <td>34</td>\n",
              "      <td>3402</td>\n",
              "      <td>3</td>\n",
              "      <td>1</td>\n",
              "      <td>...</td>\n",
              "      <td>I1</td>\n",
              "      <td>I10</td>\n",
              "      <td>98</td>\n",
              "      <td>9998</td>\n",
              "      <td>98</td>\n",
              "      <td>98</td>\n",
              "      <td>98</td>\n",
              "      <td>98</td>\n",
              "      <td>1</td>\n",
              "      <td>Belum_Sehat</td>\n",
              "    </tr>\n",
              "    <tr>\n",
              "      <th>3</th>\n",
              "      <td>29915626.0</td>\n",
              "      <td>113446188</td>\n",
              "      <td>1.050523</td>\n",
              "      <td>88681119P000020</td>\n",
              "      <td>2019-11-04</td>\n",
              "      <td>2019-11-04</td>\n",
              "      <td>35</td>\n",
              "      <td>3509</td>\n",
              "      <td>3</td>\n",
              "      <td>1</td>\n",
              "      <td>...</td>\n",
              "      <td>I1</td>\n",
              "      <td>I110</td>\n",
              "      <td>98</td>\n",
              "      <td>9998</td>\n",
              "      <td>98</td>\n",
              "      <td>98</td>\n",
              "      <td>98</td>\n",
              "      <td>98</td>\n",
              "      <td>1</td>\n",
              "      <td>Belum_Sehat</td>\n",
              "    </tr>\n",
              "    <tr>\n",
              "      <th>4</th>\n",
              "      <td>189355720.0</td>\n",
              "      <td>69855169</td>\n",
              "      <td>30.044949</td>\n",
              "      <td>97010720P000238</td>\n",
              "      <td>2020-07-15</td>\n",
              "      <td>2020-07-15</td>\n",
              "      <td>62</td>\n",
              "      <td>6206</td>\n",
              "      <td>3</td>\n",
              "      <td>1</td>\n",
              "      <td>...</td>\n",
              "      <td>I1</td>\n",
              "      <td>I10</td>\n",
              "      <td>98</td>\n",
              "      <td>9998</td>\n",
              "      <td>98</td>\n",
              "      <td>98</td>\n",
              "      <td>98</td>\n",
              "      <td>98</td>\n",
              "      <td>1</td>\n",
              "      <td>Belum_Sehat</td>\n",
              "    </tr>\n",
              "    <tr>\n",
              "      <th>...</th>\n",
              "      <td>...</td>\n",
              "      <td>...</td>\n",
              "      <td>...</td>\n",
              "      <td>...</td>\n",
              "      <td>...</td>\n",
              "      <td>...</td>\n",
              "      <td>...</td>\n",
              "      <td>...</td>\n",
              "      <td>...</td>\n",
              "      <td>...</td>\n",
              "      <td>...</td>\n",
              "      <td>...</td>\n",
              "      <td>...</td>\n",
              "      <td>...</td>\n",
              "      <td>...</td>\n",
              "      <td>...</td>\n",
              "      <td>...</td>\n",
              "      <td>...</td>\n",
              "      <td>...</td>\n",
              "      <td>...</td>\n",
              "      <td>...</td>\n",
              "    </tr>\n",
              "    <tr>\n",
              "      <th>4056887</th>\n",
              "      <td>24766757.0</td>\n",
              "      <td>44813505</td>\n",
              "      <td>16.388153</td>\n",
              "      <td>25380419Y000191</td>\n",
              "      <td>2019-04-22</td>\n",
              "      <td>2019-04-22</td>\n",
              "      <td>53</td>\n",
              "      <td>5302</td>\n",
              "      <td>3</td>\n",
              "      <td>1</td>\n",
              "      <td>...</td>\n",
              "      <td>J0</td>\n",
              "      <td>J09</td>\n",
              "      <td>98</td>\n",
              "      <td>9998</td>\n",
              "      <td>98</td>\n",
              "      <td>98</td>\n",
              "      <td>98</td>\n",
              "      <td>98</td>\n",
              "      <td>1</td>\n",
              "      <td>Belum_Sehat</td>\n",
              "    </tr>\n",
              "    <tr>\n",
              "      <th>4056889</th>\n",
              "      <td>18267669.0</td>\n",
              "      <td>90970599</td>\n",
              "      <td>299.083801</td>\n",
              "      <td>1042794066</td>\n",
              "      <td>2019-11-08</td>\n",
              "      <td>2019-11-08</td>\n",
              "      <td>73</td>\n",
              "      <td>7309</td>\n",
              "      <td>3</td>\n",
              "      <td>1</td>\n",
              "      <td>...</td>\n",
              "      <td>99</td>\n",
              "      <td>9999</td>\n",
              "      <td>98</td>\n",
              "      <td>9998</td>\n",
              "      <td>98</td>\n",
              "      <td>98</td>\n",
              "      <td>98</td>\n",
              "      <td>98</td>\n",
              "      <td>2</td>\n",
              "      <td>Sehat</td>\n",
              "    </tr>\n",
              "    <tr>\n",
              "      <th>4056892</th>\n",
              "      <td>212666736.0</td>\n",
              "      <td>91270403</td>\n",
              "      <td>14.246229</td>\n",
              "      <td>1285820875</td>\n",
              "      <td>2020-07-29</td>\n",
              "      <td>2020-07-29</td>\n",
              "      <td>35</td>\n",
              "      <td>3505</td>\n",
              "      <td>9</td>\n",
              "      <td>3</td>\n",
              "      <td>...</td>\n",
              "      <td>99</td>\n",
              "      <td>9999</td>\n",
              "      <td>98</td>\n",
              "      <td>9998</td>\n",
              "      <td>98</td>\n",
              "      <td>98</td>\n",
              "      <td>98</td>\n",
              "      <td>98</td>\n",
              "      <td>2</td>\n",
              "      <td>Sehat</td>\n",
              "    </tr>\n",
              "    <tr>\n",
              "      <th>4056893</th>\n",
              "      <td>30859241.0</td>\n",
              "      <td>30859241</td>\n",
              "      <td>3.886934</td>\n",
              "      <td>315641120P000514</td>\n",
              "      <td>2020-11-14</td>\n",
              "      <td>2020-11-14</td>\n",
              "      <td>35</td>\n",
              "      <td>3514</td>\n",
              "      <td>9</td>\n",
              "      <td>2</td>\n",
              "      <td>...</td>\n",
              "      <td>H2</td>\n",
              "      <td>H269</td>\n",
              "      <td>35</td>\n",
              "      <td>3514</td>\n",
              "      <td>9</td>\n",
              "      <td>2</td>\n",
              "      <td>14</td>\n",
              "      <td>99</td>\n",
              "      <td>1</td>\n",
              "      <td>Belum_Sehat</td>\n",
              "    </tr>\n",
              "    <tr>\n",
              "      <th>4056894</th>\n",
              "      <td>8859416.0</td>\n",
              "      <td>8859416</td>\n",
              "      <td>6.146070</td>\n",
              "      <td>962412926</td>\n",
              "      <td>2019-08-16</td>\n",
              "      <td>2019-08-16</td>\n",
              "      <td>11</td>\n",
              "      <td>1171</td>\n",
              "      <td>4</td>\n",
              "      <td>2</td>\n",
              "      <td>...</td>\n",
              "      <td>99</td>\n",
              "      <td>9999</td>\n",
              "      <td>98</td>\n",
              "      <td>9998</td>\n",
              "      <td>98</td>\n",
              "      <td>98</td>\n",
              "      <td>98</td>\n",
              "      <td>98</td>\n",
              "      <td>2</td>\n",
              "      <td>Sehat</td>\n",
              "    </tr>\n",
              "  </tbody>\n",
              "</table>\n",
              "<p>2507818 rows × 25 columns</p>\n",
              "</div>\n",
              "      <button class=\"colab-df-convert\" onclick=\"convertToInteractive('df-c8433633-a60d-44d7-b912-756ecebecb82')\"\n",
              "              title=\"Convert this dataframe to an interactive table.\"\n",
              "              style=\"display:none;\">\n",
              "        \n",
              "  <svg xmlns=\"http://www.w3.org/2000/svg\" height=\"24px\"viewBox=\"0 0 24 24\"\n",
              "       width=\"24px\">\n",
              "    <path d=\"M0 0h24v24H0V0z\" fill=\"none\"/>\n",
              "    <path d=\"M18.56 5.44l.94 2.06.94-2.06 2.06-.94-2.06-.94-.94-2.06-.94 2.06-2.06.94zm-11 1L8.5 8.5l.94-2.06 2.06-.94-2.06-.94L8.5 2.5l-.94 2.06-2.06.94zm10 10l.94 2.06.94-2.06 2.06-.94-2.06-.94-.94-2.06-.94 2.06-2.06.94z\"/><path d=\"M17.41 7.96l-1.37-1.37c-.4-.4-.92-.59-1.43-.59-.52 0-1.04.2-1.43.59L10.3 9.45l-7.72 7.72c-.78.78-.78 2.05 0 2.83L4 21.41c.39.39.9.59 1.41.59.51 0 1.02-.2 1.41-.59l7.78-7.78 2.81-2.81c.8-.78.8-2.07 0-2.86zM5.41 20L4 18.59l7.72-7.72 1.47 1.35L5.41 20z\"/>\n",
              "  </svg>\n",
              "      </button>\n",
              "      \n",
              "  <style>\n",
              "    .colab-df-container {\n",
              "      display:flex;\n",
              "      flex-wrap:wrap;\n",
              "      gap: 12px;\n",
              "    }\n",
              "\n",
              "    .colab-df-convert {\n",
              "      background-color: #E8F0FE;\n",
              "      border: none;\n",
              "      border-radius: 50%;\n",
              "      cursor: pointer;\n",
              "      display: none;\n",
              "      fill: #1967D2;\n",
              "      height: 32px;\n",
              "      padding: 0 0 0 0;\n",
              "      width: 32px;\n",
              "    }\n",
              "\n",
              "    .colab-df-convert:hover {\n",
              "      background-color: #E2EBFA;\n",
              "      box-shadow: 0px 1px 2px rgba(60, 64, 67, 0.3), 0px 1px 3px 1px rgba(60, 64, 67, 0.15);\n",
              "      fill: #174EA6;\n",
              "    }\n",
              "\n",
              "    [theme=dark] .colab-df-convert {\n",
              "      background-color: #3B4455;\n",
              "      fill: #D2E3FC;\n",
              "    }\n",
              "\n",
              "    [theme=dark] .colab-df-convert:hover {\n",
              "      background-color: #434B5C;\n",
              "      box-shadow: 0px 1px 3px 1px rgba(0, 0, 0, 0.15);\n",
              "      filter: drop-shadow(0px 1px 2px rgba(0, 0, 0, 0.3));\n",
              "      fill: #FFFFFF;\n",
              "    }\n",
              "  </style>\n",
              "\n",
              "      <script>\n",
              "        const buttonEl =\n",
              "          document.querySelector('#df-c8433633-a60d-44d7-b912-756ecebecb82 button.colab-df-convert');\n",
              "        buttonEl.style.display =\n",
              "          google.colab.kernel.accessAllowed ? 'block' : 'none';\n",
              "\n",
              "        async function convertToInteractive(key) {\n",
              "          const element = document.querySelector('#df-c8433633-a60d-44d7-b912-756ecebecb82');\n",
              "          const dataTable =\n",
              "            await google.colab.kernel.invokeFunction('convertToInteractive',\n",
              "                                                     [key], {});\n",
              "          if (!dataTable) return;\n",
              "\n",
              "          const docLinkHtml = 'Like what you see? Visit the ' +\n",
              "            '<a target=\"_blank\" href=https://colab.research.google.com/notebooks/data_table.ipynb>data table notebook</a>'\n",
              "            + ' to learn more about interactive tables.';\n",
              "          element.innerHTML = '';\n",
              "          dataTable['output_type'] = 'display_data';\n",
              "          await google.colab.output.renderOutput(dataTable, element);\n",
              "          const docLink = document.createElement('div');\n",
              "          docLink.innerHTML = docLinkHtml;\n",
              "          element.appendChild(docLink);\n",
              "        }\n",
              "      </script>\n",
              "    </div>\n",
              "  </div>\n",
              "  "
            ]
          },
          "metadata": {},
          "execution_count": 20
        }
      ]
    },
    {
      "cell_type": "markdown",
      "source": [
        "jumlah kunjungan"
      ],
      "metadata": {
        "id": "dTLYgBsNTLJK"
      }
    },
    {
      "cell_type": "code",
      "source": [
        "df.groupby(['no_peserta']).size()"
      ],
      "metadata": {
        "id": "395iCrofU2Yd",
        "colab": {
          "base_uri": "https://localhost:8080/"
        },
        "outputId": "af8110c4-46c9-4b16-c388-b7e170ddbbfa"
      },
      "execution_count": null,
      "outputs": [
        {
          "output_type": "execute_result",
          "data": {
            "text/plain": [
              "no_peserta\n",
              "15.0           1\n",
              "101.0          1\n",
              "218.0          3\n",
              "349.0          1\n",
              "814.0          1\n",
              "              ..\n",
              "455361705.0    2\n",
              "455362964.0    3\n",
              "455369713.0    1\n",
              "455372039.0    2\n",
              "455377139.0    1\n",
              "Length: 478035, dtype: int64"
            ]
          },
          "metadata": {},
          "execution_count": 74
        }
      ]
    },
    {
      "cell_type": "code",
      "source": [
        "dup_id = df.groupby(['no_peserta']).size()\n",
        "dup_id_pes = []\n",
        "for i in df['no_peserta']:\n",
        "  dup_id_pes.append(dup_id[i])\n",
        "len(dup_id_pes)"
      ],
      "metadata": {
        "id": "-LBZp9UMTRsu",
        "colab": {
          "base_uri": "https://localhost:8080/"
        },
        "outputId": "0d781383-47e9-42cf-c115-58f4ecfc6604"
      },
      "execution_count": null,
      "outputs": [
        {
          "output_type": "execute_result",
          "data": {
            "text/plain": [
              "1014225"
            ]
          },
          "metadata": {},
          "execution_count": 75
        }
      ]
    },
    {
      "cell_type": "markdown",
      "source": [
        "jumlah pulang tidak sehat dan sehat"
      ],
      "metadata": {
        "id": "QQQBwTOzTNMs"
      }
    },
    {
      "cell_type": "code",
      "source": [
        "pes_pul = pd.DataFrame(df.groupby(['no_peserta', 'status_pulang']).size().reset_index())\n",
        "pes_pul"
      ],
      "metadata": {
        "colab": {
          "base_uri": "https://localhost:8080/",
          "height": 423
        },
        "id": "BBIi_0cyXjoR",
        "outputId": "2a56d490-e902-4f33-d0bd-953c94919f83"
      },
      "execution_count": null,
      "outputs": [
        {
          "output_type": "execute_result",
          "data": {
            "text/plain": [
              "          no_peserta status_pulang  0\n",
              "0               15.0         Sehat  1\n",
              "1              218.0   Belum_Sehat  2\n",
              "2              218.0         Sehat  8\n",
              "3              349.0         Sehat  2\n",
              "4              370.0   Belum_Sehat  1\n",
              "...              ...           ... ..\n",
              "1034174  455379400.0   Belum_Sehat  1\n",
              "1034175  455380114.0   Belum_Sehat  2\n",
              "1034176  455382357.0   Belum_Sehat  1\n",
              "1034177  455387636.0   Belum_Sehat  1\n",
              "1034178  455388519.0   Belum_Sehat  1\n",
              "\n",
              "[1034179 rows x 3 columns]"
            ],
            "text/html": [
              "\n",
              "  <div id=\"df-275ef38a-cccd-4cb3-a06f-38c5ab95737f\">\n",
              "    <div class=\"colab-df-container\">\n",
              "      <div>\n",
              "<style scoped>\n",
              "    .dataframe tbody tr th:only-of-type {\n",
              "        vertical-align: middle;\n",
              "    }\n",
              "\n",
              "    .dataframe tbody tr th {\n",
              "        vertical-align: top;\n",
              "    }\n",
              "\n",
              "    .dataframe thead th {\n",
              "        text-align: right;\n",
              "    }\n",
              "</style>\n",
              "<table border=\"1\" class=\"dataframe\">\n",
              "  <thead>\n",
              "    <tr style=\"text-align: right;\">\n",
              "      <th></th>\n",
              "      <th>no_peserta</th>\n",
              "      <th>status_pulang</th>\n",
              "      <th>0</th>\n",
              "    </tr>\n",
              "  </thead>\n",
              "  <tbody>\n",
              "    <tr>\n",
              "      <th>0</th>\n",
              "      <td>15.0</td>\n",
              "      <td>Sehat</td>\n",
              "      <td>1</td>\n",
              "    </tr>\n",
              "    <tr>\n",
              "      <th>1</th>\n",
              "      <td>218.0</td>\n",
              "      <td>Belum_Sehat</td>\n",
              "      <td>2</td>\n",
              "    </tr>\n",
              "    <tr>\n",
              "      <th>2</th>\n",
              "      <td>218.0</td>\n",
              "      <td>Sehat</td>\n",
              "      <td>8</td>\n",
              "    </tr>\n",
              "    <tr>\n",
              "      <th>3</th>\n",
              "      <td>349.0</td>\n",
              "      <td>Sehat</td>\n",
              "      <td>2</td>\n",
              "    </tr>\n",
              "    <tr>\n",
              "      <th>4</th>\n",
              "      <td>370.0</td>\n",
              "      <td>Belum_Sehat</td>\n",
              "      <td>1</td>\n",
              "    </tr>\n",
              "    <tr>\n",
              "      <th>...</th>\n",
              "      <td>...</td>\n",
              "      <td>...</td>\n",
              "      <td>...</td>\n",
              "    </tr>\n",
              "    <tr>\n",
              "      <th>1034174</th>\n",
              "      <td>455379400.0</td>\n",
              "      <td>Belum_Sehat</td>\n",
              "      <td>1</td>\n",
              "    </tr>\n",
              "    <tr>\n",
              "      <th>1034175</th>\n",
              "      <td>455380114.0</td>\n",
              "      <td>Belum_Sehat</td>\n",
              "      <td>2</td>\n",
              "    </tr>\n",
              "    <tr>\n",
              "      <th>1034176</th>\n",
              "      <td>455382357.0</td>\n",
              "      <td>Belum_Sehat</td>\n",
              "      <td>1</td>\n",
              "    </tr>\n",
              "    <tr>\n",
              "      <th>1034177</th>\n",
              "      <td>455387636.0</td>\n",
              "      <td>Belum_Sehat</td>\n",
              "      <td>1</td>\n",
              "    </tr>\n",
              "    <tr>\n",
              "      <th>1034178</th>\n",
              "      <td>455388519.0</td>\n",
              "      <td>Belum_Sehat</td>\n",
              "      <td>1</td>\n",
              "    </tr>\n",
              "  </tbody>\n",
              "</table>\n",
              "<p>1034179 rows × 3 columns</p>\n",
              "</div>\n",
              "      <button class=\"colab-df-convert\" onclick=\"convertToInteractive('df-275ef38a-cccd-4cb3-a06f-38c5ab95737f')\"\n",
              "              title=\"Convert this dataframe to an interactive table.\"\n",
              "              style=\"display:none;\">\n",
              "        \n",
              "  <svg xmlns=\"http://www.w3.org/2000/svg\" height=\"24px\"viewBox=\"0 0 24 24\"\n",
              "       width=\"24px\">\n",
              "    <path d=\"M0 0h24v24H0V0z\" fill=\"none\"/>\n",
              "    <path d=\"M18.56 5.44l.94 2.06.94-2.06 2.06-.94-2.06-.94-.94-2.06-.94 2.06-2.06.94zm-11 1L8.5 8.5l.94-2.06 2.06-.94-2.06-.94L8.5 2.5l-.94 2.06-2.06.94zm10 10l.94 2.06.94-2.06 2.06-.94-2.06-.94-.94-2.06-.94 2.06-2.06.94z\"/><path d=\"M17.41 7.96l-1.37-1.37c-.4-.4-.92-.59-1.43-.59-.52 0-1.04.2-1.43.59L10.3 9.45l-7.72 7.72c-.78.78-.78 2.05 0 2.83L4 21.41c.39.39.9.59 1.41.59.51 0 1.02-.2 1.41-.59l7.78-7.78 2.81-2.81c.8-.78.8-2.07 0-2.86zM5.41 20L4 18.59l7.72-7.72 1.47 1.35L5.41 20z\"/>\n",
              "  </svg>\n",
              "      </button>\n",
              "      \n",
              "  <style>\n",
              "    .colab-df-container {\n",
              "      display:flex;\n",
              "      flex-wrap:wrap;\n",
              "      gap: 12px;\n",
              "    }\n",
              "\n",
              "    .colab-df-convert {\n",
              "      background-color: #E8F0FE;\n",
              "      border: none;\n",
              "      border-radius: 50%;\n",
              "      cursor: pointer;\n",
              "      display: none;\n",
              "      fill: #1967D2;\n",
              "      height: 32px;\n",
              "      padding: 0 0 0 0;\n",
              "      width: 32px;\n",
              "    }\n",
              "\n",
              "    .colab-df-convert:hover {\n",
              "      background-color: #E2EBFA;\n",
              "      box-shadow: 0px 1px 2px rgba(60, 64, 67, 0.3), 0px 1px 3px 1px rgba(60, 64, 67, 0.15);\n",
              "      fill: #174EA6;\n",
              "    }\n",
              "\n",
              "    [theme=dark] .colab-df-convert {\n",
              "      background-color: #3B4455;\n",
              "      fill: #D2E3FC;\n",
              "    }\n",
              "\n",
              "    [theme=dark] .colab-df-convert:hover {\n",
              "      background-color: #434B5C;\n",
              "      box-shadow: 0px 1px 3px 1px rgba(0, 0, 0, 0.15);\n",
              "      filter: drop-shadow(0px 1px 2px rgba(0, 0, 0, 0.3));\n",
              "      fill: #FFFFFF;\n",
              "    }\n",
              "  </style>\n",
              "\n",
              "      <script>\n",
              "        const buttonEl =\n",
              "          document.querySelector('#df-275ef38a-cccd-4cb3-a06f-38c5ab95737f button.colab-df-convert');\n",
              "        buttonEl.style.display =\n",
              "          google.colab.kernel.accessAllowed ? 'block' : 'none';\n",
              "\n",
              "        async function convertToInteractive(key) {\n",
              "          const element = document.querySelector('#df-275ef38a-cccd-4cb3-a06f-38c5ab95737f');\n",
              "          const dataTable =\n",
              "            await google.colab.kernel.invokeFunction('convertToInteractive',\n",
              "                                                     [key], {});\n",
              "          if (!dataTable) return;\n",
              "\n",
              "          const docLinkHtml = 'Like what you see? Visit the ' +\n",
              "            '<a target=\"_blank\" href=https://colab.research.google.com/notebooks/data_table.ipynb>data table notebook</a>'\n",
              "            + ' to learn more about interactive tables.';\n",
              "          element.innerHTML = '';\n",
              "          dataTable['output_type'] = 'display_data';\n",
              "          await google.colab.output.renderOutput(dataTable, element);\n",
              "          const docLink = document.createElement('div');\n",
              "          docLink.innerHTML = docLinkHtml;\n",
              "          element.appendChild(docLink);\n",
              "        }\n",
              "      </script>\n",
              "    </div>\n",
              "  </div>\n",
              "  "
            ]
          },
          "metadata": {},
          "execution_count": 37
        }
      ]
    },
    {
      "cell_type": "code",
      "source": [
        "pes_pul.info()"
      ],
      "metadata": {
        "colab": {
          "base_uri": "https://localhost:8080/"
        },
        "id": "jkOzVF8TYlUw",
        "outputId": "a0bf2f69-2b9c-467a-93fd-e16c953dea84"
      },
      "execution_count": null,
      "outputs": [
        {
          "output_type": "stream",
          "name": "stdout",
          "text": [
            "<class 'pandas.core.frame.DataFrame'>\n",
            "RangeIndex: 1034179 entries, 0 to 1034178\n",
            "Data columns (total 3 columns):\n",
            " #   Column         Non-Null Count    Dtype  \n",
            "---  ------         --------------    -----  \n",
            " 0   no_peserta     1034179 non-null  float64\n",
            " 1   status_pulang  1034179 non-null  object \n",
            " 2   0              1034179 non-null  int64  \n",
            "dtypes: float64(1), int64(1), object(1)\n",
            "memory usage: 23.7+ MB\n"
          ]
        }
      ]
    },
    {
      "cell_type": "code",
      "source": [
        "tdk_sehat = []\n",
        "sehat = []\n",
        "for i in range(len(df['no_peserta'])):\n",
        "  print(i)\n",
        "  if len(pes_pul.loc[(pes_pul['no_peserta'] == df['no_peserta'][i]) & (pes_pul['status_pulang'] == 'Belum_Sehat')]) != 0:\n",
        "    tdk_sehat.append(pes_pul.loc[(pes_pul['no_peserta'] == df['no_peserta'][i]) & (pes_pul['status_pulang'] == 'Belum_Sehat')][0])\n",
        "  else:\n",
        "    tdk_sehat.append(0)\n",
        "  if len(pes_pul.loc[(pes_pul['no_peserta'] == df['no_peserta'][i]) & (pes_pul['status_pulang'] == 'Sehat')]) != 0:\n",
        "    sehat.append(pes_pul.loc[(pes_pul['no_peserta'] == df['no_peserta'][i]) & (pes_pul['status_pulang'] == 'Sehat')][0])\n",
        "  else:\n",
        "    sehat.append(0)\n",
        "print(len(tdk_sehat), len(sehat))"
      ],
      "metadata": {
        "id": "lp8ss14uVfi_"
      },
      "execution_count": null,
      "outputs": []
    },
    {
      "cell_type": "code",
      "source": [
        "df['jum_kunj'] = dup_id_pes\n",
        "# df['pul_sehat'] = sehat\n",
        "# df['pul_tida'] = tdk_sehat"
      ],
      "metadata": {
        "id": "rrkNQLZOle7L"
      },
      "execution_count": null,
      "outputs": []
    },
    {
      "cell_type": "code",
      "source": [
        "'9999' in df['kode_ICD4']"
      ],
      "metadata": {
        "colab": {
          "base_uri": "https://localhost:8080/"
        },
        "id": "4sVxGMYIYkUS",
        "outputId": "308471ee-8666-441e-e819-39f7da314bed"
      },
      "execution_count": null,
      "outputs": [
        {
          "output_type": "execute_result",
          "data": {
            "text/plain": [
              "False"
            ]
          },
          "metadata": {},
          "execution_count": 77
        }
      ]
    },
    {
      "cell_type": "code",
      "source": [
        "huruf = []\n",
        "angka = []\n",
        "for i in df['kode_ICD4']:\n",
        "  angka.append(i[1:])\n",
        "  huruf.append(i[0])"
      ],
      "metadata": {
        "id": "_qoA5Z-l-Hvr"
      },
      "execution_count": null,
      "outputs": []
    },
    {
      "cell_type": "code",
      "source": [
        "df['kodeICD_huruf'] = huruf"
      ],
      "metadata": {
        "id": "1s5MPil_ec99"
      },
      "execution_count": null,
      "outputs": []
    },
    {
      "cell_type": "code",
      "source": [
        "df['kodeICD_angka'] = angka"
      ],
      "metadata": {
        "id": "KRiKZbmzez6U"
      },
      "execution_count": null,
      "outputs": []
    },
    {
      "cell_type": "code",
      "source": [
        "df.isna().sum()"
      ],
      "metadata": {
        "colab": {
          "base_uri": "https://localhost:8080/"
        },
        "id": "RUZu0HAEXuYK",
        "outputId": "d3daee9c-2015-414e-af12-70b0e445a807"
      },
      "execution_count": null,
      "outputs": [
        {
          "output_type": "execute_result",
          "data": {
            "text/plain": [
              "no_peserta             0\n",
              "no_kel                 0\n",
              "bobot                  0\n",
              "id_kunj                0\n",
              "tgl_datang             0\n",
              "tgl_pulang             0\n",
              "prov                   0\n",
              "kab                    0\n",
              "kepemilikan            0\n",
              "jenis                  0\n",
              "tipe                   0\n",
              "tingkat_pelayanan      0\n",
              "jenis_poli             0\n",
              "segmen_peserta         0\n",
              "kode_ICD               0\n",
              "kode_ICD3              0\n",
              "kode_ICD4              0\n",
              "prov_rujukan           0\n",
              "kab_rujukan            0\n",
              "kepemilikan_rujukan    0\n",
              "jenis_rujukan          0\n",
              "tipe_rujukan           0\n",
              "poli_rujukan           0\n",
              "jenis_kunjungan        0\n",
              "jum_kunj               0\n",
              "kodeICD_huruf          0\n",
              "kodeICD_angka          0\n",
              "dtype: int64"
            ]
          },
          "metadata": {},
          "execution_count": 81
        }
      ]
    },
    {
      "cell_type": "code",
      "source": [
        "df['kodeICD_angka'] = df['kodeICD_angka'].astype('float')"
      ],
      "metadata": {
        "id": "Rd62wEYbfG6B"
      },
      "execution_count": null,
      "outputs": []
    },
    {
      "cell_type": "code",
      "source": [
        "hari_inap = (df['tgl_pulang'] - df['tgl_datang']).dt.days\n",
        "df['jml_hari'] = hari_inap"
      ],
      "metadata": {
        "id": "XFuUiTOL-NIP"
      },
      "execution_count": null,
      "outputs": []
    },
    {
      "cell_type": "code",
      "source": [
        "df.info()"
      ],
      "metadata": {
        "colab": {
          "base_uri": "https://localhost:8080/"
        },
        "id": "dTH5TYNRe16w",
        "outputId": "9881864f-a037-4865-819c-514b421b4cff"
      },
      "execution_count": null,
      "outputs": [
        {
          "output_type": "stream",
          "name": "stdout",
          "text": [
            "<class 'pandas.core.frame.DataFrame'>\n",
            "RangeIndex: 1014225 entries, 0 to 1014224\n",
            "Data columns (total 28 columns):\n",
            " #   Column               Non-Null Count    Dtype         \n",
            "---  ------               --------------    -----         \n",
            " 0   no_peserta           1014225 non-null  float64       \n",
            " 1   no_kel               1014225 non-null  int64         \n",
            " 2   bobot                1014225 non-null  float64       \n",
            " 3   id_kunj              1014225 non-null  object        \n",
            " 4   tgl_datang           1014225 non-null  datetime64[ns]\n",
            " 5   tgl_pulang           1014225 non-null  datetime64[ns]\n",
            " 6   prov                 1014225 non-null  int64         \n",
            " 7   kab                  1014225 non-null  int64         \n",
            " 8   kepemilikan          1014225 non-null  int64         \n",
            " 9   jenis                1014225 non-null  int64         \n",
            " 10  tipe                 1014225 non-null  int64         \n",
            " 11  tingkat_pelayanan    1014225 non-null  int64         \n",
            " 12  jenis_poli           1014225 non-null  int64         \n",
            " 13  segmen_peserta       1014225 non-null  int64         \n",
            " 14  kode_ICD             1014225 non-null  int64         \n",
            " 15  kode_ICD3            1014225 non-null  object        \n",
            " 16  kode_ICD4            1014225 non-null  object        \n",
            " 17  prov_rujukan         1014225 non-null  int64         \n",
            " 18  kab_rujukan          1014225 non-null  int64         \n",
            " 19  kepemilikan_rujukan  1014225 non-null  int64         \n",
            " 20  jenis_rujukan        1014225 non-null  int64         \n",
            " 21  tipe_rujukan         1014225 non-null  int64         \n",
            " 22  poli_rujukan         1014225 non-null  int64         \n",
            " 23  jenis_kunjungan      1014225 non-null  int64         \n",
            " 24  jum_kunj             1014225 non-null  int64         \n",
            " 25  kodeICD_huruf        1014225 non-null  object        \n",
            " 26  kodeICD_angka        1014225 non-null  float64       \n",
            " 27  jml_hari             1014225 non-null  int64         \n",
            "dtypes: datetime64[ns](2), float64(3), int64(19), object(4)\n",
            "memory usage: 216.7+ MB\n"
          ]
        }
      ]
    },
    {
      "cell_type": "code",
      "source": [
        "df['tgl_datang'] = pd.to_datetime(df.tgl_datang, format='%Y-%m-%d').values.astype(\"float64\")\n",
        "df['tgl_pulang'] = pd.to_datetime(df.tgl_datang, format='%Y-%m-%d').values.astype(\"float64\")"
      ],
      "metadata": {
        "id": "0tFcTCY2fIJO"
      },
      "execution_count": null,
      "outputs": []
    },
    {
      "cell_type": "code",
      "source": [
        "df.to_csv('/content/drive/MyDrive/BDC/test-siap-encode.csv')"
      ],
      "metadata": {
        "id": "PiB51QnzfQyd"
      },
      "execution_count": null,
      "outputs": []
    },
    {
      "cell_type": "markdown",
      "source": [
        "# EDA"
      ],
      "metadata": {
        "id": "BU7ZA5Ipy6zD"
      }
    },
    {
      "cell_type": "markdown",
      "source": [
        "## Encoding"
      ],
      "metadata": {
        "id": "OLktuddYyEY-"
      }
    },
    {
      "cell_type": "code",
      "source": [
        "import pandas as pd\n",
        "\n",
        "test = pd.read_csv(\"/content/drive/MyDrive/BDC/test-siap-encode.csv\", sep=\",\")\n",
        "test.info()"
      ],
      "metadata": {
        "id": "_MKyniVgyDKK",
        "colab": {
          "base_uri": "https://localhost:8080/"
        },
        "outputId": "f44b24a8-6191-4737-e105-5a66db898e8c"
      },
      "execution_count": null,
      "outputs": [
        {
          "output_type": "stream",
          "name": "stderr",
          "text": [
            "/usr/local/lib/python3.7/dist-packages/IPython/core/interactiveshell.py:3326: DtypeWarning: Columns (4,16,17,26) have mixed types.Specify dtype option on import or set low_memory=False.\n",
            "  exec(code_obj, self.user_global_ns, self.user_ns)\n"
          ]
        },
        {
          "output_type": "stream",
          "name": "stdout",
          "text": [
            "<class 'pandas.core.frame.DataFrame'>\n",
            "RangeIndex: 1014225 entries, 0 to 1014224\n",
            "Data columns (total 29 columns):\n",
            " #   Column               Non-Null Count    Dtype  \n",
            "---  ------               --------------    -----  \n",
            " 0   Unnamed: 0           1014225 non-null  int64  \n",
            " 1   no_peserta           1014225 non-null  float64\n",
            " 2   no_kel               1014225 non-null  int64  \n",
            " 3   bobot                1014225 non-null  float64\n",
            " 4   id_kunj              1014225 non-null  object \n",
            " 5   tgl_datang           1014225 non-null  float64\n",
            " 6   tgl_pulang           1014225 non-null  float64\n",
            " 7   prov                 1014225 non-null  int64  \n",
            " 8   kab                  1014225 non-null  int64  \n",
            " 9   kepemilikan          1014225 non-null  int64  \n",
            " 10  jenis                1014225 non-null  int64  \n",
            " 11  tipe                 1014225 non-null  int64  \n",
            " 12  tingkat_pelayanan    1014225 non-null  int64  \n",
            " 13  jenis_poli           1014225 non-null  int64  \n",
            " 14  segmen_peserta       1014225 non-null  int64  \n",
            " 15  kode_ICD             1014225 non-null  int64  \n",
            " 16  kode_ICD3            1014225 non-null  object \n",
            " 17  kode_ICD4            1014225 non-null  object \n",
            " 18  prov_rujukan         1014225 non-null  int64  \n",
            " 19  kab_rujukan          1014225 non-null  int64  \n",
            " 20  kepemilikan_rujukan  1014225 non-null  int64  \n",
            " 21  jenis_rujukan        1014225 non-null  int64  \n",
            " 22  tipe_rujukan         1014225 non-null  int64  \n",
            " 23  poli_rujukan         1014225 non-null  int64  \n",
            " 24  jenis_kunjungan      1014225 non-null  int64  \n",
            " 25  jum_kunj             1014225 non-null  int64  \n",
            " 26  kodeICD_huruf        1014225 non-null  object \n",
            " 27  kodeICD_angka        1014225 non-null  float64\n",
            " 28  jml_hari             1014225 non-null  int64  \n",
            "dtypes: float64(5), int64(20), object(4)\n",
            "memory usage: 224.4+ MB\n"
          ]
        }
      ]
    },
    {
      "cell_type": "code",
      "source": [
        "train = pd.read_csv(\"/content/drive/MyDrive/BDC/train-siap-encode.csv\", sep=\",\")\n",
        "train.info()"
      ],
      "metadata": {
        "colab": {
          "base_uri": "https://localhost:8080/",
          "height": 188
        },
        "id": "VXSdkcRwllyj",
        "outputId": "6b23c1ca-4953-411e-9272-544eaf88a56e"
      },
      "execution_count": null,
      "outputs": [
        {
          "output_type": "error",
          "ename": "NameError",
          "evalue": "ignored",
          "traceback": [
            "\u001b[0;31m---------------------------------------------------------------------------\u001b[0m",
            "\u001b[0;31mNameError\u001b[0m                                 Traceback (most recent call last)",
            "\u001b[0;32m<ipython-input-1-7c8d1e32c029>\u001b[0m in \u001b[0;36m<module>\u001b[0;34m\u001b[0m\n\u001b[0;32m----> 1\u001b[0;31m \u001b[0mtrain\u001b[0m \u001b[0;34m=\u001b[0m \u001b[0mpd\u001b[0m\u001b[0;34m.\u001b[0m\u001b[0mread_csv\u001b[0m\u001b[0;34m(\u001b[0m\u001b[0;34m\"/content/drive/MyDrive/BDC/train-siap-encode.csv\"\u001b[0m\u001b[0;34m,\u001b[0m \u001b[0msep\u001b[0m\u001b[0;34m=\u001b[0m\u001b[0;34m\",\"\u001b[0m\u001b[0;34m)\u001b[0m\u001b[0;34m\u001b[0m\u001b[0;34m\u001b[0m\u001b[0m\n\u001b[0m\u001b[1;32m      2\u001b[0m \u001b[0mtrain\u001b[0m\u001b[0;34m.\u001b[0m\u001b[0minfo\u001b[0m\u001b[0;34m(\u001b[0m\u001b[0;34m)\u001b[0m\u001b[0;34m\u001b[0m\u001b[0;34m\u001b[0m\u001b[0m\n",
            "\u001b[0;31mNameError\u001b[0m: name 'pd' is not defined"
          ]
        }
      ]
    },
    {
      "cell_type": "code",
      "source": [
        "import pandas as pd\n",
        "test = pd.read_csv('/content/drive/MyDrive/BDC/test-icd3-icd4-jenis_kunj-encode.csv')"
      ],
      "metadata": {
        "colab": {
          "base_uri": "https://localhost:8080/"
        },
        "id": "v_wTq6ll-f0Y",
        "outputId": "6762478d-5a0e-4ef9-fe60-4412ef44cd11"
      },
      "execution_count": null,
      "outputs": [
        {
          "output_type": "stream",
          "name": "stderr",
          "text": [
            "/usr/local/lib/python3.7/dist-packages/IPython/core/interactiveshell.py:3326: DtypeWarning: Columns (22) have mixed types.Specify dtype option on import or set low_memory=False.\n",
            "  exec(code_obj, self.user_global_ns, self.user_ns)\n"
          ]
        }
      ]
    },
    {
      "cell_type": "code",
      "source": [
        "from sklearn.preprocessing import OneHotEncoder\n",
        "from sklearn.preprocessing import LabelEncoder"
      ],
      "metadata": {
        "id": "-obM3jtAyN-O"
      },
      "execution_count": null,
      "outputs": []
    },
    {
      "cell_type": "code",
      "source": [
        "list_df = ['kode_ICD_huruf', 'kode_ICD_angka']\n",
        "hasil_encode_train = pd.DataFrame()"
      ],
      "metadata": {
        "id": "YZts-FnTPc4N"
      },
      "execution_count": null,
      "outputs": []
    },
    {
      "cell_type": "code",
      "source": [
        "df['kodeICD_huruf'] = df['kodeICD_huruf'].astype('str')\n",
        "df['kodeICD_angka'] = df['kodeICD_angka'].astype('str')"
      ],
      "metadata": {
        "id": "RfTKzfS6PwrK"
      },
      "execution_count": null,
      "outputs": []
    },
    {
      "cell_type": "code",
      "source": [
        "df.info()"
      ],
      "metadata": {
        "colab": {
          "base_uri": "https://localhost:8080/"
        },
        "id": "uMOatdiCQqQp",
        "outputId": "769d245d-0e96-4a7d-c714-34a2cb92c3a8"
      },
      "execution_count": null,
      "outputs": [
        {
          "output_type": "stream",
          "name": "stdout",
          "text": [
            "<class 'pandas.core.frame.DataFrame'>\n",
            "RangeIndex: 4056897 entries, 0 to 4056896\n",
            "Data columns (total 29 columns):\n",
            " #   Column               Dtype  \n",
            "---  ------               -----  \n",
            " 0   no_peserta           float64\n",
            " 1   no_kel               int64  \n",
            " 2   bobot                float64\n",
            " 3   id_kunj              object \n",
            " 4   tgl_datang           float64\n",
            " 5   tgl_pulang           float64\n",
            " 6   prov                 int64  \n",
            " 7   kab                  int64  \n",
            " 8   kepemilikan          int64  \n",
            " 9   jenis                int64  \n",
            " 10  tipe                 int64  \n",
            " 11  tingkat_pelayanan    int64  \n",
            " 12  jenis_poli           float64\n",
            " 13  segmen_peserta       int64  \n",
            " 14  kode_ICD             int64  \n",
            " 15  kode_ICD3            object \n",
            " 16  kode_ICD4            object \n",
            " 17  prov_rujukan         int64  \n",
            " 18  kab_rujukan          int64  \n",
            " 19  kepemilikan_rujukan  int64  \n",
            " 20  jenis_rujukan        int64  \n",
            " 21  tipe_rujukan         int64  \n",
            " 22  poli_rujukan         int64  \n",
            " 23  jenis_kunjungan      int64  \n",
            " 24  status_pulang        object \n",
            " 25  jum_kunj             int64  \n",
            " 26  kodeICD_huruf        object \n",
            " 27  kodeICD_angka        float64\n",
            " 28  jml_hari             int64  \n",
            "dtypes: float64(6), int64(18), object(5)\n",
            "memory usage: 897.6+ MB\n"
          ]
        }
      ]
    },
    {
      "cell_type": "code",
      "source": [
        "list_df = ['kode_ICD4', 'kode_ICD3','jenis_kunjungan']\n",
        "hasil_encode_test = pd.DataFrame()\n",
        "hasil_encode_train = pd.DataFrame()"
      ],
      "metadata": {
        "id": "rpnAIwMzmNus"
      },
      "execution_count": null,
      "outputs": []
    },
    {
      "cell_type": "code",
      "source": [
        "train['kode_ICD4'] = train['kode_ICD4'].astype('str')\n",
        "test['kode_ICD4'] = train['kode_ICD4'].astype('str')\n",
        "train['kode_ICD3'] = train['kode_ICD3'].astype('str')\n",
        "test['kode_ICD3'] = train['kode_ICD3'].astype('str')\n",
        "train['kode_ICD3'] = train['kode_ICD3'].astype('str')\n",
        "test['kode_ICD3'] = train['kode_ICD3'].astype('str')"
      ],
      "metadata": {
        "id": "GL0aJQsQnH0n"
      },
      "execution_count": null,
      "outputs": []
    },
    {
      "cell_type": "code",
      "source": [
        "from sklearn import preprocessing\n",
        "le = preprocessing.LabelEncoder()\n",
        "for i in list_df:\n",
        "    print(i)\n",
        "    le.fit(list(set(list(train[i].unique()) + list(test[i].unique()))))\n",
        "    # list(le.classes_)\n",
        "    hasil_encode_test[i] = le.transform(test[i])\n",
        "    hasil_encode_train[i] = le.transform(train[i])"
      ],
      "metadata": {
        "colab": {
          "base_uri": "https://localhost:8080/"
        },
        "id": "-cPkek7Cmizd",
        "outputId": "73fafe27-4233-4fbd-fe70-82268fd412eb"
      },
      "execution_count": null,
      "outputs": [
        {
          "output_type": "stream",
          "name": "stdout",
          "text": [
            "kode_ICD4\n",
            "kode_ICD3\n",
            "jenis_kunjungan\n"
          ]
        }
      ]
    },
    {
      "cell_type": "code",
      "source": [
        "hasil_encode_test.info()"
      ],
      "metadata": {
        "colab": {
          "base_uri": "https://localhost:8080/"
        },
        "id": "b45boHKbnwm5",
        "outputId": "9fea8bb7-518e-4732-81eb-6dc0a64994ba"
      },
      "execution_count": null,
      "outputs": [
        {
          "output_type": "stream",
          "name": "stdout",
          "text": [
            "<class 'pandas.core.frame.DataFrame'>\n",
            "RangeIndex: 1014225 entries, 0 to 1014224\n",
            "Data columns (total 3 columns):\n",
            " #   Column           Non-Null Count    Dtype\n",
            "---  ------           --------------    -----\n",
            " 0   kode_ICD4        1014225 non-null  int64\n",
            " 1   kode_ICD3        1014225 non-null  int64\n",
            " 2   jenis_kunjungan  1014225 non-null  int64\n",
            "dtypes: int64(3)\n",
            "memory usage: 23.2 MB\n"
          ]
        }
      ]
    },
    {
      "cell_type": "code",
      "source": [
        "test['id_kunj'] = test['id_kunj'].astype('str')"
      ],
      "metadata": {
        "id": "0ATd4V6VpzEg"
      },
      "execution_count": null,
      "outputs": []
    },
    {
      "cell_type": "code",
      "source": [
        "#perform label encoding\n",
        "test[['no_kel_enc', 'id_kunj_enc']] = test[['no_kel', 'id_kunj']].apply(LabelEncoder().fit_transform)\n",
        "\n",
        "#view udpated DataFrame\n",
        "# print(df)"
      ],
      "metadata": {
        "id": "55sHuP9fyQq1",
        "colab": {
          "base_uri": "https://localhost:8080/",
          "height": 380
        },
        "outputId": "56cc27f8-085f-4e0b-85df-dd67d308762b"
      },
      "execution_count": null,
      "outputs": [
        {
          "output_type": "error",
          "ename": "KeyError",
          "evalue": "ignored",
          "traceback": [
            "\u001b[0;31m---------------------------------------------------------------------------\u001b[0m",
            "\u001b[0;31mKeyError\u001b[0m                                  Traceback (most recent call last)",
            "\u001b[0;32m<ipython-input-3-a85e0e307af8>\u001b[0m in \u001b[0;36m<module>\u001b[0;34m\u001b[0m\n\u001b[1;32m      1\u001b[0m \u001b[0;31m#perform label encoding\u001b[0m\u001b[0;34m\u001b[0m\u001b[0;34m\u001b[0m\u001b[0;34m\u001b[0m\u001b[0m\n\u001b[0;32m----> 2\u001b[0;31m \u001b[0mtest\u001b[0m\u001b[0;34m[\u001b[0m\u001b[0;34m[\u001b[0m\u001b[0;34m'no_kel_enc'\u001b[0m\u001b[0;34m,\u001b[0m \u001b[0;34m'id_kunj_enc'\u001b[0m\u001b[0;34m]\u001b[0m\u001b[0;34m]\u001b[0m \u001b[0;34m=\u001b[0m \u001b[0mtest\u001b[0m\u001b[0;34m[\u001b[0m\u001b[0;34m[\u001b[0m\u001b[0;34m'no_kel'\u001b[0m\u001b[0;34m,\u001b[0m \u001b[0;34m'id_kunj'\u001b[0m\u001b[0;34m]\u001b[0m\u001b[0;34m]\u001b[0m\u001b[0;34m.\u001b[0m\u001b[0mapply\u001b[0m\u001b[0;34m(\u001b[0m\u001b[0mLabelEncoder\u001b[0m\u001b[0;34m(\u001b[0m\u001b[0;34m)\u001b[0m\u001b[0;34m.\u001b[0m\u001b[0mfit_transform\u001b[0m\u001b[0;34m)\u001b[0m\u001b[0;34m\u001b[0m\u001b[0;34m\u001b[0m\u001b[0m\n\u001b[0m\u001b[1;32m      3\u001b[0m \u001b[0;34m\u001b[0m\u001b[0m\n\u001b[1;32m      4\u001b[0m \u001b[0;31m#view udpated DataFrame\u001b[0m\u001b[0;34m\u001b[0m\u001b[0;34m\u001b[0m\u001b[0;34m\u001b[0m\u001b[0m\n\u001b[1;32m      5\u001b[0m \u001b[0;31m# print(df)\u001b[0m\u001b[0;34m\u001b[0m\u001b[0;34m\u001b[0m\u001b[0;34m\u001b[0m\u001b[0m\n",
            "\u001b[0;32m/usr/local/lib/python3.7/dist-packages/pandas/core/frame.py\u001b[0m in \u001b[0;36m__getitem__\u001b[0;34m(self, key)\u001b[0m\n\u001b[1;32m   3462\u001b[0m             \u001b[0;32mif\u001b[0m \u001b[0mis_iterator\u001b[0m\u001b[0;34m(\u001b[0m\u001b[0mkey\u001b[0m\u001b[0;34m)\u001b[0m\u001b[0;34m:\u001b[0m\u001b[0;34m\u001b[0m\u001b[0;34m\u001b[0m\u001b[0m\n\u001b[1;32m   3463\u001b[0m                 \u001b[0mkey\u001b[0m \u001b[0;34m=\u001b[0m \u001b[0mlist\u001b[0m\u001b[0;34m(\u001b[0m\u001b[0mkey\u001b[0m\u001b[0;34m)\u001b[0m\u001b[0;34m\u001b[0m\u001b[0;34m\u001b[0m\u001b[0m\n\u001b[0;32m-> 3464\u001b[0;31m             \u001b[0mindexer\u001b[0m \u001b[0;34m=\u001b[0m \u001b[0mself\u001b[0m\u001b[0;34m.\u001b[0m\u001b[0mloc\u001b[0m\u001b[0;34m.\u001b[0m\u001b[0m_get_listlike_indexer\u001b[0m\u001b[0;34m(\u001b[0m\u001b[0mkey\u001b[0m\u001b[0;34m,\u001b[0m \u001b[0maxis\u001b[0m\u001b[0;34m=\u001b[0m\u001b[0;36m1\u001b[0m\u001b[0;34m)\u001b[0m\u001b[0;34m[\u001b[0m\u001b[0;36m1\u001b[0m\u001b[0;34m]\u001b[0m\u001b[0;34m\u001b[0m\u001b[0;34m\u001b[0m\u001b[0m\n\u001b[0m\u001b[1;32m   3465\u001b[0m \u001b[0;34m\u001b[0m\u001b[0m\n\u001b[1;32m   3466\u001b[0m         \u001b[0;31m# take() does not accept boolean indexers\u001b[0m\u001b[0;34m\u001b[0m\u001b[0;34m\u001b[0m\u001b[0;34m\u001b[0m\u001b[0m\n",
            "\u001b[0;32m/usr/local/lib/python3.7/dist-packages/pandas/core/indexing.py\u001b[0m in \u001b[0;36m_get_listlike_indexer\u001b[0;34m(self, key, axis)\u001b[0m\n\u001b[1;32m   1312\u001b[0m             \u001b[0mkeyarr\u001b[0m\u001b[0;34m,\u001b[0m \u001b[0mindexer\u001b[0m\u001b[0;34m,\u001b[0m \u001b[0mnew_indexer\u001b[0m \u001b[0;34m=\u001b[0m \u001b[0max\u001b[0m\u001b[0;34m.\u001b[0m\u001b[0m_reindex_non_unique\u001b[0m\u001b[0;34m(\u001b[0m\u001b[0mkeyarr\u001b[0m\u001b[0;34m)\u001b[0m\u001b[0;34m\u001b[0m\u001b[0;34m\u001b[0m\u001b[0m\n\u001b[1;32m   1313\u001b[0m \u001b[0;34m\u001b[0m\u001b[0m\n\u001b[0;32m-> 1314\u001b[0;31m         \u001b[0mself\u001b[0m\u001b[0;34m.\u001b[0m\u001b[0m_validate_read_indexer\u001b[0m\u001b[0;34m(\u001b[0m\u001b[0mkeyarr\u001b[0m\u001b[0;34m,\u001b[0m \u001b[0mindexer\u001b[0m\u001b[0;34m,\u001b[0m \u001b[0maxis\u001b[0m\u001b[0;34m)\u001b[0m\u001b[0;34m\u001b[0m\u001b[0;34m\u001b[0m\u001b[0m\n\u001b[0m\u001b[1;32m   1315\u001b[0m \u001b[0;34m\u001b[0m\u001b[0m\n\u001b[1;32m   1316\u001b[0m         if needs_i8_conversion(ax.dtype) or isinstance(\n",
            "\u001b[0;32m/usr/local/lib/python3.7/dist-packages/pandas/core/indexing.py\u001b[0m in \u001b[0;36m_validate_read_indexer\u001b[0;34m(self, key, indexer, axis)\u001b[0m\n\u001b[1;32m   1372\u001b[0m                 \u001b[0;32mif\u001b[0m \u001b[0muse_interval_msg\u001b[0m\u001b[0;34m:\u001b[0m\u001b[0;34m\u001b[0m\u001b[0;34m\u001b[0m\u001b[0m\n\u001b[1;32m   1373\u001b[0m                     \u001b[0mkey\u001b[0m \u001b[0;34m=\u001b[0m \u001b[0mlist\u001b[0m\u001b[0;34m(\u001b[0m\u001b[0mkey\u001b[0m\u001b[0;34m)\u001b[0m\u001b[0;34m\u001b[0m\u001b[0;34m\u001b[0m\u001b[0m\n\u001b[0;32m-> 1374\u001b[0;31m                 \u001b[0;32mraise\u001b[0m \u001b[0mKeyError\u001b[0m\u001b[0;34m(\u001b[0m\u001b[0;34mf\"None of [{key}] are in the [{axis_name}]\"\u001b[0m\u001b[0;34m)\u001b[0m\u001b[0;34m\u001b[0m\u001b[0;34m\u001b[0m\u001b[0m\n\u001b[0m\u001b[1;32m   1375\u001b[0m \u001b[0;34m\u001b[0m\u001b[0m\n\u001b[1;32m   1376\u001b[0m             \u001b[0mnot_found\u001b[0m \u001b[0;34m=\u001b[0m \u001b[0mlist\u001b[0m\u001b[0;34m(\u001b[0m\u001b[0mensure_index\u001b[0m\u001b[0;34m(\u001b[0m\u001b[0mkey\u001b[0m\u001b[0;34m)\u001b[0m\u001b[0;34m[\u001b[0m\u001b[0mmissing_mask\u001b[0m\u001b[0;34m.\u001b[0m\u001b[0mnonzero\u001b[0m\u001b[0;34m(\u001b[0m\u001b[0;34m)\u001b[0m\u001b[0;34m[\u001b[0m\u001b[0;36m0\u001b[0m\u001b[0;34m]\u001b[0m\u001b[0;34m]\u001b[0m\u001b[0;34m.\u001b[0m\u001b[0munique\u001b[0m\u001b[0;34m(\u001b[0m\u001b[0;34m)\u001b[0m\u001b[0;34m)\u001b[0m\u001b[0;34m\u001b[0m\u001b[0;34m\u001b[0m\u001b[0m\n",
            "\u001b[0;31mKeyError\u001b[0m: \"None of [Index(['no_kel', 'id_kunj'], dtype='object')] are in the [columns]\""
          ]
        }
      ]
    },
    {
      "cell_type": "code",
      "source": [
        "test[['kode_ICD3_enc', 'kode_ICD4_enc', 'jenis_kunjungan_enc']] = hasil_encode_test"
      ],
      "metadata": {
        "id": "bQ3AcAh_p8Se"
      },
      "execution_count": null,
      "outputs": []
    },
    {
      "cell_type": "code",
      "source": [
        "test = test.drop(['no_kel', 'id_kunj', 'kode_ICD3', 'kode_ICD4', 'jenis_kunjungan'], axis=1)\n",
        "test.info()"
      ],
      "metadata": {
        "id": "gNNJ7KrmyVIm",
        "colab": {
          "base_uri": "https://localhost:8080/"
        },
        "outputId": "1549e759-91f5-450e-e702-56497eb53037"
      },
      "execution_count": null,
      "outputs": [
        {
          "output_type": "stream",
          "name": "stdout",
          "text": [
            "<class 'pandas.core.frame.DataFrame'>\n",
            "RangeIndex: 1014225 entries, 0 to 1014224\n",
            "Data columns (total 29 columns):\n",
            " #   Column               Non-Null Count    Dtype  \n",
            "---  ------               --------------    -----  \n",
            " 0   Unnamed: 0           1014225 non-null  int64  \n",
            " 1   no_peserta           1014225 non-null  float64\n",
            " 2   bobot                1014225 non-null  float64\n",
            " 3   tgl_datang           1014225 non-null  float64\n",
            " 4   tgl_pulang           1014225 non-null  float64\n",
            " 5   prov                 1014225 non-null  int64  \n",
            " 6   kab                  1014225 non-null  int64  \n",
            " 7   kepemilikan          1014225 non-null  int64  \n",
            " 8   jenis                1014225 non-null  int64  \n",
            " 9   tipe                 1014225 non-null  int64  \n",
            " 10  tingkat_pelayanan    1014225 non-null  int64  \n",
            " 11  jenis_poli           1014225 non-null  int64  \n",
            " 12  segmen_peserta       1014225 non-null  int64  \n",
            " 13  kode_ICD             1014225 non-null  int64  \n",
            " 14  prov_rujukan         1014225 non-null  int64  \n",
            " 15  kab_rujukan          1014225 non-null  int64  \n",
            " 16  kepemilikan_rujukan  1014225 non-null  int64  \n",
            " 17  jenis_rujukan        1014225 non-null  int64  \n",
            " 18  tipe_rujukan         1014225 non-null  int64  \n",
            " 19  poli_rujukan         1014225 non-null  int64  \n",
            " 20  jum_kunj             1014225 non-null  int64  \n",
            " 21  kodeICD_huruf        1014225 non-null  object \n",
            " 22  kodeICD_angka        1014225 non-null  float64\n",
            " 23  jml_hari             1014225 non-null  int64  \n",
            " 24  no_kel_enc           1014225 non-null  int64  \n",
            " 25  id_kunj_enc          1014225 non-null  int64  \n",
            " 26  kode_ICD3_enc        1014225 non-null  int64  \n",
            " 27  kode_ICD4_enc        1014225 non-null  int64  \n",
            " 28  jenis_kunjungan_enc  1014225 non-null  int64  \n",
            "dtypes: float64(5), int64(23), object(1)\n",
            "memory usage: 224.4+ MB\n"
          ]
        }
      ]
    },
    {
      "cell_type": "code",
      "source": [
        "hasil_encode_train.to_csv('/content/drive/MyDrive/BDC/train-icd3-icd4-jenis_kunj-encode.csv')\n",
        "test.to_csv('/content/drive/MyDrive/BDC/test-icd3-icd4-jenis_kunj-encode.csv')"
      ],
      "metadata": {
        "id": "cqk-A0yq9NzE"
      },
      "execution_count": null,
      "outputs": []
    },
    {
      "cell_type": "code",
      "source": [
        "test['kodeICD_huruf'] = test['kodeICD_huruf'].astype('str')"
      ],
      "metadata": {
        "id": "MP8dFTJk8yAK"
      },
      "execution_count": null,
      "outputs": []
    },
    {
      "cell_type": "code",
      "source": [
        "test.info()"
      ],
      "metadata": {
        "colab": {
          "base_uri": "https://localhost:8080/"
        },
        "id": "pa1wtG-_XUuk",
        "outputId": "8e4e2d23-d648-4a72-a736-6f4744066aaf"
      },
      "execution_count": null,
      "outputs": [
        {
          "output_type": "stream",
          "name": "stdout",
          "text": [
            "<class 'pandas.core.frame.DataFrame'>\n",
            "RangeIndex: 1014225 entries, 0 to 1014224\n",
            "Data columns (total 30 columns):\n",
            " #   Column               Non-Null Count    Dtype  \n",
            "---  ------               --------------    -----  \n",
            " 0   Unnamed: 0           1014225 non-null  int64  \n",
            " 1   Unnamed: 0.1         1014225 non-null  int64  \n",
            " 2   no_peserta           1014225 non-null  float64\n",
            " 3   bobot                1014225 non-null  float64\n",
            " 4   tgl_datang           1014225 non-null  float64\n",
            " 5   tgl_pulang           1014225 non-null  float64\n",
            " 6   prov                 1014225 non-null  int64  \n",
            " 7   kab                  1014225 non-null  int64  \n",
            " 8   kepemilikan          1014225 non-null  int64  \n",
            " 9   jenis                1014225 non-null  int64  \n",
            " 10  tipe                 1014225 non-null  int64  \n",
            " 11  tingkat_pelayanan    1014225 non-null  int64  \n",
            " 12  jenis_poli           1014225 non-null  int64  \n",
            " 13  segmen_peserta       1014225 non-null  int64  \n",
            " 14  kode_ICD             1014225 non-null  int64  \n",
            " 15  prov_rujukan         1014225 non-null  int64  \n",
            " 16  kab_rujukan          1014225 non-null  int64  \n",
            " 17  kepemilikan_rujukan  1014225 non-null  int64  \n",
            " 18  jenis_rujukan        1014225 non-null  int64  \n",
            " 19  tipe_rujukan         1014225 non-null  int64  \n",
            " 20  poli_rujukan         1014225 non-null  int64  \n",
            " 21  jum_kunj             1014225 non-null  int64  \n",
            " 22  kodeICD_huruf        1014225 non-null  object \n",
            " 23  kodeICD_angka        1014225 non-null  float64\n",
            " 24  jml_hari             1014225 non-null  int64  \n",
            " 25  no_kel_enc           1014225 non-null  int64  \n",
            " 26  id_kunj_enc          1014225 non-null  int64  \n",
            " 27  kode_ICD3_enc        1014225 non-null  int64  \n",
            " 28  kode_ICD4_enc        1014225 non-null  int64  \n",
            " 29  jenis_kunjungan_enc  1014225 non-null  int64  \n",
            "dtypes: float64(5), int64(24), object(1)\n",
            "memory usage: 232.1+ MB\n"
          ]
        }
      ]
    },
    {
      "cell_type": "code",
      "source": [
        "encoder = OneHotEncoder(handle_unknown='ignore')\n",
        "encoder_df = pd.DataFrame(encoder.fit_transform(test[['prov']]).toarray())\n",
        "encoder_df.columns = encoder.get_feature_names(['Prov'])\n",
        "test = test.join(encoder_df)\n",
        "\n",
        "encoder_df = pd.DataFrame(encoder.fit_transform(test[['kepemilikan']]).toarray())\n",
        "encoder_df.columns = encoder.get_feature_names(['kepemilikan'])\n",
        "test = test.join(encoder_df)\n",
        "\n",
        "encoder_df = pd.DataFrame(encoder.fit_transform(test[['jenis']]).toarray())\n",
        "encoder_df.columns = encoder.get_feature_names(['jenis'])\n",
        "test = test.join(encoder_df)\n",
        "\n",
        "encoder_df = pd.DataFrame(encoder.fit_transform(test[['tipe']]).toarray())\n",
        "encoder_df.columns = encoder.get_feature_names(['tipe'])\n",
        "test = test.join(encoder_df)\n",
        "\n",
        "encoder_df = pd.DataFrame(encoder.fit_transform(test[['tingkat_pelayanan']]).toarray())\n",
        "encoder_df.columns = encoder.get_feature_names(['tingkat_pelayanan'])\n",
        "test = test.join(encoder_df)\n",
        "\n",
        "encoder_df = pd.DataFrame(encoder.fit_transform(test[['jenis_poli']]).toarray())\n",
        "encoder_df.columns = encoder.get_feature_names(['jenis_poli'])\n",
        "test = test.join(encoder_df)\n",
        "\n",
        "encoder_df = pd.DataFrame(encoder.fit_transform(test[['segmen_peserta']]).toarray())\n",
        "encoder_df.columns = encoder.get_feature_names(['segmen_peserta'])\n",
        "test = test.join(encoder_df)\n",
        "\n",
        "encoder = OneHotEncoder(handle_unknown='ignore')\n",
        "encoder_df = pd.DataFrame(encoder.fit_transform(test[['prov_rujukan']]).toarray())\n",
        "encoder_df.columns = encoder.get_feature_names(['prov_rujukan'])\n",
        "test = test.join(encoder_df)\n",
        "\n",
        "encoder_df = pd.DataFrame(encoder.fit_transform(test[['kepemilikan_rujukan']]).toarray())\n",
        "encoder_df.columns = encoder.get_feature_names(['kepemilikan_rujukan'])\n",
        "test = test.join(encoder_df)\n",
        "\n",
        "encoder_df = pd.DataFrame(encoder.fit_transform(test[['jenis_rujukan']]).toarray())\n",
        "encoder_df.columns = encoder.get_feature_names(['jenis_rujukan'])\n",
        "test = test.join(encoder_df)\n",
        "\n",
        "encoder_df = pd.DataFrame(encoder.fit_transform(test[['tipe_rujukan']]).toarray())\n",
        "encoder_df.columns = encoder.get_feature_names(['tipe_rujukan'])\n",
        "test = test.join(encoder_df)\n",
        "\n",
        "encoder_df = pd.DataFrame(encoder.fit_transform(test[['kodeICD_huruf']]).toarray())\n",
        "encoder_df.columns = encoder.get_feature_names(['kodeICD_huruf'])\n",
        "test = test.join(encoder_df)"
      ],
      "metadata": {
        "id": "ovzuULZzyYvs",
        "colab": {
          "base_uri": "https://localhost:8080/"
        },
        "outputId": "0c3e1a80-966d-4154-c257-b32a0e9dd8d9"
      },
      "execution_count": null,
      "outputs": [
        {
          "output_type": "stream",
          "name": "stderr",
          "text": [
            "/usr/local/lib/python3.7/dist-packages/sklearn/utils/deprecation.py:87: FutureWarning: Function get_feature_names is deprecated; get_feature_names is deprecated in 1.0 and will be removed in 1.2. Please use get_feature_names_out instead.\n",
            "  warnings.warn(msg, category=FutureWarning)\n",
            "/usr/local/lib/python3.7/dist-packages/sklearn/utils/deprecation.py:87: FutureWarning: Function get_feature_names is deprecated; get_feature_names is deprecated in 1.0 and will be removed in 1.2. Please use get_feature_names_out instead.\n",
            "  warnings.warn(msg, category=FutureWarning)\n",
            "/usr/local/lib/python3.7/dist-packages/sklearn/utils/deprecation.py:87: FutureWarning: Function get_feature_names is deprecated; get_feature_names is deprecated in 1.0 and will be removed in 1.2. Please use get_feature_names_out instead.\n",
            "  warnings.warn(msg, category=FutureWarning)\n",
            "/usr/local/lib/python3.7/dist-packages/sklearn/utils/deprecation.py:87: FutureWarning: Function get_feature_names is deprecated; get_feature_names is deprecated in 1.0 and will be removed in 1.2. Please use get_feature_names_out instead.\n",
            "  warnings.warn(msg, category=FutureWarning)\n",
            "/usr/local/lib/python3.7/dist-packages/sklearn/utils/deprecation.py:87: FutureWarning: Function get_feature_names is deprecated; get_feature_names is deprecated in 1.0 and will be removed in 1.2. Please use get_feature_names_out instead.\n",
            "  warnings.warn(msg, category=FutureWarning)\n",
            "/usr/local/lib/python3.7/dist-packages/sklearn/utils/deprecation.py:87: FutureWarning: Function get_feature_names is deprecated; get_feature_names is deprecated in 1.0 and will be removed in 1.2. Please use get_feature_names_out instead.\n",
            "  warnings.warn(msg, category=FutureWarning)\n",
            "/usr/local/lib/python3.7/dist-packages/sklearn/utils/deprecation.py:87: FutureWarning: Function get_feature_names is deprecated; get_feature_names is deprecated in 1.0 and will be removed in 1.2. Please use get_feature_names_out instead.\n",
            "  warnings.warn(msg, category=FutureWarning)\n",
            "/usr/local/lib/python3.7/dist-packages/sklearn/utils/deprecation.py:87: FutureWarning: Function get_feature_names is deprecated; get_feature_names is deprecated in 1.0 and will be removed in 1.2. Please use get_feature_names_out instead.\n",
            "  warnings.warn(msg, category=FutureWarning)\n",
            "/usr/local/lib/python3.7/dist-packages/sklearn/utils/deprecation.py:87: FutureWarning: Function get_feature_names is deprecated; get_feature_names is deprecated in 1.0 and will be removed in 1.2. Please use get_feature_names_out instead.\n",
            "  warnings.warn(msg, category=FutureWarning)\n",
            "/usr/local/lib/python3.7/dist-packages/sklearn/utils/deprecation.py:87: FutureWarning: Function get_feature_names is deprecated; get_feature_names is deprecated in 1.0 and will be removed in 1.2. Please use get_feature_names_out instead.\n",
            "  warnings.warn(msg, category=FutureWarning)\n",
            "/usr/local/lib/python3.7/dist-packages/sklearn/utils/deprecation.py:87: FutureWarning: Function get_feature_names is deprecated; get_feature_names is deprecated in 1.0 and will be removed in 1.2. Please use get_feature_names_out instead.\n",
            "  warnings.warn(msg, category=FutureWarning)\n"
          ]
        }
      ]
    },
    {
      "cell_type": "code",
      "source": [
        "test = test.drop(['Unnamed: 0', 'prov', 'kepemilikan', 'jenis', 'tipe', 'tingkat_pelayanan', 'jenis_poli', 'segmen_peserta', 'prov_rujukan', 'kepemilikan_rujukan', 'jenis_rujukan', 'tipe_rujukan', 'kodeICD_huruf'], axis=1)"
      ],
      "metadata": {
        "id": "Dg_Kltf5y5mJ",
        "colab": {
          "base_uri": "https://localhost:8080/",
          "height": 188
        },
        "outputId": "793b912c-0a58-4910-a875-f408ac0162bf"
      },
      "execution_count": null,
      "outputs": [
        {
          "output_type": "error",
          "ename": "NameError",
          "evalue": "ignored",
          "traceback": [
            "\u001b[0;31m---------------------------------------------------------------------------\u001b[0m",
            "\u001b[0;31mNameError\u001b[0m                                 Traceback (most recent call last)",
            "\u001b[0;32m<ipython-input-1-26b0f99d09c1>\u001b[0m in \u001b[0;36m<module>\u001b[0;34m\u001b[0m\n\u001b[0;32m----> 1\u001b[0;31m \u001b[0mtest\u001b[0m \u001b[0;34m=\u001b[0m \u001b[0mtest\u001b[0m\u001b[0;34m.\u001b[0m\u001b[0mdrop\u001b[0m\u001b[0;34m(\u001b[0m\u001b[0;34m[\u001b[0m\u001b[0;34m'Unnamed: 0'\u001b[0m\u001b[0;34m,\u001b[0m \u001b[0;34m'prov'\u001b[0m\u001b[0;34m,\u001b[0m \u001b[0;34m'kepemilikan'\u001b[0m\u001b[0;34m,\u001b[0m \u001b[0;34m'jenis'\u001b[0m\u001b[0;34m,\u001b[0m \u001b[0;34m'tipe'\u001b[0m\u001b[0;34m,\u001b[0m \u001b[0;34m'tingkat_pelayanan'\u001b[0m\u001b[0;34m,\u001b[0m \u001b[0;34m'jenis_poli'\u001b[0m\u001b[0;34m,\u001b[0m \u001b[0;34m'segmen_peserta'\u001b[0m\u001b[0;34m,\u001b[0m \u001b[0;34m'prov_rujukan'\u001b[0m\u001b[0;34m,\u001b[0m \u001b[0;34m'kepemilikan_rujukan'\u001b[0m\u001b[0;34m,\u001b[0m \u001b[0;34m'jenis_rujukan'\u001b[0m\u001b[0;34m,\u001b[0m \u001b[0;34m'tipe_rujukan'\u001b[0m\u001b[0;34m,\u001b[0m \u001b[0;34m'kodeICD_huruf'\u001b[0m\u001b[0;34m]\u001b[0m\u001b[0;34m,\u001b[0m \u001b[0maxis\u001b[0m\u001b[0;34m=\u001b[0m\u001b[0;36m1\u001b[0m\u001b[0;34m)\u001b[0m\u001b[0;34m\u001b[0m\u001b[0;34m\u001b[0m\u001b[0m\n\u001b[0m",
            "\u001b[0;31mNameError\u001b[0m: name 'test' is not defined"
          ]
        }
      ]
    },
    {
      "cell_type": "code",
      "source": [
        "test.to_csv('/content/drive/MyDrive/BDC/test-encoded.csv')"
      ],
      "metadata": {
        "id": "Ar989Opxy6PB",
        "colab": {
          "base_uri": "https://localhost:8080/",
          "height": 169
        },
        "outputId": "03eeaa3a-e9c9-4357-aaa3-01b3f4db5a8c"
      },
      "execution_count": null,
      "outputs": [
        {
          "output_type": "error",
          "ename": "NameError",
          "evalue": "ignored",
          "traceback": [
            "\u001b[0;31m---------------------------------------------------------------------------\u001b[0m",
            "\u001b[0;31mNameError\u001b[0m                                 Traceback (most recent call last)",
            "\u001b[0;32m<ipython-input-2-bd9865f93383>\u001b[0m in \u001b[0;36m<module>\u001b[0;34m\u001b[0m\n\u001b[0;32m----> 1\u001b[0;31m \u001b[0mtest\u001b[0m\u001b[0;34m.\u001b[0m\u001b[0mto_csv\u001b[0m\u001b[0;34m(\u001b[0m\u001b[0;34m'/content/drive/MyDrive/BDC/test-encoded.csv'\u001b[0m\u001b[0;34m)\u001b[0m\u001b[0;34m\u001b[0m\u001b[0;34m\u001b[0m\u001b[0m\n\u001b[0m",
            "\u001b[0;31mNameError\u001b[0m: name 'test' is not defined"
          ]
        }
      ]
    },
    {
      "cell_type": "code",
      "source": [
        "test.info()"
      ],
      "metadata": {
        "colab": {
          "base_uri": "https://localhost:8080/"
        },
        "id": "MnGgX6VtSyQL",
        "outputId": "54c08971-2665-4144-ab52-39e8b6fcb709"
      },
      "execution_count": null,
      "outputs": [
        {
          "output_type": "stream",
          "name": "stdout",
          "text": [
            "<class 'pandas.core.frame.DataFrame'>\n",
            "RangeIndex: 1014225 entries, 0 to 1014224\n",
            "Data columns (total 29 columns):\n",
            " #   Column               Non-Null Count    Dtype  \n",
            "---  ------               --------------    -----  \n",
            " 0   Unnamed: 0           1014225 non-null  int64  \n",
            " 1   no_peserta           1014225 non-null  float64\n",
            " 2   no_kel               1014225 non-null  int64  \n",
            " 3   bobot                1014225 non-null  float64\n",
            " 4   id_kunj              1014225 non-null  object \n",
            " 5   tgl_datang           1014225 non-null  float64\n",
            " 6   tgl_pulang           1014225 non-null  float64\n",
            " 7   prov                 1014225 non-null  int64  \n",
            " 8   kab                  1014225 non-null  int64  \n",
            " 9   kepemilikan          1014225 non-null  int64  \n",
            " 10  jenis                1014225 non-null  int64  \n",
            " 11  tipe                 1014225 non-null  int64  \n",
            " 12  tingkat_pelayanan    1014225 non-null  int64  \n",
            " 13  jenis_poli           1014225 non-null  int64  \n",
            " 14  segmen_peserta       1014225 non-null  int64  \n",
            " 15  kode_ICD             1014225 non-null  int64  \n",
            " 16  kode_ICD3            1014225 non-null  object \n",
            " 17  kode_ICD4            1014225 non-null  object \n",
            " 18  prov_rujukan         1014225 non-null  int64  \n",
            " 19  kab_rujukan          1014225 non-null  int64  \n",
            " 20  kepemilikan_rujukan  1014225 non-null  int64  \n",
            " 21  jenis_rujukan        1014225 non-null  int64  \n",
            " 22  tipe_rujukan         1014225 non-null  int64  \n",
            " 23  poli_rujukan         1014225 non-null  int64  \n",
            " 24  jenis_kunjungan      1014225 non-null  int64  \n",
            " 25  jum_kunj             1014225 non-null  int64  \n",
            " 26  kodeICD_huruf        1014225 non-null  object \n",
            " 27  kodeICD_angka        1014225 non-null  float64\n",
            " 28  jml_hari             1014225 non-null  int64  \n",
            "dtypes: float64(5), int64(20), object(4)\n",
            "memory usage: 224.4+ MB\n"
          ]
        }
      ]
    },
    {
      "cell_type": "code",
      "source": [
        "test['id_kunj'] = test['id_kunj'].astype('str')"
      ],
      "metadata": {
        "id": "o_Fii9r_WPnQ"
      },
      "execution_count": null,
      "outputs": []
    },
    {
      "cell_type": "markdown",
      "source": [
        "hilmi"
      ],
      "metadata": {
        "id": "InT1ccghW4QM"
      }
    },
    {
      "cell_type": "code",
      "source": [
        "# encoder = OneHotEncoder(handle_unknown='ignore')\n",
        "# encoder_df = pd.DataFrame(encoder.fit_transform(test[['id_kunj']]).toarray())\n",
        "# encoder_df.columns = encoder.get_feature_names(['id_kunj'])\n",
        "# df = test.join(encoder_df)\n",
        "\n",
        "# encoder_df = pd.DataFrame(encoder.fit_transform(test[['kode_ICD4']]).toarray())\n",
        "# encoder_df.columns = encoder.get_feature_names(['kode_ICD4'])\n",
        "# df = test.join(encoder_df)\n",
        "\n",
        "# encoder_df = pd.DataFrame(encoder.fit_transform(test[['kode_ICD3']]).toarray())\n",
        "# encoder_df.columns = encoder.get_feature_names(['kode_ICD3'])\n",
        "# df = test.join(encoder_df)\n",
        "\n",
        "# encoder_df = pd.DataFrame(encoder.fit_transform(test[['jenis_kunjungan']]).toarray())\n",
        "# encoder_df.columns = encoder.get_feature_names(['jenis_kunjungan'])\n",
        "# df = test.join(encoder_df)\n",
        "\n",
        "encoder = OneHotEncoder(handle_unknown='ignore')\n",
        "encoder_df = pd.DataFrame(encoder.fit_transform(test[['jenis_poli']]).toarray())\n",
        "encoder_df.columns = encoder.get_feature_names(['jenis_poli'])\n",
        "df = test.join(encoder_df)"
      ],
      "metadata": {
        "colab": {
          "base_uri": "https://localhost:8080/"
        },
        "id": "bW8LZmdmQ88q",
        "outputId": "0f973c36-1d73-43f8-a816-7596080feb96"
      },
      "execution_count": null,
      "outputs": [
        {
          "output_type": "stream",
          "name": "stderr",
          "text": [
            "/usr/local/lib/python3.7/dist-packages/sklearn/utils/deprecation.py:87: FutureWarning: Function get_feature_names is deprecated; get_feature_names is deprecated in 1.0 and will be removed in 1.2. Please use get_feature_names_out instead.\n",
            "  warnings.warn(msg, category=FutureWarning)\n"
          ]
        }
      ]
    },
    {
      "cell_type": "code",
      "source": [
        "encoder_df = pd.DataFrame(encoder.fit_transform(test[['kodeICD_huruf']]).toarray())\n",
        "encoder_df.columns = encoder.get_feature_names(['kodeICD_huruf'])\n",
        "df = test.join(encoder_df)"
      ],
      "metadata": {
        "id": "Lvg2giHOYNeA"
      },
      "execution_count": null,
      "outputs": []
    },
    {
      "cell_type": "code",
      "source": [
        "encoder_df = pd.DataFrame(encoder.fit_transform(test[['kodeICD_angka']]).toarray())\n",
        "encoder_df.columns = encoder.get_feature_names(['kodeICD_angka'])\n",
        "df = test.join(encoder_df)"
      ],
      "metadata": {
        "id": "E_MiOYj3YPJT"
      },
      "execution_count": null,
      "outputs": []
    },
    {
      "cell_type": "markdown",
      "source": [
        "## Correlation"
      ],
      "metadata": {
        "id": "9KyJDGsgwdG1"
      }
    },
    {
      "cell_type": "code",
      "source": [
        "import pandas as pd\n",
        "import numpy as np\n",
        "import seaborn as sns\n",
        "import matplotlib.pyplot as plt\n",
        "from dython import nominal\n",
        "import scipy.stats as stats"
      ],
      "metadata": {
        "id": "BA5oQGV_v_ya"
      },
      "execution_count": null,
      "outputs": []
    },
    {
      "cell_type": "code",
      "source": [
        "df = pd.read_csv(\"csv-encode.csv\", sep=\",\")"
      ],
      "metadata": {
        "id": "PeBjmY26vwMS"
      },
      "execution_count": null,
      "outputs": []
    },
    {
      "cell_type": "code",
      "source": [
        "df = df.drop(['Unnamed: 0', 'Unnamed: 0.1', 'Unnamed: 0.1.1'], axis=1)"
      ],
      "metadata": {
        "id": "OcrNvy0FwC1z"
      },
      "execution_count": null,
      "outputs": []
    },
    {
      "cell_type": "code",
      "source": [
        "df['tgl_datang'] = pd.to_datetime(df.tgl_datang, format='%Y-%m-%d')\n",
        "df['tgl_pulang'] = pd.to_datetime(df.tgl_datang, format='%Y-%m-%d')"
      ],
      "metadata": {
        "id": "3Z10rBIHwGQO"
      },
      "execution_count": null,
      "outputs": []
    },
    {
      "cell_type": "code",
      "source": [
        "x = df.drop(['status_pulang_enc', 'ICD4_diagnosis', 'kodeICD_huruf'], axis=1)"
      ],
      "metadata": {
        "id": "Fs22-1oowIN8"
      },
      "execution_count": null,
      "outputs": []
    },
    {
      "cell_type": "markdown",
      "source": [
        "### Pearson Correlation"
      ],
      "metadata": {
        "id": "Dm134MW_wfp1"
      }
    },
    {
      "cell_type": "code",
      "source": [
        "p_corr = df.drop(['ICD4_diagnosis', 'kodeICD_huruf'], axis=1).corr()"
      ],
      "metadata": {
        "id": "tx9ySGsowPja"
      },
      "execution_count": null,
      "outputs": []
    },
    {
      "cell_type": "code",
      "source": [
        "pearson = pd.DataFrame(p_corr['status_pulang_enc'])\n",
        "pearson"
      ],
      "metadata": {
        "id": "yULmu2YswSLF"
      },
      "execution_count": null,
      "outputs": []
    },
    {
      "cell_type": "code",
      "source": [
        "p_sort = pearson.sort_values(by=['status_pulang_enc'], ascending=False)\n",
        "p_sort"
      ],
      "metadata": {
        "id": "BY8Bwc-cwZMF"
      },
      "execution_count": null,
      "outputs": []
    },
    {
      "cell_type": "code",
      "source": [
        "p_sort.loc[p_sort['status_pulang_enc'] >= 0.5]"
      ],
      "metadata": {
        "id": "mnntKv66wcwg"
      },
      "execution_count": null,
      "outputs": []
    },
    {
      "cell_type": "markdown",
      "source": [
        "### Theil U Correlation"
      ],
      "metadata": {
        "id": "WBt_5SK2wi3d"
      }
    },
    {
      "cell_type": "code",
      "source": [
        "theilu = pd.DataFrame(index=['status_pulang_enc'],columns=x.columns)\n",
        "columns = x.columns\n",
        "for j in range(0,len(columns)):\n",
        "    u = nominal.theils_u(df['status_pulang_enc'].tolist(),x[columns[j]].tolist())\n",
        "    theilu.loc[:,columns[j]] = u\n",
        "theilu.fillna(value=np.nan,inplace=True)\n",
        "plt.figure(figsize=(20,1))\n",
        "sns.heatmap(theilu,annot=True,fmt='.2f')\n",
        "plt.show()"
      ],
      "metadata": {
        "id": "tDJOCVMzwfz5"
      },
      "execution_count": null,
      "outputs": []
    },
    {
      "cell_type": "code",
      "source": [
        "t_transpose = theilu.transpose().sort_values(by=['status_pulang_enc'], ascending=False)\n",
        "t_transpose"
      ],
      "metadata": {
        "id": "XP8WOg_ZwnY3"
      },
      "execution_count": null,
      "outputs": []
    },
    {
      "cell_type": "code",
      "source": [
        "t_transpose.loc[t_transpose['status_pulang_enc'] >= 0.5]"
      ],
      "metadata": {
        "id": "av0HJPA9wsK_"
      },
      "execution_count": null,
      "outputs": []
    },
    {
      "cell_type": "markdown",
      "source": [
        "### Cramers V Correlation"
      ],
      "metadata": {
        "id": "5mJsB1SqwlG8"
      }
    },
    {
      "cell_type": "code",
      "source": [
        "def cramers_corrected_stat(confusion_matrix):\n",
        "    \"\"\" calculate Cramers V statistic for categorical-categorical association.\n",
        "        uses correction from Bergsma and Wicher, \n",
        "        Journal of the Korean Statistical Society 42 (2013): 323-328\n",
        "    \"\"\"\n",
        "    chi2 = stats.chi2_contingency(confusion_matrix)[0]\n",
        "    n = confusion_matrix.sum().sum()\n",
        "    phi2 = chi2/n\n",
        "    r,k = confusion_matrix.shape\n",
        "    phi2corr = max(0, phi2 - ((k-1)*(r-1))/(n-1))    \n",
        "    rcorr = r - ((r-1)**2)/(n-1)\n",
        "    kcorr = k - ((k-1)**2)/(n-1)\n",
        "    return np.sqrt(phi2corr / min( (kcorr-1), (rcorr-1)))"
      ],
      "metadata": {
        "id": "_n_jL5cywtIH"
      },
      "execution_count": null,
      "outputs": []
    },
    {
      "cell_type": "code",
      "source": [
        "cramersv_1 = pd.DataFrame(index=['status_pulang_enc'],columns=x.columns)\n",
        "columns = x.columns\n",
        "for i in range(0,len(columns)):\n",
        "    # print(i)\n",
        "    u = cramers_corrected_stat(pd.crosstab(df['status_pulang_enc'], x[columns[i]]))\n",
        "    cramersv_1.loc[:,columns[i]] = u\n",
        "cramersv_1.fillna(value=np.nan,inplace=True)\n",
        "plt.figure(figsize=(20,1))\n",
        "sns.heatmap(cramersv_1,annot=True,fmt='.2f')\n",
        "plt.show()"
      ],
      "metadata": {
        "id": "K8iE1afZwwML"
      },
      "execution_count": null,
      "outputs": []
    },
    {
      "cell_type": "code",
      "source": [
        "c1_transpose = cramersv_1.transpose().sort_values(by=['status_pulang_enc'], ascending=False)\n",
        "c1_transpose"
      ],
      "metadata": {
        "id": "kPa_Xwcmw3PJ"
      },
      "execution_count": null,
      "outputs": []
    },
    {
      "cell_type": "code",
      "source": [
        "c1_transpose.loc[c1_transpose['status_pulang_enc'] >= 0.5]"
      ],
      "metadata": {
        "id": "jDLvUSAkw9wr"
      },
      "execution_count": null,
      "outputs": []
    },
    {
      "cell_type": "markdown",
      "source": [
        "### Chi-Square Correlation"
      ],
      "metadata": {
        "id": "ANY1ZNW9wm_P"
      }
    },
    {
      "cell_type": "code",
      "source": [
        "def chi_square(col1,col2):\n",
        "    contingency = np.array(pd.crosstab(col1, col2))\n",
        "    val = stats.chi2_contingency(contingency)\n",
        "    return val"
      ],
      "metadata": {
        "id": "aYUnoqtExCvo"
      },
      "execution_count": null,
      "outputs": []
    },
    {
      "cell_type": "markdown",
      "source": [
        "null hypothesis: col1 and col2 are independent. There are no correlation"
      ],
      "metadata": {
        "id": "-2E1QyQBxazv"
      }
    },
    {
      "cell_type": "code",
      "source": [
        "chisquare = pd.DataFrame(index=['status_pulang_enc', 'chi_square', 'p_value'],columns=x.columns)\n",
        "columns = x.columns\n",
        "sig_level = 0.05\n",
        "for j in range(0,len(columns)):\n",
        "    print(j)\n",
        "    u = chi_square(df['status_pulang_enc'],x[columns[j]])\n",
        "    if u[1] > sig_level:\n",
        "        chisquare.loc['status_pulang_enc'][columns[j]] = 0 #null hypothesis accepted\n",
        "    else:\n",
        "        chisquare.loc['status_pulang_enc'][columns[j]] = 1 #null hypothesis rejected\n",
        "    chisquare.loc['chi_square'][columns[j]] = u[0]\n",
        "    chisquare.loc['p_value'][columns[j]] = u[1]"
      ],
      "metadata": {
        "id": "HVHuxhjVxGpy"
      },
      "execution_count": null,
      "outputs": []
    },
    {
      "cell_type": "code",
      "source": [
        "chisquare.fillna(value=np.nan,inplace=True)\n",
        "plt.figure(figsize=(20,1))\n",
        "sns.heatmap(chisquare,annot=True,fmt='.2f')\n",
        "plt.show()"
      ],
      "metadata": {
        "id": "zN-PJZMaxJI9"
      },
      "execution_count": null,
      "outputs": []
    },
    {
      "cell_type": "code",
      "source": [
        "chisquare_transpose = chisquare.transpose().sort_values(by=['status_pulang_enc'], ascending=False)\n",
        "chisquare_transpose"
      ],
      "metadata": {
        "id": "o1XvYo7FxLiv"
      },
      "execution_count": null,
      "outputs": []
    },
    {
      "cell_type": "markdown",
      "source": [
        "# Modelling"
      ],
      "metadata": {
        "id": "6Pu7VmcEy8BD"
      }
    },
    {
      "cell_type": "code",
      "execution_count": null,
      "metadata": {
        "id": "_jy6htp7T4mI"
      },
      "outputs": [],
      "source": [
        "#Import Libraries\n",
        "from sklearn.preprocessing import StandardScaler\n",
        "from sklearn.tree import DecisionTreeClassifier\n",
        "from sklearn.svm import SVC\n",
        "import numpy as np\n",
        "from sklearn.model_selection import cross_val_score\n",
        "from sklearn.model_selection import train_test_split\n",
        "from sklearn.model_selection import KFold\n",
        "from sklearn.metrics import classification_report\n",
        "import statistics as stat\n",
        "from sklearn.metrics import accuracy_score\n",
        "#from sklearn.metrics import confusion_matrix\n",
        "from imblearn.over_sampling import SMOTE, ADASYN\n",
        "from collections import Counter\n",
        "# Modules used for assessing the performance of the model\n",
        "from sklearn.metrics import accuracy_score\n",
        "from sklearn.metrics import recall_score\n",
        "from sklearn.metrics import roc_auc_score\n",
        "from sklearn.metrics import f1_score\n",
        "from sklearn.metrics import confusion_matrix\n",
        "\n",
        "#Performance Report\n",
        "def generateClassificationReport(y_test,y_pred):\n",
        "    print(classification_report(y_test,y_pred))\n",
        "    print(confusion_matrix(y_test,y_pred))    \n",
        "    print('accuracy is ', accuracy_score(y_test,y_pred))"
      ]
    },
    {
      "cell_type": "code",
      "source": [
        "df = pd.read_csv(\"/content/drive/MyDrive/BDC/cramers-train.csv\", sep=\",\")\n",
        "# drop yang tidak dibutuhkan\n",
        "df = df.drop(['Unnamed: 0',\n",
        " 'kodeICD_huruf_A',\n",
        " 'kodeICD_huruf_B',\n",
        " 'kodeICD_huruf_C',\n",
        " 'kodeICD_huruf_D',\n",
        " 'kodeICD_huruf_E',\n",
        " 'kodeICD_huruf_F',\n",
        " 'kodeICD_huruf_G',\n",
        " 'kodeICD_huruf_H',\n",
        " 'kodeICD_huruf_I',\n",
        " 'kodeICD_huruf_J',\n",
        " 'kodeICD_huruf_K',\n",
        " 'kodeICD_huruf_L',\n",
        " 'kodeICD_huruf_M',\n",
        " 'kodeICD_huruf_N',\n",
        " 'kodeICD_huruf_O',\n",
        " 'kodeICD_huruf_P',\n",
        " 'kodeICD_huruf_Q',\n",
        " 'kodeICD_huruf_R',\n",
        " 'kodeICD_huruf_S',\n",
        " 'kodeICD_huruf_T',\n",
        " 'kodeICD_huruf_U',\n",
        " 'kodeICD_huruf_V',\n",
        " 'kodeICD_huruf_W',\n",
        " 'kodeICD_huruf_X',\n",
        " 'kodeICD_huruf_Y',\n",
        " 'kodeICD_huruf_Z'], axis=1)"
      ],
      "metadata": {
        "id": "92RjTLG6trYs"
      },
      "execution_count": null,
      "outputs": []
    },
    {
      "cell_type": "code",
      "source": [
        "y = df['status_pulang']\n",
        "df = df.drop(['status_pulang'], axis=1)"
      ],
      "metadata": {
        "id": "aCfQGGxAtxbU"
      },
      "execution_count": null,
      "outputs": []
    },
    {
      "cell_type": "code",
      "source": [
        "X_train, X_test, y_train, y_test = train_test_split(df, y, test_size=0.1)"
      ],
      "metadata": {
        "id": "7Ddj0-uFt2Jl"
      },
      "execution_count": null,
      "outputs": []
    },
    {
      "cell_type": "code",
      "source": [
        "test = pd.read_csv(\"/content/drive/MyDrive/BDC/cramers-test.csv\", sep=\",\")"
      ],
      "metadata": {
        "id": "Q-y1249Nt6fK"
      },
      "execution_count": null,
      "outputs": []
    },
    {
      "cell_type": "code",
      "source": [
        "test = test.rename(columns={'jenis_kunjungan_enc': 'jenis_kunjungan', \n",
        "                            'jenis_poli_1': 'jenis_poli_1.0',\n",
        "                            'jenis_poli_12': 'jenis_poli_12.0',\n",
        "                            'jenis_poli_13': 'jenis_poli_13.0',\n",
        "                            'kode_ICD3_enc': 'kode_ICD3',\n",
        "                            'kode_ICD4_enc': 'kode_ICD4'})"
      ],
      "metadata": {
        "id": "Wrum_t6at-0j"
      },
      "execution_count": null,
      "outputs": []
    },
    {
      "cell_type": "code",
      "source": [
        "j = pd.read_csv('/content/drive/MyDrive/BDC/BDC Satria Data 2022/submission.csv')\n",
        "j.head()"
      ],
      "metadata": {
        "id": "EAPV_6LAuEQK"
      },
      "execution_count": null,
      "outputs": []
    },
    {
      "cell_type": "code",
      "source": [
        "j = j.rename(columns={'Unnamed: 0': 'no'})\n",
        "j.head()"
      ],
      "metadata": {
        "id": "xvv6cZgJuH0u"
      },
      "execution_count": null,
      "outputs": []
    },
    {
      "cell_type": "markdown",
      "source": [
        "## Voting Classifier"
      ],
      "metadata": {
        "id": "LyipOb5FvCmx"
      }
    },
    {
      "cell_type": "code",
      "source": [
        "from sklearn.ensemble import VotingClassifier\n",
        "from sklearn.ensemble import RandomForestClassifier\n",
        "import lightgbm as lgb\n",
        "from sklearn.linear_model import LogisticRegression\n",
        "from imblearn.ensemble import BalancedBaggingClassifier\n",
        "\n",
        "rf = RandomForestClassifier(n_estimators=50)\n",
        "lgbm = lgb.LGBMClassifier(max_depth=6, num_iterations=1000, num_leaves=50)\n",
        "bbc = BalancedBaggingClassifier(base_estimator=DecisionTreeClassifier(random_state=2), n_estimators=10,random_state=2,n_jobs=2)\n",
        "# lr=LogisticRegression(max_iter=1000)\n",
        "\n",
        "model=VotingClassifier(estimators=[('lgbm',lgbm),('rf',rf),('bbc',bbc)],voting='soft')\n",
        "model.fit(X_train, y_train)\n",
        "acc1 = []\n",
        "target_pred = model.predict(X_test)\n",
        "generateClassificationReport(y_test,target_pred)\n",
        "acc1.append(accuracy_score(y_test,target_pred))\n",
        "\n",
        "print(\"\\n F1 Score: \", f1_score(y_test, target_pred))\n",
        "print(\"\\n Recall: \", recall_score(y_test, target_pred))\n",
        "print(\"\\n Accuracy: \", stat.mean(acc1))"
      ],
      "metadata": {
        "id": "43OgB1NCt2wv"
      },
      "execution_count": null,
      "outputs": []
    },
    {
      "cell_type": "code",
      "source": [
        "test = test.drop(['Unnamed: 0',\n",
        " 'kodeICD_huruf_A',\n",
        " 'kodeICD_huruf_B',\n",
        " 'kodeICD_huruf_C',\n",
        " 'kodeICD_huruf_D',\n",
        " 'kodeICD_huruf_E',\n",
        " 'kodeICD_huruf_F',\n",
        " 'kodeICD_huruf_G',\n",
        " 'kodeICD_huruf_H',\n",
        " 'kodeICD_huruf_I',\n",
        " 'kodeICD_huruf_J',\n",
        " 'kodeICD_huruf_K',\n",
        " 'kodeICD_huruf_L',\n",
        " 'kodeICD_huruf_M',\n",
        " 'kodeICD_huruf_N',\n",
        " 'kodeICD_huruf_O',\n",
        " 'kodeICD_huruf_P',\n",
        " 'kodeICD_huruf_Q',\n",
        " 'kodeICD_huruf_R',\n",
        " 'kodeICD_huruf_S',\n",
        " 'kodeICD_huruf_T',\n",
        " 'kodeICD_huruf_U',\n",
        " 'kodeICD_huruf_V',\n",
        " 'kodeICD_huruf_W',\n",
        " 'kodeICD_huruf_X',\n",
        " 'kodeICD_huruf_Y',\n",
        " 'kodeICD_huruf_Z'], axis=1)"
      ],
      "metadata": {
        "id": "XASaoLaDt_am"
      },
      "execution_count": null,
      "outputs": []
    },
    {
      "cell_type": "code",
      "source": [
        "result = model.predict(test)"
      ],
      "metadata": {
        "id": "-y6GVwsfuBrI"
      },
      "execution_count": null,
      "outputs": []
    },
    {
      "cell_type": "code",
      "source": [
        "j['Status'] = result\n",
        "j.no = j.no.astype(str)\n",
        "j.FKP02 = j.FKP02.astype(str)\n",
        "j.info()"
      ],
      "metadata": {
        "id": "EN5Eye9tuLn9"
      },
      "execution_count": null,
      "outputs": []
    }
  ]
}